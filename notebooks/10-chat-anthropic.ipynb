{
 "cells": [
  {
   "cell_type": "code",
   "execution_count": 1,
   "id": "6a4b30db-b23a-4743-be9f-b581155f3a3b",
   "metadata": {},
   "outputs": [],
   "source": [
    "import os\n",
    "import sys\n",
    "import importlib.util\n",
    "\n",
    "is_installed = importlib.util.find_spec(\"gtsystem\")\n",
    "if not is_installed:\n",
    "    module_path = \"..\"\n",
    "    sys.path.append(os.path.abspath(module_path))\n",
    "\n",
    "from gtsystem import anthropic, render"
   ]
  },
  {
   "cell_type": "code",
   "execution_count": 2,
   "id": "d8f2d704-cd3d-4726-9508-eb6f3a6ed749",
   "metadata": {},
   "outputs": [
    {
     "data": {
      "text/markdown": [
       "Mary Maxwell Gates was the mother of Bill Gates."
      ],
      "text/plain": [
       "<IPython.core.display.Markdown object>"
      ]
     },
     "metadata": {},
     "output_type": "display_data"
    }
   ],
   "source": [
    "render.md(anthropic.sonnet_chat('Who is the mother of Bill Gates?', system='Respond in one sentence only.'))"
   ]
  },
  {
   "cell_type": "code",
   "execution_count": 3,
   "id": "ade1dab9-fc10-4c9f-82db-593bac804534",
   "metadata": {},
   "outputs": [
    {
     "data": {
      "text/markdown": [
       "Bill Gates' father was William H. Gates Sr."
      ],
      "text/plain": [
       "<IPython.core.display.Markdown object>"
      ]
     },
     "metadata": {},
     "output_type": "display_data"
    }
   ],
   "source": [
    "render.md(anthropic.sonnet_chat('Who is his father?'))"
   ]
  },
  {
   "cell_type": "code",
   "execution_count": 4,
   "id": "52705b51-73d2-4084-94ea-9cc0942618bd",
   "metadata": {},
   "outputs": [
    {
     "data": {
      "text/markdown": [
       "Bill Gates' parents, William H. Gates Sr. and Mary Maxwell Gates, were married in 1951."
      ],
      "text/plain": [
       "<IPython.core.display.Markdown object>"
      ]
     },
     "metadata": {},
     "output_type": "display_data"
    }
   ],
   "source": [
    "render.md(anthropic.sonnet_chat('When were they married?'))"
   ]
  },
  {
   "cell_type": "code",
   "execution_count": 5,
   "id": "2228642a-a48d-4c39-a9aa-0a36548b5381",
   "metadata": {},
   "outputs": [
    {
     "data": {
      "text/markdown": [
       "No, Bill Gates' parents are not alive anymore. His mother Mary Maxwell Gates passed away in 1994, and his father William H. Gates Sr. passed away in 2020."
      ],
      "text/plain": [
       "<IPython.core.display.Markdown object>"
      ]
     },
     "metadata": {},
     "output_type": "display_data"
    }
   ],
   "source": [
    "render.md(anthropic.sonnet_chat('Are they alive?'))"
   ]
  },
  {
   "cell_type": "code",
   "execution_count": 6,
   "id": "66827c9b-7cfc-4293-8114-fdfd07204de8",
   "metadata": {},
   "outputs": [
    {
     "data": {
      "text/markdown": [
       "Here is a markdown table of the 5 tallest buildings in the world:\n",
       "\n",
       "| Rank | Building | Height (m) | Location |\n",
       "| --- | --- | --- | --- |\n",
       "| 1 | Burj Khalifa | 828 | Dubai, United Arab Emirates |\n",
       "| 2 | Shanghai Tower | 632 | Shanghai, China |\n",
       "| 3 | Abraj Al-Bait Clock Tower | 601 | Mecca, Saudi Arabia |\n",
       "| 4 | Ping An Finance Centre | 599 | Shenzhen, China |\n",
       "| 5 | Lotte World Tower | 554.5 | Seoul, South Korea |"
      ],
      "text/plain": [
       "<IPython.core.display.Markdown object>"
      ]
     },
     "metadata": {},
     "output_type": "display_data"
    }
   ],
   "source": [
    "render.md(anthropic.haiku_chat('Create a markdown table of 5 tallest buildings', reset=True))"
   ]
  },
  {
   "cell_type": "code",
   "execution_count": 7,
   "id": "ac39ccfd-4412-497b-aa96-95adf6b88eda",
   "metadata": {},
   "outputs": [
    {
     "data": {
      "text/markdown": [
       "Here is the updated markdown table with the \"Year Built\" column:\n",
       "\n",
       "| Rank | Building | Height (m) | Location | Year Built |\n",
       "| --- | --- | --- | --- | --- |\n",
       "| 1 | Burj Khalifa | 828 | Dubai, United Arab Emirates | 2010 |\n",
       "| 2 | Shanghai Tower | 632 | Shanghai, China | 2015 |\n",
       "| 3 | Abraj Al-Bait Clock Tower | 601 | Mecca, Saudi Arabia | 2012 |\n",
       "| 4 | Ping An Finance Centre | 599 | Shenzhen, China | 2017 |\n",
       "| 5 | Lotte World Tower | 554.5 | Seoul, South Korea | 2016 |"
      ],
      "text/plain": [
       "<IPython.core.display.Markdown object>"
      ]
     },
     "metadata": {},
     "output_type": "display_data"
    }
   ],
   "source": [
    "render.md(anthropic.haiku_chat('Add a column for Year Built'))"
   ]
  },
  {
   "cell_type": "code",
   "execution_count": 8,
   "id": "0ceea0dc-bf80-4c7e-a740-0a9916f0b7b3",
   "metadata": {},
   "outputs": [
    {
     "data": {
      "text/markdown": [
       "Here is the updated markdown table with the \"Floors\" column and removing the height in feet:\n",
       "\n",
       "| Rank | Building | Height (m) | Floors | Location | Year Built |\n",
       "| --- | --- | --- | --- | --- | --- |\n",
       "| 1 | Burj Khalifa | 828 | 163 | Dubai, United Arab Emirates | 2010 |\n",
       "| 2 | Shanghai Tower | 632 | 128 | Shanghai, China | 2015 |\n",
       "| 3 | Abraj Al-Bait Clock Tower | 601 | 120 | Mecca, Saudi Arabia | 2012 |\n",
       "| 4 | Ping An Finance Centre | 599 | 115 | Shenzhen, China | 2017 |\n",
       "| 5 | Lotte World Tower | 554.5 | 123 | Seoul, South Korea | 2016 |"
      ],
      "text/plain": [
       "<IPython.core.display.Markdown object>"
      ]
     },
     "metadata": {},
     "output_type": "display_data"
    }
   ],
   "source": [
    "render.md(anthropic.haiku_chat('Remove Height in feet and add a column for Floors'))"
   ]
  },
  {
   "cell_type": "code",
   "execution_count": 9,
   "id": "a0c4fbd8-d062-4657-804d-fd4fd5057117",
   "metadata": {},
   "outputs": [
    {
     "data": {
      "text/html": [
       "<img src=\"https://upload.wikimedia.org/wikipedia/commons/8/80/NYC_wideangle_south_from_Top_of_the_Rock.jpg\"/>"
      ],
      "text/plain": [
       "<IPython.core.display.Image object>"
      ]
     },
     "execution_count": 9,
     "metadata": {},
     "output_type": "execute_result"
    }
   ],
   "source": [
    "image_url = \"https://upload.wikimedia.org/wikipedia/commons/8/80/NYC_wideangle_south_from_Top_of_the_Rock.jpg\"\n",
    "render.img(url=image_url)"
   ]
  },
  {
   "cell_type": "code",
   "execution_count": 10,
   "id": "4d1b7e17-d66a-4305-b4ac-7d6c08c7afe6",
   "metadata": {},
   "outputs": [
    {
     "data": {
      "text/markdown": [
       "This image shows the skyline of New York City. The iconic Empire State Building is prominently visible near the center of the cityscape, with its distinct green-colored spire. The photo captures the dense urban landscape of Manhattan, with numerous skyscrapers and high-rise buildings packed together. The Hudson River can be seen in the background under a partly cloudy sky at sunset or sunrise, creating an atmospheric view of NYC's famous skyline."
      ],
      "text/plain": [
       "<IPython.core.display.Markdown object>"
      ]
     },
     "metadata": {},
     "output_type": "display_data"
    }
   ],
   "source": [
    "render.md(anthropic.opus_chat('Which place is this?', image_url=image_url, reset=True))"
   ]
  },
  {
   "cell_type": "code",
   "execution_count": 11,
   "id": "b145faf0-3527-48b9-92c6-8b2e3112825b",
   "metadata": {},
   "outputs": [
    {
     "data": {
      "text/markdown": [
       "The image shows an expansive view of the New York City skyline, containing a vast number of buildings. Rather than attempting to count each individual building, which would be extremely difficult given the density and overlapping structures, I would estimate there are well over 100 distinct high-rise buildings and skyscrapers visible just in this particular view of Manhattan. The cityscape stretches to the horizon, packed with towers of various heights and architectural styles. Accurately counting every single building would be nearly impossible, but suffice it to say the urban landscape captured here contains a very large number of major buildings numbering in the hundreds."
      ],
      "text/plain": [
       "<IPython.core.display.Markdown object>"
      ]
     },
     "metadata": {},
     "output_type": "display_data"
    }
   ],
   "source": [
    "render.md(anthropic.opus_chat('How many buildings do you see in this image?'))"
   ]
  },
  {
   "cell_type": "code",
   "execution_count": 12,
   "id": "b53380f5-6bad-4132-8ca2-77b56b419c74",
   "metadata": {},
   "outputs": [
    {
     "data": {
      "text/markdown": [
       "On the left side of the image, there is a tall skyscraper with the MetLife logo clearly visible near the top of the building. MetLife is a major insurance and financial services company headquartered in New York City."
      ],
      "text/plain": [
       "<IPython.core.display.Markdown object>"
      ]
     },
     "metadata": {},
     "output_type": "display_data"
    }
   ],
   "source": [
    "render.md(anthropic.opus_chat('Which logo is visible on a high rise building on the left?'))"
   ]
  },
  {
   "cell_type": "code",
   "execution_count": 13,
   "id": "8ea9007e-36e6-4d9c-9037-4d04e00b2c1d",
   "metadata": {},
   "outputs": [
    {
     "data": {
      "text/markdown": [
       "The body of water visible on the right side of the image is the East River. The East River is a tidal strait that separates the boroughs of Manhattan and Queens, flowing between the Hudson River to the south and Long Island Sound to the north. Many of Manhattan's iconic skyscrapers and landmarks line the banks of the East River, as seen in this sweeping view of the New York City skyline."
      ],
      "text/plain": [
       "<IPython.core.display.Markdown object>"
      ]
     },
     "metadata": {},
     "output_type": "display_data"
    }
   ],
   "source": [
    "render.md(anthropic.opus_chat('Which water body is shown on the right?'))"
   ]
  },
  {
   "cell_type": "code",
   "execution_count": 14,
   "id": "13872331-147b-4643-8ec2-787dbb9042b3",
   "metadata": {},
   "outputs": [
    {
     "data": {
      "text/markdown": [
       "Based on the lighting and colors in the sky, this photograph appears to have been taken around sunset. The clouds have a warm, pinkish-orange glow to them, which is characteristic of the \"golden hour\" light that occurs near sunset (or sunrise). The sky gradients from this warmer tone at the horizon to a cooler blue higher up, suggesting the sun is low in the sky and the day is transitioning into evening. While an exact time can't be determined, the overall lighting strongly indicates this cityscape view is being captured close to sunset."
      ],
      "text/plain": [
       "<IPython.core.display.Markdown object>"
      ]
     },
     "metadata": {},
     "output_type": "display_data"
    }
   ],
   "source": [
    "render.md(anthropic.opus_chat('What time of day is it?'))"
   ]
  },
  {
   "cell_type": "code",
   "execution_count": 15,
   "id": "2023a2d6-0f5f-4727-a3c3-b8a6ec38c31f",
   "metadata": {},
   "outputs": [
    {
     "data": {
      "text/markdown": [
       "The MetLife Building, formerly known as the Pan Am Building, is a prominent skyscraper located at 200 Park Avenue in Midtown Manhattan, New York City. It stands 59 stories tall and reaches a height of approximately 808 feet (246 meters). So to directly answer your question, the MetLife Building has 59 floors."
      ],
      "text/plain": [
       "<IPython.core.display.Markdown object>"
      ]
     },
     "metadata": {},
     "output_type": "display_data"
    }
   ],
   "source": [
    "render.md(anthropic.opus_chat('How many floors is the MetLife building?'))"
   ]
  }
 ],
 "metadata": {
  "kernelspec": {
   "display_name": "Python 3 (ipykernel)",
   "language": "python",
   "name": "python3"
  },
  "language_info": {
   "codemirror_mode": {
    "name": "ipython",
    "version": 3
   },
   "file_extension": ".py",
   "mimetype": "text/x-python",
   "name": "python",
   "nbconvert_exporter": "python",
   "pygments_lexer": "ipython3",
   "version": "3.11.7"
  }
 },
 "nbformat": 4,
 "nbformat_minor": 5
}
