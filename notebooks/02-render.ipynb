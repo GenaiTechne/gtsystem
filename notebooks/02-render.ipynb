{
 "cells": [
  {
   "cell_type": "code",
   "execution_count": 1,
   "id": "b98d3e38-543f-446c-a88a-57945bfc1d2b",
   "metadata": {},
   "outputs": [],
   "source": [
    "import os\n",
    "import sys\n",
    "import importlib.util\n",
    "\n",
    "is_installed = importlib.util.find_spec(\"gtsystem\")\n",
    "if not is_installed:\n",
    "    print ('Not using PyPi')\n",
    "    module_path = \"..\"\n",
    "    sys.path.append(os.path.abspath(module_path))\n",
    "else:\n",
    "    print ('Loaded gtsystem')\n",
    "\n",
    "from gtsystem import openai, bedrock, ollama, groq, render"
   ]
  },
  {
   "cell_type": "code",
   "execution_count": 2,
   "id": "acd99c42-56fd-45b6-b602-42fb9b0d4f75",
   "metadata": {},
   "outputs": [],
   "source": [
    "prompt = \"\"\"Create a 100 words blog in markdown. The topic is Webb discoveries.\"\"\""
   ]
  },
  {
   "cell_type": "code",
   "execution_count": 3,
   "id": "212901e2-2df9-44ef-9e2d-2a7623725aab",
   "metadata": {},
   "outputs": [
    {
     "data": {
      "text/markdown": [
       "# Exciting Web Discoveries\n",
       "\n",
       "The world of the web is constantly evolving, with new discoveries and innovations being made every day. From groundbreaking technologies to creative design trends, there is always something new to explore. One of the most exciting recent discoveries is the rise of WebAssembly, a new standard that allows developers to run high-performance code in web browsers. This opens up a world of possibilities for web applications, from complex games to scientific simulations.\n",
       "\n",
       "Another fascinating discovery is the increasing use of artificial intelligence in web development. AI-powered tools can help streamline workflows, improve user experiences, and even create personalized content. This technology is revolutionizing the way websites are built and maintained.\n",
       "\n",
       "As we continue to push the boundaries of what is possible on the web, it's clear that there are endless opportunities for innovation and discovery. Stay tuned for more exciting developments in the world of web technology!"
      ],
      "text/plain": [
       "<IPython.core.display.Markdown object>"
      ]
     },
     "metadata": {},
     "output_type": "display_data"
    }
   ],
   "source": [
    "render.md(openai.text(prompt))"
   ]
  },
  {
   "cell_type": "code",
   "execution_count": 4,
   "id": "684adb5f-da95-428e-8057-5e2ea3ca8f73",
   "metadata": {},
   "outputs": [],
   "source": [
    "prompt = \"\"\"Create a markdown table of top 10 tallest buildings in the world \n",
    "with columns for building name, city, country, height, floors, year built.\n",
    "Sort table by height.\"\"\""
   ]
  },
  {
   "cell_type": "code",
   "execution_count": 5,
   "id": "33dee4e8-014c-4c43-9df5-041c826cb91b",
   "metadata": {},
   "outputs": [
    {
     "data": {
      "text/markdown": [
       "| Building Name | City | Country | Height (m) | Floors | Year Built |\n",
       "|----------------|------|----------|------------|--------|------------|\n",
       "| Burj Khalifa | Dubai | United Arab Emirates | 828 | 163 | 2010 |\n",
       "| Shanghai Tower | Shanghai | China | 632 | 128 | 2015 |\n",
       "| Abraj Al-Bait Clock Tower | Mecca | Saudi Arabia | 601 | 120 | 2012 |\n",
       "| Ping An Finance Center | Shenzhen | China | 599 | 115 | 2017 |\n",
       "| Lotte World Tower | Seoul | South Korea | 554.5 | 123 | 2017 |\n",
       "| One World Trade Center | New York City | United States | 541.3 | 94 | 2014 |\n",
       "| Guangzhou CTF Finance Centre | Guangzhou | China | 530 | 111 | 2016 |\n",
       "| Tianjin CTF Finance Centre | Tianjin | China | 530 | 97 | 2019 |\n",
       "| China Zun | Beijing | China | 528 | 108 | 2018 |\n",
       "| Taipei 101 | Taipei | Taiwan | 508 | 101 | 2004 |"
      ],
      "text/plain": [
       "<IPython.core.display.Markdown object>"
      ]
     },
     "metadata": {},
     "output_type": "display_data"
    }
   ],
   "source": [
    "render.md(bedrock.sonnet_text(prompt))"
   ]
  },
  {
   "cell_type": "code",
   "execution_count": 6,
   "id": "dab7d03b-616e-4e2f-8837-5df0202a93fc",
   "metadata": {},
   "outputs": [],
   "source": [
    "prompt = 'Create a valid markdown table with swot analysis of generative AI for marketing.'"
   ]
  },
  {
   "cell_type": "code",
   "execution_count": 7,
   "id": "1be524a6-0f45-4129-a6e3-0f7745a051d3",
   "metadata": {},
   "outputs": [
    {
     "data": {
      "text/markdown": [
       " | **Aspect** | **Strengths** | **Weaknesses** | **Opportunities** | **Threats** |\n",
       "| --- | --- | --- | --- | --- |\n",
       "| Generative AI in Marketing | 1. Creativity and Idea Generation: Generative AI can create unique and innovative marketing ideas, saving time and resources. <br> 2. Personalization: Generative AI can analyze customer data to generate personalized content for individual customers. <br> 3. Consistency: Generative AI can maintain a consistent brand voice across all marketing channels. | 1. Lack of Human Emotion: Generative AI lacks the ability to express human emotions, which can be important in marketing. <br> 2. Limited Understanding: Generative AI may not fully understand context or nuance, leading to errors or misunderstandings. <br> 3. Ethical Concerns: Generative AI may generate content that is offensive or inappropriate, raising ethical concerns. | 1. Expanding Use Cases: Generative AI can be used in new and innovative ways, such as generating social media posts, email campaigns, and even entire marketing campaigns. <br> 2. Improved Customer Engagement: Generative AI can help improve customer engagement by creating personalized content that resonates with individual customers. <br> 3. Cost Savings: Generative AI can save time and resources by automating repetitive tasks and generating content quickly. | 1. Competition: As more companies adopt generative AI, competition in the marketing industry may increase, making it harder to stand out. <br> 2. Regulatory Compliance: Generative AI must comply with various regulations, such as data privacy laws and intellectual property laws, which can be complex and time-consuming. <br> 3. Ethical Concerns: The use of generative AI in marketing raises ethical concerns, such as the potential for bias or discrimination, which must be addressed. |"
      ],
      "text/plain": [
       "<IPython.core.display.Markdown object>"
      ]
     },
     "metadata": {},
     "output_type": "display_data"
    }
   ],
   "source": [
    "render.md(ollama.mistral_text(prompt))"
   ]
  },
  {
   "cell_type": "code",
   "execution_count": 8,
   "id": "2b28323d-ad03-4289-88cd-e09e988b623a",
   "metadata": {},
   "outputs": [
    {
     "data": {
      "text/markdown": [
       "| Strengths | Weaknesses | Opportunities | Threats |\n",
       "| --- | --- | --- | --- |\n",
       "| 1. Personalized marketing: Generative AI can analyze customer data to create personalized marketing campaigns. | 1. Data privacy: Generative AI relies on large datasets, which can raise privacy concerns. | 1. Improved customer engagement: Personalized marketing can lead to increased customer engagement and loyalty. | 1. Misuse of technology: Generative AI can be used to create deepfakes or other forms of misleading content. |\n",
       "| 2. Cost-effective: Generative AI can automate many marketing tasks, reducing the need for manual labor and lowering costs. | 2. Lack of creativity: Generative AI may struggle to create truly original content. | 2. Real-time decision making: Generative AI can analyze data in real-time, allowing for quicker decision making. | 2. Dependence on technology: Over-reliance on generative AI can lead to a lack of human oversight and decision-making. |\n",
       "| 3. Scalability: Generative AI can easily scale to handle large volumes of data and create marketing campaigns for a large number of customers. | 3. Bias: Generative AI can perpetuate existing biases in the data it is trained on. | 3. Testing and optimization: Generative AI can quickly test and optimize marketing campaigns for maximum effectiveness. | 3. Regulation: Governments may introduce regulations that limit the use of generative AI in marketing. |\n",
       "| 4. Improved customer insights: Generative AI can analyze customer data to gain insights into customer behavior and preferences. | 4. Technical expertise: Implementing and maintaining generative AI requires technical expertise. | 4. Competitive advantage: Generative AI can provide a competitive advantage for businesses that use it effectively. | 4. Job displacement: Generative AI may displace human jobs in marketing. |\n",
       "\n",
       "Note: This table is a simplified representation of a SWOT analysis for generative AI in marketing. It is not exhaustive and there may be other factors to consider depending on the specific context and use case."
      ],
      "text/plain": [
       "<IPython.core.display.Markdown object>"
      ]
     },
     "metadata": {},
     "output_type": "display_data"
    }
   ],
   "source": [
    "render.md(groq.text(prompt, tokens=1024))"
   ]
  }
 ],
 "metadata": {
  "kernelspec": {
   "display_name": "Python 3 (ipykernel)",
   "language": "python",
   "name": "python3"
  },
  "language_info": {
   "codemirror_mode": {
    "name": "ipython",
    "version": 3
   },
   "file_extension": ".py",
   "mimetype": "text/x-python",
   "name": "python",
   "nbconvert_exporter": "python",
   "pygments_lexer": "ipython3",
   "version": "3.11.7"
  }
 },
 "nbformat": 4,
 "nbformat_minor": 5
}
