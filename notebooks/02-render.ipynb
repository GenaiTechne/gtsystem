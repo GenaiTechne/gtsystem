{
 "cells": [
  {
   "cell_type": "code",
   "execution_count": 1,
   "id": "b98d3e38-543f-446c-a88a-57945bfc1d2b",
   "metadata": {},
   "outputs": [],
   "source": [
    "import sys\n",
    "import os\n",
    "\n",
    "module_path = os.path.abspath(\"..\")\n",
    "if module_path not in sys.path:\n",
    "    sys.path.insert(0, module_path)"
   ]
  },
  {
   "cell_type": "code",
   "execution_count": 2,
   "id": "460b882f-4fd9-471f-8d5f-d45d3951da0d",
   "metadata": {},
   "outputs": [],
   "source": [
    "from gtsystem import openai, bedrock, ollama, groq, render"
   ]
  },
  {
   "cell_type": "code",
   "execution_count": 3,
   "id": "acd99c42-56fd-45b6-b602-42fb9b0d4f75",
   "metadata": {},
   "outputs": [],
   "source": [
    "prompt = \"\"\"Create a 100 words blog in markdown. The topic is Webb discoveries.\"\"\""
   ]
  },
  {
   "cell_type": "code",
   "execution_count": 4,
   "id": "212901e2-2df9-44ef-9e2d-2a7623725aab",
   "metadata": {},
   "outputs": [
    {
     "data": {
      "text/markdown": [
       "## Webb Telescope's Groundbreaking Discoveries\n",
       "\n",
       "The James Webb Space Telescope (JWST), launched in December 2021, has revolutionized our understanding of the universe. Its advanced infrared capabilities allow us to peer through cosmic dust and gas, unveiling previously hidden aspects of space.\n",
       "\n",
       "One of Webb's significant discoveries includes detailed observations of the atmospheres of exoplanets, potentially identifying signs of habitability. Additionally, Webb has provided astonishing images of the earliest galaxies, offering insights into the universe's formation moments after the Big Bang.\n",
       "\n",
       "These findings not only enhance our knowledge of cosmic phenomena but also fuel our curiosity about the origins of the universe and life's potential beyond Earth."
      ],
      "text/plain": [
       "<IPython.core.display.Markdown object>"
      ]
     },
     "metadata": {},
     "output_type": "display_data"
    }
   ],
   "source": [
    "render.md(openai.text(prompt))"
   ]
  },
  {
   "cell_type": "code",
   "execution_count": 5,
   "id": "684adb5f-da95-428e-8057-5e2ea3ca8f73",
   "metadata": {},
   "outputs": [],
   "source": [
    "prompt = \"\"\"Create a markdown table of top 10 tallest buildings in the world \n",
    "with columns for building name, city, country, height, floors, year built.\n",
    "Sort table by height.\"\"\""
   ]
  },
  {
   "cell_type": "code",
   "execution_count": 6,
   "id": "33dee4e8-014c-4c43-9df5-041c826cb91b",
   "metadata": {},
   "outputs": [
    {
     "data": {
      "text/markdown": [
       "| Building Name | City | Country | Height (m) | Floors | Year Built |\n",
       "|----------------|------|----------|------------|--------|------------|\n",
       "| Burj Khalifa | Dubai | United Arab Emirates | 828 | 163 | 2010 |\n",
       "| Shanghai Tower | Shanghai | China | 632 | 128 | 2015 |\n",
       "| Abraj Al-Bait Clock Tower | Mecca | Saudi Arabia | 601 | 120 | 2012 |\n",
       "| Ping An Finance Center | Shenzhen | China | 599 | 115 | 2017 |\n",
       "| Lotte World Tower | Seoul | South Korea | 554.5 | 123 | 2017 |\n",
       "| One World Trade Center | New York City | United States | 541.3 | 94 | 2014 |\n",
       "| Guangzhou CTF Finance Centre | Guangzhou | China | 530 | 111 | 2016 |\n",
       "| Tianjin CTF Finance Centre | Tianjin | China | 530 | 97 | 2019 |\n",
       "| China Zun | Beijing | China | 528 | 108 | 2018 |\n",
       "| Taipei 101 | Taipei | Taiwan | 508 | 101 | 2004 |"
      ],
      "text/plain": [
       "<IPython.core.display.Markdown object>"
      ]
     },
     "metadata": {},
     "output_type": "display_data"
    }
   ],
   "source": [
    "render.md(bedrock.text(prompt))"
   ]
  },
  {
   "cell_type": "code",
   "execution_count": 7,
   "id": "dab7d03b-616e-4e2f-8837-5df0202a93fc",
   "metadata": {},
   "outputs": [],
   "source": [
    "prompt = 'Create a valid markdown table with swot analysis of generative AI for marketing.'"
   ]
  },
  {
   "cell_type": "code",
   "execution_count": 8,
   "id": "1be524a6-0f45-4129-a6e3-0f7745a051d3",
   "metadata": {},
   "outputs": [
    {
     "data": {
      "text/markdown": [
       "Here is a SWOT analysis of generative AI for marketing in Markdown format:\n",
       "\n",
       "**SWOT Analysis: Generative AI for Marketing**\n",
       "=====================================\n",
       "\n",
       "| **Strengths** | **Weaknesses** | **Opportunities** | **Threats** |\n",
       "| --- | --- | --- | --- |\n",
       "| **1. Creative Potential**: Generative AI can generate unique and creative content, such as images, videos, and text, that can be used in marketing campaigns. | **1. Limited Understanding**: Currently, generative AI models may not fully understand the context and nuances of human language and culture, which can lead to misinterpretation or misuse of generated content. | **1. Personalization**: Generative AI can help personalize marketing messages and experiences for individual customers based on their preferences, behaviors, and demographics. | **1. Job Displacement**: The use of generative AI in marketing could potentially displace human jobs, such as content creation and copywriting. |\n",
       "| **2. Scalability**: Generative AI can quickly generate large volumes of content, making it ideal for scaling up marketing efforts. | **2. Lack of Human Touch**: While generative AI can create engaging content, it may lack the human touch and emotional connection that is often present in human-created content. | **2. Data-Driven Insights**: Generative AI can help marketers gain deeper insights into customer behavior and preferences by analyzing large datasets and generating targeted marketing messages. | **2. Bias and Unintended Consequences**: Generative AI models may perpetuate biases and unintended consequences, such as reinforcing stereotypes or promoting misinformation. |\n",
       "| **3. Cost Savings**: Generative AI can automate many tasks in marketing, such as content creation and social media management, which can lead to significant cost savings. | **3. Dependence on Data Quality**: The quality of the data used to train generative AI models is crucial for their effectiveness. Poor-quality data can lead to poor-performing models. | **3. Real-Time Engagement**: Generative AI can enable real-time engagement with customers through chatbots, voice assistants, and other interactive platforms. | **3. Regulatory Compliance**: The use of generative AI in marketing may require compliance with various regulations, such as GDPR and CCPA, which can be time-consuming and costly. |\n",
       "| **4. Improved Customer Experience**: Generative AI can help create a more personalized and seamless customer experience by anticipating and responding to customer needs. | **4. Limited Control**: Marketers may have limited control over the content generated by generative AI models, which can lead to unintended consequences or brand damage. | **4. New Revenue Streams**: Generative AI can open up new revenue streams for marketers through targeted advertising, sponsored content, and affiliate marketing. | **4. Cybersecurity Risks**: The use of generative AI in marketing may introduce cybersecurity risks, such as data breaches and intellectual property theft. |\n",
       "\n",
       "I hope this helps! Let me know if you have any questions or need further assistance."
      ],
      "text/plain": [
       "<IPython.core.display.Markdown object>"
      ]
     },
     "metadata": {},
     "output_type": "display_data"
    }
   ],
   "source": [
    "render.md(ollama.text(prompt))"
   ]
  },
  {
   "cell_type": "code",
   "execution_count": 9,
   "id": "2b28323d-ad03-4289-88cd-e09e988b623a",
   "metadata": {},
   "outputs": [
    {
     "data": {
      "text/markdown": [
       "Here is a valid markdown table with a SWOT analysis of generative AI for marketing:\n",
       "\n",
       "| **Strengths** | **Weaknesses** | **Opportunities** | **Threats** |\n",
       "| --- | --- | --- | --- |\n",
       "| **Personalization at scale**: Generative AI can create personalized content for individual customers, increasing engagement and conversion rates. | **Lack of human touch**: Over-reliance on AI-generated content may lead to a lack of emotional connection with customers. | **Content creation efficiency**: Generative AI can automate content creation, freeing up marketers to focus on strategy and creativity. | **Job displacement**: Generative AI may replace certain marketing jobs, such as content creation and copywriting. |\n",
       "| **Scalability and speed**: Generative AI can produce high-quality content quickly and at scale, reducing production time and costs. | **Quality control challenges**: Ensuring the quality and accuracy of AI-generated content can be difficult. | **New revenue streams**: Generative AI can enable new business models, such as AI-generated content subscription services. | **Regulatory uncertainty**: Generative AI raises ethical and regulatory concerns, such as bias and transparency. |\n",
       "| **Data-driven insights**: Generative AI can analyze large datasets to provide actionable insights and improve marketing strategies. | **Dependence on data quality**: Generative AI is only as good as the data it's trained on, and poor data quality can lead to inaccurate results. | **Enhanced customer experience**: Generative AI can help create more personalized and engaging customer experiences. | **Cybersecurity risks**: Generative AI systems can be vulnerable to cyber attacks and data breaches. |\n",
       "| **Cost savings**: Generative AI can reduce marketing costs by automating repetitive tasks and improving efficiency. | **Lack of transparency**: The complexity of generative AI models can make it difficult to understand how they arrive at their conclusions. | **Competitive advantage**: Early adopters of generative AI in marketing can gain a competitive advantage over their peers. | **Reputation risk**: Generative AI-generated content can be misused or misinterpreted, damaging a brand's reputation. |\n",
       "\n",
       "Note: This is just a sample SWOT analysis, and the specific strengths, weaknesses, opportunities, and threats may vary depending on the organization and its use of generative AI in marketing."
      ],
      "text/plain": [
       "<IPython.core.display.Markdown object>"
      ]
     },
     "metadata": {},
     "output_type": "display_data"
    }
   ],
   "source": [
    "render.md(groq.text(prompt, tokens=1024))"
   ]
  }
 ],
 "metadata": {
  "kernelspec": {
   "display_name": "Python 3 (ipykernel)",
   "language": "python",
   "name": "python3"
  },
  "language_info": {
   "codemirror_mode": {
    "name": "ipython",
    "version": 3
   },
   "file_extension": ".py",
   "mimetype": "text/x-python",
   "name": "python",
   "nbconvert_exporter": "python",
   "pygments_lexer": "ipython3",
   "version": "3.11.7"
  }
 },
 "nbformat": 4,
 "nbformat_minor": 5
}
