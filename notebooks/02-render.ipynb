{
 "cells": [
  {
   "cell_type": "code",
   "execution_count": 1,
   "id": "b98d3e38-543f-446c-a88a-57945bfc1d2b",
   "metadata": {},
   "outputs": [],
   "source": [
    "import os\n",
    "import sys\n",
    "import importlib.util\n",
    "\n",
    "is_installed = importlib.util.find_spec(\"gtsystem\")\n",
    "if not is_installed:\n",
    "    module_path = \"..\"\n",
    "    sys.path.append(os.path.abspath(module_path))\n",
    "\n",
    "from gtsystem import openai, bedrock, ollama, groq, render"
   ]
  },
  {
   "cell_type": "code",
   "execution_count": 2,
   "id": "acd99c42-56fd-45b6-b602-42fb9b0d4f75",
   "metadata": {},
   "outputs": [],
   "source": [
    "prompt = \"\"\"Create a 100 words blog in markdown. The topic is Webb discoveries.\"\"\""
   ]
  },
  {
   "cell_type": "code",
   "execution_count": 3,
   "id": "212901e2-2df9-44ef-9e2d-2a7623725aab",
   "metadata": {},
   "outputs": [
    {
     "data": {
      "text/markdown": [
       "# Exciting Webb Discoveries\n",
       "\n",
       "The James Webb Space Telescope, set to launch in 2021, promises to revolutionize our understanding of the universe. With its advanced technology, Webb is expected to make groundbreaking discoveries in the field of astronomy. From studying the formation of galaxies to exploring the atmospheres of exoplanets, Webb will provide unprecedented insights into the cosmos. Scientists are eagerly anticipating the telescope's ability to peer back in time to the early universe, shedding light on the origins of galaxies and stars. Webb's discoveries are sure to captivate the world and inspire a new generation of astronomers to push the boundaries of our knowledge."
      ],
      "text/plain": [
       "<IPython.core.display.Markdown object>"
      ]
     },
     "metadata": {},
     "output_type": "display_data"
    }
   ],
   "source": [
    "render.md(openai.text(prompt))"
   ]
  },
  {
   "cell_type": "code",
   "execution_count": 11,
   "id": "684adb5f-da95-428e-8057-5e2ea3ca8f73",
   "metadata": {},
   "outputs": [],
   "source": [
    "prompt = \"\"\"Create a markdown table of top 10 tallest buildings in the world \n",
    "with columns for building name, city, country, height, floors, year built.\n",
    "Sort table by height.\"\"\""
   ]
  },
  {
   "cell_type": "code",
   "execution_count": 12,
   "id": "33dee4e8-014c-4c43-9df5-041c826cb91b",
   "metadata": {},
   "outputs": [
    {
     "data": {
      "text/markdown": [
       "| Building Name | City | Country | Height (m) | Floors | Year Built |\n",
       "|----------------|------|----------|------------|--------|------------|\n",
       "| Burj Khalifa | Dubai | United Arab Emirates | 828 | 163 | 2010 |\n",
       "| Shanghai Tower | Shanghai | China | 632 | 128 | 2015 |\n",
       "| Abraj Al-Bait Clock Tower | Mecca | Saudi Arabia | 601 | 120 | 2012 |\n",
       "| Ping An Finance Center | Shenzhen | China | 599 | 115 | 2017 |\n",
       "| Lotte World Tower | Seoul | South Korea | 554.5 | 123 | 2017 |\n",
       "| One World Trade Center | New York City | United States | 541.3 | 94 | 2014 |\n",
       "| Guangzhou CTF Finance Centre | Guangzhou | China | 530 | 111 | 2016 |\n",
       "| Tianjin CTF Finance Centre | Tianjin | China | 530 | 97 | 2019 |\n",
       "| China Zun | Beijing | China | 528 | 108 | 2018 |\n",
       "| Taipei 101 | Taipei | Taiwan | 508 | 101 | 2004 |"
      ],
      "text/plain": [
       "<IPython.core.display.Markdown object>"
      ]
     },
     "metadata": {},
     "output_type": "display_data"
    }
   ],
   "source": [
    "render.md(bedrock.claude3_text(prompt))"
   ]
  },
  {
   "cell_type": "code",
   "execution_count": 6,
   "id": "dab7d03b-616e-4e2f-8837-5df0202a93fc",
   "metadata": {},
   "outputs": [],
   "source": [
    "prompt = 'Create a valid markdown table with swot analysis of generative AI for marketing.'"
   ]
  },
  {
   "cell_type": "code",
   "execution_count": 7,
   "id": "1be524a6-0f45-4129-a6e3-0f7745a051d3",
   "metadata": {},
   "outputs": [
    {
     "data": {
      "text/markdown": [
       " | **Aspect** | **Strengths** | **Weaknesses** | **Opportunities** | **Threats** |\n",
       "| --- | --- | --- | --- | --- |\n",
       "| Generative AI in Marketing | 1. Creativity and Idea Generation: Generative AI can create unique and innovative marketing ideas, saving time and resources. <br> 2. Personalization: Generative AI can analyze customer data to generate personalized content for individual customers. <br> 3. Consistency: Generative AI can maintain a consistent brand voice across all marketing channels. | 1. Lack of Human Emotion: Generative AI lacks the ability to express human emotions, which can be important in marketing. <br> 2. Limited Understanding: Generative AI may not fully understand context or nuance, leading to errors or misunderstandings. <br> 3. Ethical Concerns: Generative AI may generate content that is offensive or inappropriate, raising ethical concerns. | 1. Expanding Use Cases: Generative AI can be used in new and innovative ways, such as generating social media posts, email campaigns, and even entire marketing campaigns. <br> 2. Improved Customer Engagement: Generative AI can help improve customer engagement by creating personalized content that resonates with individual customers. <br> 3. Cost Savings: Generative AI can save time and resources by automating repetitive tasks and generating content quickly. | 1. Competition: As more companies adopt generative AI, competition in the marketing industry may increase, making it harder to stand out. <br> 2. Regulatory Compliance: Generative AI must comply with various regulations, such as data privacy laws and intellectual property laws, which can be complex and time-consuming. <br> 3. Ethical Concerns: The use of generative AI in marketing raises ethical concerns, such as the potential for bias or discrimination, which must be addressed. |"
      ],
      "text/plain": [
       "<IPython.core.display.Markdown object>"
      ]
     },
     "metadata": {},
     "output_type": "display_data"
    }
   ],
   "source": [
    "render.md(ollama.mistral_text(prompt))"
   ]
  },
  {
   "cell_type": "code",
   "execution_count": 9,
   "id": "2b28323d-ad03-4289-88cd-e09e988b623a",
   "metadata": {},
   "outputs": [
    {
     "data": {
      "text/markdown": [
       "| Strengths | Weaknesses | Opportunities | Threats |\n",
       "| --- | --- | --- | --- |\n",
       "| 1. Personalized marketing: Generative AI can analyze customer data and create personalized marketing messages, leading to higher engagement and conversion rates. | 1. Lack of creativity: Generative AI relies on patterns and data, and may not be able to come up with truly creative or original ideas. | 1. Improved customer segmentation: Generative AI can help businesses better understand and segment their customers, allowing for more targeted and effective marketing campaigns. | 1. Dependence on data: Generative AI requires large amounts of data to train, and may not perform as well if the data is incomplete or inaccurate. |\n",
       "| 2. Automated content creation: Generative AI can be used to automatically generate marketing content such as blog posts, social media updates, and email campaigns, saving time and resources. | 2. Lack of human touch: Generative AI-generated content may lack the personal touch and emotional appeal of content written by a human. | 2. Enhanced customer experience: Generative AI can be used to create personalized and interactive experiences for customers, leading to increased loyalty and engagement. | 2. Ethical and privacy concerns: Generative AI's use of customer data raises ethical and privacy concerns, and businesses must be transparent and responsible in their use of the technology. |\n",
       "| 3. Predictive analytics: Generative AI can be used to analyze customer data and predict future behavior, allowing businesses to proactively address customer needs and improve retention. | 3. Lack of accuracy: Generative AI's predictions may not always be accurate, and businesses should not rely solely on the technology for decision-making. | 3. Improved marketing efficiency: Generative AI can help businesses automate and optimize their marketing processes, leading to increased efficiency and cost savings. | 3. Technological limitations: Generative AI is still a developing technology, and may not be able to perform as well as humans in certain tasks. |\n",
       "\n",
       "Note: This is a sample SWOT analysis and may not include all potential strengths, weaknesses, opportunities, and threats. Businesses should conduct their own analysis based on their specific needs and circumstances."
      ],
      "text/plain": [
       "<IPython.core.display.Markdown object>"
      ]
     },
     "metadata": {},
     "output_type": "display_data"
    }
   ],
   "source": [
    "render.md(groq.text(prompt, tokens=1024))"
   ]
  }
 ],
 "metadata": {
  "kernelspec": {
   "display_name": "Python 3 (ipykernel)",
   "language": "python",
   "name": "python3"
  },
  "language_info": {
   "codemirror_mode": {
    "name": "ipython",
    "version": 3
   },
   "file_extension": ".py",
   "mimetype": "text/x-python",
   "name": "python",
   "nbconvert_exporter": "python",
   "pygments_lexer": "ipython3",
   "version": "3.11.7"
  }
 },
 "nbformat": 4,
 "nbformat_minor": 5
}
