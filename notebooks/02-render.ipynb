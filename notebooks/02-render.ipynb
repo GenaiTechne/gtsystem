{
 "cells": [
  {
   "cell_type": "code",
   "execution_count": 1,
   "id": "b98d3e38-543f-446c-a88a-57945bfc1d2b",
   "metadata": {},
   "outputs": [],
   "source": [
    "import sys\n",
    "import os\n",
    "\n",
    "module_path = os.path.abspath(\"..\")\n",
    "if module_path not in sys.path:\n",
    "    sys.path.insert(0, module_path)\n",
    "\n",
    "from gtsystem import openai, bedrock, ollama, groq, render"
   ]
  },
  {
   "cell_type": "code",
   "execution_count": 2,
   "id": "acd99c42-56fd-45b6-b602-42fb9b0d4f75",
   "metadata": {},
   "outputs": [],
   "source": [
    "prompt = \"\"\"Create a 100 words blog in markdown. The topic is Webb discoveries.\"\"\""
   ]
  },
  {
   "cell_type": "code",
   "execution_count": 3,
   "id": "212901e2-2df9-44ef-9e2d-2a7623725aab",
   "metadata": {},
   "outputs": [
    {
     "data": {
      "text/markdown": [
       "# Discoveries Unveiled by the James Webb Space Telescope\n",
       "\n",
       "The James Webb Space Telescope (JWST), a marvel of modern astronomy, has begun to unravel the mysteries of the cosmos with unprecedented clarity. Since its launch, JWST has made groundbreaking discoveries that have astounded the scientific community.\n",
       "\n",
       "One of the most significant findings is the observation of the most distant galaxies ever seen, providing a glimpse into the universe's infancy, mere hundreds of millions of years after the Big Bang. These observations are crucial for understanding the formation and evolution of galaxies.\n",
       "\n",
       "Additionally, Webb has detected water vapor in the atmosphere of a distant exoplanet, hinting at the potential for habitable conditions beyond our solar system. This discovery opens new avenues for the study of exoplanetary atmospheres and the search for life elsewhere in the universe.\n",
       "\n",
       "Moreover, the telescope has captured stunning images of cosmic phenomena, such as star-forming regions and the intricate structures of nebulae, with unparalleled detail. These images not only offer breathtaking views but also provide valuable data for studying the lifecycle of stars and the dynamics of cosmic dust and gas.\n",
       "\n",
       "The James Webb Space Telescope continues to push the boundaries of our cosmic knowledge, promising more discoveries that will deepen our understanding of the universe's vast and mysterious expanse."
      ],
      "text/plain": [
       "<IPython.core.display.Markdown object>"
      ]
     },
     "metadata": {},
     "output_type": "display_data"
    }
   ],
   "source": [
    "render.md(openai.text(prompt))"
   ]
  },
  {
   "cell_type": "code",
   "execution_count": 4,
   "id": "684adb5f-da95-428e-8057-5e2ea3ca8f73",
   "metadata": {},
   "outputs": [],
   "source": [
    "prompt = \"\"\"Create a markdown table of top 10 tallest buildings in the world \n",
    "with columns for building name, city, country, height, floors, year built.\n",
    "Sort table by height.\"\"\""
   ]
  },
  {
   "cell_type": "code",
   "execution_count": 5,
   "id": "33dee4e8-014c-4c43-9df5-041c826cb91b",
   "metadata": {},
   "outputs": [
    {
     "data": {
      "text/markdown": [
       "| Building Name | City | Country | Height (m) | Floors | Year Built |\n",
       "|----------------|------|----------|------------|--------|------------|\n",
       "| Burj Khalifa | Dubai | United Arab Emirates | 828 | 163 | 2010 |\n",
       "| Shanghai Tower | Shanghai | China | 632 | 128 | 2015 |\n",
       "| Abraj Al-Bait Clock Tower | Mecca | Saudi Arabia | 601 | 120 | 2012 |\n",
       "| Ping An Finance Center | Shenzhen | China | 599 | 115 | 2017 |\n",
       "| Lotte World Tower | Seoul | South Korea | 554.5 | 123 | 2017 |\n",
       "| One World Trade Center | New York City | United States | 541.3 | 94 | 2014 |\n",
       "| Guangzhou CTF Finance Centre | Guangzhou | China | 530 | 111 | 2016 |\n",
       "| Tianjin CTF Finance Centre | Tianjin | China | 530 | 97 | 2019 |\n",
       "| China Zun | Beijing | China | 528 | 108 | 2018 |\n",
       "| Taipei 101 | Taipei | Taiwan | 508 | 101 | 2004 |"
      ],
      "text/plain": [
       "<IPython.core.display.Markdown object>"
      ]
     },
     "metadata": {},
     "output_type": "display_data"
    }
   ],
   "source": [
    "render.md(bedrock.sonnet_text(prompt))"
   ]
  },
  {
   "cell_type": "code",
   "execution_count": 6,
   "id": "dab7d03b-616e-4e2f-8837-5df0202a93fc",
   "metadata": {},
   "outputs": [],
   "source": [
    "prompt = 'Create a valid markdown table with swot analysis of generative AI for marketing.'"
   ]
  },
  {
   "cell_type": "code",
   "execution_count": 7,
   "id": "1be524a6-0f45-4129-a6e3-0f7745a051d3",
   "metadata": {},
   "outputs": [
    {
     "data": {
      "text/markdown": [
       " | **Aspect** | **Strengths** | **Weaknesses** | **Opportunities** | **Threats** |\n",
       "| --- | --- | --- | --- | --- |\n",
       "| Generative AI in Marketing | 1. Creativity and Idea Generation: Generative AI can create unique and innovative marketing ideas, saving time and resources. <br> 2. Personalization: Generative AI can analyze customer data to generate personalized content for individual customers. <br> 3. Consistency: Generative AI can maintain a consistent brand voice across all marketing channels. | 1. Lack of Human Emotion: Generative AI lacks the ability to express human emotions, which can be important in marketing. <br> 2. Limited Understanding: Generative AI may not fully understand context or nuance, leading to errors or misunderstandings. <br> 3. Ethical Concerns: Generative AI may generate content that is offensive or inappropriate, raising ethical concerns. | 1. Expanding Use Cases: Generative AI can be used in new and innovative ways, such as generating social media posts, email campaigns, and even entire marketing campaigns. <br> 2. Improved Customer Engagement: Generative AI can help improve customer engagement by creating personalized content that resonates with individual customers. <br> 3. Cost Savings: Generative AI can save time and resources by automating repetitive tasks and generating content quickly. | 1. Competition: As more companies adopt generative AI, competition in the marketing industry may increase, making it harder to stand out. <br> 2. Regulatory Compliance: Generative AI must comply with various regulations, such as data privacy laws and intellectual property laws, which can be complex and time-consuming. <br> 3. Ethical Concerns: The use of generative AI in marketing raises ethical concerns, such as the potential for bias or discrimination, which must be addressed. |"
      ],
      "text/plain": [
       "<IPython.core.display.Markdown object>"
      ]
     },
     "metadata": {},
     "output_type": "display_data"
    }
   ],
   "source": [
    "render.md(ollama.mistral_text(prompt))"
   ]
  },
  {
   "cell_type": "code",
   "execution_count": 8,
   "id": "2b28323d-ad03-4289-88cd-e09e988b623a",
   "metadata": {},
   "outputs": [
    {
     "data": {
      "text/markdown": [
       "| Strengths | Weaknesses | Opportunities | Threats |\n",
       "| --- | --- | --- | --- |\n",
       "| 1. Personalized marketing: Generative AI can create highly personalized content for individual customers based on their preferences and behavior. | 1. Lack of creativity: Generative AI models can sometimes lack originality and creativity, as they are limited to the data they have been trained on. | 1. Improved customer engagement: Generative AI can help businesses to engage with their customers in a more meaningful and personalized way, leading to increased loyalty and sales. | 1. Misuse of technology: Generative AI can be used to create deepfakes and other forms of misleading content, which could damage a business's reputation. |\n",
       "| 2. Scalability: Generative AI can create large volumes of content quickly and efficiently, making it ideal for businesses that need to produce a high volume of marketing materials. | 2. Dependence on data: Generative AI models are only as good as the data they are trained on. If the data is biased or incomplete, the AI's output will be similarly flawed. | 2. Cost savings: Generative AI can help businesses to reduce the cost of content creation, as it can automate many of the tasks that would otherwise be done by human writers. | 2. Job displacement: Generative AI could potentially displace human writers and content creators, leading to job losses in certain industries. |\n",
       "| 3. Faster time-to-market: Generative AI can help businesses to get their marketing materials to market faster, as it can produce content quickly and efficiently. | 3. Lack of human touch: Generative AI-created content may lack the emotional depth and nuance that human writers can bring to their work. | 3. New revenue streams: Generative AI can help businesses to create new revenue streams by enabling them to produce and sell personalized content at scale. | 3. Regulatory compliance: Generative AI may struggle to comply with regulations around data privacy and security, which could lead to fines and legal issues for businesses. |\n",
       "| 4. Improved targeting: Generative AI can help businesses to target their marketing efforts more effectively, by creating content that is tailored to specific customer segments. | 4. Ethical concerns: Generative AI may be used to create content that is misleading or manipulative, which could raise ethical concerns. | 4. Competitive advantage: Generative AI can give businesses a competitive advantage by enabling them to produce high-quality, personalized content at scale. | 4. Technological barriers: Generative AI requires significant computational resources, which may be a barrier to entry for some businesses. |"
      ],
      "text/plain": [
       "<IPython.core.display.Markdown object>"
      ]
     },
     "metadata": {},
     "output_type": "display_data"
    }
   ],
   "source": [
    "render.md(groq.text(prompt, tokens=1024))"
   ]
  }
 ],
 "metadata": {
  "kernelspec": {
   "display_name": "Python 3 (ipykernel)",
   "language": "python",
   "name": "python3"
  },
  "language_info": {
   "codemirror_mode": {
    "name": "ipython",
    "version": 3
   },
   "file_extension": ".py",
   "mimetype": "text/x-python",
   "name": "python",
   "nbconvert_exporter": "python",
   "pygments_lexer": "ipython3",
   "version": "3.11.7"
  }
 },
 "nbformat": 4,
 "nbformat_minor": 5
}
