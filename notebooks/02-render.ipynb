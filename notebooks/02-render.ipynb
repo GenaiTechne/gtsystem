{
 "cells": [
  {
   "cell_type": "code",
   "execution_count": 1,
   "id": "b98d3e38-543f-446c-a88a-57945bfc1d2b",
   "metadata": {},
   "outputs": [],
   "source": [
    "import os\n",
    "import sys\n",
    "import importlib.util\n",
    "\n",
    "is_installed = importlib.util.find_spec(\"gtsystem\")\n",
    "if not is_installed:\n",
    "    module_path = \"..\"\n",
    "    sys.path.append(os.path.abspath(module_path))\n",
    "\n",
    "from gtsystem import openai, bedrock, render"
   ]
  },
  {
   "cell_type": "code",
   "execution_count": 2,
   "id": "acd99c42-56fd-45b6-b602-42fb9b0d4f75",
   "metadata": {},
   "outputs": [],
   "source": [
    "prompt = \"\"\"Create a 100 words blog in markdown with well formatted headline,\n",
    "subheading, tags, creation date, author, body. The topic is Webb discoveries.\"\"\""
   ]
  },
  {
   "cell_type": "code",
   "execution_count": 3,
   "id": "212901e2-2df9-44ef-9e2d-2a7623725aab",
   "metadata": {},
   "outputs": [
    {
     "data": {
      "text/markdown": [
       "# Webb Discoveries\n",
       "\n",
       "## Unveiling the Secrets of the Universe\n",
       "\n",
       "*Tags: Webb Space Telescope, Astronomy, Space Exploration*\n",
       "\n",
       "*Published: October 15, 2022*\n",
       "\n",
       "*Author: John Smith*\n",
       "\n",
       "The James Webb Space Telescope (JWST), set to launch in late 2021, promises to revolutionize our understanding of the universe. With its advanced technology and capabilities, Webb will enable scientists to make groundbreaking discoveries.\n",
       "\n",
       "Equipped with a larger mirror and more sensitive instruments than its predecessor, the Hubble Space Telescope, Webb will provide unprecedented views of distant galaxies, exoplanets, and the early universe. It will allow us to study the formation of stars and galaxies, investigate the atmospheres of exoplanets, and explore the mysteries of dark matter and dark energy.\n",
       "\n",
       "As we eagerly await the launch of Webb, the scientific community is buzzing with anticipation for the incredible discoveries that lie ahead. Stay tuned for updates on this exciting mission!"
      ],
      "text/plain": [
       "<IPython.core.display.Markdown object>"
      ]
     },
     "metadata": {},
     "output_type": "display_data"
    }
   ],
   "source": [
    "render.md(openai.gpt_text(prompt))"
   ]
  },
  {
   "cell_type": "code",
   "execution_count": 4,
   "id": "684adb5f-da95-428e-8057-5e2ea3ca8f73",
   "metadata": {},
   "outputs": [],
   "source": [
    "prompt = \"\"\"Create a markdown table of top 10 tallest buildings in the world \n",
    "with columns for building name, city, country, height, floors, year built.\n",
    "Sort table by height.\"\"\""
   ]
  },
  {
   "cell_type": "code",
   "execution_count": 5,
   "id": "33dee4e8-014c-4c43-9df5-041c826cb91b",
   "metadata": {},
   "outputs": [
    {
     "data": {
      "text/markdown": [
       "Here's a table of the top 10 tallest buildings in the world, sorted by height:\n",
       "\n",
       "| Building Name | City | Country | Height | Floors | Year Built |\n",
       "| --- | --- | --- | --- | --- | --- |\n",
       "| Burj Khalifa | Dubai | UAE | 828 meters | 163 | 2010 |\n",
       "| Shanghai Tower | Shanghai | China | 632 meters | 128 | 2015 |\n",
       "| Abraj Al-Bait Clock Tower | Mecca | Saudi Arabia | 601 meters | 120 | 2012 |\n",
       "| Ping An Finance Center | Shenzhen | China | 599 meters | 115 | 2017 |\n",
       "| Lotte World Tower | Seoul | South Korea | 555 meters | 123 | 2017 |\n",
       "| One World Trade Center | New York City | USA | 541 meters | 104 | 2014 |\n",
       "| Taipei 101 | Taipei | Taiwan | 508 meters | 101 | 2004 |\n",
       "| Shanghai World Financial Center | Shanghai | China | 492 meters | 101 | 2008 |\n",
       "| Willis Tower (formerly Sears Tower) | Chicago | USA | 442 meters | 108 | 1974 |\n",
       "| Petronas Twin Towers | Kuala Lumpur | Malaysia | 452 meters | 88 | 1998 |\n",
       "\n",
       "Note: The heights listed are to the top of the roof, and do not include antennas, spires, or other architectural features that may extend above the roof."
      ],
      "text/plain": [
       "<IPython.core.display.Markdown object>"
      ]
     },
     "metadata": {},
     "output_type": "display_data"
    }
   ],
   "source": [
    "render.md(bedrock.llama_text(prompt))"
   ]
  },
  {
   "cell_type": "code",
   "execution_count": 6,
   "id": "dab7d03b-616e-4e2f-8837-5df0202a93fc",
   "metadata": {},
   "outputs": [],
   "source": [
    "prompt = 'Create a markdown table with concise swot analysis of generative AI for marketing.'"
   ]
  },
  {
   "cell_type": "code",
   "execution_count": 7,
   "id": "1be524a6-0f45-4129-a6e3-0f7745a051d3",
   "metadata": {},
   "outputs": [
    {
     "data": {
      "text/markdown": [
       "Sure, here's a concise SWOT analysis of generative AI for marketing in a markdown table format:\n",
       "\n",
       "| **Strengths** | **Weaknesses** | **Opportunities** | **Threats** |\n",
       "| --- | --- | --- | --- |\n",
       "| 1. Personalization: Generative AI can create highly personalized content, improving customer engagement and loyalty. | 1. Lack of creativity: Generative AI may struggle to produce novel or creative ideas, limiting its usefulness in certain marketing applications. | 1. Increased efficiency: Generative AI can automate content creation, reducing time and resources spent on manual content creation. | 1. Ethical concerns: Use of generative AI in marketing may raise ethical concerns, such as manipulating customer perceptions or creating fake news. |\n",
       "| 2. Scalability: Generative AI can produce large quantities of content quickly and accurately, making it ideal for large-scale marketing campaigns. | 2. Limited domain expertise: Generative AI may not be able to produce content that is outside of its training data, limiting its usefulness in certain industries or niches. | 2. Cost savings: Generative AI can reduce the cost of content creation, allowing marketers to allocate resources to other areas of their campaigns. | 2. Competition: Other companies may also adopt generative AI, potentially reducing the competitive advantage it offers. |\n",
       "| 3. Improved targeting: Generative AI can help marketers better target their audience by analyzing customer data and creating content that resonates with them. | 3. Quality concerns: Generative AI may produce content that is of poor quality or doesn't meet brand standards, damaging the company's reputation. | 3. New business models: Generative AI could enable new business models, such as content-as-a-service or personalized content subscriptions. | 3. Regulatory challenges: Regulations around data privacy and AI usage may limit the adoption and effectiveness of generative AI in marketing. |\n",
       "| 4. Enhanced customer experience: Generative AI can create interactive and engaging content, such as chatbots or virtual assistants, improving the"
      ],
      "text/plain": [
       "<IPython.core.display.Markdown object>"
      ]
     },
     "metadata": {},
     "output_type": "display_data"
    }
   ],
   "source": [
    "claude_result = bedrock.llama_text(prompt)\n",
    "render.md(claude_result)"
   ]
  }
 ],
 "metadata": {
  "kernelspec": {
   "display_name": "Python 3 (ipykernel)",
   "language": "python",
   "name": "python3"
  },
  "language_info": {
   "codemirror_mode": {
    "name": "ipython",
    "version": 3
   },
   "file_extension": ".py",
   "mimetype": "text/x-python",
   "name": "python",
   "nbconvert_exporter": "python",
   "pygments_lexer": "ipython3",
   "version": "3.11.7"
  }
 },
 "nbformat": 4,
 "nbformat_minor": 5
}
