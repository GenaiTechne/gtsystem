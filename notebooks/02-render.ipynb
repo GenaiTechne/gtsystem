{
 "cells": [
  {
   "cell_type": "code",
   "execution_count": 1,
   "id": "b98d3e38-543f-446c-a88a-57945bfc1d2b",
   "metadata": {},
   "outputs": [],
   "source": [
    "import os\n",
    "import sys\n",
    "import importlib.util\n",
    "\n",
    "is_installed = importlib.util.find_spec(\"gtsystem\")\n",
    "if not is_installed:\n",
    "    module_path = \"..\"\n",
    "    sys.path.append(os.path.abspath(module_path))\n",
    "\n",
    "from gtsystem import openai, bedrock, ollama, render"
   ]
  },
  {
   "cell_type": "code",
   "execution_count": 2,
   "id": "acd99c42-56fd-45b6-b602-42fb9b0d4f75",
   "metadata": {},
   "outputs": [],
   "source": [
    "prompt = \"\"\"Create a 100 words blog in markdown. The topic is Webb discoveries.\"\"\""
   ]
  },
  {
   "cell_type": "code",
   "execution_count": 3,
   "id": "212901e2-2df9-44ef-9e2d-2a7623725aab",
   "metadata": {},
   "outputs": [
    {
     "data": {
      "text/markdown": [
       "# Exciting Web Discoveries\n",
       "\n",
       "In the vast world of the internet, there are always new and exciting discoveries to be made. From innovative technologies to fascinating websites, the web never fails to surprise us. One recent discovery is the rise of virtual reality experiences, allowing users to immerse themselves in new and exciting worlds from the comfort of their own homes.\n",
       "\n",
       "Another intriguing find is the growing trend of AI-powered chatbots, revolutionizing customer service and communication online. Additionally, the increasing focus on cybersecurity measures to protect sensitive data has been a crucial development in the digital age.\n",
       "\n",
       "The web continues to evolve and present us with endless possibilities for exploration and discovery. Let's stay curious and keep uncovering the wonders of the online world!"
      ],
      "text/plain": [
       "<IPython.core.display.Markdown object>"
      ]
     },
     "metadata": {},
     "output_type": "display_data"
    }
   ],
   "source": [
    "render.md(openai.text(prompt))"
   ]
  },
  {
   "cell_type": "code",
   "execution_count": 4,
   "id": "684adb5f-da95-428e-8057-5e2ea3ca8f73",
   "metadata": {},
   "outputs": [],
   "source": [
    "prompt = \"\"\"Create a markdown table of top 10 tallest buildings in the world \n",
    "with columns for building name, city, country, height, floors, year built.\n",
    "Sort table by height.\"\"\""
   ]
  },
  {
   "cell_type": "code",
   "execution_count": 5,
   "id": "33dee4e8-014c-4c43-9df5-041c826cb91b",
   "metadata": {},
   "outputs": [
    {
     "data": {
      "text/markdown": [
       "Source: Wikipedia, Council on Tall Buildings and Urban Habitat.\n",
       "\n",
       "| Building Name | City | Country | Height | Floors | Year Built |\n",
       "| --- | --- | --- | --- | --- | --- |\n",
       "| Burj Khalifa | Dubai | UAE | 828 meters | 163 | 2010 |\n",
       "| Shanghai Tower | Shanghai | China | 632 meters | 128 | 2015 |\n",
       "| Abraj Al-Bait Clock Tower | Mecca | Saudi Arabia | 601 meters | 120 | 2012 |\n",
       "| Ping An Finance Center | Shenzhen | China | 599 meters | 115 | 2017 |\n",
       "| Lotte World Tower | Seoul | South Korea | 555 meters | 123 | 2017 |\n",
       "| One World Trade Center | New York City | USA | 541 meters | 104 | 2014 |\n",
       "| Taipei 101 | Taipei | Taiwan | 508 meters | 101 | 2004 |\n",
       "| Shanghai World Financial Center | Shanghai | China | 492 meters | 101 | 2008 |\n",
       "| Willis Tower (formerly Sears Tower) | Chicago | USA | 442 meters | 108 | 1974 |\n",
       "| Petronas Twin Towers | Kuala Lumpur | Malaysia | 452 meters | 88 | 1998 |\n",
       "\n",
       "Note: Height is measured from the ground level to the architectural top.\n",
       "\n",
       "Note: The list only includes buildings that are completely finished and does not include buildings that are currently under construction."
      ],
      "text/plain": [
       "<IPython.core.display.Markdown object>"
      ]
     },
     "metadata": {},
     "output_type": "display_data"
    }
   ],
   "source": [
    "render.md(bedrock.llama_text(prompt))"
   ]
  },
  {
   "cell_type": "code",
   "execution_count": 6,
   "id": "dab7d03b-616e-4e2f-8837-5df0202a93fc",
   "metadata": {},
   "outputs": [],
   "source": [
    "prompt = 'Create a valid markdown table with swot analysis of generative AI for marketing.'"
   ]
  },
  {
   "cell_type": "code",
   "execution_count": 7,
   "id": "1be524a6-0f45-4129-a6e3-0f7745a051d3",
   "metadata": {},
   "outputs": [
    {
     "data": {
      "text/markdown": [
       " | **Aspect** | **Strengths** | **Weaknesses** | **Opportunities** | **Threats** |\n",
       "| --- | --- | --- | --- | --- |\n",
       "| Generative AI in Marketing | 1. Creativity and Idea Generation: Generative AI can create unique and innovative marketing ideas, saving time and resources. <br> 2. Personalization: Generative AI can analyze customer data to generate personalized content for individual customers. <br> 3. Consistency: Generative AI can maintain a consistent brand voice across all marketing channels. | 1. Lack of Human Emotion: Generative AI lacks the ability to express human emotions, which can be important in marketing. <br> 2. Limited Understanding: Generative AI may not fully understand context or nuance, leading to errors or misunderstandings. <br> 3. Ethical Concerns: Generative AI may generate content that is offensive or inappropriate, raising ethical concerns. | 1. Expanding Use Cases: Generative AI can be used in new and innovative ways, such as generating social media posts, email campaigns, and even entire marketing campaigns. <br> 2. Improved Customer Engagement: Generative AI can help improve customer engagement by creating personalized content that resonates with individual customers. <br> 3. Cost Savings: Generative AI can save time and resources by automating repetitive tasks and generating content quickly. | 1. Competition: As more companies adopt generative AI, competition in the marketing industry may increase, making it harder to stand out. <br> 2. Regulatory Compliance: Generative AI must comply with various regulations, such as data privacy laws and intellectual property laws, which can be complex and time-consuming. <br> 3. Ethical Concerns: The use of generative AI in marketing raises ethical concerns, such as the potential for bias or discrimination, which must be addressed. |"
      ],
      "text/plain": [
       "<IPython.core.display.Markdown object>"
      ]
     },
     "metadata": {},
     "output_type": "display_data"
    }
   ],
   "source": [
    "render.md(ollama.mistral_text(prompt))"
   ]
  }
 ],
 "metadata": {
  "kernelspec": {
   "display_name": "Python 3 (ipykernel)",
   "language": "python",
   "name": "python3"
  },
  "language_info": {
   "codemirror_mode": {
    "name": "ipython",
    "version": 3
   },
   "file_extension": ".py",
   "mimetype": "text/x-python",
   "name": "python",
   "nbconvert_exporter": "python",
   "pygments_lexer": "ipython3",
   "version": "3.11.7"
  }
 },
 "nbformat": 4,
 "nbformat_minor": 5
}
