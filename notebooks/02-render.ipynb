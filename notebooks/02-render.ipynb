{
 "cells": [
  {
   "cell_type": "code",
   "execution_count": 4,
   "id": "b98d3e38-543f-446c-a88a-57945bfc1d2b",
   "metadata": {},
   "outputs": [],
   "source": [
    "import sys\n",
    "import os\n",
    "\n",
    "module_path = os.path.abspath(\"..\")\n",
    "if module_path not in sys.path:\n",
    "    sys.path.insert(0, module_path)\n",
    "\n",
    "from gtsystem import openai, bedrock, ollama, groq, render"
   ]
  },
  {
   "cell_type": "code",
   "execution_count": 5,
   "id": "acd99c42-56fd-45b6-b602-42fb9b0d4f75",
   "metadata": {},
   "outputs": [],
   "source": [
    "prompt = \"\"\"Create a 100 words blog in markdown. The topic is Webb discoveries.\"\"\""
   ]
  },
  {
   "cell_type": "code",
   "execution_count": 6,
   "id": "212901e2-2df9-44ef-9e2d-2a7623725aab",
   "metadata": {},
   "outputs": [
    {
     "data": {
      "text/markdown": [
       "# Discoveries Unveiled by the James Webb Space Telescope\n",
       "\n",
       "The James Webb Space Telescope (JWST) has revolutionized our understanding of the universe. Since its launch, JWST has unveiled breathtaking discoveries, pushing the boundaries of cosmic exploration. Among its achievements, the telescope has captured the most detailed images of the early universe, revealing galaxies that formed just a few hundred million years after the Big Bang. It has also identified key components in the atmospheres of distant exoplanets, hinting at the possibility of life beyond Earth. Moreover, Webb's observations of celestial bodies within our own solar system have provided unprecedented insights. Each discovery by JWST not only expands our knowledge but also deepens the mystery of the cosmos, promising a future rich with astronomical breakthroughs."
      ],
      "text/plain": [
       "<IPython.core.display.Markdown object>"
      ]
     },
     "metadata": {},
     "output_type": "display_data"
    }
   ],
   "source": [
    "render.md(openai.text(prompt, stream=True))"
   ]
  },
  {
   "cell_type": "code",
   "execution_count": 7,
   "id": "684adb5f-da95-428e-8057-5e2ea3ca8f73",
   "metadata": {},
   "outputs": [],
   "source": [
    "prompt = \"\"\"Create a markdown table of top 10 tallest buildings in the world \n",
    "with columns for building name, city, country, height, floors, year built.\n",
    "Sort table by height.\"\"\""
   ]
  },
  {
   "cell_type": "code",
   "execution_count": 8,
   "id": "33dee4e8-014c-4c43-9df5-041c826cb91b",
   "metadata": {},
   "outputs": [
    {
     "data": {
      "text/markdown": [
       "| Building Name | City | Country | Height (m) | Floors | Year Built |\n",
       "|----------------|------|----------|------------|--------|------------|\n",
       "| Burj Khalifa | Dubai | United Arab Emirates | 828 | 163 | 2010 |\n",
       "| Shanghai Tower | Shanghai | China | 632 | 128 | 2015 |\n",
       "| Abraj Al-Bait Clock Tower | Mecca | Saudi Arabia | 601 | 120 | 2012 |\n",
       "| Ping An Finance Center | Shenzhen | China | 599 | 115 | 2017 |\n",
       "| Lotte World Tower | Seoul | South Korea | 554.5 | 123 | 2017 |\n",
       "| One World Trade Center | New York City | United States | 541.3 | 94 | 2014 |\n",
       "| Guangzhou CTF Finance Centre | Guangzhou | China | 530 | 111 | 2016 |\n",
       "| Tianjin CTF Finance Centre | Tianjin | China | 530 | 97 | 2019 |\n",
       "| China Zun | Beijing | China | 528 | 108 | 2018 |\n",
       "| Taipei 101 | Taipei | Taiwan | 508 | 101 | 2004 |"
      ],
      "text/plain": [
       "<IPython.core.display.Markdown object>"
      ]
     },
     "metadata": {},
     "output_type": "display_data"
    }
   ],
   "source": [
    "render.md(bedrock.sonnet_text(prompt))"
   ]
  },
  {
   "cell_type": "code",
   "execution_count": 9,
   "id": "dab7d03b-616e-4e2f-8837-5df0202a93fc",
   "metadata": {},
   "outputs": [],
   "source": [
    "prompt = 'Create a valid markdown table with swot analysis of generative AI for marketing.'"
   ]
  },
  {
   "cell_type": "code",
   "execution_count": 10,
   "id": "1be524a6-0f45-4129-a6e3-0f7745a051d3",
   "metadata": {},
   "outputs": [
    {
     "data": {
      "text/markdown": [
       " | **Aspect** | **Strengths** | **Weaknesses** | **Opportunities** | **Threats** |\n",
       "| --- | --- | --- | --- | --- |\n",
       "| Generative AI in Marketing | 1. Creativity and Idea Generation: Generative AI can create unique and innovative marketing ideas, saving time and resources. <br> 2. Personalization: Generative AI can analyze customer data to generate personalized content for individual customers. <br> 3. Consistency: Generative AI can maintain a consistent brand voice across all marketing channels. | 1. Lack of Human Emotion: Generative AI lacks the ability to express human emotions, which can be important in marketing. <br> 2. Limited Understanding: Generative AI may not fully understand context or nuance, leading to errors or misunderstandings. <br> 3. Ethical Concerns: Generative AI may generate content that is offensive or inappropriate, raising ethical concerns. | 1. Expanding Use Cases: Generative AI can be used in new and innovative ways, such as generating social media posts, email campaigns, and even entire marketing campaigns. <br> 2. Improved Customer Engagement: Generative AI can help improve customer engagement by creating personalized content that resonates with individual customers. <br> 3. Cost Savings: Generative AI can save time and resources by automating repetitive tasks and generating content quickly. | 1. Competition: As more companies adopt generative AI, competition in the marketing industry may increase, making it harder to stand out. <br> 2. Regulatory Compliance: Generative AI must comply with various regulations, such as data privacy laws and intellectual property laws, which can be complex and time-consuming. <br> 3. Ethical Concerns: The use of generative AI in marketing raises ethical concerns, such as the potential for bias or discrimination, which must be addressed. |"
      ],
      "text/plain": [
       "<IPython.core.display.Markdown object>"
      ]
     },
     "metadata": {},
     "output_type": "display_data"
    }
   ],
   "source": [
    "render.md(ollama.mistral_text(prompt))"
   ]
  },
  {
   "cell_type": "code",
   "execution_count": 11,
   "id": "2b28323d-ad03-4289-88cd-e09e988b623a",
   "metadata": {},
   "outputs": [
    {
     "data": {
      "text/markdown": [
       "| Strengths | Weaknesses | Opportunities | Threats |\n",
       "| --- | --- | --- | --- |\n",
       "| 1. Personalized marketing: Generative AI can create highly personalized content for each customer, leading to increased engagement and conversion rates. | 1. Lack of creativity: Generative AI models can sometimes lack originality and creativity, resulting in generic or uninteresting content. | 1. Improved customer experience: Generative AI can be used to create more engaging and interactive customer experiences, such as personalized product recommendations or chatbots. | 1. Dependence on data: Generative AI models require large amounts of data to train, which can be a barrier for some companies. |\n",
       "| 2. Scalability: Generative AI can create content at a much faster rate than humans, allowing for greater scalability in marketing campaigns. | 2. Difficulty in controlling tone and style: Generative AI models can struggle to maintain a consistent tone and style throughout a piece of content. | 2. Cost savings: Generative AI can help reduce the cost of content creation, as it can produce high-quality content quickly and efficiently. | 2. Ethical concerns: There are concerns around the use of generative AI in marketing, such as the potential for deception or manipulation of customers. |\n",
       "| 3. Consistency: Generative AI can ensure consistent messaging and branding across all marketing channels. | 3. Lack of human touch: Generative AI-created content may lack the emotional depth and nuance of human-created content. | 3. New revenue streams: Generative AI can be used to create new and innovative products or services, opening up new revenue streams for companies. | 3. Legal and regulatory issues: There may be legal and regulatory issues around the use of generative AI in marketing, such as copyright and data privacy concerns. |\n",
       "| 4. Testing and optimization: Generative AI can be used to quickly test and optimize marketing campaigns, allowing for faster iteration and improvement. | 4. Bias in training data: Generative AI models can perpetuate biases present in their training data, leading to unfair or discriminatory outcomes. | 4. Competitive advantage: Companies that successfully implement generative AI in their marketing strategies can gain a competitive advantage over those that do not. | 4. Technological limitations: Generative AI models are still in their infancy, and there are limitations to what they can currently achieve. |"
      ],
      "text/plain": [
       "<IPython.core.display.Markdown object>"
      ]
     },
     "metadata": {},
     "output_type": "display_data"
    }
   ],
   "source": [
    "render.md(groq.text(prompt, tokens=1024))"
   ]
  }
 ],
 "metadata": {
  "kernelspec": {
   "display_name": "Python 3 (ipykernel)",
   "language": "python",
   "name": "python3"
  },
  "language_info": {
   "codemirror_mode": {
    "name": "ipython",
    "version": 3
   },
   "file_extension": ".py",
   "mimetype": "text/x-python",
   "name": "python",
   "nbconvert_exporter": "python",
   "pygments_lexer": "ipython3",
   "version": "3.11.7"
  }
 },
 "nbformat": 4,
 "nbformat_minor": 5
}
