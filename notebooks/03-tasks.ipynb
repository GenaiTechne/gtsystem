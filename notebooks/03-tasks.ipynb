{
 "cells": [
  {
   "cell_type": "code",
   "execution_count": 1,
   "id": "b98d3e38-543f-446c-a88a-57945bfc1d2b",
   "metadata": {},
   "outputs": [],
   "source": [
    "import sys\n",
    "import os\n",
    "\n",
    "module_path = os.path.abspath(\"..\")\n",
    "if module_path not in sys.path:\n",
    "    sys.path.insert(0, module_path)\n",
    "\n",
    "from gtsystem import openai, bedrock, ollama, groq, render, tasks"
   ]
  },
  {
   "cell_type": "code",
   "execution_count": 2,
   "id": "ba481a77-1403-46b3-9bbf-ac58036f42c2",
   "metadata": {},
   "outputs": [],
   "source": [
    "tasks.load('../data/openai-examples-21.xlsx')"
   ]
  },
  {
   "cell_type": "code",
   "execution_count": 3,
   "id": "bd505028-2a86-48b5-9950-866dd65ee942",
   "metadata": {},
   "outputs": [
    {
     "data": {
      "text/html": [
       "<style type=\"text/css\">\n",
       "#T_731ad th {\n",
       "  font-size: 10pt;\n",
       "  text-align: left;\n",
       "}\n",
       "#T_731ad td {\n",
       "  text-align: left;\n",
       "  word-wrap: break-word;\n",
       "  overflow: hidden;\n",
       "  text-overflow: ellipsis;\n",
       "}\n",
       "#T_731ad .index_name {\n",
       "  display: none;\n",
       "}\n",
       "#T_731ad .row_heading {\n",
       "  display: none;\n",
       "}\n",
       "#T_731ad  .blank {\n",
       "  display: none;\n",
       "}\n",
       "</style>\n",
       "<table id=\"T_731ad\">\n",
       "  <thead>\n",
       "    <tr>\n",
       "      <th class=\"blank level0\" >&nbsp;</th>\n",
       "      <th id=\"T_731ad_level0_col0\" class=\"col_heading level0 col0\" >Task</th>\n",
       "      <th id=\"T_731ad_level0_col1\" class=\"col_heading level0 col1\" >System</th>\n",
       "      <th id=\"T_731ad_level0_col2\" class=\"col_heading level0 col2\" >Prompt</th>\n",
       "    </tr>\n",
       "  </thead>\n",
       "  <tbody>\n",
       "    <tr>\n",
       "      <th id=\"T_731ad_level0_row0\" class=\"row_heading level0 row0\" >11</th>\n",
       "      <td id=\"T_731ad_row0_col0\" class=\"data row0 col0\" >Airport code extractor</td>\n",
       "      <td id=\"T_731ad_row0_col1\" class=\"data row0 col1\" >You will be provided with a text, and your task is to extract the airport codes from it.</td>\n",
       "      <td id=\"T_731ad_row0_col2\" class=\"data row0 col2\" >I want to fly from Orlando to Boston</td>\n",
       "    </tr>\n",
       "  </tbody>\n",
       "</table>\n"
      ],
      "text/plain": [
       "<pandas.io.formats.style.Styler at 0x14f373d10>"
      ]
     },
     "execution_count": 3,
     "metadata": {},
     "output_type": "execute_result"
    }
   ],
   "source": [
    "render.df(tasks.find('extract'))"
   ]
  },
  {
   "cell_type": "code",
   "execution_count": 4,
   "id": "2645ec31-c96c-4704-aaa2-689aee1bcf37",
   "metadata": {},
   "outputs": [
    {
     "data": {
      "text/html": [
       "<style type=\"text/css\">\n",
       "#T_64764 th {\n",
       "  font-size: 10pt;\n",
       "  text-align: left;\n",
       "}\n",
       "#T_64764 td {\n",
       "  text-align: left;\n",
       "  word-wrap: break-word;\n",
       "  overflow: hidden;\n",
       "  text-overflow: ellipsis;\n",
       "}\n",
       "#T_64764 .index_name {\n",
       "  display: none;\n",
       "}\n",
       "#T_64764 .row_heading {\n",
       "  display: none;\n",
       "}\n",
       "#T_64764  .blank {\n",
       "  display: none;\n",
       "}\n",
       "</style>\n",
       "<table id=\"T_64764\">\n",
       "  <thead>\n",
       "    <tr>\n",
       "      <th class=\"blank level0\" >&nbsp;</th>\n",
       "      <th id=\"T_64764_level0_col0\" class=\"col_heading level0 col0\" >Task</th>\n",
       "      <th id=\"T_64764_level0_col1\" class=\"col_heading level0 col1\" >System</th>\n",
       "      <th id=\"T_64764_level0_col2\" class=\"col_heading level0 col2\" >Prompt</th>\n",
       "    </tr>\n",
       "  </thead>\n",
       "  <tbody>\n",
       "    <tr>\n",
       "      <th id=\"T_64764_level0_row0\" class=\"row_heading level0 row0\" >0</th>\n",
       "      <td id=\"T_64764_row0_col0\" class=\"data row0 col0\" >Grammar correction</td>\n",
       "      <td id=\"T_64764_row0_col1\" class=\"data row0 col1\" >You will be provided with statements, and your task is to convert them to standard English.</td>\n",
       "      <td id=\"T_64764_row0_col2\" class=\"data row0 col2\" >She no went to the market.</td>\n",
       "    </tr>\n",
       "    <tr>\n",
       "      <th id=\"T_64764_level0_row1\" class=\"row_heading level0 row1\" >1</th>\n",
       "      <td id=\"T_64764_row1_col0\" class=\"data row1 col0\" >Summarize for a 2nd grader</td>\n",
       "      <td id=\"T_64764_row1_col1\" class=\"data row1 col1\" >Summarize content you are provided with for a second-grade student.</td>\n",
       "      <td id=\"T_64764_row1_col2\" class=\"data row1 col2\" >Jupiter is the fifth planet from the Sun and the largest in the Solar System. It is a gas giant with a mass one-thousandth that of the Sun, but two-and-a-half times that of all the other planets in the Solar System combined. Jupiter is one of the brightest objects visible to the naked eye in the night sky, and has been known to ancient civilizations since before recorded history. It is named after the Roman god Jupiter.[19] When viewed from Earth, Jupiter can be bright enough for its reflected light to cast visible shadows,[20] and is on average the third-brightest natural object in the night sky after the Moon and Venus.</td>\n",
       "    </tr>\n",
       "    <tr>\n",
       "      <th id=\"T_64764_level0_row2\" class=\"row_heading level0 row2\" >2</th>\n",
       "      <td id=\"T_64764_row2_col0\" class=\"data row2 col0\" >Parse unstructured data</td>\n",
       "      <td id=\"T_64764_row2_col1\" class=\"data row2 col1\" >You will be provided with unstructured data, and your task is to parse it into CSV format.</td>\n",
       "      <td id=\"T_64764_row2_col2\" class=\"data row2 col2\" >There are many fruits that were found on the recently discovered planet Goocrux. There are neoskizzles that grow there, which are purple and taste like candy. There are also loheckles, which are a grayish blue fruit and are very tart, a little bit like a lemon. Pounits are a bright green color and are more savory than sweet. There are also plenty of loopnovas which are a neon pink flavor and taste like cotton candy. Finally, there are fruits called glowls, which have a very sour and bitter taste which is acidic and caustic, and a pale orange tinge to them.</td>\n",
       "    </tr>\n",
       "    <tr>\n",
       "      <th id=\"T_64764_level0_row3\" class=\"row_heading level0 row3\" >3</th>\n",
       "      <td id=\"T_64764_row3_col0\" class=\"data row3 col0\" >Emoji Translation</td>\n",
       "      <td id=\"T_64764_row3_col1\" class=\"data row3 col1\" >You will be provided with text, and your task is to translate it into emojis. Do not use any regular text. Do your best with emojis only.</td>\n",
       "      <td id=\"T_64764_row3_col2\" class=\"data row3 col2\" >Artificial intelligence is a technology with great promise.</td>\n",
       "    </tr>\n",
       "    <tr>\n",
       "      <th id=\"T_64764_level0_row4\" class=\"row_heading level0 row4\" >4</th>\n",
       "      <td id=\"T_64764_row4_col0\" class=\"data row4 col0\" >Calculate time complexity</td>\n",
       "      <td id=\"T_64764_row4_col1\" class=\"data row4 col1\" >You will be provided with Python code, and your task is to calculate its time complexity.</td>\n",
       "      <td id=\"T_64764_row4_col2\" class=\"data row4 col2\" >def foo(n, k):\n",
       "        accum = 0\n",
       "        for i in range(n):\n",
       "            for l in range(k):\n",
       "                accum += i\n",
       "        return accum</td>\n",
       "    </tr>\n",
       "    <tr>\n",
       "      <th id=\"T_64764_level0_row5\" class=\"row_heading level0 row5\" >5</th>\n",
       "      <td id=\"T_64764_row5_col0\" class=\"data row5 col0\" >Explain code</td>\n",
       "      <td id=\"T_64764_row5_col1\" class=\"data row5 col1\" >You will be provided with a piece of code, and your task is to explain it in a concise way.</td>\n",
       "      <td id=\"T_64764_row5_col2\" class=\"data row5 col2\" >class Log:\n",
       "        def __init__(self, path):\n",
       "            dirname = os.path.dirname(path)\n",
       "            os.makedirs(dirname, exist_ok=True)\n",
       "            f = open(path, \"a+\")\n",
       "    \n",
       "            # Check that the file is newline-terminated\n",
       "            size = os.path.getsize(path)\n",
       "            if size > 0:\n",
       "                f.seek(size - 1)\n",
       "                end = f.read(1)\n",
       "                if end != \"\\n\":\n",
       "                    f.write(\"\\n\")\n",
       "            self.f = f\n",
       "            self.path = path\n",
       "    \n",
       "        def log(self, event):\n",
       "            event[\"_event_id\"] = str(uuid.uuid4())\n",
       "            json.dump(event, self.f)\n",
       "            self.f.write(\"\\n\")\n",
       "    \n",
       "        def state(self):\n",
       "            state = {\"complete\": set(), \"last\": None}\n",
       "            for line in open(self.path):\n",
       "                event = json.loads(line)\n",
       "                if event[\"type\"] == \"submit\" and event[\"success\"]:\n",
       "                    state[\"complete\"].add(event[\"id\"])\n",
       "                    state[\"last\"] = event\n",
       "            return state</td>\n",
       "    </tr>\n",
       "    <tr>\n",
       "      <th id=\"T_64764_level0_row6\" class=\"row_heading level0 row6\" >6</th>\n",
       "      <td id=\"T_64764_row6_col0\" class=\"data row6 col0\" >Keywords</td>\n",
       "      <td id=\"T_64764_row6_col1\" class=\"data row6 col1\" >You will be provided with a block of text, and your task is to extract a list of keywords from it.</td>\n",
       "      <td id=\"T_64764_row6_col2\" class=\"data row6 col2\" >Black-on-black ware is a 20th- and 21st-century pottery tradition developed by the Puebloan Native American ceramic artists in Northern New Mexico. Traditional reduction-fired blackware has been made for centuries by pueblo artists. Black-on-black ware of the past century is produced with a smooth surface, with the designs applied through selective burnishing or the application of refractory slip. Another style involves carving or incising designs and selectively polishing the raised areas. For generations several families from Kha'po Owingeh and P'ohwhóge Owingeh pueblos have been making black-on-black ware with the techniques passed down from matriarch potters. Artists from other pueblos have also produced black-on-black ware. Several contemporary artists have created works honoring the pottery of their ancestors.</td>\n",
       "    </tr>\n",
       "    <tr>\n",
       "      <th id=\"T_64764_level0_row7\" class=\"row_heading level0 row7\" >7</th>\n",
       "      <td id=\"T_64764_row7_col0\" class=\"data row7 col0\" >Product name generator</td>\n",
       "      <td id=\"T_64764_row7_col1\" class=\"data row7 col1\" >You will be provided with a product description and seed words, and your task is to generate product names.</td>\n",
       "      <td id=\"T_64764_row7_col2\" class=\"data row7 col2\" >Product description: A home milkshake maker\n",
       "    Seed words: fast, healthy, compact.</td>\n",
       "    </tr>\n",
       "    <tr>\n",
       "      <th id=\"T_64764_level0_row8\" class=\"row_heading level0 row8\" >8</th>\n",
       "      <td id=\"T_64764_row8_col0\" class=\"data row8 col0\" >Python bug fixer</td>\n",
       "      <td id=\"T_64764_row8_col1\" class=\"data row8 col1\" >You will be provided with a piece of Python code, and your task is to find and fix bugs in it.</td>\n",
       "      <td id=\"T_64764_row8_col2\" class=\"data row8 col2\" >import Random\n",
       "    a = random.randint(1,12)\n",
       "    b = random.randint(1,12)\n",
       "    for i in range(10):\n",
       "        question = \"What is \"+a+\" x \"+b+\"? \"\n",
       "        answer = input(question)\n",
       "        if answer = a*b\n",
       "            print (Well done!)\n",
       "        else:\n",
       "            print(\"No.\")</td>\n",
       "    </tr>\n",
       "    <tr>\n",
       "      <th id=\"T_64764_level0_row9\" class=\"row_heading level0 row9\" >9</th>\n",
       "      <td id=\"T_64764_row9_col0\" class=\"data row9 col0\" >Spreadsheet creator</td>\n",
       "      <td id=\"T_64764_row9_col1\" class=\"data row9 col1\" > </td>\n",
       "      <td id=\"T_64764_row9_col2\" class=\"data row9 col2\" >Create a two-column CSV of top science fiction movies along with the year of release.</td>\n",
       "    </tr>\n",
       "    <tr>\n",
       "      <th id=\"T_64764_level0_row10\" class=\"row_heading level0 row10\" >10</th>\n",
       "      <td id=\"T_64764_row10_col0\" class=\"data row10 col0\" >Tweet classifier</td>\n",
       "      <td id=\"T_64764_row10_col1\" class=\"data row10 col1\" >You will be provided with a tweet, and your task is to classify its sentiment as positive, neutral, or negative.</td>\n",
       "      <td id=\"T_64764_row10_col2\" class=\"data row10 col2\" >I loved the new Batman movie!</td>\n",
       "    </tr>\n",
       "    <tr>\n",
       "      <th id=\"T_64764_level0_row11\" class=\"row_heading level0 row11\" >11</th>\n",
       "      <td id=\"T_64764_row11_col0\" class=\"data row11 col0\" >Airport code extractor</td>\n",
       "      <td id=\"T_64764_row11_col1\" class=\"data row11 col1\" >You will be provided with a text, and your task is to extract the airport codes from it.</td>\n",
       "      <td id=\"T_64764_row11_col2\" class=\"data row11 col2\" >I want to fly from Orlando to Boston</td>\n",
       "    </tr>\n",
       "    <tr>\n",
       "      <th id=\"T_64764_level0_row12\" class=\"row_heading level0 row12\" >12</th>\n",
       "      <td id=\"T_64764_row12_col0\" class=\"data row12 col0\" >Mood to color</td>\n",
       "      <td id=\"T_64764_row12_col1\" class=\"data row12 col1\" >You will be provided with a description of a mood, and your task is to generate the CSS code for a color that matches it. Write your output in json with a single key called \"css_code\".</td>\n",
       "      <td id=\"T_64764_row12_col2\" class=\"data row12 col2\" >Blue sky at dusk.</td>\n",
       "    </tr>\n",
       "    <tr>\n",
       "      <th id=\"T_64764_level0_row13\" class=\"row_heading level0 row13\" >13</th>\n",
       "      <td id=\"T_64764_row13_col0\" class=\"data row13 col0\" >VR fitness idea generator</td>\n",
       "      <td id=\"T_64764_row13_col1\" class=\"data row13 col1\" > </td>\n",
       "      <td id=\"T_64764_row13_col2\" class=\"data row13 col2\" >Brainstorm some ideas combining VR and fitness.</td>\n",
       "    </tr>\n",
       "    <tr>\n",
       "      <th id=\"T_64764_level0_row14\" class=\"row_heading level0 row14\" >14</th>\n",
       "      <td id=\"T_64764_row14_col0\" class=\"data row14 col0\" >Turn by turn directions</td>\n",
       "      <td id=\"T_64764_row14_col1\" class=\"data row14 col1\" >You will be provided with a text, and your task is to create a numbered list of turn-by-turn directions from it.</td>\n",
       "      <td id=\"T_64764_row14_col2\" class=\"data row14 col2\" >Go south on 95 until you hit Sunrise boulevard then take it east to us 1 and head south. Tom Jenkins bbq will be on the left after several miles.</td>\n",
       "    </tr>\n",
       "    <tr>\n",
       "      <th id=\"T_64764_level0_row15\" class=\"row_heading level0 row15\" >15</th>\n",
       "      <td id=\"T_64764_row15_col0\" class=\"data row15 col0\" >Interview questions</td>\n",
       "      <td id=\"T_64764_row15_col1\" class=\"data row15 col1\" > </td>\n",
       "      <td id=\"T_64764_row15_col2\" class=\"data row15 col2\" >Create a list of 8 questions for an interview with a science fiction author.</td>\n",
       "    </tr>\n",
       "    <tr>\n",
       "      <th id=\"T_64764_level0_row16\" class=\"row_heading level0 row16\" >16</th>\n",
       "      <td id=\"T_64764_row16_col0\" class=\"data row16 col0\" >Function from specification</td>\n",
       "      <td id=\"T_64764_row16_col1\" class=\"data row16 col1\" > </td>\n",
       "      <td id=\"T_64764_row16_col2\" class=\"data row16 col2\" >Write a Python function that takes as input a file path to an image, loads the image into memory as a numpy array, then crops the rows and columns around the perimeter if they are darker than a threshold value. Use the mean value of rows and columns to decide if they should be marked for deletion.</td>\n",
       "    </tr>\n",
       "    <tr>\n",
       "      <th id=\"T_64764_level0_row17\" class=\"row_heading level0 row17\" >17</th>\n",
       "      <td id=\"T_64764_row17_col0\" class=\"data row17 col0\" >Improve code efficiency</td>\n",
       "      <td id=\"T_64764_row17_col1\" class=\"data row17 col1\" >You will be provided with a piece of Python code, and your task is to provide ideas for efficiency improvements.</td>\n",
       "      <td id=\"T_64764_row17_col2\" class=\"data row17 col2\" >from typing import List\n",
       "                \n",
       "                \n",
       "    def has_sum_k(nums: List[int], k: int) -> bool:\n",
       "        \"\"\"\n",
       "        Returns True if there are two distinct elements in nums such that their sum \n",
       "        is equal to k, and otherwise returns False.\n",
       "        \"\"\"\n",
       "        n = len(nums)\n",
       "        for i in range(n):\n",
       "            for j in range(i+1, n):\n",
       "                if nums[i] + nums[j] == k:\n",
       "                    return True\n",
       "        return False</td>\n",
       "    </tr>\n",
       "    <tr>\n",
       "      <th id=\"T_64764_level0_row18\" class=\"row_heading level0 row18\" >18</th>\n",
       "      <td id=\"T_64764_row18_col0\" class=\"data row18 col0\" >Single page website creator</td>\n",
       "      <td id=\"T_64764_row18_col1\" class=\"data row18 col1\" > </td>\n",
       "      <td id=\"T_64764_row18_col2\" class=\"data row18 col2\" >Make a single page website that shows off different neat javascript features for drop-downs and things to display information. The website should be an HTML file with embedded javascript and CSS.</td>\n",
       "    </tr>\n",
       "    <tr>\n",
       "      <th id=\"T_64764_level0_row19\" class=\"row_heading level0 row19\" >19</th>\n",
       "      <td id=\"T_64764_row19_col0\" class=\"data row19 col0\" >Rap battle writer</td>\n",
       "      <td id=\"T_64764_row19_col1\" class=\"data row19 col1\" > </td>\n",
       "      <td id=\"T_64764_row19_col2\" class=\"data row19 col2\" >Write a rap battle between Alan Turing and Claude Shannon.</td>\n",
       "    </tr>\n",
       "    <tr>\n",
       "      <th id=\"T_64764_level0_row20\" class=\"row_heading level0 row20\" >20</th>\n",
       "      <td id=\"T_64764_row20_col0\" class=\"data row20 col0\" >Memo writer</td>\n",
       "      <td id=\"T_64764_row20_col1\" class=\"data row20 col1\" > </td>\n",
       "      <td id=\"T_64764_row20_col2\" class=\"data row20 col2\" >Draft a company memo to be distributed to all employees. The memo should cover the following specific points without deviating from the topics mentioned and not writing any fact which is not present here:\n",
       "    \n",
       "    Introduction: Remind employees about the upcoming quarterly review scheduled for the last week of April.\n",
       "    \n",
       "    Performance Metrics: Clearly state the three key performance indicators (KPIs) that will be assessed during the review: sales targets, customer satisfaction (measured by net promoter score), and process efficiency (measured by average project completion time).\n",
       "    \n",
       "    Project Updates: Provide a brief update on the status of the three ongoing company projects:\n",
       "    \n",
       "    a. Project Alpha: 75% complete, expected completion by May 30th.\n",
       "    b. Project Beta: 50% complete, expected completion by June 15th.\n",
       "    c. Project Gamma: 30% complete, expected completion by July 31st.\n",
       "    \n",
       "    Team Recognition: Announce that the Sales Team was the top-performing team of the past quarter and congratulate them for achieving 120% of their target.\n",
       "    \n",
       "    Training Opportunities: Inform employees about the upcoming training workshops that will be held in May, including \"Advanced Customer Service\" on May 10th and \"Project Management Essentials\" on May 25th.</td>\n",
       "    </tr>\n",
       "  </tbody>\n",
       "</table>\n"
      ],
      "text/plain": [
       "<pandas.io.formats.style.Styler at 0x13fe3e2d0>"
      ]
     },
     "execution_count": 4,
     "metadata": {},
     "output_type": "execute_result"
    }
   ],
   "source": [
    "render.df(tasks.list(0, 5))"
   ]
  },
  {
   "cell_type": "code",
   "execution_count": 5,
   "id": "acd99c42-56fd-45b6-b602-42fb9b0d4f75",
   "metadata": {},
   "outputs": [],
   "source": [
    "task = tasks.get('Grammar correction')"
   ]
  },
  {
   "cell_type": "code",
   "execution_count": 6,
   "id": "212901e2-2df9-44ef-9e2d-2a7623725aab",
   "metadata": {},
   "outputs": [
    {
     "data": {
      "text/markdown": [
       "She didn't go to the market."
      ],
      "text/plain": [
       "<IPython.core.display.Markdown object>"
      ]
     },
     "metadata": {},
     "output_type": "display_data"
    }
   ],
   "source": [
    "render.md(openai.text(*task))"
   ]
  },
  {
   "cell_type": "code",
   "execution_count": 7,
   "id": "434ef8d1-8668-4f15-83a9-40c79333eb8d",
   "metadata": {},
   "outputs": [],
   "source": [
    "task = tasks.get('Parse unstructured data')"
   ]
  },
  {
   "cell_type": "code",
   "execution_count": 8,
   "id": "33dee4e8-014c-4c43-9df5-041c826cb91b",
   "metadata": {},
   "outputs": [
    {
     "data": {
      "text/markdown": [
       "Here's the data in CSV format:\n",
       "\n",
       "Fruit Name,Color,Flavor\n",
       "neoskizzles,purple,\"tastes like candy\"\n",
       "loheckles,grayish blue,\"very tart, a little bit like a lemon\"\n",
       "pounits,bright green,savory\n",
       "loopnovas,neon pink,\"tastes like cotton candy\"\n",
       "glowls,pale orange,\"very sour and bitter, acidic and caustic\""
      ],
      "text/plain": [
       "<IPython.core.display.Markdown object>"
      ]
     },
     "metadata": {},
     "output_type": "display_data"
    }
   ],
   "source": [
    "render.md(bedrock.text(*task))"
   ]
  },
  {
   "cell_type": "code",
   "execution_count": 9,
   "id": "ea9e9377-01c1-4d0a-a42c-e5eb434b2d1f",
   "metadata": {},
   "outputs": [],
   "source": [
    "task = tasks.get('Summarize for a 2nd grader')"
   ]
  },
  {
   "cell_type": "code",
   "execution_count": 10,
   "id": "1be524a6-0f45-4129-a6e3-0f7745a051d3",
   "metadata": {},
   "outputs": [
    {
     "data": {
      "text/markdown": [
       "Hey there, second-grader!\n",
       "\n",
       "So, you know how we have a big sun in the sky during the day? Well, Jupiter is like a super-big brother to our sun! It's a huge planet that floats in space, and it's really, really bright.\n",
       "\n",
       "Imagine having a flashlight that's so strong, it can make shadows on your wall. That's kind of what Jupiter does when we look at it from Earth. It's so bright that its light can even cast shadows!\n",
       "\n",
       "A long time ago, people didn't know much about space, but they knew about Jupiter because it was one of the brightest things in the sky. They named it after a god called Jupiter, and now we know lots more about this amazing planet!"
      ],
      "text/plain": [
       "<IPython.core.display.Markdown object>"
      ]
     },
     "metadata": {},
     "output_type": "display_data"
    }
   ],
   "source": [
    "render.md(ollama.text(*task))"
   ]
  },
  {
   "cell_type": "code",
   "execution_count": 11,
   "id": "c4914e93-b5c7-459c-9f87-16849951c52a",
   "metadata": {},
   "outputs": [],
   "source": [
    "task = tasks.get('Calculate time complexity')"
   ]
  },
  {
   "cell_type": "code",
   "execution_count": 12,
   "id": "61c1396c-5660-4acd-b718-4b4f60a2726c",
   "metadata": {},
   "outputs": [
    {
     "data": {
      "text/markdown": [
       "This function calculates the sum of the numbers from 0 to n-1, each repeated k times.\n",
       "\n",
       "Here's a breakdown of how it works:\n",
       "\n",
       "- The outer loop `for i in range(n):` iterates over the numbers from 0 to n-1.\n",
       "- The inner loop `for l in range(k):` repeats the current number `i` k times.\n",
       "- The line `accum += i` adds the current number `i` to the accumulator `accum`.\n",
       "- The function returns the total sum `accum` after iterating over all numbers from 0 to n-1, each repeated k times.\n",
       "\n",
       "For example, if you call `foo(3, 2)`, the function will calculate the sum as follows:\n",
       "\n",
       "- `i` takes the values 0, 1, and 2.\n",
       "- For each `i`, it is repeated `k` times, so the sequence becomes 0, 0, 1, 1, 2, 2.\n",
       "- The sum of this sequence is 0 + 0 + 1 + 1 + 2 + 2 = 6.\n",
       "\n",
       "So, `foo(3, 2)` would return 6."
      ],
      "text/plain": [
       "<IPython.core.display.Markdown object>"
      ]
     },
     "metadata": {},
     "output_type": "display_data"
    }
   ],
   "source": [
    "render.md(groq.text(*task))"
   ]
  }
 ],
 "metadata": {
  "kernelspec": {
   "display_name": "Python 3 (ipykernel)",
   "language": "python",
   "name": "python3"
  },
  "language_info": {
   "codemirror_mode": {
    "name": "ipython",
    "version": 3
   },
   "file_extension": ".py",
   "mimetype": "text/x-python",
   "name": "python",
   "nbconvert_exporter": "python",
   "pygments_lexer": "ipython3",
   "version": "3.11.7"
  }
 },
 "nbformat": 4,
 "nbformat_minor": 5
}
