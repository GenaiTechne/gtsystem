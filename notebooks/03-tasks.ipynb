{
 "cells": [
  {
   "cell_type": "code",
   "execution_count": 1,
   "id": "b98d3e38-543f-446c-a88a-57945bfc1d2b",
   "metadata": {},
   "outputs": [],
   "source": [
    "import sys\n",
    "import os\n",
    "\n",
    "module_path = os.path.abspath(\"..\")\n",
    "if module_path not in sys.path:\n",
    "    sys.path.insert(0, module_path)\n",
    "\n",
    "from gtsystem import openai, bedrock, ollama, groq, render, tasks"
   ]
  },
  {
   "cell_type": "code",
   "execution_count": 2,
   "id": "ba481a77-1403-46b3-9bbf-ac58036f42c2",
   "metadata": {},
   "outputs": [],
   "source": [
    "tasks.load('../data/openai-examples-21.xlsx')"
   ]
  },
  {
   "cell_type": "code",
   "execution_count": 3,
   "id": "bd505028-2a86-48b5-9950-866dd65ee942",
   "metadata": {},
   "outputs": [
    {
     "data": {
      "text/html": [
       "<style type=\"text/css\">\n",
       "#T_d67a5 th {\n",
       "  font-size: 10pt;\n",
       "  text-align: left;\n",
       "}\n",
       "#T_d67a5 td {\n",
       "  text-align: left;\n",
       "  word-wrap: break-word;\n",
       "  overflow: hidden;\n",
       "  text-overflow: ellipsis;\n",
       "}\n",
       "#T_d67a5 .index_name {\n",
       "  display: none;\n",
       "}\n",
       "#T_d67a5 .row_heading {\n",
       "  display: none;\n",
       "}\n",
       "#T_d67a5  .blank {\n",
       "  display: none;\n",
       "}\n",
       "</style>\n",
       "<table id=\"T_d67a5\">\n",
       "  <thead>\n",
       "    <tr>\n",
       "      <th class=\"blank level0\" >&nbsp;</th>\n",
       "      <th id=\"T_d67a5_level0_col0\" class=\"col_heading level0 col0\" >Task</th>\n",
       "      <th id=\"T_d67a5_level0_col1\" class=\"col_heading level0 col1\" >Task Types</th>\n",
       "      <th id=\"T_d67a5_level0_col2\" class=\"col_heading level0 col2\" >System</th>\n",
       "      <th id=\"T_d67a5_level0_col3\" class=\"col_heading level0 col3\" >Prompt</th>\n",
       "      <th id=\"T_d67a5_level0_col4\" class=\"col_heading level0 col4\" >Temperature</th>\n",
       "      <th id=\"T_d67a5_level0_col5\" class=\"col_heading level0 col5\" >TopP</th>\n",
       "      <th id=\"T_d67a5_level0_col6\" class=\"col_heading level0 col6\" >Source</th>\n",
       "    </tr>\n",
       "  </thead>\n",
       "  <tbody>\n",
       "    <tr>\n",
       "      <th id=\"T_d67a5_level0_row0\" class=\"row_heading level0 row0\" >11</th>\n",
       "      <td id=\"T_d67a5_row0_col0\" class=\"data row0 col0\" >Airport code extractor</td>\n",
       "      <td id=\"T_d67a5_row0_col1\" class=\"data row0 col1\" >Transform; Natural Language</td>\n",
       "      <td id=\"T_d67a5_row0_col2\" class=\"data row0 col2\" >You will be provided with a text, and your task is to extract the airport codes from it.</td>\n",
       "      <td id=\"T_d67a5_row0_col3\" class=\"data row0 col3\" >I want to fly from Orlando to Boston</td>\n",
       "      <td id=\"T_d67a5_row0_col4\" class=\"data row0 col4\" >0.700000</td>\n",
       "      <td id=\"T_d67a5_row0_col5\" class=\"data row0 col5\" >1</td>\n",
       "      <td id=\"T_d67a5_row0_col6\" class=\"data row0 col6\" >OpenAI Examples</td>\n",
       "    </tr>\n",
       "  </tbody>\n",
       "</table>\n"
      ],
      "text/plain": [
       "<pandas.io.formats.style.Styler at 0x11c4d8c50>"
      ]
     },
     "execution_count": 3,
     "metadata": {},
     "output_type": "execute_result"
    }
   ],
   "source": [
    "render.df(tasks.find('extract'))"
   ]
  },
  {
   "cell_type": "code",
   "execution_count": 4,
   "id": "2645ec31-c96c-4704-aaa2-689aee1bcf37",
   "metadata": {},
   "outputs": [
    {
     "data": {
      "text/html": [
       "<style type=\"text/css\">\n",
       "#T_b1500 th {\n",
       "  font-size: 10pt;\n",
       "  text-align: left;\n",
       "}\n",
       "#T_b1500 td {\n",
       "  text-align: left;\n",
       "  word-wrap: break-word;\n",
       "  overflow: hidden;\n",
       "  text-overflow: ellipsis;\n",
       "}\n",
       "#T_b1500 .index_name {\n",
       "  display: none;\n",
       "}\n",
       "#T_b1500 .row_heading {\n",
       "  display: none;\n",
       "}\n",
       "#T_b1500  .blank {\n",
       "  display: none;\n",
       "}\n",
       "</style>\n",
       "<table id=\"T_b1500\">\n",
       "  <thead>\n",
       "    <tr>\n",
       "      <th class=\"blank level0\" >&nbsp;</th>\n",
       "      <th id=\"T_b1500_level0_col0\" class=\"col_heading level0 col0\" >Task</th>\n",
       "      <th id=\"T_b1500_level0_col1\" class=\"col_heading level0 col1\" >Task Types</th>\n",
       "      <th id=\"T_b1500_level0_col2\" class=\"col_heading level0 col2\" >System</th>\n",
       "      <th id=\"T_b1500_level0_col3\" class=\"col_heading level0 col3\" >Prompt</th>\n",
       "      <th id=\"T_b1500_level0_col4\" class=\"col_heading level0 col4\" >Temperature</th>\n",
       "      <th id=\"T_b1500_level0_col5\" class=\"col_heading level0 col5\" >TopP</th>\n",
       "      <th id=\"T_b1500_level0_col6\" class=\"col_heading level0 col6\" >Source</th>\n",
       "    </tr>\n",
       "  </thead>\n",
       "  <tbody>\n",
       "    <tr>\n",
       "      <th id=\"T_b1500_level0_row0\" class=\"row_heading level0 row0\" >0</th>\n",
       "      <td id=\"T_b1500_row0_col0\" class=\"data row0 col0\" >Grammar correction</td>\n",
       "      <td id=\"T_b1500_row0_col1\" class=\"data row0 col1\" >Transform; Natural Language</td>\n",
       "      <td id=\"T_b1500_row0_col2\" class=\"data row0 col2\" >You will be provided with statements, and your task is to convert them to standard English.</td>\n",
       "      <td id=\"T_b1500_row0_col3\" class=\"data row0 col3\" >She no went to the market.</td>\n",
       "      <td id=\"T_b1500_row0_col4\" class=\"data row0 col4\" >0.700000</td>\n",
       "      <td id=\"T_b1500_row0_col5\" class=\"data row0 col5\" >1</td>\n",
       "      <td id=\"T_b1500_row0_col6\" class=\"data row0 col6\" >OpenAI Examples</td>\n",
       "    </tr>\n",
       "    <tr>\n",
       "      <th id=\"T_b1500_level0_row1\" class=\"row_heading level0 row1\" >1</th>\n",
       "      <td id=\"T_b1500_row1_col0\" class=\"data row1 col0\" >Summarize for a 2nd grader</td>\n",
       "      <td id=\"T_b1500_row1_col1\" class=\"data row1 col1\" >Extract; Natural Language</td>\n",
       "      <td id=\"T_b1500_row1_col2\" class=\"data row1 col2\" >Summarize content you are provided with for a second-grade student.</td>\n",
       "      <td id=\"T_b1500_row1_col3\" class=\"data row1 col3\" >Jupiter is the fifth planet from the Sun and the largest in the Solar System. It is a gas giant with a mass one-thousandth that of the Sun, but two-and-a-half times that of all the other planets in the Solar System combined. Jupiter is one of the brightest objects visible to the naked eye in the night sky, and has been known to ancient civilizations since before recorded history. It is named after the Roman god Jupiter.[19] When viewed from Earth, Jupiter can be bright enough for its reflected light to cast visible shadows,[20] and is on average the third-brightest natural object in the night sky after the Moon and Venus.</td>\n",
       "      <td id=\"T_b1500_row1_col4\" class=\"data row1 col4\" >0.700000</td>\n",
       "      <td id=\"T_b1500_row1_col5\" class=\"data row1 col5\" >1</td>\n",
       "      <td id=\"T_b1500_row1_col6\" class=\"data row1 col6\" >OpenAI Examples</td>\n",
       "    </tr>\n",
       "    <tr>\n",
       "      <th id=\"T_b1500_level0_row2\" class=\"row_heading level0 row2\" >2</th>\n",
       "      <td id=\"T_b1500_row2_col0\" class=\"data row2 col0\" >Parse unstructured data</td>\n",
       "      <td id=\"T_b1500_row2_col1\" class=\"data row2 col1\" >Extract; Natural Language</td>\n",
       "      <td id=\"T_b1500_row2_col2\" class=\"data row2 col2\" >You will be provided with unstructured data, and your task is to parse it into CSV format.</td>\n",
       "      <td id=\"T_b1500_row2_col3\" class=\"data row2 col3\" >There are many fruits that were found on the recently discovered planet Goocrux. There are neoskizzles that grow there, which are purple and taste like candy. There are also loheckles, which are a grayish blue fruit and are very tart, a little bit like a lemon. Pounits are a bright green color and are more savory than sweet. There are also plenty of loopnovas which are a neon pink flavor and taste like cotton candy. Finally, there are fruits called glowls, which have a very sour and bitter taste which is acidic and caustic, and a pale orange tinge to them.</td>\n",
       "      <td id=\"T_b1500_row2_col4\" class=\"data row2 col4\" >0.700000</td>\n",
       "      <td id=\"T_b1500_row2_col5\" class=\"data row2 col5\" >1</td>\n",
       "      <td id=\"T_b1500_row2_col6\" class=\"data row2 col6\" >OpenAI Examples</td>\n",
       "    </tr>\n",
       "    <tr>\n",
       "      <th id=\"T_b1500_level0_row3\" class=\"row_heading level0 row3\" >3</th>\n",
       "      <td id=\"T_b1500_row3_col0\" class=\"data row3 col0\" >Emoji Translation</td>\n",
       "      <td id=\"T_b1500_row3_col1\" class=\"data row3 col1\" >Transform; Natural Language</td>\n",
       "      <td id=\"T_b1500_row3_col2\" class=\"data row3 col2\" >You will be provided with text, and your task is to translate it into emojis. Do not use any regular text. Do your best with emojis only.</td>\n",
       "      <td id=\"T_b1500_row3_col3\" class=\"data row3 col3\" >Artificial intelligence is a technology with great promise.</td>\n",
       "      <td id=\"T_b1500_row3_col4\" class=\"data row3 col4\" >0.800000</td>\n",
       "      <td id=\"T_b1500_row3_col5\" class=\"data row3 col5\" >1</td>\n",
       "      <td id=\"T_b1500_row3_col6\" class=\"data row3 col6\" >OpenAI Examples</td>\n",
       "    </tr>\n",
       "    <tr>\n",
       "      <th id=\"T_b1500_level0_row4\" class=\"row_heading level0 row4\" >4</th>\n",
       "      <td id=\"T_b1500_row4_col0\" class=\"data row4 col0\" >Calculate time complexity</td>\n",
       "      <td id=\"T_b1500_row4_col1\" class=\"data row4 col1\" >Transform; Code</td>\n",
       "      <td id=\"T_b1500_row4_col2\" class=\"data row4 col2\" >You will be provided with Python code, and your task is to calculate its time complexity.</td>\n",
       "      <td id=\"T_b1500_row4_col3\" class=\"data row4 col3\" >def foo(n, k):\n",
       "        accum = 0\n",
       "        for i in range(n):\n",
       "            for l in range(k):\n",
       "                accum += i\n",
       "        return accum</td>\n",
       "      <td id=\"T_b1500_row4_col4\" class=\"data row4 col4\" >0.700000</td>\n",
       "      <td id=\"T_b1500_row4_col5\" class=\"data row4 col5\" >1</td>\n",
       "      <td id=\"T_b1500_row4_col6\" class=\"data row4 col6\" >OpenAI Examples</td>\n",
       "    </tr>\n",
       "  </tbody>\n",
       "</table>\n"
      ],
      "text/plain": [
       "<pandas.io.formats.style.Styler at 0x11f81f110>"
      ]
     },
     "execution_count": 4,
     "metadata": {},
     "output_type": "execute_result"
    }
   ],
   "source": [
    "render.df(tasks.list(0, 5))"
   ]
  },
  {
   "cell_type": "code",
   "execution_count": 5,
   "id": "acd99c42-56fd-45b6-b602-42fb9b0d4f75",
   "metadata": {},
   "outputs": [],
   "source": [
    "task = tasks.get('Grammar correction')"
   ]
  },
  {
   "cell_type": "code",
   "execution_count": 6,
   "id": "212901e2-2df9-44ef-9e2d-2a7623725aab",
   "metadata": {},
   "outputs": [
    {
     "data": {
      "text/markdown": [
       "She did not go to the market."
      ],
      "text/plain": [
       "<IPython.core.display.Markdown object>"
      ]
     },
     "metadata": {},
     "output_type": "display_data"
    }
   ],
   "source": [
    "render.md(openai.text(*task))"
   ]
  },
  {
   "cell_type": "code",
   "execution_count": 7,
   "id": "434ef8d1-8668-4f15-83a9-40c79333eb8d",
   "metadata": {},
   "outputs": [],
   "source": [
    "task = tasks.get('Parse unstructured data')"
   ]
  },
  {
   "cell_type": "code",
   "execution_count": 8,
   "id": "33dee4e8-014c-4c43-9df5-041c826cb91b",
   "metadata": {},
   "outputs": [
    {
     "data": {
      "text/markdown": [
       "Here's the data in CSV format:\n",
       "\n",
       "Fruit Name,Color,Taste,Description\n",
       "Neoskizzles,Purple,Sweet,\"Taste like candy\"\n",
       "Loheckles,Grayish Blue,Tart,\"A little bit like a lemon\"\n",
       "Pounits,Bright Green,Savory,\"More savory than sweet\"\n",
       "Loopnovas,Neon Pink,Sweet,\"Taste like cotton candy\"\n",
       "Glowls,Pale Orange,Sour and Bitter,\"Very sour and bitter taste, acidic and caustic\""
      ],
      "text/plain": [
       "<IPython.core.display.Markdown object>"
      ]
     },
     "metadata": {},
     "output_type": "display_data"
    }
   ],
   "source": [
    "render.md(bedrock.sonnet_text(*task))"
   ]
  },
  {
   "cell_type": "code",
   "execution_count": 9,
   "id": "ea9e9377-01c1-4d0a-a42c-e5eb434b2d1f",
   "metadata": {},
   "outputs": [],
   "source": [
    "task = tasks.get('Summarize for a 2nd grader')"
   ]
  },
  {
   "cell_type": "code",
   "execution_count": 10,
   "id": "1be524a6-0f45-4129-a6e3-0f7745a051d3",
   "metadata": {},
   "outputs": [
    {
     "data": {
      "text/markdown": [
       " Jupiter is a big planet that is the fifth one from the Sun in our Solar System. It's larger than all the other planets put together and is named after the Roman god Jupiter. You can see it clearly in the night sky as it's one of the brightest objects. It's usually the third-brightest natural object after the Moon and Venus. Jupiter is a gas giant and is much bigger than the Sun, but not as big as a thousand Suns! Ancient civilizations have known about Jupiter for a long time. When we look at it from Earth, it can be bright enough to make shadows on the ground."
      ],
      "text/plain": [
       "<IPython.core.display.Markdown object>"
      ]
     },
     "metadata": {},
     "output_type": "display_data"
    }
   ],
   "source": [
    "render.md(ollama.mistral_text(*task))"
   ]
  },
  {
   "cell_type": "code",
   "execution_count": 11,
   "id": "c4914e93-b5c7-459c-9f87-16849951c52a",
   "metadata": {},
   "outputs": [],
   "source": [
    "task = tasks.get('Calculate time complexity')"
   ]
  },
  {
   "cell_type": "code",
   "execution_count": 12,
   "id": "61c1396c-5660-4acd-b718-4b4f60a2726c",
   "metadata": {},
   "outputs": [
    {
     "data": {
      "text/markdown": [
       "The time complexity of this code is O(n \\* k).\n",
       "\n",
       "Here's the reasoning:\n",
       "\n",
       "1. There are two nested loops in the code: `for i in range(n)` and `for l in range(k)`.\n",
       "2. The outer loop runs `n` times, and for each iteration of the outer loop, the inner loop runs `k` times.\n",
       "3. Therefore, the total number of iterations of the inner loop is `n * k`.\n",
       "4. Since the body of the inner loop contains an arithmetic operation (`accum += i`) that takes constant time, the time complexity of the code is O(n \\* k)."
      ],
      "text/plain": [
       "<IPython.core.display.Markdown object>"
      ]
     },
     "metadata": {},
     "output_type": "display_data"
    }
   ],
   "source": [
    "render.md(groq.text(*task))"
   ]
  }
 ],
 "metadata": {
  "kernelspec": {
   "display_name": "Python 3 (ipykernel)",
   "language": "python",
   "name": "python3"
  },
  "language_info": {
   "codemirror_mode": {
    "name": "ipython",
    "version": 3
   },
   "file_extension": ".py",
   "mimetype": "text/x-python",
   "name": "python",
   "nbconvert_exporter": "python",
   "pygments_lexer": "ipython3",
   "version": "3.11.7"
  }
 },
 "nbformat": 4,
 "nbformat_minor": 5
}
