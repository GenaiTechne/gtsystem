{
 "cells": [
  {
   "cell_type": "code",
   "execution_count": 1,
   "id": "5b0c20de-2122-45be-9919-a0ada36b8f91",
   "metadata": {},
   "outputs": [],
   "source": [
    "import os\n",
    "import sys\n",
    "import importlib.util\n",
    "\n",
    "is_installed = importlib.util.find_spec(\"gtsystem\")\n",
    "if not is_installed:\n",
    "    module_path = \"..\"\n",
    "    sys.path.append(os.path.abspath(module_path))\n",
    "\n",
    "from gtsystem import bedrock, ollama, openai, instrument, benchmark, render, tasks"
   ]
  },
  {
   "cell_type": "code",
   "execution_count": 2,
   "id": "1ac0fa19-c4d4-4586-879a-70fb28cbdd77",
   "metadata": {},
   "outputs": [],
   "source": [
    "tasks.load('../data/openai-examples-21.xlsx')"
   ]
  },
  {
   "cell_type": "code",
   "execution_count": 3,
   "id": "26c98606-4466-4fdb-ab67-c9d03ea22209",
   "metadata": {},
   "outputs": [],
   "source": [
    "task = tasks.get('Parse unstructured data')"
   ]
  },
  {
   "cell_type": "code",
   "execution_count": 4,
   "id": "36d622bc-2b22-40da-98e3-9d103dac23f7",
   "metadata": {},
   "outputs": [
    {
     "data": {
      "text/markdown": [
       "Fruit,Color,Flavor\n",
       "neoskizzles,Purple,Candy\n",
       "loheckles,Grayish blue,Tart\n",
       "pounits,Bright green,Savory\n",
       "loopnovas,Neon pink,Cotton candy\n",
       "glowls,Pale orange,Sour and bitter"
      ],
      "text/plain": [
       "<IPython.core.display.Markdown object>"
      ]
     },
     "metadata": {},
     "output_type": "display_data"
    }
   ],
   "source": [
    "render.md(openai.text(*task))"
   ]
  },
  {
   "cell_type": "code",
   "execution_count": 5,
   "id": "caa3cf9f-e1b5-468b-a97e-9f466a40d5ef",
   "metadata": {},
   "outputs": [
    {
     "data": {
      "text/markdown": [
       " Based on the provided information, here's an example of how you could parse the data into CSV format:\n",
       "\n",
       "Fruit,Color,Taste,Planet\n",
       "Neoskizzle,\"Purple\",\"Candy-like\",Goocrux\n",
       "Loheckle,\"Grayish Blue\",\"Tart (like a lemon)\",Goocrux\n",
       "Pounit,\"Bright Green\",\"Savory\",Goocrux\n",
       "Loopnova,\"Neon Pink\", \"Cotton Candy\", Goocrux\n",
       "Glowl,\"Pale Orange\", \"Sour and bitter (acidic and caustic)\", Goocrux\n",
       "\n",
       "So the CSV file would look like this:\n",
       "\n",
       "Fruit,Color,Taste,Planet\n",
       "Neoskizzle,Purple,Candy-like,Goocrux\n",
       "Loheckle,Grayish Blue,Tart (like a lemon),Goocrux\n",
       "Pounit,Bright Green,Savory,Goocrux\n",
       "Loopnova,Neon Pink,Cotton Candy,Goocrux\n",
       "Glowl,Pale Orange,Sour and bitter (acidic and caustic),Goocrux"
      ],
      "text/plain": [
       "<IPython.core.display.Markdown object>"
      ]
     },
     "metadata": {},
     "output_type": "display_data"
    }
   ],
   "source": [
    "mistral_result = ollama.mistral_text(*task)\n",
    "render.md(mistral_result)"
   ]
  },
  {
   "cell_type": "code",
   "execution_count": 6,
   "id": "43c0cd19-9b77-4806-9a7a-f4f09fbf29b5",
   "metadata": {},
   "outputs": [
    {
     "data": {
      "text/plain": [
       "'100.00'"
      ]
     },
     "execution_count": 6,
     "metadata": {},
     "output_type": "execute_result"
    }
   ],
   "source": [
    "benchmark.accuracy(task[0], task[1], result=mistral_result)"
   ]
  },
  {
   "cell_type": "code",
   "execution_count": 7,
   "id": "4e0c9135-86e8-46ca-9e23-dc72e14a1812",
   "metadata": {},
   "outputs": [
    {
     "data": {
      "text/markdown": [
       "Sure, I can help you with that! Here's a possible CSV format for the fruits on planet Goocrux:\n",
       "\n",
       "| Fruit Name | Color | Taste |\n",
       "| --- | --- | --- |\n",
       "| Neoskizzles | Purple | Sweet, like candy |\n",
       "| Lohheckles | Grayish blue | Tart, a little bit like a lemon |\n",
       "| Pounits | Bright green | Savory, not very sweet |\n",
       "| Loopnovas | Neon pink | Sweet, like cotton candy |\n",
       "| Glowls | Pale orange | Sour, bitter, acidic, caustic |\n",
       "\n",
       "Is this what you had in mind? Let me know if you'd like me to make any changes!"
      ],
      "text/plain": [
       "<IPython.core.display.Markdown object>"
      ]
     },
     "metadata": {},
     "output_type": "display_data"
    }
   ],
   "source": [
    "llama_result = bedrock.llama_text(*task)\n",
    "render.md(llama_result)"
   ]
  },
  {
   "cell_type": "code",
   "execution_count": 8,
   "id": "271649a4-0916-4214-8041-65556350fe75",
   "metadata": {},
   "outputs": [
    {
     "data": {
      "text/plain": [
       "'100.00'"
      ]
     },
     "execution_count": 8,
     "metadata": {},
     "output_type": "execute_result"
    }
   ],
   "source": [
    "benchmark.accuracy(task[0], task[1], result=llama_result)"
   ]
  },
  {
   "cell_type": "code",
   "execution_count": 9,
   "id": "5334b99d-2cf2-41ca-bd4e-6b3f3c11479e",
   "metadata": {},
   "outputs": [
    {
     "data": {
      "text/markdown": [
       "| Model | Calls | Total Time | Total Return Size | Average Time | Average Size |\n",
       "|-------|-------|------------|-------------------|--------------|--------------|\n",
       "| gtsystem.openai.text | 1 | 1.12 | 216.00 | 1.12 | 216.00 |\n",
       "| gtsystem.ollama.mistral_text | 1 | 6.85 | 716.00 | 6.85 | 716.00 |\n",
       "| gtsystem.bedrock.llama_text | 1 | 8.51 | 547.00 | 8.51 | 547.00 |\n"
      ],
      "text/plain": [
       "<IPython.core.display.Markdown object>"
      ]
     },
     "metadata": {},
     "output_type": "display_data"
    }
   ],
   "source": [
    "render.md(instrument.metrics.stats())"
   ]
  }
 ],
 "metadata": {
  "kernelspec": {
   "display_name": "Python 3 (ipykernel)",
   "language": "python",
   "name": "python3"
  },
  "language_info": {
   "codemirror_mode": {
    "name": "ipython",
    "version": 3
   },
   "file_extension": ".py",
   "mimetype": "text/x-python",
   "name": "python",
   "nbconvert_exporter": "python",
   "pygments_lexer": "ipython3",
   "version": "3.11.7"
  }
 },
 "nbformat": 4,
 "nbformat_minor": 5
}
