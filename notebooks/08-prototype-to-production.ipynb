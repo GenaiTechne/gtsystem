{
 "cells": [
  {
   "cell_type": "code",
   "execution_count": 1,
   "id": "5b0c20de-2122-45be-9919-a0ada36b8f91",
   "metadata": {},
   "outputs": [],
   "source": [
    "import os\n",
    "import sys\n",
    "import importlib.util\n",
    "\n",
    "is_installed = importlib.util.find_spec(\"gtsystem\")\n",
    "if not is_installed:\n",
    "    print ('Not using PyPi')\n",
    "    module_path = \"..\"\n",
    "    sys.path.append(os.path.abspath(module_path))\n",
    "else:\n",
    "    print ('Loaded gtsystem')\n",
    "\n",
    "from gtsystem import bedrock, ollama, openai, groq, instrument, benchmark, render, tasks"
   ]
  },
  {
   "cell_type": "code",
   "execution_count": 2,
   "id": "1ac0fa19-c4d4-4586-879a-70fb28cbdd77",
   "metadata": {},
   "outputs": [],
   "source": [
    "tasks.load('../data/openai-examples-21.xlsx')"
   ]
  },
  {
   "cell_type": "code",
   "execution_count": 3,
   "id": "26c98606-4466-4fdb-ab67-c9d03ea22209",
   "metadata": {},
   "outputs": [],
   "source": [
    "task = tasks.get('Keywords')"
   ]
  },
  {
   "cell_type": "code",
   "execution_count": 4,
   "id": "36d622bc-2b22-40da-98e3-9d103dac23f7",
   "metadata": {},
   "outputs": [
    {
     "data": {
      "text/markdown": [
       "Here are the potential keywords I extracted from the given text:\n",
       "\n",
       "1. Black-on-black ware\n",
       "2. Pottery tradition\n",
       "3. Puebloan Native American\n",
       "4. Ceramic artists\n",
       "5. Northern New Mexico\n",
       "6. Reduction-fired blackware\n",
       "7. Pueblo artists\n",
       "8. Burnishing\n",
       "9. Refractory slip\n",
       "10. Carving\n",
       "11. Incising\n",
       "12. Polishing\n",
       "13. Kha'po Owingeh\n",
       "14. P'ohwhóge Owingeh\n",
       "15. Pueblos\n",
       "16. Matriarch potters\n",
       "17. Contemporary artists\n",
       "18. Ancestors"
      ],
      "text/plain": [
       "<IPython.core.display.Markdown object>"
      ]
     },
     "metadata": {},
     "output_type": "display_data"
    }
   ],
   "source": [
    "render.md(bedrock.sonnet_text(*task))"
   ]
  },
  {
   "cell_type": "code",
   "execution_count": 5,
   "id": "caa3cf9f-e1b5-468b-a97e-9f466a40d5ef",
   "metadata": {},
   "outputs": [
    {
     "data": {
      "text/markdown": [
       " * Black-on-black ware\n",
       "* 20th- and 21st-century pottery tradition\n",
       "* Puebloan Native American ceramic artists\n",
       "* Northern New Mexico\n",
       "* Traditional reduction-fired blackware\n",
       "* Generations\n",
       "* Kha'po Owingeh and P'ohwhóge Owingeh pueblos\n",
       "* Techniques\n",
       "* Matriarch potters\n",
       "* Contemporary artists\n",
       "* Ancestors\n",
       "* Reduction-fired\n",
       "* Blackware\n",
       "* Smooth surface\n",
       "* Designs\n",
       "* Selective burnishing\n",
       "* Refractory slip\n",
       "* Carving or incising designs\n",
       "* Polishing\n",
       "* Raised areas."
      ],
      "text/plain": [
       "<IPython.core.display.Markdown object>"
      ]
     },
     "metadata": {},
     "output_type": "display_data"
    }
   ],
   "source": [
    "mistral_result = ollama.mistral_text(*task)\n",
    "render.md(mistral_result)"
   ]
  },
  {
   "cell_type": "code",
   "execution_count": 6,
   "id": "43c0cd19-9b77-4806-9a7a-f4f09fbf29b5",
   "metadata": {},
   "outputs": [
    {
     "data": {
      "text/plain": [
       "'95.00'"
      ]
     },
     "execution_count": 6,
     "metadata": {},
     "output_type": "execute_result"
    }
   ],
   "source": [
    "benchmark.accuracy(task[0], task[1], result=mistral_result)"
   ]
  },
  {
   "cell_type": "code",
   "execution_count": 7,
   "id": "4e0c9135-86e8-46ca-9e23-dc72e14a1812",
   "metadata": {},
   "outputs": [
    {
     "data": {
      "text/markdown": [
       "Here is a list of keywords that can be extracted from the provided text:\n",
       "\n",
       "1. Black-on-black ware\n",
       "2. Puebloan Native American ceramic artists\n",
       "3. Northern New Mexico\n",
       "4. Reduction-fired blackware\n",
       "5. Smooth surface\n",
       "6. Selective burnishing\n",
       "7. Refractory slip\n",
       "8. Carving\n",
       "9. Incising\n",
       "10. Polishing\n",
       "11. Kha'po Owingeh\n",
       "12. P'ohwhóge Owingeh\n",
       "13. Matriarch potters\n",
       "14. Other pueblos\n",
       "15. Contemporary artists\n",
       "16. Ancestors\n",
       "\n",
       "Please let me know if you need any further assistance."
      ],
      "text/plain": [
       "<IPython.core.display.Markdown object>"
      ]
     },
     "metadata": {},
     "output_type": "display_data"
    }
   ],
   "source": [
    "llama_result = bedrock.llama2_text(*task)\n",
    "render.md(llama_result)"
   ]
  },
  {
   "cell_type": "code",
   "execution_count": 8,
   "id": "271649a4-0916-4214-8041-65556350fe75",
   "metadata": {},
   "outputs": [
    {
     "data": {
      "text/plain": [
       "'80.00'"
      ]
     },
     "execution_count": 8,
     "metadata": {},
     "output_type": "execute_result"
    }
   ],
   "source": [
    "benchmark.accuracy(task[0], task[1], result=llama_result)"
   ]
  },
  {
   "cell_type": "code",
   "execution_count": 9,
   "id": "cfcd989b-bc65-43c9-850b-c32dcecea6d7",
   "metadata": {},
   "outputs": [
    {
     "data": {
      "text/markdown": [
       "* Black-on-black ware\n",
       "* Pottery\n",
       "* Puebloan Native American\n",
       "* Northern New Mexico\n",
       "* Reduction-fired blackware\n",
       "* Pottery tradition\n",
       "* Smooth surface\n",
       "* Designs\n",
       "* Selective burnishing\n",
       "* Refractory slip\n",
       "* Carving\n",
       "* Incising\n",
       "* Polishing\n",
       "* Matriarch potters\n",
       "* Contemporary artists\n",
       "* Ancestors\n",
       "\n",
       "This list of keywords is centered around the topic of Black-on-black ware, a pottery tradition developed by Puebloan Native American ceramic artists in Northern New Mexico. The tradition involves various techniques such as reduction-firing, burnishing, and the application of refractory slip. The tradition has been passed down through matriarchal potters from specific pueblos, and contemporary artists continue to create works honoring their ancestors' pottery."
      ],
      "text/plain": [
       "<IPython.core.display.Markdown object>"
      ]
     },
     "metadata": {},
     "output_type": "display_data"
    }
   ],
   "source": [
    "groq_result = groq.text(*task)\n",
    "render.md(groq_result)"
   ]
  },
  {
   "cell_type": "code",
   "execution_count": 10,
   "id": "22740317-9f2e-4afd-8049-1982d41dfe44",
   "metadata": {},
   "outputs": [
    {
     "data": {
      "text/plain": [
       "'95.00'"
      ]
     },
     "execution_count": 10,
     "metadata": {},
     "output_type": "execute_result"
    }
   ],
   "source": [
    "benchmark.accuracy(task[0], task[1], result=groq_result)"
   ]
  },
  {
   "cell_type": "code",
   "execution_count": 11,
   "id": "5334b99d-2cf2-41ca-bd4e-6b3f3c11479e",
   "metadata": {},
   "outputs": [
    {
     "data": {
      "text/markdown": [
       "| Model | Calls | Total Time | Total Return Size | Average Time | Average Size |\n",
       "|-------|-------|------------|-------------------|--------------|--------------|\n",
       "| gtsystem.bedrock.sonnet_text | 4 | 10.42 | 647.00 | 2.60 | 161.75 |\n",
       "| gtsystem.bedrock.llama2_text | 1 | 3.88 | 539.00 | 3.88 | 539.00 |\n",
       "| gtsystem.ollama.mistral_text | 1 | 3.89 | 528.00 | 3.89 | 528.00 |\n",
       "| gtsystem.groq.text | 1 | 4.30 | 798.00 | 4.30 | 798.00 |\n"
      ],
      "text/plain": [
       "<IPython.core.display.Markdown object>"
      ]
     },
     "metadata": {},
     "output_type": "display_data"
    }
   ],
   "source": [
    "render.md(instrument.metrics.stats())"
   ]
  }
 ],
 "metadata": {
  "kernelspec": {
   "display_name": "Python 3 (ipykernel)",
   "language": "python",
   "name": "python3"
  },
  "language_info": {
   "codemirror_mode": {
    "name": "ipython",
    "version": 3
   },
   "file_extension": ".py",
   "mimetype": "text/x-python",
   "name": "python",
   "nbconvert_exporter": "python",
   "pygments_lexer": "ipython3",
   "version": "3.11.7"
  }
 },
 "nbformat": 4,
 "nbformat_minor": 5
}
