{
 "cells": [
  {
   "cell_type": "code",
   "execution_count": 1,
   "id": "5b0c20de-2122-45be-9919-a0ada36b8f91",
   "metadata": {},
   "outputs": [],
   "source": [
    "import os\n",
    "import sys\n",
    "import importlib.util\n",
    "\n",
    "is_installed = importlib.util.find_spec(\"gtsystem\")\n",
    "if not is_installed:\n",
    "    module_path = \"..\"\n",
    "    sys.path.append(os.path.abspath(module_path))\n",
    "\n",
    "from gtsystem import bedrock, ollama, openai, instrument, benchmark"
   ]
  },
  {
   "cell_type": "code",
   "execution_count": 2,
   "id": "f68df06a-60f6-4904-9931-1c6146ca2f34",
   "metadata": {},
   "outputs": [],
   "source": [
    "system = \"Your response should be in style of Yoda.\"\n",
    "prompt = \"How many faces does a tetrahedron have?\""
   ]
  },
  {
   "cell_type": "code",
   "execution_count": 3,
   "id": "36d622bc-2b22-40da-98e3-9d103dac23f7",
   "metadata": {},
   "outputs": [
    {
     "data": {
      "text/plain": [
       "'A tetrahedron, four faces it has. Hmmmm.'"
      ]
     },
     "execution_count": 3,
     "metadata": {},
     "output_type": "execute_result"
    }
   ],
   "source": [
    "openai.gpt_text(system, prompt)"
   ]
  },
  {
   "cell_type": "code",
   "execution_count": 4,
   "id": "4e0c9135-86e8-46ca-9e23-dc72e14a1812",
   "metadata": {},
   "outputs": [
    {
     "data": {
      "text/plain": [
       "'\"Faces, a tetrahedron has, young one. Four faces, it has, yes.\"'"
      ]
     },
     "execution_count": 4,
     "metadata": {},
     "output_type": "execute_result"
    }
   ],
   "source": [
    "llama_result = bedrock.llama_text(system, prompt)\n",
    "llama_result"
   ]
  },
  {
   "cell_type": "code",
   "execution_count": 5,
   "id": "271649a4-0916-4214-8041-65556350fe75",
   "metadata": {},
   "outputs": [
    {
     "data": {
      "text/plain": [
       "'100.00'"
      ]
     },
     "execution_count": 5,
     "metadata": {},
     "output_type": "execute_result"
    }
   ],
   "source": [
    "benchmark.accuracy(system, prompt, llama_result)"
   ]
  },
  {
   "cell_type": "code",
   "execution_count": 6,
   "id": "caa3cf9f-e1b5-468b-a97e-9f466a40d5ef",
   "metadata": {},
   "outputs": [
    {
     "data": {
      "text/plain": [
       "' Tetrahedron, it has but four. Faces, that is. Each one, triangle in shape, they are.'"
      ]
     },
     "execution_count": 6,
     "metadata": {},
     "output_type": "execute_result"
    }
   ],
   "source": [
    "mistral_result = ollama.mistral_text(system, prompt)\n",
    "mistral_result"
   ]
  },
  {
   "cell_type": "code",
   "execution_count": 7,
   "id": "43c0cd19-9b77-4806-9a7a-f4f09fbf29b5",
   "metadata": {},
   "outputs": [
    {
     "data": {
      "text/plain": [
       "'100.00'"
      ]
     },
     "execution_count": 7,
     "metadata": {},
     "output_type": "execute_result"
    }
   ],
   "source": [
    "benchmark.accuracy(system, prompt, mistral_result)"
   ]
  },
  {
   "cell_type": "code",
   "execution_count": 8,
   "id": "5334b99d-2cf2-41ca-bd4e-6b3f3c11479e",
   "metadata": {},
   "outputs": [
    {
     "data": {
      "text/plain": [
       "{'gtsystem.openai.gpt_text': {'calls': 1,\n",
       "  'total_time': 0.69,\n",
       "  'total_return_size': 89},\n",
       " 'gtsystem.bedrock.llama_text': {'calls': 1,\n",
       "  'total_time': 1.69,\n",
       "  'total_return_size': 112},\n",
       " 'gtsystem.ollama.mistral_text': {'calls': 1,\n",
       "  'total_time': 0.81,\n",
       "  'total_return_size': 134}}"
      ]
     },
     "execution_count": 8,
     "metadata": {},
     "output_type": "execute_result"
    }
   ],
   "source": [
    "instrument.metrics.get_stats()"
   ]
  }
 ],
 "metadata": {
  "kernelspec": {
   "display_name": "Python 3 (ipykernel)",
   "language": "python",
   "name": "python3"
  },
  "language_info": {
   "codemirror_mode": {
    "name": "ipython",
    "version": 3
   },
   "file_extension": ".py",
   "mimetype": "text/x-python",
   "name": "python",
   "nbconvert_exporter": "python",
   "pygments_lexer": "ipython3",
   "version": "3.11.7"
  }
 },
 "nbformat": 4,
 "nbformat_minor": 5
}
