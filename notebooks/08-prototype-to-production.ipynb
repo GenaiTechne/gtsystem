{
 "cells": [
  {
   "cell_type": "code",
   "execution_count": 1,
   "id": "5b0c20de-2122-45be-9919-a0ada36b8f91",
   "metadata": {},
   "outputs": [],
   "source": [
    "import sys\n",
    "import os\n",
    "\n",
    "module_path = os.path.abspath(\"..\")\n",
    "if module_path not in sys.path:\n",
    "    sys.path.insert(0, module_path)\n",
    "\n",
    "from gtsystem import bedrock, ollama, openai, groq, instrument, benchmark, render, tasks"
   ]
  },
  {
   "cell_type": "code",
   "execution_count": 2,
   "id": "1ac0fa19-c4d4-4586-879a-70fb28cbdd77",
   "metadata": {},
   "outputs": [],
   "source": [
    "tasks.load('../data/openai-examples-21.xlsx')"
   ]
  },
  {
   "cell_type": "code",
   "execution_count": 3,
   "id": "26c98606-4466-4fdb-ab67-c9d03ea22209",
   "metadata": {},
   "outputs": [],
   "source": [
    "task = tasks.get('Keywords')"
   ]
  },
  {
   "cell_type": "code",
   "execution_count": 4,
   "id": "36d622bc-2b22-40da-98e3-9d103dac23f7",
   "metadata": {},
   "outputs": [
    {
     "data": {
      "text/markdown": [
       "Here are the keywords I extracted from the given text:\n",
       "\n",
       "- Black-on-black ware\n",
       "- 20th-century\n",
       "- 21st-century\n",
       "- Pottery tradition\n",
       "- Puebloan Native American\n",
       "- Ceramic artists\n",
       "- Northern New Mexico\n",
       "- Reduction-fired blackware\n",
       "- Pueblo artists\n",
       "- Burnishing\n",
       "- Refractory slip\n",
       "- Carving\n",
       "- Incising\n",
       "- Polishing\n",
       "- Kha'po Owingeh\n",
       "- P'ohwhóge Owingeh pueblos\n",
       "- Matriarch potters\n",
       "- Contemporary artists\n",
       "- Ancestors"
      ],
      "text/plain": [
       "<IPython.core.display.Markdown object>"
      ]
     },
     "metadata": {},
     "output_type": "display_data"
    }
   ],
   "source": [
    "render.md(bedrock.sonnet_text(*task))"
   ]
  },
  {
   "cell_type": "code",
   "execution_count": 5,
   "id": "caa3cf9f-e1b5-468b-a97e-9f466a40d5ef",
   "metadata": {},
   "outputs": [
    {
     "data": {
      "text/markdown": [
       " 1. Black-on-black ware\n",
       "2. 20th- and 21st-century pottery tradition\n",
       "3. Puebloan Native American ceramic artists\n",
       "4. Northern New Mexico\n",
       "5. Traditional reduction-fired blackware\n",
       "6. Smooth surface\n",
       "7. Selective burnishing\n",
       "8. Refractory slip\n",
       "9. Carving or incising designs\n",
       "10. Generations\n",
       "11. Kha'po Owingeh and P'ohwhóge Owingeh pueblos\n",
       "12. Matriarch potters\n",
       "13. Contemporary artists\n",
       "14. Ancestors\n",
       "15. Reduction-fired\n",
       "16. Pottery\n",
       "17. Blackware\n",
       "18. Techniques\n",
       "19. Designs\n",
       "20. Polishing\n",
       "21. Raised areas\n",
       "22. Pueblos\n",
       "23. Honoring\n",
       "24. Ancestors' pottery\n",
       "25. Centuries\n",
       "26. Families\n",
       "27. Passed down\n",
       "28. Artists\n",
       "29. Other pueblos\n",
       "30. Contemporary works"
      ],
      "text/plain": [
       "<IPython.core.display.Markdown object>"
      ]
     },
     "metadata": {},
     "output_type": "display_data"
    }
   ],
   "source": [
    "mistral_result = ollama.mistral_text(*task)\n",
    "render.md(mistral_result)"
   ]
  },
  {
   "cell_type": "code",
   "execution_count": 6,
   "id": "43c0cd19-9b77-4806-9a7a-f4f09fbf29b5",
   "metadata": {},
   "outputs": [
    {
     "data": {
      "text/plain": [
       "'95.00'"
      ]
     },
     "execution_count": 6,
     "metadata": {},
     "output_type": "execute_result"
    }
   ],
   "source": [
    "benchmark.accuracy(task[0], task[1], result=mistral_result)"
   ]
  },
  {
   "cell_type": "code",
   "execution_count": 7,
   "id": "4e0c9135-86e8-46ca-9e23-dc72e14a1812",
   "metadata": {},
   "outputs": [
    {
     "data": {
      "text/markdown": [
       "Here is a list of keywords that can be extracted from the given text:\n",
       "\n",
       "1. Black-on-black ware\n",
       "2. Puebloan Native American\n",
       "3. Ceramic artists\n",
       "4. Northern New Mexico\n",
       "5. Reduction-fired blackware\n",
       "6. Smooth surface\n",
       "7. Selective burnishing\n",
       "8. Refractory slip\n",
       "9. Carving\n",
       "10. Incised designs\n",
       "11. Polishing\n",
       "12. Kha'po Owingeh\n",
       "13. P'ohwhóge Owingeh\n",
       "14. Matriarch potters\n",
       "15. Other pueblos\n",
       "16. Contemporary artists\n",
       "17. Ancestors\n",
       "\n",
       "These keywords can be useful for searching related information, creating tags or categories, or summarizing the content of the text."
      ],
      "text/plain": [
       "<IPython.core.display.Markdown object>"
      ]
     },
     "metadata": {},
     "output_type": "display_data"
    }
   ],
   "source": [
    "llama_result = bedrock.llama2_text(*task)\n",
    "render.md(llama_result)"
   ]
  },
  {
   "cell_type": "code",
   "execution_count": 8,
   "id": "271649a4-0916-4214-8041-65556350fe75",
   "metadata": {},
   "outputs": [
    {
     "data": {
      "text/plain": [
       "'20.00'"
      ]
     },
     "execution_count": 8,
     "metadata": {},
     "output_type": "execute_result"
    }
   ],
   "source": [
    "benchmark.accuracy(task[0], task[1], result=llama_result)"
   ]
  },
  {
   "cell_type": "code",
   "execution_count": 9,
   "id": "cfcd989b-bc65-43c9-850b-c32dcecea6d7",
   "metadata": {},
   "outputs": [
    {
     "data": {
      "text/markdown": [
       "* Black-on-black ware\n",
       "* Pottery tradition\n",
       "* Puebloan Native American\n",
       "* Ceramic artists\n",
       "* Northern New Mexico\n",
       "* Reduction-fired blackware\n",
       "* Pueblo artists\n",
       "* Smooth surface\n",
       "* Selective burnishing\n",
       "* Refractory slip\n",
       "* Carving\n",
       "* Incising designs\n",
       "* Polishing\n",
       "* Kha'po Owingeh\n",
       "* P'ohwhóge Owingeh pueblos\n",
       "* Matriarch potters\n",
       "* Contemporary artists\n",
       "* Ancestors\n",
       "* Pottery\n",
       "* Blackware\n",
       "* Generations\n",
       "* Families\n",
       "* Techniques"
      ],
      "text/plain": [
       "<IPython.core.display.Markdown object>"
      ]
     },
     "metadata": {},
     "output_type": "display_data"
    }
   ],
   "source": [
    "groq_result = groq.text(*task)\n",
    "render.md(groq_result)"
   ]
  },
  {
   "cell_type": "code",
   "execution_count": 10,
   "id": "22740317-9f2e-4afd-8049-1982d41dfe44",
   "metadata": {},
   "outputs": [
    {
     "data": {
      "text/plain": [
       "'95.00'"
      ]
     },
     "execution_count": 10,
     "metadata": {},
     "output_type": "execute_result"
    }
   ],
   "source": [
    "benchmark.accuracy(task[0], task[1], result=groq_result)"
   ]
  },
  {
   "cell_type": "code",
   "execution_count": 11,
   "id": "5334b99d-2cf2-41ca-bd4e-6b3f3c11479e",
   "metadata": {},
   "outputs": [
    {
     "data": {
      "text/markdown": [
       "| Model | Calls | Total Time | Total Return Size | Average Time | Average Size |\n",
       "|-------|-------|------------|-------------------|--------------|--------------|\n",
       "| gtsystem.groq.text | 1 | 0.83 | 485.00 | 0.83 | 485.00 |\n",
       "| gtsystem.bedrock.sonnet_text | 4 | 5.60 | 638.00 | 1.40 | 159.50 |\n",
       "| gtsystem.bedrock.llama2_text | 1 | 5.31 | 625.00 | 5.31 | 625.00 |\n",
       "| gtsystem.ollama.mistral_text | 1 | 11.63 | 714.00 | 11.63 | 714.00 |\n"
      ],
      "text/plain": [
       "<IPython.core.display.Markdown object>"
      ]
     },
     "metadata": {},
     "output_type": "display_data"
    }
   ],
   "source": [
    "render.md(instrument.metrics.stats())"
   ]
  }
 ],
 "metadata": {
  "kernelspec": {
   "display_name": "Python 3 (ipykernel)",
   "language": "python",
   "name": "python3"
  },
  "language_info": {
   "codemirror_mode": {
    "name": "ipython",
    "version": 3
   },
   "file_extension": ".py",
   "mimetype": "text/x-python",
   "name": "python",
   "nbconvert_exporter": "python",
   "pygments_lexer": "ipython3",
   "version": "3.11.7"
  }
 },
 "nbformat": 4,
 "nbformat_minor": 5
}
