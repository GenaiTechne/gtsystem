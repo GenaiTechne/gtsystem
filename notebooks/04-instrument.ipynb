{
 "cells": [
  {
   "cell_type": "code",
   "execution_count": 1,
   "id": "b98d3e38-543f-446c-a88a-57945bfc1d2b",
   "metadata": {},
   "outputs": [],
   "source": [
    "import os\n",
    "import sys\n",
    "import importlib.util\n",
    "\n",
    "is_installed = importlib.util.find_spec(\"gtsystem\")\n",
    "if not is_installed:\n",
    "    module_path = \"..\"\n",
    "    sys.path.append(os.path.abspath(module_path))\n",
    "\n",
    "from gtsystem import openai, bedrock, render, tasks, instrument"
   ]
  },
  {
   "cell_type": "code",
   "execution_count": 2,
   "id": "ba481a77-1403-46b3-9bbf-ac58036f42c2",
   "metadata": {},
   "outputs": [],
   "source": [
    "tasks.load('../data/openai-examples-21.xlsx')"
   ]
  },
  {
   "cell_type": "code",
   "execution_count": 3,
   "id": "2645ec31-c96c-4704-aaa2-689aee1bcf37",
   "metadata": {},
   "outputs": [
    {
     "data": {
      "text/html": [
       "<style type=\"text/css\">\n",
       "#T_c6b20 th {\n",
       "  font-size: 10pt;\n",
       "  text-align: left;\n",
       "}\n",
       "#T_c6b20 td {\n",
       "  text-align: left;\n",
       "  word-wrap: break-word;\n",
       "  overflow: hidden;\n",
       "  text-overflow: ellipsis;\n",
       "}\n",
       "#T_c6b20 .index_name {\n",
       "  display: none;\n",
       "}\n",
       "#T_c6b20 .row_heading {\n",
       "  display: none;\n",
       "}\n",
       "#T_c6b20  .blank {\n",
       "  display: none;\n",
       "}\n",
       "</style>\n",
       "<table id=\"T_c6b20\">\n",
       "  <thead>\n",
       "    <tr>\n",
       "      <th class=\"blank level0\" >&nbsp;</th>\n",
       "      <th id=\"T_c6b20_level0_col0\" class=\"col_heading level0 col0\" >Task</th>\n",
       "      <th id=\"T_c6b20_level0_col1\" class=\"col_heading level0 col1\" >Task Types</th>\n",
       "      <th id=\"T_c6b20_level0_col2\" class=\"col_heading level0 col2\" >System</th>\n",
       "      <th id=\"T_c6b20_level0_col3\" class=\"col_heading level0 col3\" >Prompt</th>\n",
       "      <th id=\"T_c6b20_level0_col4\" class=\"col_heading level0 col4\" >Temperature</th>\n",
       "      <th id=\"T_c6b20_level0_col5\" class=\"col_heading level0 col5\" >TopP</th>\n",
       "      <th id=\"T_c6b20_level0_col6\" class=\"col_heading level0 col6\" >Source</th>\n",
       "    </tr>\n",
       "  </thead>\n",
       "  <tbody>\n",
       "    <tr>\n",
       "      <th id=\"T_c6b20_level0_row0\" class=\"row_heading level0 row0\" >14</th>\n",
       "      <td id=\"T_c6b20_row0_col0\" class=\"data row0 col0\" >Turn by turn directions</td>\n",
       "      <td id=\"T_c6b20_row0_col1\" class=\"data row0 col1\" >Transform; Natural Language</td>\n",
       "      <td id=\"T_c6b20_row0_col2\" class=\"data row0 col2\" >You will be provided with a text, and your task is to create a numbered list of turn-by-turn directions from it.</td>\n",
       "      <td id=\"T_c6b20_row0_col3\" class=\"data row0 col3\" >Go south on 95 until you hit Sunrise boulevard then take it east to us 1 and head south. Tom Jenkins bbq will be on the left after several miles.</td>\n",
       "      <td id=\"T_c6b20_row0_col4\" class=\"data row0 col4\" >0.300000</td>\n",
       "      <td id=\"T_c6b20_row0_col5\" class=\"data row0 col5\" >1</td>\n",
       "      <td id=\"T_c6b20_row0_col6\" class=\"data row0 col6\" >OpenAI Examples</td>\n",
       "    </tr>\n",
       "  </tbody>\n",
       "</table>\n"
      ],
      "text/plain": [
       "<pandas.io.formats.style.Styler at 0x1777cb890>"
      ]
     },
     "execution_count": 3,
     "metadata": {},
     "output_type": "execute_result"
    }
   ],
   "source": [
    "render.df(tasks.find('directions'))"
   ]
  },
  {
   "cell_type": "code",
   "execution_count": 4,
   "id": "acd99c42-56fd-45b6-b602-42fb9b0d4f75",
   "metadata": {},
   "outputs": [],
   "source": [
    "task = tasks.get('Turn by turn directions')"
   ]
  },
  {
   "cell_type": "code",
   "execution_count": 5,
   "id": "212901e2-2df9-44ef-9e2d-2a7623725aab",
   "metadata": {},
   "outputs": [
    {
     "data": {
      "text/markdown": [
       "1. Start by going south on 95.\n",
       "2. Continue on 95 until you reach Sunrise Boulevard.\n",
       "3. Take a right onto Sunrise Boulevard and head east.\n",
       "4. Follow Sunrise Boulevard until you reach US 1.\n",
       "5. Take a left onto US 1 and head south.\n",
       "6. After driving several miles on US 1, you will find Tom Jenkins BBQ on your left."
      ],
      "text/plain": [
       "<IPython.core.display.Markdown object>"
      ]
     },
     "metadata": {},
     "output_type": "display_data"
    }
   ],
   "source": [
    "render.md(openai.gpt_text(*task))"
   ]
  },
  {
   "cell_type": "code",
   "execution_count": 6,
   "id": "33dee4e8-014c-4c43-9df5-041c826cb91b",
   "metadata": {},
   "outputs": [
    {
     "data": {
      "text/markdown": [
       "1. Go south on 95.\n",
       "2. Continue on 95 until you reach Sunrise Boulevard.\n",
       "3. Turn east onto Sunrise Boulevard.\n",
       "4. Follow Sunrise Boulevard until you reach US-1.\n",
       "5. Turn south onto US-1.\n",
       "6. Continue on US-1 for several miles.\n",
       "7. Tom Jenkins BBQ will be on the left."
      ],
      "text/plain": [
       "<IPython.core.display.Markdown object>"
      ]
     },
     "metadata": {},
     "output_type": "display_data"
    }
   ],
   "source": [
    "render.md(bedrock.llama_text(*task))"
   ]
  },
  {
   "cell_type": "code",
   "execution_count": 7,
   "id": "1be524a6-0f45-4129-a6e3-0f7745a051d3",
   "metadata": {},
   "outputs": [
    {
     "data": {
      "text/markdown": [
       "Here are the turn-by-turn directions I created from that text:\n",
       "\n",
       "1. Go south on 95\n",
       "2. Take Sunrise boulevard east when you hit it\n",
       "3. Head south on us 1 when you reach it \n",
       "4. After several miles, Tom Jenkins bbq will be on the left"
      ],
      "text/plain": [
       "<IPython.core.display.Markdown object>"
      ]
     },
     "metadata": {},
     "output_type": "display_data"
    }
   ],
   "source": [
    "render.md(bedrock.claude_text(*task))"
   ]
  },
  {
   "cell_type": "code",
   "execution_count": 8,
   "id": "7ec6c334-d1f9-4e29-99ea-900a53c564af",
   "metadata": {},
   "outputs": [
    {
     "data": {
      "text/plain": [
       "{'gpt_text': {'calls': 1, 'total_time': 1.82, 'total_return_size': 361},\n",
       " 'llama_text': {'calls': 1, 'total_time': 5.34, 'total_return_size': 311},\n",
       " 'claude_text': {'calls': 1, 'total_time': 6.75, 'total_return_size': 278}}"
      ]
     },
     "execution_count": 8,
     "metadata": {},
     "output_type": "execute_result"
    }
   ],
   "source": [
    "instrument.instrument.get_stats()"
   ]
  }
 ],
 "metadata": {
  "kernelspec": {
   "display_name": "Python 3 (ipykernel)",
   "language": "python",
   "name": "python3"
  },
  "language_info": {
   "codemirror_mode": {
    "name": "ipython",
    "version": 3
   },
   "file_extension": ".py",
   "mimetype": "text/x-python",
   "name": "python",
   "nbconvert_exporter": "python",
   "pygments_lexer": "ipython3",
   "version": "3.11.7"
  }
 },
 "nbformat": 4,
 "nbformat_minor": 5
}
