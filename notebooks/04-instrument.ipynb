{
 "cells": [
  {
   "cell_type": "code",
   "execution_count": 11,
   "id": "b98d3e38-543f-446c-a88a-57945bfc1d2b",
   "metadata": {},
   "outputs": [],
   "source": [
    "import os\n",
    "import sys\n",
    "import importlib.util\n",
    "\n",
    "is_installed = importlib.util.find_spec(\"gtsystem\")\n",
    "if not is_installed:\n",
    "    module_path = \"..\"\n",
    "    sys.path.append(os.path.abspath(module_path))\n",
    "\n",
    "from gtsystem import openai, bedrock, ollama, render, tasks, instrument"
   ]
  },
  {
   "cell_type": "code",
   "execution_count": 12,
   "id": "ba481a77-1403-46b3-9bbf-ac58036f42c2",
   "metadata": {},
   "outputs": [],
   "source": [
    "tasks.load('../data/openai-examples-21.xlsx')"
   ]
  },
  {
   "cell_type": "code",
   "execution_count": 13,
   "id": "2645ec31-c96c-4704-aaa2-689aee1bcf37",
   "metadata": {},
   "outputs": [
    {
     "data": {
      "text/html": [
       "<style type=\"text/css\">\n",
       "#T_dab79 th {\n",
       "  font-size: 10pt;\n",
       "  text-align: left;\n",
       "}\n",
       "#T_dab79 td {\n",
       "  text-align: left;\n",
       "  word-wrap: break-word;\n",
       "  overflow: hidden;\n",
       "  text-overflow: ellipsis;\n",
       "}\n",
       "#T_dab79 .index_name {\n",
       "  display: none;\n",
       "}\n",
       "#T_dab79 .row_heading {\n",
       "  display: none;\n",
       "}\n",
       "#T_dab79  .blank {\n",
       "  display: none;\n",
       "}\n",
       "</style>\n",
       "<table id=\"T_dab79\">\n",
       "  <thead>\n",
       "    <tr>\n",
       "      <th class=\"blank level0\" >&nbsp;</th>\n",
       "      <th id=\"T_dab79_level0_col0\" class=\"col_heading level0 col0\" >Task</th>\n",
       "      <th id=\"T_dab79_level0_col1\" class=\"col_heading level0 col1\" >Task Types</th>\n",
       "      <th id=\"T_dab79_level0_col2\" class=\"col_heading level0 col2\" >System</th>\n",
       "      <th id=\"T_dab79_level0_col3\" class=\"col_heading level0 col3\" >Prompt</th>\n",
       "      <th id=\"T_dab79_level0_col4\" class=\"col_heading level0 col4\" >Temperature</th>\n",
       "      <th id=\"T_dab79_level0_col5\" class=\"col_heading level0 col5\" >TopP</th>\n",
       "      <th id=\"T_dab79_level0_col6\" class=\"col_heading level0 col6\" >Source</th>\n",
       "    </tr>\n",
       "  </thead>\n",
       "  <tbody>\n",
       "    <tr>\n",
       "      <th id=\"T_dab79_level0_row0\" class=\"row_heading level0 row0\" >14</th>\n",
       "      <td id=\"T_dab79_row0_col0\" class=\"data row0 col0\" >Turn by turn directions</td>\n",
       "      <td id=\"T_dab79_row0_col1\" class=\"data row0 col1\" >Transform; Natural Language</td>\n",
       "      <td id=\"T_dab79_row0_col2\" class=\"data row0 col2\" >You will be provided with a text, and your task is to create a numbered list of turn-by-turn directions from it.</td>\n",
       "      <td id=\"T_dab79_row0_col3\" class=\"data row0 col3\" >Go south on 95 until you hit Sunrise boulevard then take it east to us 1 and head south. Tom Jenkins bbq will be on the left after several miles.</td>\n",
       "      <td id=\"T_dab79_row0_col4\" class=\"data row0 col4\" >0.300000</td>\n",
       "      <td id=\"T_dab79_row0_col5\" class=\"data row0 col5\" >1</td>\n",
       "      <td id=\"T_dab79_row0_col6\" class=\"data row0 col6\" >OpenAI Examples</td>\n",
       "    </tr>\n",
       "  </tbody>\n",
       "</table>\n"
      ],
      "text/plain": [
       "<pandas.io.formats.style.Styler at 0x2989825d0>"
      ]
     },
     "execution_count": 13,
     "metadata": {},
     "output_type": "execute_result"
    }
   ],
   "source": [
    "render.df(tasks.find('directions'))"
   ]
  },
  {
   "cell_type": "code",
   "execution_count": 14,
   "id": "acd99c42-56fd-45b6-b602-42fb9b0d4f75",
   "metadata": {},
   "outputs": [],
   "source": [
    "task = tasks.get('Turn by turn directions')"
   ]
  },
  {
   "cell_type": "code",
   "execution_count": 15,
   "id": "212901e2-2df9-44ef-9e2d-2a7623725aab",
   "metadata": {},
   "outputs": [
    {
     "data": {
      "text/markdown": [
       "1. Head south on 95.\n",
       "2. Continue on 95 until you reach Sunrise Boulevard.\n",
       "3. Turn right onto Sunrise Boulevard and head east.\n",
       "4. Continue on Sunrise Boulevard until you reach US 1.\n",
       "5. Turn left onto US 1 and head south.\n",
       "6. After several miles, Tom Jenkins BBQ will be on the left."
      ],
      "text/plain": [
       "<IPython.core.display.Markdown object>"
      ]
     },
     "metadata": {},
     "output_type": "display_data"
    }
   ],
   "source": [
    "render.md(openai.gpt_text(*task))"
   ]
  },
  {
   "cell_type": "code",
   "execution_count": 16,
   "id": "33dee4e8-014c-4c43-9df5-041c826cb91b",
   "metadata": {},
   "outputs": [
    {
     "data": {
      "text/markdown": [
       "Sure, here are the turn-by-turn directions based on your instructions:\n",
       "\n",
       "1. Go south on 95.\n",
       "2. Continue on 95 until you reach Sunrise Boulevard.\n",
       "3. Turn east onto Sunrise Boulevard.\n",
       "4. Follow Sunrise Boulevard until you reach US-1.\n",
       "5. Turn south onto US-1.\n",
       "6. Continue on US-1 for several miles.\n",
       "7. Tom Jenkins BBQ will be on the left.\n",
       "\n",
       "I hope this helps! Let me know if you have any other questions."
      ],
      "text/plain": [
       "<IPython.core.display.Markdown object>"
      ]
     },
     "metadata": {},
     "output_type": "display_data"
    }
   ],
   "source": [
    "render.md(bedrock.llama_text(*task))"
   ]
  },
  {
   "cell_type": "code",
   "execution_count": 17,
   "id": "1be524a6-0f45-4129-a6e3-0f7745a051d3",
   "metadata": {},
   "outputs": [
    {
     "data": {
      "text/markdown": [
       "Here are the turn-by-turn directions I created from that text:\n",
       "\n",
       "1. Go south on 95\n",
       "2. Turn east onto Sunrise boulevard \n",
       "3. Turn south onto us 1\n",
       "4. After several miles, Tom Jenkins bbq will be on the left"
      ],
      "text/plain": [
       "<IPython.core.display.Markdown object>"
      ]
     },
     "metadata": {},
     "output_type": "display_data"
    }
   ],
   "source": [
    "render.md(bedrock.claude_text(*task))"
   ]
  },
  {
   "cell_type": "code",
   "execution_count": 18,
   "id": "93902a42-29f9-4942-8f1f-4bdfe8dbaeed",
   "metadata": {},
   "outputs": [
    {
     "data": {
      "text/markdown": [
       "\n",
       "Here are the turn-by-turn directions based on the provided text:\n",
       "\n",
       "1. Go south on I-95 until you reach Sunrise Boulevard.\n",
       "2. Take Sunrise Boulevard east towards US-1.\n",
       "3. Head south on US-1 for several miles until Tom Jenkins BBQ is on your left."
      ],
      "text/plain": [
       "<IPython.core.display.Markdown object>"
      ]
     },
     "metadata": {},
     "output_type": "display_data"
    }
   ],
   "source": [
    "render.md(ollama.llama_text(*task))"
   ]
  },
  {
   "cell_type": "code",
   "execution_count": 19,
   "id": "a31c2f8d-b158-4c7a-b81a-6c9cddcd0908",
   "metadata": {},
   "outputs": [
    {
     "data": {
      "text/markdown": [
       " 1. Head south on 95.\n",
       "2. Continue until you reach Sunrise boulevard.\n",
       "3. Turn right (east) onto Sunrise boulevard.\n",
       "4. Proceed in this direction for several miles.\n",
       "5. Look out for Tom Jenkins BBQ on the left side of the road."
      ],
      "text/plain": [
       "<IPython.core.display.Markdown object>"
      ]
     },
     "metadata": {},
     "output_type": "display_data"
    }
   ],
   "source": [
    "render.md(ollama.mistral_text(*task))"
   ]
  },
  {
   "cell_type": "code",
   "execution_count": 20,
   "id": "7ec6c334-d1f9-4e29-99ea-900a53c564af",
   "metadata": {},
   "outputs": [
    {
     "data": {
      "text/markdown": [
       "| Model | Calls | Total Time | Total Return Size | Average Time | Average Size |\n",
       "|-------|-------|------------|-------------------|--------------|--------------|\n",
       "| gtsystem.openai.gpt_text | 2 | 2.97 | 663.00 | 1.49 | 331.50 |\n",
       "| gtsystem.ollama.llama_text | 2 | 4.28 | 598.00 | 2.14 | 299.00 |\n",
       "| gtsystem.ollama.mistral_text | 2 | 4.30 | 629.00 | 2.15 | 314.50 |\n",
       "| gtsystem.bedrock.llama_text | 2 | 11.11 | 759.00 | 5.55 | 379.50 |\n",
       "| gtsystem.bedrock.claude_text | 2 | 16.05 | 531.00 | 8.03 | 265.50 |\n"
      ],
      "text/plain": [
       "<IPython.core.display.Markdown object>"
      ]
     },
     "metadata": {},
     "output_type": "display_data"
    }
   ],
   "source": [
    "render.md(instrument.metrics.stats())"
   ]
  }
 ],
 "metadata": {
  "kernelspec": {
   "display_name": "Python 3 (ipykernel)",
   "language": "python",
   "name": "python3"
  },
  "language_info": {
   "codemirror_mode": {
    "name": "ipython",
    "version": 3
   },
   "file_extension": ".py",
   "mimetype": "text/x-python",
   "name": "python",
   "nbconvert_exporter": "python",
   "pygments_lexer": "ipython3",
   "version": "3.11.7"
  }
 },
 "nbformat": 4,
 "nbformat_minor": 5
}
