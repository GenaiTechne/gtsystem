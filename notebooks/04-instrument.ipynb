{
 "cells": [
  {
   "cell_type": "code",
   "execution_count": 1,
   "id": "b98d3e38-543f-446c-a88a-57945bfc1d2b",
   "metadata": {},
   "outputs": [],
   "source": [
    "import os\n",
    "import sys\n",
    "import importlib.util\n",
    "\n",
    "is_installed = importlib.util.find_spec(\"gtsystem\")\n",
    "if not is_installed:\n",
    "    print ('Not using PyPi')\n",
    "    module_path = \"..\"\n",
    "    sys.path.append(os.path.abspath(module_path))\n",
    "else:\n",
    "    print ('Loaded gtsystem')\n",
    "\n",
    "from gtsystem import openai, bedrock, anthropic, ollama, groq, render, tasks, instrument"
   ]
  },
  {
   "cell_type": "code",
   "execution_count": 2,
   "id": "ba481a77-1403-46b3-9bbf-ac58036f42c2",
   "metadata": {},
   "outputs": [],
   "source": [
    "tasks.load('../data/openai-examples-21.xlsx')"
   ]
  },
  {
   "cell_type": "code",
   "execution_count": 3,
   "id": "2645ec31-c96c-4704-aaa2-689aee1bcf37",
   "metadata": {},
   "outputs": [
    {
     "data": {
      "text/html": [
       "<style type=\"text/css\">\n",
       "#T_f1cdd th {\n",
       "  font-size: 10pt;\n",
       "  text-align: left;\n",
       "}\n",
       "#T_f1cdd td {\n",
       "  text-align: left;\n",
       "  word-wrap: break-word;\n",
       "  overflow: hidden;\n",
       "  text-overflow: ellipsis;\n",
       "}\n",
       "#T_f1cdd .index_name {\n",
       "  display: none;\n",
       "}\n",
       "#T_f1cdd .row_heading {\n",
       "  display: none;\n",
       "}\n",
       "#T_f1cdd  .blank {\n",
       "  display: none;\n",
       "}\n",
       "</style>\n",
       "<table id=\"T_f1cdd\">\n",
       "  <thead>\n",
       "    <tr>\n",
       "      <th class=\"blank level0\" >&nbsp;</th>\n",
       "      <th id=\"T_f1cdd_level0_col0\" class=\"col_heading level0 col0\" >Task</th>\n",
       "      <th id=\"T_f1cdd_level0_col1\" class=\"col_heading level0 col1\" >Task Types</th>\n",
       "      <th id=\"T_f1cdd_level0_col2\" class=\"col_heading level0 col2\" >System</th>\n",
       "      <th id=\"T_f1cdd_level0_col3\" class=\"col_heading level0 col3\" >Prompt</th>\n",
       "      <th id=\"T_f1cdd_level0_col4\" class=\"col_heading level0 col4\" >Temperature</th>\n",
       "      <th id=\"T_f1cdd_level0_col5\" class=\"col_heading level0 col5\" >TopP</th>\n",
       "      <th id=\"T_f1cdd_level0_col6\" class=\"col_heading level0 col6\" >Source</th>\n",
       "    </tr>\n",
       "  </thead>\n",
       "  <tbody>\n",
       "    <tr>\n",
       "      <th id=\"T_f1cdd_level0_row0\" class=\"row_heading level0 row0\" >14</th>\n",
       "      <td id=\"T_f1cdd_row0_col0\" class=\"data row0 col0\" >Turn by turn directions</td>\n",
       "      <td id=\"T_f1cdd_row0_col1\" class=\"data row0 col1\" >Transform; Natural Language</td>\n",
       "      <td id=\"T_f1cdd_row0_col2\" class=\"data row0 col2\" >You will be provided with a text, and your task is to create a numbered list of turn-by-turn directions from it.</td>\n",
       "      <td id=\"T_f1cdd_row0_col3\" class=\"data row0 col3\" >Go south on 95 until you hit Sunrise boulevard then take it east to us 1 and head south. Tom Jenkins bbq will be on the left after several miles.</td>\n",
       "      <td id=\"T_f1cdd_row0_col4\" class=\"data row0 col4\" >0.300000</td>\n",
       "      <td id=\"T_f1cdd_row0_col5\" class=\"data row0 col5\" >1</td>\n",
       "      <td id=\"T_f1cdd_row0_col6\" class=\"data row0 col6\" >OpenAI Examples</td>\n",
       "    </tr>\n",
       "  </tbody>\n",
       "</table>\n"
      ],
      "text/plain": [
       "<pandas.io.formats.style.Styler at 0x10464e090>"
      ]
     },
     "execution_count": 3,
     "metadata": {},
     "output_type": "execute_result"
    }
   ],
   "source": [
    "render.df(tasks.find('directions'))"
   ]
  },
  {
   "cell_type": "code",
   "execution_count": 4,
   "id": "acd99c42-56fd-45b6-b602-42fb9b0d4f75",
   "metadata": {},
   "outputs": [],
   "source": [
    "task = tasks.get('Turn by turn directions')"
   ]
  },
  {
   "cell_type": "code",
   "execution_count": 5,
   "id": "212901e2-2df9-44ef-9e2d-2a7623725aab",
   "metadata": {},
   "outputs": [
    {
     "data": {
      "text/markdown": [
       "1. Start by going south on 95.\n",
       "2. Continue until you reach Sunrise Boulevard.\n",
       "3. Take Sunrise Boulevard east.\n",
       "4. Follow Sunrise Boulevard to US 1.\n",
       "5. Head south on US 1.\n",
       "6. After several miles, Tom Jenkins BBQ will be on your left."
      ],
      "text/plain": [
       "<IPython.core.display.Markdown object>"
      ]
     },
     "metadata": {},
     "output_type": "display_data"
    }
   ],
   "source": [
    "render.md(openai.text(*task))"
   ]
  },
  {
   "cell_type": "code",
   "execution_count": 6,
   "id": "33dee4e8-014c-4c43-9df5-041c826cb91b",
   "metadata": {},
   "outputs": [
    {
     "data": {
      "text/markdown": [
       "Sure, here are the turn-by-turn directions based on your instructions:\n",
       "\n",
       "1. Head south on I-95.\n",
       "2. Continue on I-95 until you reach Sunrise Boulevard.\n",
       "3. Turn east onto Sunrise Boulevard.\n",
       "4. Follow Sunrise Boulevard until you reach US-1.\n",
       "5. Turn south onto US-1.\n",
       "6. Continue on US-1 for several miles.\n",
       "7. Tom Jenkins BBQ will be on the left.\n",
       "\n",
       "I hope this helps! Let me know if you have any other questions."
      ],
      "text/plain": [
       "<IPython.core.display.Markdown object>"
      ]
     },
     "metadata": {},
     "output_type": "display_data"
    }
   ],
   "source": [
    "render.md(bedrock.llama2_text(*task))"
   ]
  },
  {
   "cell_type": "code",
   "execution_count": 7,
   "id": "1be524a6-0f45-4129-a6e3-0f7745a051d3",
   "metadata": {},
   "outputs": [
    {
     "data": {
      "text/markdown": [
       "Unfortunately I don't have access to map and location information, so I can't provide detailed directions. However, I understood the general flow of your instructions:\n",
       "\n",
       "1. Go south on highway 95 until reaching Sunrise Boulevard\n",
       "2. Take Sunrise Boulevard east until reaching US 1\n",
       "3. Head south on US 1 for several miles until seeing Tom Jenkins BBQ on the left\n",
       "\n",
       "Without knowing the actual street names, distances, or geography, I don't have enough context to validate or elaborate on those directions. But I summarized the key steps regarding which roads to take and the sequence of turns and travel to reach the destination you provided. Please let me know if you need any clarification or have additional details I can help incorporate."
      ],
      "text/plain": [
       "<IPython.core.display.Markdown object>"
      ]
     },
     "metadata": {},
     "output_type": "display_data"
    }
   ],
   "source": [
    "render.md(bedrock.claude2_text(*task))"
   ]
  },
  {
   "cell_type": "code",
   "execution_count": 8,
   "id": "add662c5-d2f2-485f-b0db-2269fef16479",
   "metadata": {},
   "outputs": [
    {
     "data": {
      "text/markdown": [
       "Okay, here are the directions:\n",
       "\n",
       "- Take 95 South\n",
       "- Take exit for Sunrise Blvd and head east on Sunrise Blvd\n",
       "- Sunrise Blvd will become US-1 \n",
       "- Continue south on US-1/Sunrise Blvd for several miles\n",
       "- Tom Jenkins BBQ will be on the left side of the road after traveling south on US-1 for several miles past the intersection with Sunrise Blvd\n",
       "\n",
       "Let me know if you need any clarification or have additional questions!"
      ],
      "text/plain": [
       "<IPython.core.display.Markdown object>"
      ]
     },
     "metadata": {},
     "output_type": "display_data"
    }
   ],
   "source": [
    "render.md(bedrock.instant_text(*task))"
   ]
  },
  {
   "cell_type": "code",
   "execution_count": 9,
   "id": "6c056faa-b323-4a72-90a0-6a1950e32afb",
   "metadata": {},
   "outputs": [
    {
     "data": {
      "text/markdown": [
       "Here are the turn-by-turn directions as a numbered list:\n",
       "\n",
       "1. Go south on I-95.\n",
       "2. Take the exit for Sunrise Boulevard and turn east (right) onto Sunrise Boulevard.\n",
       "3. Continue east on Sunrise Boulevard until you reach US-1.\n",
       "4. Turn south (right) onto US-1.\n",
       "5. Tom Jenkins BBQ will be on the left after several miles on US-1."
      ],
      "text/plain": [
       "<IPython.core.display.Markdown object>"
      ]
     },
     "metadata": {},
     "output_type": "display_data"
    }
   ],
   "source": [
    "render.md(bedrock.sonnet_text(*task))"
   ]
  },
  {
   "cell_type": "code",
   "execution_count": 10,
   "id": "9d94aeb8-6dd7-446c-8b17-f32b3623fe31",
   "metadata": {},
   "outputs": [
    {
     "data": {
      "text/markdown": [
       "Here are the turn-by-turn directions:\n",
       "\n",
       "1. Go south on 95.\n",
       "2. Take Sunrise boulevard east.\n",
       "3. Head south on US 1.\n",
       "4. Tom Jenkins BBQ will be on the left after several miles."
      ],
      "text/plain": [
       "<IPython.core.display.Markdown object>"
      ]
     },
     "metadata": {},
     "output_type": "display_data"
    }
   ],
   "source": [
    "render.md(bedrock.haiku_text(*task))"
   ]
  },
  {
   "cell_type": "code",
   "execution_count": 11,
   "id": "248c8b7b-18ab-4254-a09a-6749d2263028",
   "metadata": {},
   "outputs": [
    {
     "data": {
      "text/markdown": [
       "Here are the turn-by-turn directions:\n",
       "\n",
       "1. Go south on 95.\n",
       "2. Take the exit for Sunrise Boulevard.\n",
       "3. Turn left onto Sunrise Boulevard and head east.\n",
       "4. Continue on Sunrise Boulevard until you reach US 1.\n",
       "5. Turn right onto US 1 and head south.\n",
       "6. Drive for several miles on US 1.\n",
       "7. Tom Jenkins BBQ will be on the left side of the road."
      ],
      "text/plain": [
       "<IPython.core.display.Markdown object>"
      ]
     },
     "metadata": {},
     "output_type": "display_data"
    }
   ],
   "source": [
    "render.md(anthropic.text(*task))"
   ]
  },
  {
   "cell_type": "code",
   "execution_count": 12,
   "id": "93902a42-29f9-4942-8f1f-4bdfe8dbaeed",
   "metadata": {},
   "outputs": [
    {
     "data": {
      "text/markdown": [
       "\n",
       "Okay! Here are the turn-by-turn directions based on the text you provided:\n",
       "\n",
       "1. Go south on I-95 until you hit Sunrise Boulevard.\n",
       "2. Take Sunrise Boulevard east towards US-1.\n",
       "3. Head south on US-1 for several miles until Tom Jenkins BBQ is on your left."
      ],
      "text/plain": [
       "<IPython.core.display.Markdown object>"
      ]
     },
     "metadata": {},
     "output_type": "display_data"
    }
   ],
   "source": [
    "render.md(ollama.llama_text(*task))"
   ]
  },
  {
   "cell_type": "code",
   "execution_count": 13,
   "id": "a31c2f8d-b158-4c7a-b81a-6c9cddcd0908",
   "metadata": {},
   "outputs": [
    {
     "data": {
      "text/markdown": [
       " 1. Head south on 95.\n",
       "2. Continue until you reach Sunrise boulevard.\n",
       "3. Turn right (east) onto Sunrise boulevard.\n",
       "4. Proceed for several miles.\n",
       "5. Look for Tom Jenkins BBQ on the left side of the road.\n",
       "6. Once you see it, make a left turn to access the location."
      ],
      "text/plain": [
       "<IPython.core.display.Markdown object>"
      ]
     },
     "metadata": {},
     "output_type": "display_data"
    }
   ],
   "source": [
    "render.md(ollama.mistral_text(*task))"
   ]
  },
  {
   "cell_type": "code",
   "execution_count": 14,
   "id": "76324ace-0c34-4786-8d4d-017bce858953",
   "metadata": {},
   "outputs": [
    {
     "data": {
      "text/markdown": [
       "1. Get on 95 Southbound\n",
       "2. Continue on 95 South until you reach Sunrise Boulevard\n",
       "3. Take Sunrise Boulevard eastward\n",
       "4. Once you see US-1, head southward\n",
       "5. Tom Jenkins BBQ will be on your left after several miles."
      ],
      "text/plain": [
       "<IPython.core.display.Markdown object>"
      ]
     },
     "metadata": {},
     "output_type": "display_data"
    }
   ],
   "source": [
    "render.md(groq.text(*task))"
   ]
  },
  {
   "cell_type": "code",
   "execution_count": 15,
   "id": "7ec6c334-d1f9-4e29-99ea-900a53c564af",
   "metadata": {},
   "outputs": [
    {
     "data": {
      "text/markdown": [
       "| Model | Calls | Total Time | Total Return Size | Average Time | Average Size |\n",
       "|-------|-------|------------|-------------------|--------------|--------------|\n",
       "| gtsystem.bedrock.haiku_text | 1 | 1.14 | 221.00 | 1.14 | 221.00 |\n",
       "| gtsystem.bedrock.instant_text | 1 | 1.78 | 460.00 | 1.78 | 460.00 |\n",
       "| gtsystem.openai.gpt4_text | 1 | 2.61 | 280.00 | 2.61 | 280.00 |\n",
       "| gtsystem.groq.text | 1 | 3.27 | 263.00 | 3.27 | 263.00 |\n",
       "| gtsystem.bedrock.llama2_text | 1 | 3.81 | 454.00 | 3.81 | 454.00 |\n",
       "| gtsystem.anthropic.opus_text | 1 | 4.08 | 385.00 | 4.08 | 385.00 |\n",
       "| gtsystem.bedrock.sonnet_text | 1 | 4.65 | 373.00 | 4.65 | 373.00 |\n",
       "| gtsystem.ollama.llama_text | 1 | 7.38 | 302.00 | 7.38 | 302.00 |\n",
       "| gtsystem.ollama.mistral_text | 1 | 7.86 | 311.00 | 7.86 | 311.00 |\n",
       "| gtsystem.bedrock.claude2_text | 1 | 17.25 | 786.00 | 17.25 | 786.00 |\n"
      ],
      "text/plain": [
       "<IPython.core.display.Markdown object>"
      ]
     },
     "metadata": {},
     "output_type": "display_data"
    }
   ],
   "source": [
    "render.md(instrument.metrics.stats())"
   ]
  }
 ],
 "metadata": {
  "kernelspec": {
   "display_name": "Python 3 (ipykernel)",
   "language": "python",
   "name": "python3"
  },
  "language_info": {
   "codemirror_mode": {
    "name": "ipython",
    "version": 3
   },
   "file_extension": ".py",
   "mimetype": "text/x-python",
   "name": "python",
   "nbconvert_exporter": "python",
   "pygments_lexer": "ipython3",
   "version": "3.11.7"
  }
 },
 "nbformat": 4,
 "nbformat_minor": 5
}
