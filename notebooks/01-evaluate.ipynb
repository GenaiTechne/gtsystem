{
 "cells": [
  {
   "cell_type": "code",
   "execution_count": 1,
   "id": "b98d3e38-543f-446c-a88a-57945bfc1d2b",
   "metadata": {},
   "outputs": [],
   "source": [
    "import os\n",
    "import sys\n",
    "import importlib.util\n",
    "\n",
    "is_installed = importlib.util.find_spec(\"gtsystem\")\n",
    "if not is_installed:\n",
    "    module_path = \"..\"\n",
    "    sys.path.append(os.path.abspath(module_path))\n",
    "\n",
    "from gtsystem import openai, bedrock, ollama, groq, anthropic"
   ]
  },
  {
   "cell_type": "code",
   "execution_count": 2,
   "id": "d85b5b8d-aaca-4977-bb39-6e3daefaf161",
   "metadata": {},
   "outputs": [],
   "source": [
    "prompt = 'What is the diameter of Earth?'"
   ]
  },
  {
   "cell_type": "code",
   "execution_count": 3,
   "id": "212901e2-2df9-44ef-9e2d-2a7623725aab",
   "metadata": {},
   "outputs": [
    {
     "data": {
      "text/plain": [
       "'The diameter of Earth varies depending on whether you are measuring through the equator or through the poles due to its slightly oblate shape. The equatorial diameter is about 12,742 kilometers (7,918 miles), while the polar diameter is about 12,710 kilometers (7,900 miles).'"
      ]
     },
     "execution_count": 3,
     "metadata": {},
     "output_type": "execute_result"
    }
   ],
   "source": [
    "openai.text(prompt)"
   ]
  },
  {
   "cell_type": "code",
   "execution_count": 4,
   "id": "33dee4e8-014c-4c43-9df5-041c826cb91b",
   "metadata": {},
   "outputs": [
    {
     "data": {
      "text/plain": [
       "'The diameter of Earth is about 12,742 kilometers (7,918 miles).'"
      ]
     },
     "execution_count": 4,
     "metadata": {},
     "output_type": "execute_result"
    }
   ],
   "source": [
    "bedrock.claude2_text(prompt)"
   ]
  },
  {
   "cell_type": "code",
   "execution_count": 5,
   "id": "42ef6e63-3968-4857-8c9e-adab1f8f20d3",
   "metadata": {},
   "outputs": [
    {
     "data": {
      "text/plain": [
       "'The diameter of the Earth is approximately 12,742 kilometers (7,917 miles).\\n\\nMore specifically:\\n\\n- The equatorial diameter (measuring straight through the equator) is about 12,756 km (7,926 miles).\\n\\n- The polar diameter (measuring from the North Pole to the South Pole) is slightly smaller at around 12,714 km (7,901 miles).\\n\\nThis difference is because the Earth is not a perfect sphere, but an oblate spheroid - slightly flattened at the poles due to its rotation. The equatorial diameter is longer than the polar diameter by about 42 km (26 miles).\\n\\nThe average diameter, taking into account this oblateness, is usually given as 12,742 km or 7,917 miles. This makes the Earth the fifth largest planet in our solar system.'"
      ]
     },
     "execution_count": 5,
     "metadata": {},
     "output_type": "execute_result"
    }
   ],
   "source": [
    "bedrock.sonnet_text(prompt)"
   ]
  },
  {
   "cell_type": "code",
   "execution_count": 6,
   "id": "2419cace-e97c-42c4-b246-e00244636957",
   "metadata": {},
   "outputs": [
    {
     "data": {
      "text/plain": [
       "'The diameter of Earth is approximately 12,742 kilometers (7,917 miles).'"
      ]
     },
     "execution_count": 6,
     "metadata": {},
     "output_type": "execute_result"
    }
   ],
   "source": [
    "bedrock.instant_text(prompt)"
   ]
  },
  {
   "cell_type": "code",
   "execution_count": 7,
   "id": "6295866e-1644-4013-ae7b-5d5de988be64",
   "metadata": {},
   "outputs": [
    {
     "data": {
      "text/plain": [
       "\"The diameter of the Earth is approximately 12,742 kilometers (7,917 miles).\\n\\nThis is the mean diameter, which is the average of the Earth's equatorial diameter (12,756 km) and the Earth's polar diameter (12,714 km). The Earth is not a perfect sphere, but rather an oblate spheroid, meaning it is slightly flattened at the poles and bulges at the equator.\\n\\nThe exact diameter can vary slightly depending on the measurement method and the location on the Earth's surface, but the commonly accepted value is 12,742 km (or 7,917 miles).\""
      ]
     },
     "execution_count": 7,
     "metadata": {},
     "output_type": "execute_result"
    }
   ],
   "source": [
    "bedrock.haiku_text(prompt)"
   ]
  },
  {
   "cell_type": "code",
   "execution_count": 8,
   "id": "8868a558-6f57-4167-a343-1d3d3c78b669",
   "metadata": {},
   "outputs": [
    {
     "data": {
      "text/plain": [
       "\"The diameter of Earth varies slightly depending on where it is measured, due to the planet's oblate spheroid shape. However, the average diameter of Earth is approximately 12,742 kilometers (7,917.5 miles).\\n\\nHere are some more specific measurements:\\n\\n1. Equatorial diameter: 12,756 km (7,926 miles)\\n2. Polar diameter: 12,714 km (7,900 miles)\\n\\nThe difference between the equatorial and polar diameters is about 42 kilometers (26 miles), which means that Earth is not a perfect sphere but rather an oblate spheroid, slightly flattened at the poles and bulging at the equator. This is due to the planet's rotation and the resulting centrifugal force.\""
      ]
     },
     "execution_count": 8,
     "metadata": {},
     "output_type": "execute_result"
    }
   ],
   "source": [
    "anthropic.text(prompt)"
   ]
  },
  {
   "cell_type": "code",
   "execution_count": 9,
   "id": "1be524a6-0f45-4129-a6e3-0f7745a051d3",
   "metadata": {},
   "outputs": [
    {
     "data": {
      "text/plain": [
       "'The diameter of Earth is 12,756 kilometers (7,926 miles).'"
      ]
     },
     "execution_count": 9,
     "metadata": {},
     "output_type": "execute_result"
    }
   ],
   "source": [
    "ollama.gemma_text(prompt)"
   ]
  },
  {
   "cell_type": "code",
   "execution_count": 10,
   "id": "4847d87c-9051-4508-88e5-6c74317e91f6",
   "metadata": {},
   "outputs": [
    {
     "data": {
      "text/plain": [
       "'The diameter of the Earth is approximately 12,742 kilometers (7,917 miles).\\n\\nMore specifically:\\n\\n- The equatorial diameter (measuring straight through the equator) is about 12,756 km (7,926 miles).\\n\\n- The polar diameter (measuring from the North Pole to the South Pole) is slightly smaller at around 12,714 km (7,901 miles).\\n\\nThis difference is because the Earth is not a perfect sphere, but an oblate spheroid - slightly flattened at the poles due to its rotation. The equatorial diameter is longer than the polar diameter by about 42 km (26 miles).\\n\\nThe average diameter, taking into account this oblateness, is usually given as 12,742 km or 7,917 miles. This makes the Earth the fifth largest planet in our solar system.'"
      ]
     },
     "execution_count": 10,
     "metadata": {},
     "output_type": "execute_result"
    }
   ],
   "source": [
    "bedrock.text(prompt)"
   ]
  },
  {
   "cell_type": "code",
   "execution_count": 11,
   "id": "43e55df9-61a6-455d-b7c0-4c353238e345",
   "metadata": {},
   "outputs": [
    {
     "data": {
      "text/plain": [
       "'The diameter of Earth is 12,756 kilometers (7,926 miles).'"
      ]
     },
     "execution_count": 11,
     "metadata": {},
     "output_type": "execute_result"
    }
   ],
   "source": [
    "ollama.text(prompt)"
   ]
  },
  {
   "cell_type": "code",
   "execution_count": 12,
   "id": "d185c468-b8c6-4948-bdc0-642c6696b45e",
   "metadata": {},
   "outputs": [
    {
     "data": {
      "text/plain": [
       "\"The diameter of Earth is approximately 7,917.5 miles (12,742 kilometers). This value is the equatorial diameter, which is slightly larger than the polar diameter due to the Earth's slight oblate spheroid shape.\""
      ]
     },
     "execution_count": 12,
     "metadata": {},
     "output_type": "execute_result"
    }
   ],
   "source": [
    "groq.text(prompt)"
   ]
  }
 ],
 "metadata": {
  "kernelspec": {
   "display_name": "Python 3 (ipykernel)",
   "language": "python",
   "name": "python3"
  },
  "language_info": {
   "codemirror_mode": {
    "name": "ipython",
    "version": 3
   },
   "file_extension": ".py",
   "mimetype": "text/x-python",
   "name": "python",
   "nbconvert_exporter": "python",
   "pygments_lexer": "ipython3",
   "version": "3.11.7"
  }
 },
 "nbformat": 4,
 "nbformat_minor": 5
}
