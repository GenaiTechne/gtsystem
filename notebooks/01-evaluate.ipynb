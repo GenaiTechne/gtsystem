{
 "cells": [
  {
   "cell_type": "code",
   "execution_count": 1,
   "id": "b98d3e38-543f-446c-a88a-57945bfc1d2b",
   "metadata": {},
   "outputs": [],
   "source": [
    "import sys\n",
    "import os\n",
    "\n",
    "module_path = os.path.abspath(\"..\")\n",
    "if module_path not in sys.path:\n",
    "    sys.path.insert(0, module_path)"
   ]
  },
  {
   "cell_type": "code",
   "execution_count": 2,
   "id": "c6e0af13-ab64-43e8-a317-21e309846ddf",
   "metadata": {},
   "outputs": [],
   "source": [
    "from gtsystem import openai, bedrock, ollama, groq, anthropic, render"
   ]
  },
  {
   "cell_type": "code",
   "execution_count": 3,
   "id": "d85b5b8d-aaca-4977-bb39-6e3daefaf161",
   "metadata": {},
   "outputs": [],
   "source": [
    "prompt = 'What is the diameter of Earth?'"
   ]
  },
  {
   "cell_type": "code",
   "execution_count": 4,
   "id": "212901e2-2df9-44ef-9e2d-2a7623725aab",
   "metadata": {},
   "outputs": [
    {
     "data": {
      "text/markdown": [
       "The diameter of Earth varies depending on whether you are measuring through the equator or through the poles due to its slightly oblate shape. The equatorial diameter is about 12,742 kilometers (7,918 miles), while the polar diameter is slightly smaller at about 12,714 kilometers (7,900 miles)."
      ],
      "text/plain": [
       "<IPython.core.display.Markdown object>"
      ]
     },
     "metadata": {},
     "output_type": "display_data"
    }
   ],
   "source": [
    "render.md(openai.text(prompt))"
   ]
  },
  {
   "cell_type": "code",
   "execution_count": 5,
   "id": "5e91a6b8-0081-4d47-9782-60e74f362856",
   "metadata": {},
   "outputs": [
    {
     "data": {
      "text/markdown": [
       "The diameter of Earth is approximately 12,742 kilometers (7,918 miles)."
      ],
      "text/plain": [
       "<IPython.core.display.Markdown object>"
      ]
     },
     "metadata": {},
     "output_type": "display_data"
    }
   ],
   "source": [
    "render.md(openai.text(prompt, model='gpt-3.5-turbo'))"
   ]
  },
  {
   "cell_type": "code",
   "execution_count": 6,
   "id": "33dee4e8-014c-4c43-9df5-041c826cb91b",
   "metadata": {},
   "outputs": [
    {
     "data": {
      "text/markdown": [
       "The diameter of the Earth is approximately 12,742 kilometers (7,917 miles).\n",
       "\n",
       "More specifically:\n",
       "\n",
       "- The equatorial diameter (measuring straight through the equator) is about 12,756 km (7,926 miles).\n",
       "\n",
       "- The polar diameter (measuring from the North Pole to the South Pole) is slightly smaller at around 12,714 km (7,901 miles).\n",
       "\n",
       "This difference is because the Earth is not a perfect sphere, but an oblate spheroid - slightly flattened at the poles due to its rotation.\n",
       "\n",
       "The average diameter, taking into account this oblateness, is usually given as 12,742 km or 7,917 miles. This measurement is calculated by taking the mean of the equatorial and polar diameters."
      ],
      "text/plain": [
       "<IPython.core.display.Markdown object>"
      ]
     },
     "metadata": {},
     "output_type": "display_data"
    }
   ],
   "source": [
    "render.md(bedrock.text(prompt))"
   ]
  },
  {
   "cell_type": "code",
   "execution_count": 7,
   "id": "42ef6e63-3968-4857-8c9e-adab1f8f20d3",
   "metadata": {},
   "outputs": [
    {
     "data": {
      "text/markdown": [
       "The diameter of the Earth is approximately 12,742 kilometers (7,917 miles).\n",
       "\n",
       "This is the mean diameter of the Earth, which is the average of the Earth's equatorial diameter (12,756 km) and the Earth's polar diameter (12,714 km). The Earth is not a perfect sphere, but rather an oblate spheroid, meaning it is slightly flattened at the poles and bulges at the equator.\n",
       "\n",
       "The exact diameter of the Earth can vary slightly depending on the measurement method and the location on the Earth's surface. But the commonly accepted value for the Earth's mean diameter is 12,742 km."
      ],
      "text/plain": [
       "<IPython.core.display.Markdown object>"
      ]
     },
     "metadata": {},
     "output_type": "display_data"
    }
   ],
   "source": [
    "render.md(bedrock.text(prompt, model=bedrock.MODELS['haiku']))"
   ]
  },
  {
   "cell_type": "code",
   "execution_count": 8,
   "id": "8868a558-6f57-4167-a343-1d3d3c78b669",
   "metadata": {},
   "outputs": [
    {
     "data": {
      "text/markdown": [
       "The diameter of Earth varies slightly depending on where it is measured, due to the planet's oblate spheroid shape. However, the average diameter of Earth is approximately 12,742 kilometers (7,917.5 miles).\n",
       "\n",
       "Here are some more specific measurements:\n",
       "\n",
       "1. Equatorial diameter: 12,756 km (7,926 miles)\n",
       "2. Polar diameter: 12,714 km (7,900 miles)\n",
       "\n",
       "The difference between the equatorial and polar diameters is about 42 kilometers (26 miles), which means that Earth is not a perfect sphere but rather an oblate spheroid, slightly flattened at the poles and bulging at the equator. This is due to the planet's rotation and the resulting centrifugal force."
      ],
      "text/plain": [
       "<IPython.core.display.Markdown object>"
      ]
     },
     "metadata": {},
     "output_type": "display_data"
    }
   ],
   "source": [
    "render.md(anthropic.text(prompt))"
   ]
  },
  {
   "cell_type": "code",
   "execution_count": 9,
   "id": "1be524a6-0f45-4129-a6e3-0f7745a051d3",
   "metadata": {},
   "outputs": [
    {
     "data": {
      "text/markdown": [
       "The diameter of Earth is approximately 12,742 kilometers (7,918 miles). This is the distance from the Earth's equator to its opposite point on the other side of the planet. The Earth is slightly flattened at the poles and bulging at the equator due to its rotation, so it's not a perfect sphere. But if we were to draw an imaginary line through the center of the Earth, perpendicular to its surface, that line would be about 12,742 kilometers long.\n",
       "\n",
       "It's worth noting that there are actually several different ways to measure the diameter of the Earth, and they might give slightly different answers. For example, you could measure from the Earth's equator to the North Pole, or from the South Pole to the equator. But the value I gave you is a commonly accepted average based on various measurements and calculations."
      ],
      "text/plain": [
       "<IPython.core.display.Markdown object>"
      ]
     },
     "metadata": {},
     "output_type": "display_data"
    }
   ],
   "source": [
    "render.md(ollama.text(prompt))"
   ]
  },
  {
   "cell_type": "code",
   "execution_count": 10,
   "id": "1a702cdc-fc3c-4467-89fc-a56392d0cadf",
   "metadata": {},
   "outputs": [
    {
     "data": {
      "text/markdown": [
       " The diameter of Earth, measured from its equator, is approximately 12,742 kilometers (or about 7,918 miles). This measurement can slightly vary due to Earth's slight oblateness caused by its rotation. However, this value is widely accepted as the standard for Earth's diameter."
      ],
      "text/plain": [
       "<IPython.core.display.Markdown object>"
      ]
     },
     "metadata": {},
     "output_type": "display_data"
    }
   ],
   "source": [
    "render.md(ollama.text(prompt, model=\"phi3\"))"
   ]
  },
  {
   "cell_type": "code",
   "execution_count": 11,
   "id": "37992380-3029-4f20-925a-f20998a2e2e6",
   "metadata": {},
   "outputs": [
    {
     "data": {
      "text/markdown": [
       " The diameter of Earth is approximately 12,742 kilometers (7,918 miles) at the equator and about 12,714 kilometers (7,918 miles) from pole to pole. These measurements are based on the equatorial bulge caused by the Earth's rotation. However, if we consider the Earth as an perfect sphere, its diameter would be around 12,776 kilometers (7,940 miles)."
      ],
      "text/plain": [
       "<IPython.core.display.Markdown object>"
      ]
     },
     "metadata": {},
     "output_type": "display_data"
    }
   ],
   "source": [
    "render.md(ollama.text(prompt, model=\"mistral\"))"
   ]
  },
  {
   "cell_type": "code",
   "execution_count": 12,
   "id": "d185c468-b8c6-4948-bdc0-642c6696b45e",
   "metadata": {},
   "outputs": [
    {
     "data": {
      "text/markdown": [
       "The diameter of Earth is approximately 12,742 kilometers (7,918 miles). This is the distance from the Earth's equator to the opposite side of the planet, passing through its center.\n",
       "\n",
       "To be more precise, the Earth's equatorial radius is approximately 6,378 kilometers (3,959 miles), and its polar radius is approximately 6,357 kilometers (3,949 miles). The difference in radius is due to the Earth's slightly ellipsoidal shape, with the planet being slightly flattened at the poles and bulging at the equator.\n",
       "\n",
       "It's worth noting that the exact diameter of Earth can vary slightly due to the planet's slightly irregular shape and the effects of tides and other geological processes. However, 12,742 kilometers is a commonly accepted value for the Earth's diameter."
      ],
      "text/plain": [
       "<IPython.core.display.Markdown object>"
      ]
     },
     "metadata": {},
     "output_type": "display_data"
    }
   ],
   "source": [
    "render.md(groq.text(prompt))"
   ]
  }
 ],
 "metadata": {
  "kernelspec": {
   "display_name": "Python 3 (ipykernel)",
   "language": "python",
   "name": "python3"
  },
  "language_info": {
   "codemirror_mode": {
    "name": "ipython",
    "version": 3
   },
   "file_extension": ".py",
   "mimetype": "text/x-python",
   "name": "python",
   "nbconvert_exporter": "python",
   "pygments_lexer": "ipython3",
   "version": "3.11.7"
  }
 },
 "nbformat": 4,
 "nbformat_minor": 5
}
