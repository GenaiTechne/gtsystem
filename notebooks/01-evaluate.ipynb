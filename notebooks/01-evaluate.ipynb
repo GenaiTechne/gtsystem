{
 "cells": [
  {
   "cell_type": "code",
   "execution_count": 1,
   "id": "b98d3e38-543f-446c-a88a-57945bfc1d2b",
   "metadata": {},
   "outputs": [],
   "source": [
    "import os\n",
    "import sys\n",
    "import importlib.util\n",
    "\n",
    "is_installed = importlib.util.find_spec(\"gtsystem\")\n",
    "if not is_installed:\n",
    "    module_path = \"..\"\n",
    "    sys.path.append(os.path.abspath(module_path))\n",
    "\n",
    "from gtsystem import openai, bedrock, ollama"
   ]
  },
  {
   "cell_type": "code",
   "execution_count": 2,
   "id": "d85b5b8d-aaca-4977-bb39-6e3daefaf161",
   "metadata": {},
   "outputs": [],
   "source": [
    "prompt = 'What is the diameter of Earth?'"
   ]
  },
  {
   "cell_type": "code",
   "execution_count": 3,
   "id": "212901e2-2df9-44ef-9e2d-2a7623725aab",
   "metadata": {},
   "outputs": [
    {
     "data": {
      "text/plain": [
       "'The diameter of Earth is approximately 12,742 kilometers (7,918 miles).'"
      ]
     },
     "execution_count": 3,
     "metadata": {},
     "output_type": "execute_result"
    }
   ],
   "source": [
    "openai.gpt_text(prompt)"
   ]
  },
  {
   "cell_type": "code",
   "execution_count": 4,
   "id": "33dee4e8-014c-4c43-9df5-041c826cb91b",
   "metadata": {},
   "outputs": [
    {
     "data": {
      "text/plain": [
       "'The diameter of Earth is about 12,742 kilometers (7,918 miles).'"
      ]
     },
     "execution_count": 4,
     "metadata": {},
     "output_type": "execute_result"
    }
   ],
   "source": [
    "bedrock.claude_text(prompt)"
   ]
  },
  {
   "cell_type": "code",
   "execution_count": 5,
   "id": "1be524a6-0f45-4129-a6e3-0f7745a051d3",
   "metadata": {},
   "outputs": [
    {
     "data": {
      "text/plain": [
       "\" The diameter of Earth is approximately 12,742 kilometers (7,918 miles) at the equator and about 12,714 kilometers (7,918 miles) from pole to pole. These measurements are based on the equatorial bulge caused by the Earth's rotation. However, if we consider the Earth as an perfect sphere, its diameter would be around 12,776 kilometers (7,940 miles).\""
      ]
     },
     "execution_count": 5,
     "metadata": {},
     "output_type": "execute_result"
    }
   ],
   "source": [
    "ollama.mistral_text(prompt)"
   ]
  },
  {
   "cell_type": "code",
   "execution_count": 6,
   "id": "4847d87c-9051-4508-88e5-6c74317e91f6",
   "metadata": {},
   "outputs": [
    {
     "data": {
      "text/plain": [
       "\"The diameter of Earth is approximately 12,742 kilometers (7,918 miles). This is the distance from the Earth's center to its surface, measured through the equator. The Earth is slightly flattened at the poles and bulging at the equator due to its rotation, so its diameter can vary slightly depending on the location and method of measurement. However, 12,742 kilometers is a commonly cited and useful average value.\""
      ]
     },
     "execution_count": 6,
     "metadata": {},
     "output_type": "execute_result"
    }
   ],
   "source": [
    "bedrock.text(prompt)"
   ]
  },
  {
   "cell_type": "code",
   "execution_count": 7,
   "id": "43e55df9-61a6-455d-b7c0-4c353238e345",
   "metadata": {},
   "outputs": [
    {
     "data": {
      "text/plain": [
       "'The diameter of Earth is 12,756 kilometers (7,926 miles).'"
      ]
     },
     "execution_count": 7,
     "metadata": {},
     "output_type": "execute_result"
    }
   ],
   "source": [
    "ollama.text(prompt)"
   ]
  }
 ],
 "metadata": {
  "kernelspec": {
   "display_name": "Python 3 (ipykernel)",
   "language": "python",
   "name": "python3"
  },
  "language_info": {
   "codemirror_mode": {
    "name": "ipython",
    "version": 3
   },
   "file_extension": ".py",
   "mimetype": "text/x-python",
   "name": "python",
   "nbconvert_exporter": "python",
   "pygments_lexer": "ipython3",
   "version": "3.11.7"
  }
 },
 "nbformat": 4,
 "nbformat_minor": 5
}
