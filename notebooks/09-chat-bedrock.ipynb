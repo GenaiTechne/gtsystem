{
 "cells": [
  {
   "cell_type": "code",
   "execution_count": 1,
   "id": "6a4b30db-b23a-4743-be9f-b581155f3a3b",
   "metadata": {},
   "outputs": [],
   "source": [
    "import os\n",
    "import sys\n",
    "import importlib.util\n",
    "\n",
    "is_installed = importlib.util.find_spec(\"gtsystem\")\n",
    "if not is_installed:\n",
    "    print ('Not using PyPi')\n",
    "    module_path = \"..\"\n",
    "    sys.path.append(os.path.abspath(module_path))\n",
    "else:\n",
    "    print ('Loaded gtsystem')\n",
    "\n",
    "from gtsystem import bedrock, render"
   ]
  },
  {
   "cell_type": "code",
   "execution_count": 2,
   "id": "d8f2d704-cd3d-4726-9508-eb6f3a6ed749",
   "metadata": {},
   "outputs": [
    {
     "data": {
      "text/markdown": [
       "Mary Maxwell Gates was the mother of Bill Gates."
      ],
      "text/plain": [
       "<IPython.core.display.Markdown object>"
      ]
     },
     "metadata": {},
     "output_type": "display_data"
    }
   ],
   "source": [
    "render.md(bedrock.haiku_chat('Who is the mother of Bill Gates?', system='Respond in one sentence only.'))"
   ]
  },
  {
   "cell_type": "code",
   "execution_count": 3,
   "id": "ade1dab9-fc10-4c9f-82db-593bac804534",
   "metadata": {},
   "outputs": [
    {
     "data": {
      "text/markdown": [
       "William Henry Gates III, also known as Bill Gates Sr., was the father of Bill Gates."
      ],
      "text/plain": [
       "<IPython.core.display.Markdown object>"
      ]
     },
     "metadata": {},
     "output_type": "display_data"
    }
   ],
   "source": [
    "render.md(bedrock.haiku_chat('Who is his father?'))"
   ]
  },
  {
   "cell_type": "code",
   "execution_count": 4,
   "id": "52705b51-73d2-4084-94ea-9cc0942618bd",
   "metadata": {},
   "outputs": [
    {
     "data": {
      "text/markdown": [
       "Bill Gates' parents, William Henry Gates III and Mary Maxwell Gates, were married in 1951."
      ],
      "text/plain": [
       "<IPython.core.display.Markdown object>"
      ]
     },
     "metadata": {},
     "output_type": "display_data"
    }
   ],
   "source": [
    "render.md(bedrock.haiku_chat('When were they married?'))"
   ]
  },
  {
   "cell_type": "code",
   "execution_count": 5,
   "id": "2228642a-a48d-4c39-a9aa-0a36548b5381",
   "metadata": {},
   "outputs": [
    {
     "data": {
      "text/markdown": [
       "Bill Gates' net worth is estimated to be around $130 billion, while his father Bill Gates Sr.'s net worth is not publicly disclosed."
      ],
      "text/plain": [
       "<IPython.core.display.Markdown object>"
      ]
     },
     "metadata": {},
     "output_type": "display_data"
    }
   ],
   "source": [
    "render.md(bedrock.haiku_chat('What is their individual net worth?'))"
   ]
  },
  {
   "cell_type": "code",
   "execution_count": 6,
   "id": "66827c9b-7cfc-4293-8114-fdfd07204de8",
   "metadata": {},
   "outputs": [
    {
     "data": {
      "text/markdown": [
       "Here's a markdown table of the 5 tallest buildings in the world:\n",
       "\n",
       "| Rank | Building Name | Height (meters) | Height (feet) | Location |\n",
       "|------|----------------|-----------------|----------------|----------|\n",
       "| 1    | Burj Khalifa   | 828             | 2,717          | Dubai, United Arab Emirates |\n",
       "| 2    | Shanghai Tower | 632             | 2,073          | Shanghai, China |\n",
       "| 3    | Abraj Al-Bait Clock Tower | 601  | 1,972          | Mecca, Saudi Arabia |\n",
       "| 4    | Ping An Finance Center | 599     | 1,965          | Shenzhen, China |\n",
       "| 5    | Lotte World Tower | 554.5         | 1,819          | Seoul, South Korea |"
      ],
      "text/plain": [
       "<IPython.core.display.Markdown object>"
      ]
     },
     "metadata": {},
     "output_type": "display_data"
    }
   ],
   "source": [
    "render.md(bedrock.sonnet_chat('Create a markdown table of 5 tallest buildings', reset=True))"
   ]
  },
  {
   "cell_type": "code",
   "execution_count": 7,
   "id": "ac39ccfd-4412-497b-aa96-95adf6b88eda",
   "metadata": {},
   "outputs": [
    {
     "data": {
      "text/markdown": [
       "Here's the updated markdown table with a column for the year each building was built:\n",
       "\n",
       "| Rank | Building Name | Height (meters) | Height (feet) | Location | Year Built |\n",
       "|------|----------------|-----------------|----------------|----------|------------|\n",
       "| 1    | Burj Khalifa   | 828             | 2,717          | Dubai, United Arab Emirates | 2010 |\n",
       "| 2    | Shanghai Tower | 632             | 2,073          | Shanghai, China | 2015 |\n",
       "| 3    | Abraj Al-Bait Clock Tower | 601  | 1,972          | Mecca, Saudi Arabia | 2012 |\n",
       "| 4    | Ping An Finance Center | 599     | 1,965          | Shenzhen, China | 2017 |\n",
       "| 5    | Lotte World Tower | 554.5         | 1,819          | Seoul, South Korea | 2017 |"
      ],
      "text/plain": [
       "<IPython.core.display.Markdown object>"
      ]
     },
     "metadata": {},
     "output_type": "display_data"
    }
   ],
   "source": [
    "render.md(bedrock.sonnet_chat('Add a column for Year Built'))"
   ]
  },
  {
   "cell_type": "code",
   "execution_count": 8,
   "id": "0ceea0dc-bf80-4c7e-a740-0a9916f0b7b3",
   "metadata": {},
   "outputs": [
    {
     "data": {
      "text/markdown": [
       "Here's the updated markdown table with the height in feet removed and a column for the number of floors added:\n",
       "\n",
       "| Rank | Building Name | Height (meters) | Location | Year Built | Floors |\n",
       "|------|----------------|-----------------|----------|------------|--------|\n",
       "| 1    | Burj Khalifa   | 828             | Dubai, United Arab Emirates | 2010 | 163 |\n",
       "| 2    | Shanghai Tower | 632             | Shanghai, China | 2015 | 128 |\n",
       "| 3    | Abraj Al-Bait Clock Tower | 601  | Mecca, Saudi Arabia | 2012 | 120 |\n",
       "| 4    | Ping An Finance Center | 599     | Shenzhen, China | 2017 | 115 |\n",
       "| 5    | Lotte World Tower | 554.5         | Seoul, South Korea | 2017 | 123 |"
      ],
      "text/plain": [
       "<IPython.core.display.Markdown object>"
      ]
     },
     "metadata": {},
     "output_type": "display_data"
    }
   ],
   "source": [
    "render.md(bedrock.sonnet_chat('Remove Height in feet and add a column for Floors'))"
   ]
  },
  {
   "cell_type": "code",
   "execution_count": 9,
   "id": "a0c4fbd8-d062-4657-804d-fd4fd5057117",
   "metadata": {},
   "outputs": [
    {
     "data": {
      "text/html": [
       "<img src=\"https://upload.wikimedia.org/wikipedia/commons/8/80/NYC_wideangle_south_from_Top_of_the_Rock.jpg\"/>"
      ],
      "text/plain": [
       "<IPython.core.display.Image object>"
      ]
     },
     "execution_count": 9,
     "metadata": {},
     "output_type": "execute_result"
    }
   ],
   "source": [
    "image_url = \"https://upload.wikimedia.org/wikipedia/commons/8/80/NYC_wideangle_south_from_Top_of_the_Rock.jpg\"\n",
    "render.img(url=image_url)"
   ]
  },
  {
   "cell_type": "code",
   "execution_count": 10,
   "id": "4d1b7e17-d66a-4305-b4ac-7d6c08c7afe6",
   "metadata": {},
   "outputs": [
    {
     "data": {
      "text/markdown": [
       "This image depicts the famous skyline of New York City. The iconic Empire State Building with its distinctive green-lit spire can be clearly seen among the densely packed high-rise buildings and skyscrapers that make up the Manhattan cityscape. The image appears to be taken during a sunset or sunrise, with the sky displaying warm hues of orange and pink amidst scattered clouds. Other recognizable buildings like the MetLife Building are also visible in this panoramic view of the renowned New York City skyline."
      ],
      "text/plain": [
       "<IPython.core.display.Markdown object>"
      ]
     },
     "metadata": {},
     "output_type": "display_data"
    }
   ],
   "source": [
    "render.md(bedrock.sonnet_chat('Which place is this?', image_url=image_url, reset=True))"
   ]
  },
  {
   "cell_type": "code",
   "execution_count": 11,
   "id": "b145faf0-3527-48b9-92c6-8b2e3112825b",
   "metadata": {},
   "outputs": [
    {
     "data": {
      "text/markdown": [
       "It's difficult to provide an exact count of all the individual buildings in this dense cityscape image, as there are numerous high-rise structures packed closely together. However, I can describe what I see in more general terms. The skyline is dominated by many tall skyscrapers and office towers of varying heights and architectural styles. Some of the more prominent and recognizable buildings include the iconic Empire State Building, the MetLife Building with its distinctive pyramid-topped roof, and several other modern glass and steel high-rises. There are also many older stone or brick mid-rise buildings visible among the taller skyscrapers, creating a diverse mix of architectural styles and eras represented in this sweeping panorama of the New York City skyline."
      ],
      "text/plain": [
       "<IPython.core.display.Markdown object>"
      ]
     },
     "metadata": {},
     "output_type": "display_data"
    }
   ],
   "source": [
    "render.md(bedrock.sonnet_chat('How many buildings do you see in this image?'))"
   ]
  },
  {
   "cell_type": "code",
   "execution_count": 12,
   "id": "b53380f5-6bad-4132-8ca2-77b56b419c74",
   "metadata": {},
   "outputs": [
    {
     "data": {
      "text/markdown": [
       "In the image, I can see the MetLife logo visible on one of the high-rise buildings towards the left side of the skyline. The MetLife Building is a distinctive pyramid-topped skyscraper, and its corporate logo is clearly displayed near the top of that building."
      ],
      "text/plain": [
       "<IPython.core.display.Markdown object>"
      ]
     },
     "metadata": {},
     "output_type": "display_data"
    }
   ],
   "source": [
    "render.md(bedrock.sonnet_chat('Which logo is visible on a high rise building on the left?'))"
   ]
  },
  {
   "cell_type": "code",
   "execution_count": 13,
   "id": "8ea9007e-36e6-4d9c-9037-4d04e00b2c1d",
   "metadata": {},
   "outputs": [
    {
     "data": {
      "text/markdown": [
       "The body of water visible on the right side of the image appears to be the East River, which separates the boroughs of Manhattan and Brooklyn in New York City. The wide expanse of water reflecting the warm sunset or sunrise colors can be seen in the distance beyond the dense Manhattan skyline."
      ],
      "text/plain": [
       "<IPython.core.display.Markdown object>"
      ]
     },
     "metadata": {},
     "output_type": "display_data"
    }
   ],
   "source": [
    "render.md(bedrock.sonnet_chat('Which water body is shown on the right?'))"
   ]
  },
  {
   "cell_type": "code",
   "execution_count": 14,
   "id": "13872331-147b-4643-8ec2-787dbb9042b3",
   "metadata": {},
   "outputs": [
    {
     "data": {
      "text/markdown": [
       "Based on the warm, reddish-orange hues in the sky and the illuminated lights on many of the buildings, this image appears to have been taken during either a sunset or sunrise time of day in New York City. The sky has the characteristic colors and cloud patterns often seen during the golden hours around sunrise or sunset when the sun's rays are filtering through the atmosphere at an angled trajectory."
      ],
      "text/plain": [
       "<IPython.core.display.Markdown object>"
      ]
     },
     "metadata": {},
     "output_type": "display_data"
    }
   ],
   "source": [
    "render.md(bedrock.sonnet_chat('What time of day is it?'))"
   ]
  },
  {
   "cell_type": "code",
   "execution_count": 15,
   "id": "2023a2d6-0f5f-4727-a3c3-b8a6ec38c31f",
   "metadata": {},
   "outputs": [
    {
     "data": {
      "text/markdown": [
       "The MetLife Building visible in the New York City skyline in this image has 59 floors above ground. It is one of the taller skyscrapers in the iconic Manhattan skyline, recognizable by its distinct pyramid-crowned roof design. While I cannot provide an exact floor count from this panoramic view, the MetLife Building is a major 59-story high-rise office tower that stands out prominently among the other buildings depicted."
      ],
      "text/plain": [
       "<IPython.core.display.Markdown object>"
      ]
     },
     "metadata": {},
     "output_type": "display_data"
    }
   ],
   "source": [
    "render.md(bedrock.sonnet_chat('How many floors is the MetLife building?'))"
   ]
  }
 ],
 "metadata": {
  "kernelspec": {
   "display_name": "Python 3 (ipykernel)",
   "language": "python",
   "name": "python3"
  },
  "language_info": {
   "codemirror_mode": {
    "name": "ipython",
    "version": 3
   },
   "file_extension": ".py",
   "mimetype": "text/x-python",
   "name": "python",
   "nbconvert_exporter": "python",
   "pygments_lexer": "ipython3",
   "version": "3.11.7"
  }
 },
 "nbformat": 4,
 "nbformat_minor": 5
}
