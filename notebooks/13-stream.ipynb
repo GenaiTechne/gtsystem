{
 "cells": [
  {
   "cell_type": "code",
   "execution_count": 4,
   "id": "5b0c20de-2122-45be-9919-a0ada36b8f91",
   "metadata": {},
   "outputs": [],
   "source": [
    "import sys\n",
    "import os\n",
    "\n",
    "module_path = os.path.abspath(\"..\")\n",
    "if module_path not in sys.path:\n",
    "    sys.path.insert(0, module_path)\n",
    "\n",
    "from gtsystem import openai, render"
   ]
  },
  {
   "cell_type": "code",
   "execution_count": 5,
   "id": "f68df06a-60f6-4904-9931-1c6146ca2f34",
   "metadata": {},
   "outputs": [],
   "source": [
    "prompt = \"\"\"As a GenAI startup write a funny employee memo on April Fools day\"\"\""
   ]
  },
  {
   "cell_type": "code",
   "execution_count": 6,
   "id": "5334b99d-2cf2-41ca-bd4e-6b3f3c11479e",
   "metadata": {},
   "outputs": [
    {
     "data": {
      "text/markdown": [
       "**Subject:** Urgent: New Office Dress Code and Work Hours Policy 🚨\n",
       "\n",
       "Dear Team,\n",
       "\n",
       "I hope this message finds you well and not too buried under the mountain of plush unicorn toys that mysteriously appeared in the break room. As we continue to innovate and redefine the boundaries of artificial intelligence, it's crucial that our workplace reflects the cutting-edge nature of our work. Therefore, after extensive consultations with our AI advisors, we are excited to announce some revolutionary changes to our office policies, effective immediately.\n",
       "\n",
       "**1. Dress Code: Business Casual is Out, Superhero Capes are In**\n",
       "\n",
       "Forget about your button-downs and polished shoes. From now on, the dress code will be strictly superhero-themed. Capes, masks, and spandex are not just encouraged but required. Our research shows that wearing superhero attire increases productivity by 42.7% and creativity by 69%. Plus, who doesn't want to attend a meeting as the Flash or Wonder Woman?\n",
       "\n",
       "**2. Work Hours: Say Goodbye to 9-5, Hello to Vampire Hours**\n",
       "\n",
       "In an effort to maximize our global impact and ensure we're always available for our clients in Transylvania, we're shifting our work hours to better align with their time zone. Effective immediately, our new office hours will be from 6 PM to 3 AM. Think of the traffic you'll avoid! Plus, our AI predicts a 33.3% decrease in coffee consumption and a significant increase in team camaraderie as you share ghost stories during breaks.\n",
       "\n",
       "**3. Mandatory Daily Dance-Offs**\n",
       "\n",
       "To boost morale and physical fitness, we're introducing mandatory daily dance-offs at precisely 2:15 AM. Our AI DJ will select the music, ranging from disco classics to K-pop hits. The winner will be granted the prestigious title of \"Dance Commander\" and will have the honor of wearing the LED Disco Ball Helmet for the day.\n",
       "\n",
       "**4. Office Pets Policy: Dragons Welcome**\n",
       "\n",
       "We're expanding our office pet policy to include mythical creatures. That's right, you can now bring your pet dragon to work! Just make sure they're house-trained and can control their fire-breathing in the office. We're all for innovation, but we'd like to avoid any accidental barbecues.\n",
       "\n",
       "We understand these changes might take some getting used to, but we're confident that together, we can embrace our new reality with the same passion and enthusiasm we bring to our work. After all, who else can say their Monday meeting was crashed by a dragon?\n",
       "\n",
       "Happy April Fools' Day!\n",
       "\n",
       "But seriously, the plush unicorns in the break room are up for grabs, and yes, there will be cake at 3 PM today (no joke). Let's continue to make magic happen, one line of code (and one laugh) at a time.\n",
       "\n",
       "Best,\n",
       "[Your Name]\n",
       "CEO, [Your Startup Name]\n",
       "\n",
       "P.S. Please wear your regular clothes tomorrow. Except for Bob. Bob, we really need to talk about your actual cape collection."
      ],
      "text/plain": [
       "<IPython.core.display.Markdown object>"
      ]
     },
     "metadata": {},
     "output_type": "display_data"
    }
   ],
   "source": [
    "render.md(openai.text(prompt, stream=True, tokens=1024))"
   ]
  }
 ],
 "metadata": {
  "kernelspec": {
   "display_name": "Python 3 (ipykernel)",
   "language": "python",
   "name": "python3"
  },
  "language_info": {
   "codemirror_mode": {
    "name": "ipython",
    "version": 3
   },
   "file_extension": ".py",
   "mimetype": "text/x-python",
   "name": "python",
   "nbconvert_exporter": "python",
   "pygments_lexer": "ipython3",
   "version": "3.11.7"
  }
 },
 "nbformat": 4,
 "nbformat_minor": 5
}
