{
 "cells": [
  {
   "cell_type": "code",
   "execution_count": 1,
   "id": "5b0c20de-2122-45be-9919-a0ada36b8f91",
   "metadata": {},
   "outputs": [],
   "source": [
    "import sys\n",
    "import os\n",
    "\n",
    "module_path = os.path.abspath(\"..\")\n",
    "if module_path not in sys.path:\n",
    "    sys.path.insert(0, module_path)"
   ]
  },
  {
   "cell_type": "code",
   "execution_count": 2,
   "id": "10d47b48-ed6b-4423-a30d-3e2e6a4b3f82",
   "metadata": {},
   "outputs": [],
   "source": [
    "from gtsystem import openai, render"
   ]
  },
  {
   "cell_type": "code",
   "execution_count": 3,
   "id": "f68df06a-60f6-4904-9931-1c6146ca2f34",
   "metadata": {},
   "outputs": [],
   "source": [
    "prompt = \"\"\"As a GenAI startup write a funny employee memo on April Fools day\"\"\""
   ]
  },
  {
   "cell_type": "code",
   "execution_count": 4,
   "id": "5334b99d-2cf2-41ca-bd4e-6b3f3c11479e",
   "metadata": {},
   "outputs": [
    {
     "data": {
      "text/markdown": [
       "**Subject:** Urgent: New Office Dress Code and Mandatory Dance-Offs 🕺💃\n",
       "\n",
       "Dear Team,\n",
       "\n",
       "In our continuous effort to innovate and disrupt the status quo, not just in the world of AI but also in workplace culture, we are excited to announce some groundbreaking changes effective immediately. Please read carefully, as these updates require your immediate attention and, most importantly, your unparalleled enthusiasm.\n",
       "\n",
       "**1. New Office Dress Code:**\n",
       "\n",
       "Starting today, April 1st, we are rolling out our new dress code policy, which will be strictly enforced. The theme is \"Retro Futurism.\" Think less Silicon Valley chic and more 1980s space opera. Metallics are encouraged, and if your outfit doesn't include at least one item that could double as a disco ball, you're not doing it right. Bonus points for LED accessories and anything that makes you look like you could be part of a futuristic boy band or girl group.\n",
       "\n",
       "**2. Mandatory Morning Dance-Offs:**\n",
       "\n",
       "To boost morale and physical fitness, we are introducing mandatory morning dance-offs. Before the stand-up meeting, everyone is required to participate in a 5-minute dance battle. The winner will be granted the highly coveted \"Dancing Star\" parking spot for the day and the honor of choosing the next day's dance theme. Please note, saying \"I can't dance\" will automatically enroll you in our after-hours dance workshop hosted by our very own CFO, \"Breakdance Bob.\"\n",
       "\n",
       "**3. Meetings on the Move:**\n",
       "\n",
       "Forget sit-down meetings; we're taking things up a notch with \"Meetings on the Move.\" All team meetings will now be conducted while conga-lining through the office. This will not only make meetings more dynamic but will also ensure that everyone gets their steps in. Efficiency and fitness, hand in hand!\n",
       "\n",
       "**4. The Office Petting Zoo:**\n",
       "\n",
       "To reduce stress and increase workplace happiness, we're introducing an office petting zoo. Every Monday, a selection of friendly goats, llamas, and miniature ponies will be available for cuddles and selfies. Please refrain from bringing any into the server room, as goats have shown a peculiar appetite for fiber optics.\n",
       "\n",
       "**5. AI-Powered Decision Making:**\n",
       "\n",
       "Lastly, all decisions, including project allocations, lunch orders, and even code reviews, will now be determined by our newly developed AI, \"Decide-o-Tron 3000.\" Its algorithms are based on highly sophisticated criteria, including astrological signs, current weather patterns, and the latest TikTok trends.\n",
       "\n",
       "We are confident these changes will propel our productivity, creativity, and overall workplace satisfaction to new heights. Your immediate compliance is appreciated, and we look forward to seeing everyone in their best retro-futuristic attire tomorrow.\n",
       "\n",
       "Happy April Fools' Day! 🎉\n",
       "\n",
       "But seriously, folks, while we're all about fun and games, let's remember to keep pushing the boundaries of innovation and teamwork. Here's to a fantastic month ahead, filled with real achievements and maybe just a bit of the absurdity mentioned above.\n",
       "\n",
       "Best,\n",
       "[Your Name]\n",
       "CEO, [Your Startup Name]\n",
       "\n",
       "P.S. No, we're not really enforcing a new dress code, but if anyone feels inspired, we're all for it. And who knows? Maybe one dance-off won't hurt. 😉"
      ],
      "text/plain": [
       "<IPython.core.display.Markdown object>"
      ]
     },
     "metadata": {},
     "output_type": "display_data"
    }
   ],
   "source": [
    "render.md(openai.text(prompt, tokens=1024))"
   ]
  }
 ],
 "metadata": {
  "kernelspec": {
   "display_name": "Python 3 (ipykernel)",
   "language": "python",
   "name": "python3"
  },
  "language_info": {
   "codemirror_mode": {
    "name": "ipython",
    "version": 3
   },
   "file_extension": ".py",
   "mimetype": "text/x-python",
   "name": "python",
   "nbconvert_exporter": "python",
   "pygments_lexer": "ipython3",
   "version": "3.11.7"
  }
 },
 "nbformat": 4,
 "nbformat_minor": 5
}
