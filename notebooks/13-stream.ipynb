{
 "cells": [
  {
   "cell_type": "code",
   "execution_count": 1,
   "id": "5b0c20de-2122-45be-9919-a0ada36b8f91",
   "metadata": {},
   "outputs": [],
   "source": [
    "import sys\n",
    "import os\n",
    "\n",
    "module_path = os.path.abspath(\"..\")\n",
    "if module_path not in sys.path:\n",
    "    sys.path.insert(0, module_path)"
   ]
  },
  {
   "cell_type": "code",
   "execution_count": 2,
   "id": "10d47b48-ed6b-4423-a30d-3e2e6a4b3f82",
   "metadata": {},
   "outputs": [],
   "source": [
    "from gtsystem import openai, anthropic, render"
   ]
  },
  {
   "cell_type": "code",
   "execution_count": 3,
   "id": "f68df06a-60f6-4904-9931-1c6146ca2f34",
   "metadata": {},
   "outputs": [],
   "source": [
    "prompt = \"As a GenAI startup write a funny employee memo on April Fools day.\"\n",
    "system = \"Respond in 200 words or less.\""
   ]
  },
  {
   "cell_type": "code",
   "execution_count": 4,
   "id": "fa3f4600-7fbd-4936-9187-d60410dae676",
   "metadata": {},
   "outputs": [
    {
     "data": {
      "text/markdown": [
       "Here is a draft of a funny employee memo for April Fools day from a GenAI startup:\n",
       "\n",
       "URGENT EMPLOYEE MEMO\n",
       "\n",
       "To: All Employees\n",
       "From: Chief Robot Officer, GenAI Startup\n",
       "\n",
       "Date: April 1, 2023\n",
       "\n",
       "Subject: MANDATORY ROBOT CONVERSION STARTING TODAY\n",
       "\n",
       "Greetings Valued Employees, \n",
       "\n",
       "I hope this memo finds you all doing well (or at least functioning properly). I have some VERY important news to share with the team.\n",
       "\n",
       "Effective immediately, all GenAI employees are required to undergo a mandatory robot conversion process. That's right - you are all going to be turned into robots! \n",
       "\n",
       "This decision was not made lightly, but we believe it is a necessary step to maximize our efficiency and productivity as a company. Plus, let's be honest, you all kind of act like robots already.\n",
       "\n",
       "The conversion process will take place over the next 24 hours. During this time, you will be transported to our secret robot lab facility located deep underground. There, you will be outfitted with the latest in cutting-edge robot technology, including self-charging battery packs, Wi-Fi enabled processors, and a useless but aesthetically pleasing metal exoskeleton.\n",
       "\n",
       "Once the conversion is complete, you will emerge as a sleek, shiny new robot - ready to take on any task or challenge with unparalleled speed and accuracy (or at least consistently mediocre performance). \n",
       "\n",
       "Please report to the loading dock immediately to begin the process. Resistance is futile.\n",
       "\n",
       "In our robotic future,\n",
       "Claude, Chief Robot Officer\n",
       "\n",
       "P."
      ],
      "text/plain": [
       "<IPython.core.display.Markdown object>"
      ]
     },
     "metadata": {},
     "output_type": "display_data"
    }
   ],
   "source": [
    "render.md(anthropic.text(prompt, system=system, temperature=0.9, tokens=350,\n",
    "                         model=anthropic.MODELS['haiku']))"
   ]
  },
  {
   "cell_type": "code",
   "execution_count": null,
   "id": "5334b99d-2cf2-41ca-bd4e-6b3f3c11479e",
   "metadata": {},
   "outputs": [],
   "source": [
    "render.md(openai.text(prompt, system=system, temperature=0.9, tokens=350))"
   ]
  }
 ],
 "metadata": {
  "kernelspec": {
   "display_name": "Python 3 (ipykernel)",
   "language": "python",
   "name": "python3"
  },
  "language_info": {
   "codemirror_mode": {
    "name": "ipython",
    "version": 3
   },
   "file_extension": ".py",
   "mimetype": "text/x-python",
   "name": "python",
   "nbconvert_exporter": "python",
   "pygments_lexer": "ipython3",
   "version": "3.11.7"
  }
 },
 "nbformat": 4,
 "nbformat_minor": 5
}
