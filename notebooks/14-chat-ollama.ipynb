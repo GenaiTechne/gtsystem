{
 "cells": [
  {
   "cell_type": "code",
   "execution_count": 1,
   "id": "6a4b30db-b23a-4743-be9f-b581155f3a3b",
   "metadata": {},
   "outputs": [],
   "source": [
    "import sys\n",
    "import os\n",
    "\n",
    "module_path = os.path.abspath(\"..\")\n",
    "if module_path not in sys.path:\n",
    "    sys.path.insert(0, module_path)"
   ]
  },
  {
   "cell_type": "code",
   "execution_count": 2,
   "id": "546b7d33-289d-4348-ad23-2d10d13ebf0b",
   "metadata": {},
   "outputs": [],
   "source": [
    "from gtsystem import ollama, render"
   ]
  },
  {
   "cell_type": "code",
   "execution_count": 3,
   "id": "d8f2d704-cd3d-4726-9508-eb6f3a6ed749",
   "metadata": {},
   "outputs": [
    {
     "data": {
      "text/markdown": [
       "Bill Gates' mother is Mary Maxwell Gates."
      ],
      "text/plain": [
       "<IPython.core.display.Markdown object>"
      ]
     },
     "metadata": {},
     "output_type": "display_data"
    }
   ],
   "source": [
    "render.md(ollama.chat('Who is the mother of Bill Gates?', system='Respond in one sentence only.'))"
   ]
  },
  {
   "cell_type": "code",
   "execution_count": 4,
   "id": "ade1dab9-fc10-4c9f-82db-593bac804534",
   "metadata": {},
   "outputs": [
    {
     "data": {
      "text/markdown": [
       "Bill Gates' father is William H. Gates Jr."
      ],
      "text/plain": [
       "<IPython.core.display.Markdown object>"
      ]
     },
     "metadata": {},
     "output_type": "display_data"
    }
   ],
   "source": [
    "render.md(ollama.chat('Who is his father?'))"
   ]
  },
  {
   "cell_type": "code",
   "execution_count": 5,
   "id": "52705b51-73d2-4084-94ea-9cc0942618bd",
   "metadata": {},
   "outputs": [
    {
     "data": {
      "text/markdown": [
       "William H. Gates Jr. and Mary Maxwell Gates were married on May 14, 1934."
      ],
      "text/plain": [
       "<IPython.core.display.Markdown object>"
      ]
     },
     "metadata": {},
     "output_type": "display_data"
    }
   ],
   "source": [
    "render.md(ollama.chat('When were they married?'))"
   ]
  },
  {
   "cell_type": "code",
   "execution_count": 6,
   "id": "2228642a-a48d-4c39-a9aa-0a36548b5381",
   "metadata": {},
   "outputs": [
    {
     "data": {
      "text/markdown": [
       "As of 2023, Bill Gates' net worth is estimated to be around $220 billion, while his father William H. Gates Jr.'s net worth is not publicly disclosed as he passed away in 2006 with a relatively modest estate."
      ],
      "text/plain": [
       "<IPython.core.display.Markdown object>"
      ]
     },
     "metadata": {},
     "output_type": "display_data"
    }
   ],
   "source": [
    "render.md(ollama.chat('What is their individual net worth?'))"
   ]
  },
  {
   "cell_type": "code",
   "execution_count": 7,
   "id": "a8dfc8d8-8172-40f9-9199-638eba9fe678",
   "metadata": {},
   "outputs": [
    {
     "name": "stdout",
     "output_type": "stream",
     "text": [
      "Chat saved to ollama_chats/240424093623-Who-is-the-mother-of-Bill-Gates.json\n"
     ]
    }
   ],
   "source": [
    "ollama.CHAT.save()"
   ]
  },
  {
   "cell_type": "code",
   "execution_count": 11,
   "id": "66827c9b-7cfc-4293-8114-fdfd07204de8",
   "metadata": {},
   "outputs": [
    {
     "data": {
      "text/markdown": [
       "| Rank | Building | Height (meters) |\n",
       "|---|---|---|\n",
       "| 1 | Burj Khalifa | 828 |\n",
       "| 2 | Shanghai Tower | 263 |\n",
       "| 3 | Ping An Financial Center | 233 |\n",
       "| 4 | One World Trade Center | 228 |\n",
       "| 5 | Shanghai World Financial Center | 216 |"
      ],
      "text/plain": [
       "<IPython.core.display.Markdown object>"
      ]
     },
     "metadata": {},
     "output_type": "display_data"
    }
   ],
   "source": [
    "render.md(ollama.chat('Create a markdown table of 5 tallest buildings', reset=True, model=\"gemma\"))"
   ]
  },
  {
   "cell_type": "code",
   "execution_count": 12,
   "id": "ac39ccfd-4412-497b-aa96-95adf6b88eda",
   "metadata": {},
   "outputs": [
    {
     "data": {
      "text/markdown": [
       "| Rank | Building | Height (meters) | Year Built |\n",
       "|---|---|---|---|\n",
       "| 1 | Burj Khalifa | 828 | 2010 |\n",
       "| 2 | Shanghai Tower | 263 | 2015 |\n",
       "| 3 | Ping An Financial Center | 233 | 2010 |\n",
       "| 4 | One World Trade Center | 228 | 2014 |\n",
       "| 5 | Shanghai World Financial Center | 216 | 2008 |"
      ],
      "text/plain": [
       "<IPython.core.display.Markdown object>"
      ]
     },
     "metadata": {},
     "output_type": "display_data"
    }
   ],
   "source": [
    "render.md(ollama.chat('Add a column for Year Built', model=\"gemma\"))"
   ]
  },
  {
   "cell_type": "code",
   "execution_count": 14,
   "id": "0ceea0dc-bf80-4c7e-a740-0a9916f0b7b3",
   "metadata": {},
   "outputs": [
    {
     "data": {
      "text/markdown": [
       "| Rank | Building | Height (meters) | Floors |\n",
       "|---|---|---|---|\n",
       "| 1 | Burj Khalifa | 828 | 163 |\n",
       "| 2 | Shanghai Tower | 263 | 103 |\n",
       "| 3 | Ping An Financial Center | 233 | 84 |\n",
       "| 4 | One World Trade Center | 228 | 104 |\n",
       "| 5 | Shanghai World Financial Center | 216 | 84 |"
      ],
      "text/plain": [
       "<IPython.core.display.Markdown object>"
      ]
     },
     "metadata": {},
     "output_type": "display_data"
    }
   ],
   "source": [
    "render.md(ollama.chat('Remove Height in feet and add a column for Floors', model=\"gemma\"))"
   ]
  },
  {
   "cell_type": "code",
   "execution_count": 15,
   "id": "67a21357-331e-45b1-8413-b48f4f7d2e3e",
   "metadata": {},
   "outputs": [
    {
     "name": "stdout",
     "output_type": "stream",
     "text": [
      "Chat saved to ollama_chats/240424093840-Create-a-markdown-table-of-5-tallest-buildings.json\n"
     ]
    }
   ],
   "source": [
    "ollama.CHAT.save()"
   ]
  },
  {
   "cell_type": "code",
   "execution_count": 16,
   "id": "d5b4ab22-173c-402d-a59a-e693e192d3c4",
   "metadata": {},
   "outputs": [
    {
     "data": {
      "text/plain": [
       "['240424093840-Create-a-markdown-table-of-5-tallest-buildings.json',\n",
       " '240424093623-Who-is-the-mother-of-Bill-Gates.json']"
      ]
     },
     "execution_count": 16,
     "metadata": {},
     "output_type": "execute_result"
    }
   ],
   "source": [
    "ollama.CHAT.list()"
   ]
  },
  {
   "cell_type": "code",
   "execution_count": 18,
   "id": "f2418411-baf0-4462-bb49-cac4b4e95d57",
   "metadata": {},
   "outputs": [
    {
     "name": "stdout",
     "output_type": "stream",
     "text": [
      "Chat loaded from ollama_chats/240424093623-Who-is-the-mother-of-Bill-Gates.json\n"
     ]
    }
   ],
   "source": [
    "chat = ollama.CHAT.load('240424093623-Who-is-the-mother-of-Bill-Gates.json')"
   ]
  },
  {
   "cell_type": "code",
   "execution_count": 19,
   "id": "32415896-6c4d-4230-8877-1a1bb522206a",
   "metadata": {},
   "outputs": [
    {
     "data": {
      "text/markdown": [
       "⚙️ *Respond in one sentence only.*\n",
       "\n",
       "👤 **Who is the mother of Bill Gates?**\n",
       "\n",
       "💬 Bill Gates' mother is Mary Maxwell Gates.\n",
       "\n",
       "👤 **Who is his father?**\n",
       "\n",
       "💬 Bill Gates' father is William H. Gates Jr.\n",
       "\n",
       "👤 **When were they married?**\n",
       "\n",
       "💬 William H. Gates Jr. and Mary Maxwell Gates were married on May 14, 1934.\n",
       "\n",
       "👤 **What is their individual net worth?**\n",
       "\n",
       "💬 As of 2023, Bill Gates' net worth is estimated to be around $220 billion, while his father William H. Gates Jr.'s net worth is not publicly disclosed as he passed away in 2006 with a relatively modest estate."
      ],
      "text/plain": [
       "<IPython.core.display.Markdown object>"
      ]
     },
     "metadata": {},
     "output_type": "display_data"
    }
   ],
   "source": [
    "render.chat(chat)"
   ]
  },
  {
   "cell_type": "code",
   "execution_count": 20,
   "id": "66e17d54-7c12-4d35-8853-12aea414fb35",
   "metadata": {},
   "outputs": [
    {
     "data": {
      "text/markdown": [
       "Bill Gates' father, William H. Gates Jr., worked at the Dartmouth College and later became a tax attorney at the law firm of Seaver, Thorpe & Walsh."
      ],
      "text/plain": [
       "<IPython.core.display.Markdown object>"
      ]
     },
     "metadata": {},
     "output_type": "display_data"
    }
   ],
   "source": [
    "render.md(ollama.chat('Where did they work?'))"
   ]
  }
 ],
 "metadata": {
  "kernelspec": {
   "display_name": "Python 3 (ipykernel)",
   "language": "python",
   "name": "python3"
  },
  "language_info": {
   "codemirror_mode": {
    "name": "ipython",
    "version": 3
   },
   "file_extension": ".py",
   "mimetype": "text/x-python",
   "name": "python",
   "nbconvert_exporter": "python",
   "pygments_lexer": "ipython3",
   "version": "3.11.7"
  }
 },
 "nbformat": 4,
 "nbformat_minor": 5
}
