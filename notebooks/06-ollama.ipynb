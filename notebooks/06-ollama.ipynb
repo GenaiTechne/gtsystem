{
 "cells": [
  {
   "cell_type": "code",
   "execution_count": 1,
   "id": "82c8687d-9787-4d9d-b2bb-48b610261eb2",
   "metadata": {},
   "outputs": [],
   "source": [
    "import os\n",
    "import sys\n",
    "import importlib.util\n",
    "\n",
    "is_installed = importlib.util.find_spec(\"gtsystem\")\n",
    "if not is_installed:\n",
    "    module_path = \"..\"\n",
    "    sys.path.append(os.path.abspath(module_path))\n",
    "\n",
    "from gtsystem import ollama, render, instrument, tasks"
   ]
  },
  {
   "cell_type": "code",
   "execution_count": 2,
   "id": "270a0276-7609-4c70-88aa-ab33c72b7811",
   "metadata": {},
   "outputs": [],
   "source": [
    "tasks.load('../data/openai-examples-21.xlsx')"
   ]
  },
  {
   "cell_type": "code",
   "execution_count": 3,
   "id": "9ba90f4f-e0ea-42b3-a600-c2ecee1386a0",
   "metadata": {},
   "outputs": [
    {
     "data": {
      "text/html": [
       "<style type=\"text/css\">\n",
       "#T_e4922 th {\n",
       "  font-size: 10pt;\n",
       "  text-align: left;\n",
       "}\n",
       "#T_e4922 td {\n",
       "  text-align: left;\n",
       "  word-wrap: break-word;\n",
       "  overflow: hidden;\n",
       "  text-overflow: ellipsis;\n",
       "}\n",
       "#T_e4922 .index_name {\n",
       "  display: none;\n",
       "}\n",
       "#T_e4922 .row_heading {\n",
       "  display: none;\n",
       "}\n",
       "#T_e4922  .blank {\n",
       "  display: none;\n",
       "}\n",
       "</style>\n",
       "<table id=\"T_e4922\">\n",
       "  <thead>\n",
       "    <tr>\n",
       "      <th class=\"blank level0\" >&nbsp;</th>\n",
       "      <th id=\"T_e4922_level0_col0\" class=\"col_heading level0 col0\" >Task</th>\n",
       "      <th id=\"T_e4922_level0_col1\" class=\"col_heading level0 col1\" >Task Types</th>\n",
       "      <th id=\"T_e4922_level0_col2\" class=\"col_heading level0 col2\" >System</th>\n",
       "      <th id=\"T_e4922_level0_col3\" class=\"col_heading level0 col3\" >Prompt</th>\n",
       "      <th id=\"T_e4922_level0_col4\" class=\"col_heading level0 col4\" >Temperature</th>\n",
       "      <th id=\"T_e4922_level0_col5\" class=\"col_heading level0 col5\" >TopP</th>\n",
       "      <th id=\"T_e4922_level0_col6\" class=\"col_heading level0 col6\" >Source</th>\n",
       "    </tr>\n",
       "  </thead>\n",
       "  <tbody>\n",
       "    <tr>\n",
       "      <th id=\"T_e4922_level0_row0\" class=\"row_heading level0 row0\" >14</th>\n",
       "      <td id=\"T_e4922_row0_col0\" class=\"data row0 col0\" >Turn by turn directions</td>\n",
       "      <td id=\"T_e4922_row0_col1\" class=\"data row0 col1\" >Transform; Natural Language</td>\n",
       "      <td id=\"T_e4922_row0_col2\" class=\"data row0 col2\" >You will be provided with a text, and your task is to create a numbered list of turn-by-turn directions from it.</td>\n",
       "      <td id=\"T_e4922_row0_col3\" class=\"data row0 col3\" >Go south on 95 until you hit Sunrise boulevard then take it east to us 1 and head south. Tom Jenkins bbq will be on the left after several miles.</td>\n",
       "      <td id=\"T_e4922_row0_col4\" class=\"data row0 col4\" >0.300000</td>\n",
       "      <td id=\"T_e4922_row0_col5\" class=\"data row0 col5\" >1</td>\n",
       "      <td id=\"T_e4922_row0_col6\" class=\"data row0 col6\" >OpenAI Examples</td>\n",
       "    </tr>\n",
       "  </tbody>\n",
       "</table>\n"
      ],
      "text/plain": [
       "<pandas.io.formats.style.Styler at 0x118bf9a50>"
      ]
     },
     "execution_count": 3,
     "metadata": {},
     "output_type": "execute_result"
    }
   ],
   "source": [
    "render.df(tasks.find('directions'))"
   ]
  },
  {
   "cell_type": "code",
   "execution_count": 4,
   "id": "8f63d391-d7e7-4e9a-8d62-61b9e10a3f48",
   "metadata": {},
   "outputs": [],
   "source": [
    "task = tasks.get('Turn by turn directions')"
   ]
  },
  {
   "cell_type": "code",
   "execution_count": 5,
   "id": "e43c0ca8-294a-4a62-a136-9cb9d194795c",
   "metadata": {},
   "outputs": [
    {
     "data": {
      "text/markdown": [
       "\n",
       "Sure! Here are the turn-by-turn directions based on the text you provided:\n",
       "\n",
       "1. Go south on I-95 until...\n",
       "2. ...you hit Sunrise Boulevard.\n",
       "3. Take Sunrise Boulevard east towards US-1.\n",
       "4. Head south on US-1 for several miles.\n",
       "5. Tom Jenkins BBQ will be on the left."
      ],
      "text/plain": [
       "<IPython.core.display.Markdown object>"
      ]
     },
     "metadata": {},
     "output_type": "display_data"
    }
   ],
   "source": [
    "render.md(ollama.llama_text(*task))"
   ]
  },
  {
   "cell_type": "code",
   "execution_count": 6,
   "id": "21a47c3c-0da0-4fc5-a0e0-b28dac396da1",
   "metadata": {},
   "outputs": [
    {
     "data": {
      "text/markdown": [
       " 1. Travel south on 95 for an extended period of time.\n",
       "2. Look for Sunrise boulevard intersection.\n",
       "3. Turn right (east) onto Sunrise boulevard when you reach it.\n",
       "4. Continue in the east direction on Sunrise boulevard.\n",
       "5. Proceed until Sunrise boulevard intersects with US 1.\n",
       "6. Turn right (south) onto US 1 when you reach it.\n",
       "7. Tom Jenkins BBQ will be located on the left side of the road after several miles have passed."
      ],
      "text/plain": [
       "<IPython.core.display.Markdown object>"
      ]
     },
     "metadata": {},
     "output_type": "display_data"
    }
   ],
   "source": [
    "render.md(ollama.mistral_text(*task))"
   ]
  },
  {
   "cell_type": "code",
   "execution_count": 7,
   "id": "b207d94b-ce27-48ab-bbb3-42eb2ee422eb",
   "metadata": {},
   "outputs": [],
   "source": [
    "system = \"You are a python code generator which only responds in code\"\n",
    "prompt = \"Write a function that outputs the fibonacci sequence\""
   ]
  },
  {
   "cell_type": "code",
   "execution_count": 8,
   "id": "f2b231ea-9d33-49ed-97ec-d0746570c4ca",
   "metadata": {},
   "outputs": [
    {
     "data": {
      "text/markdown": [
       "```\n",
       "def fibonacci(n):\n",
       "    if n <= 1:\n",
       "        return n\n",
       "    else:\n",
       "        return fibonacci(n-1) + fibonacci(n-2)\n",
       "```"
      ],
      "text/plain": [
       "<IPython.core.display.Markdown object>"
      ]
     },
     "metadata": {},
     "output_type": "display_data"
    }
   ],
   "source": [
    "render.md(ollama.codellama(system=system, prompt=prompt))"
   ]
  },
  {
   "cell_type": "code",
   "execution_count": 9,
   "id": "73da207a-0753-47c3-b168-080f5c6efb93",
   "metadata": {},
   "outputs": [],
   "source": [
    "prompt = \"What is in this image?\"\n",
    "url = \"https://upload.wikimedia.org/wikipedia/commons/thumb/8/87/LH_95.jpg/560px-LH_95.jpg\""
   ]
  },
  {
   "cell_type": "code",
   "execution_count": 10,
   "id": "b0269688-9844-4cf6-8d03-682749eb2628",
   "metadata": {},
   "outputs": [
    {
     "data": {
      "text/html": [
       "<img src=\"https://upload.wikimedia.org/wikipedia/commons/thumb/8/87/LH_95.jpg/560px-LH_95.jpg\"/>"
      ],
      "text/plain": [
       "<IPython.core.display.Image object>"
      ]
     },
     "execution_count": 10,
     "metadata": {},
     "output_type": "execute_result"
    }
   ],
   "source": [
    "render.img(url)"
   ]
  },
  {
   "cell_type": "code",
   "execution_count": 11,
   "id": "81e19288-b405-448b-88e2-89f0921bbd4a",
   "metadata": {},
   "outputs": [
    {
     "data": {
      "text/markdown": [
       " The image you've provided appears to be a photograph of the Milky Way galaxy, taken from Earth. It shows a dense region of stars and nebulae, which is characteristic of the galactic plane where our solar system is located. The Milky Way is a barred spiral galaxy that contains billions of stars, including our own Sun. This image captures the beauty and vastness of space, showcasing the interstellar medium filled with dust, hydrogen, helium, and other ionized gases. "
      ],
      "text/plain": [
       "<IPython.core.display.Markdown object>"
      ]
     },
     "metadata": {},
     "output_type": "display_data"
    }
   ],
   "source": [
    "render.md(ollama.llava_url(prompt=prompt, url=url))"
   ]
  },
  {
   "cell_type": "code",
   "execution_count": 12,
   "id": "459328eb-d445-44f6-84f2-430e9ca9f75d",
   "metadata": {},
   "outputs": [
    {
     "data": {
      "text/plain": [
       "{'gtsystem.ollama.llama_text': {'calls': 1,\n",
       "  'total_time': 5.51,\n",
       "  'total_return_size': 313},\n",
       " 'gtsystem.ollama.mistral_text': {'calls': 1,\n",
       "  'total_time': 7.56,\n",
       "  'total_return_size': 471},\n",
       " 'gtsystem.ollama.codellama': {'calls': 1,\n",
       "  'total_time': 5.15,\n",
       "  'total_return_size': 163},\n",
       " 'gtsystem.ollama.llava_url': {'calls': 1,\n",
       "  'total_time': 5.43,\n",
       "  'total_return_size': 519}}"
      ]
     },
     "execution_count": 12,
     "metadata": {},
     "output_type": "execute_result"
    }
   ],
   "source": [
    "instrument.instrument.get_stats()"
   ]
  }
 ],
 "metadata": {
  "kernelspec": {
   "display_name": "Python 3 (ipykernel)",
   "language": "python",
   "name": "python3"
  },
  "language_info": {
   "codemirror_mode": {
    "name": "ipython",
    "version": 3
   },
   "file_extension": ".py",
   "mimetype": "text/x-python",
   "name": "python",
   "nbconvert_exporter": "python",
   "pygments_lexer": "ipython3",
   "version": "3.11.7"
  }
 },
 "nbformat": 4,
 "nbformat_minor": 5
}
