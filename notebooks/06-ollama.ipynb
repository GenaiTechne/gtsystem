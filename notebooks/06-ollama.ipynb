{
 "cells": [
  {
   "cell_type": "code",
   "execution_count": 1,
   "id": "82c8687d-9787-4d9d-b2bb-48b610261eb2",
   "metadata": {},
   "outputs": [],
   "source": [
    "import os\n",
    "import sys\n",
    "import importlib.util\n",
    "\n",
    "is_installed = importlib.util.find_spec(\"gtsystem\")\n",
    "if not is_installed:\n",
    "    print ('Not using PyPi')\n",
    "    module_path = \"..\"\n",
    "    sys.path.append(os.path.abspath(module_path))\n",
    "else:\n",
    "    print ('Loaded gtsystem')\n",
    "\n",
    "from gtsystem import ollama, render, instrument, tasks"
   ]
  },
  {
   "cell_type": "code",
   "execution_count": 2,
   "id": "270a0276-7609-4c70-88aa-ab33c72b7811",
   "metadata": {},
   "outputs": [],
   "source": [
    "tasks.load('../data/openai-examples-21.xlsx')"
   ]
  },
  {
   "cell_type": "code",
   "execution_count": 3,
   "id": "9ba90f4f-e0ea-42b3-a600-c2ecee1386a0",
   "metadata": {},
   "outputs": [
    {
     "data": {
      "text/html": [
       "<style type=\"text/css\">\n",
       "#T_6f321 th {\n",
       "  font-size: 10pt;\n",
       "  text-align: left;\n",
       "}\n",
       "#T_6f321 td {\n",
       "  text-align: left;\n",
       "  word-wrap: break-word;\n",
       "  overflow: hidden;\n",
       "  text-overflow: ellipsis;\n",
       "}\n",
       "#T_6f321 .index_name {\n",
       "  display: none;\n",
       "}\n",
       "#T_6f321 .row_heading {\n",
       "  display: none;\n",
       "}\n",
       "#T_6f321  .blank {\n",
       "  display: none;\n",
       "}\n",
       "</style>\n",
       "<table id=\"T_6f321\">\n",
       "  <thead>\n",
       "    <tr>\n",
       "      <th class=\"blank level0\" >&nbsp;</th>\n",
       "      <th id=\"T_6f321_level0_col0\" class=\"col_heading level0 col0\" >Task</th>\n",
       "      <th id=\"T_6f321_level0_col1\" class=\"col_heading level0 col1\" >Task Types</th>\n",
       "      <th id=\"T_6f321_level0_col2\" class=\"col_heading level0 col2\" >System</th>\n",
       "      <th id=\"T_6f321_level0_col3\" class=\"col_heading level0 col3\" >Prompt</th>\n",
       "      <th id=\"T_6f321_level0_col4\" class=\"col_heading level0 col4\" >Temperature</th>\n",
       "      <th id=\"T_6f321_level0_col5\" class=\"col_heading level0 col5\" >TopP</th>\n",
       "      <th id=\"T_6f321_level0_col6\" class=\"col_heading level0 col6\" >Source</th>\n",
       "    </tr>\n",
       "  </thead>\n",
       "  <tbody>\n",
       "    <tr>\n",
       "      <th id=\"T_6f321_level0_row0\" class=\"row_heading level0 row0\" >14</th>\n",
       "      <td id=\"T_6f321_row0_col0\" class=\"data row0 col0\" >Turn by turn directions</td>\n",
       "      <td id=\"T_6f321_row0_col1\" class=\"data row0 col1\" >Transform; Natural Language</td>\n",
       "      <td id=\"T_6f321_row0_col2\" class=\"data row0 col2\" >You will be provided with a text, and your task is to create a numbered list of turn-by-turn directions from it.</td>\n",
       "      <td id=\"T_6f321_row0_col3\" class=\"data row0 col3\" >Go south on 95 until you hit Sunrise boulevard then take it east to us 1 and head south. Tom Jenkins bbq will be on the left after several miles.</td>\n",
       "      <td id=\"T_6f321_row0_col4\" class=\"data row0 col4\" >0.300000</td>\n",
       "      <td id=\"T_6f321_row0_col5\" class=\"data row0 col5\" >1</td>\n",
       "      <td id=\"T_6f321_row0_col6\" class=\"data row0 col6\" >OpenAI Examples</td>\n",
       "    </tr>\n",
       "  </tbody>\n",
       "</table>\n"
      ],
      "text/plain": [
       "<pandas.io.formats.style.Styler at 0x112f24c10>"
      ]
     },
     "execution_count": 3,
     "metadata": {},
     "output_type": "execute_result"
    }
   ],
   "source": [
    "render.df(tasks.find('directions'))"
   ]
  },
  {
   "cell_type": "code",
   "execution_count": 4,
   "id": "8f63d391-d7e7-4e9a-8d62-61b9e10a3f48",
   "metadata": {},
   "outputs": [],
   "source": [
    "task = tasks.get('Turn by turn directions')"
   ]
  },
  {
   "cell_type": "code",
   "execution_count": 5,
   "id": "e43c0ca8-294a-4a62-a136-9cb9d194795c",
   "metadata": {},
   "outputs": [
    {
     "data": {
      "text/markdown": [
       "\n",
       "Okay! Here are the turn-by-turn directions based on the text you provided:\n",
       "\n",
       "1. Go south on I-95 until you reach Sunrise Boulevard.\n",
       "2. Take Sunrise Boulevard east towards US-1.\n",
       "3. Head south on US-1 for several miles until Tom Jenkins BBQ is on your left."
      ],
      "text/plain": [
       "<IPython.core.display.Markdown object>"
      ]
     },
     "metadata": {},
     "output_type": "display_data"
    }
   ],
   "source": [
    "render.md(ollama.llama_text(*task))"
   ]
  },
  {
   "cell_type": "code",
   "execution_count": 6,
   "id": "21a47c3c-0da0-4fc5-a0e0-b28dac396da1",
   "metadata": {},
   "outputs": [
    {
     "data": {
      "text/markdown": [
       " 1. Travel south on 95 for an extended period of time.\n",
       "2. Look for Sunrise boulevard intersection.\n",
       "3. Turn right (east) onto Sunrise boulevard when you reach it.\n",
       "4. Continue east on Sunrise boulevard for several miles.\n",
       "5. Locate Tom Jenkins BBQ on the left side of the road after traveling for a few more miles."
      ],
      "text/plain": [
       "<IPython.core.display.Markdown object>"
      ]
     },
     "metadata": {},
     "output_type": "display_data"
    }
   ],
   "source": [
    "render.md(ollama.mistral_text(*task))"
   ]
  },
  {
   "cell_type": "code",
   "execution_count": 7,
   "id": "a080b89e-436c-4332-8c5e-116a33f64698",
   "metadata": {},
   "outputs": [
    {
     "data": {
      "text/markdown": [
       "1. Go south on 95 until you hit Sunrise boulevard.\n",
       "2. Take Sunrise boulevard east to us 1.\n",
       "3. Head south on us 1.\n",
       "4. Tom Jenkins bbq will be on the left after several miles."
      ],
      "text/plain": [
       "<IPython.core.display.Markdown object>"
      ]
     },
     "metadata": {},
     "output_type": "display_data"
    }
   ],
   "source": [
    "render.md(ollama.gemma_text(*task))"
   ]
  },
  {
   "cell_type": "code",
   "execution_count": 8,
   "id": "8f4d46d8-c827-495a-b42a-14ee1984c105",
   "metadata": {},
   "outputs": [
    {
     "data": {
      "text/markdown": [
       "1. Go south on 95 until you hit Sunrise boulevard.\n",
       "2. Take Sunrise boulevard east to us 1.\n",
       "3. Head south on us 1.\n",
       "4. Tom Jenkins bbq will be on the left after several miles."
      ],
      "text/plain": [
       "<IPython.core.display.Markdown object>"
      ]
     },
     "metadata": {},
     "output_type": "display_data"
    }
   ],
   "source": [
    "render.md(ollama.text(*task))"
   ]
  },
  {
   "cell_type": "code",
   "execution_count": 9,
   "id": "b207d94b-ce27-48ab-bbb3-42eb2ee422eb",
   "metadata": {},
   "outputs": [],
   "source": [
    "system = \"You are a python code generator which only responds in code\"\n",
    "prompt = \"Write a function that outputs the fibonacci sequence\""
   ]
  },
  {
   "cell_type": "code",
   "execution_count": 10,
   "id": "f2b231ea-9d33-49ed-97ec-d0746570c4ca",
   "metadata": {},
   "outputs": [
    {
     "data": {
      "text/markdown": [
       "```\n",
       "def fibonacci(n):\n",
       "    if n <= 1:\n",
       "        return n\n",
       "    else:\n",
       "        return fibonacci(n-1) + fibonacci(n-2)\n",
       "```"
      ],
      "text/plain": [
       "<IPython.core.display.Markdown object>"
      ]
     },
     "metadata": {},
     "output_type": "display_data"
    }
   ],
   "source": [
    "render.md(ollama.codellama_text(prompt, system))"
   ]
  },
  {
   "cell_type": "code",
   "execution_count": 11,
   "id": "459328eb-d445-44f6-84f2-430e9ca9f75d",
   "metadata": {},
   "outputs": [
    {
     "data": {
      "text/markdown": [
       "| Model | Calls | Total Time | Total Return Size | Average Time | Average Size |\n",
       "|-------|-------|------------|-------------------|--------------|--------------|\n",
       "| gtsystem.ollama.codellama_text | 1 | 1.38 | 163.00 | 1.38 | 163.00 |\n",
       "| gtsystem.ollama.mistral_text | 1 | 2.61 | 360.00 | 2.61 | 360.00 |\n",
       "| gtsystem.ollama.llama_text | 1 | 4.29 | 304.00 | 4.29 | 304.00 |\n",
       "| gtsystem.ollama.gemma_text | 2 | 11.18 | 444.00 | 5.59 | 222.00 |\n"
      ],
      "text/plain": [
       "<IPython.core.display.Markdown object>"
      ]
     },
     "metadata": {},
     "output_type": "display_data"
    }
   ],
   "source": [
    "render.md(instrument.metrics.stats())"
   ]
  }
 ],
 "metadata": {
  "kernelspec": {
   "display_name": "Python 3 (ipykernel)",
   "language": "python",
   "name": "python3"
  },
  "language_info": {
   "codemirror_mode": {
    "name": "ipython",
    "version": 3
   },
   "file_extension": ".py",
   "mimetype": "text/x-python",
   "name": "python",
   "nbconvert_exporter": "python",
   "pygments_lexer": "ipython3",
   "version": "3.11.7"
  }
 },
 "nbformat": 4,
 "nbformat_minor": 5
}
