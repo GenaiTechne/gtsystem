{
 "cells": [
  {
   "cell_type": "code",
   "execution_count": 16,
   "id": "6a4b30db-b23a-4743-be9f-b581155f3a3b",
   "metadata": {},
   "outputs": [],
   "source": [
    "import os\n",
    "import sys\n",
    "import importlib.util\n",
    "\n",
    "is_installed = importlib.util.find_spec(\"gtsystem\")\n",
    "if not is_installed:\n",
    "    print ('Not using PyPi')\n",
    "    module_path = \"..\"\n",
    "    sys.path.append(os.path.abspath(module_path))\n",
    "else:\n",
    "    print ('Loaded gtsystem')\n",
    "from gtsystem import openai, render"
   ]
  },
  {
   "cell_type": "code",
   "execution_count": 17,
   "id": "d8f2d704-cd3d-4726-9508-eb6f3a6ed749",
   "metadata": {},
   "outputs": [
    {
     "data": {
      "text/markdown": [
       "The mother of Bill Gates is Mary Maxwell Gates."
      ],
      "text/plain": [
       "<IPython.core.display.Markdown object>"
      ]
     },
     "metadata": {},
     "output_type": "display_data"
    }
   ],
   "source": [
    "render.md(openai.gpt4_chat('Who is the mother of Bill Gates?', system='Respond in one sentence only.'))"
   ]
  },
  {
   "cell_type": "code",
   "execution_count": 18,
   "id": "ade1dab9-fc10-4c9f-82db-593bac804534",
   "metadata": {},
   "outputs": [
    {
     "data": {
      "text/markdown": [
       "Bill Gates' father is William H. Gates Sr."
      ],
      "text/plain": [
       "<IPython.core.display.Markdown object>"
      ]
     },
     "metadata": {},
     "output_type": "display_data"
    }
   ],
   "source": [
    "render.md(openai.gpt4_chat('Who is his father?'))"
   ]
  },
  {
   "cell_type": "code",
   "execution_count": 19,
   "id": "52705b51-73d2-4084-94ea-9cc0942618bd",
   "metadata": {},
   "outputs": [
    {
     "data": {
      "text/markdown": [
       "Bill Gates' parents, Mary Maxwell Gates and William H. Gates Sr., were married in 1951."
      ],
      "text/plain": [
       "<IPython.core.display.Markdown object>"
      ]
     },
     "metadata": {},
     "output_type": "display_data"
    }
   ],
   "source": [
    "render.md(openai.gpt4_chat('When were they married?'))"
   ]
  },
  {
   "cell_type": "code",
   "execution_count": 20,
   "id": "2228642a-a48d-4c39-a9aa-0a36548b5381",
   "metadata": {},
   "outputs": [
    {
     "data": {
      "text/markdown": [
       "I don't have specific information on the individual net worth of Bill Gates' parents."
      ],
      "text/plain": [
       "<IPython.core.display.Markdown object>"
      ]
     },
     "metadata": {},
     "output_type": "display_data"
    }
   ],
   "source": [
    "render.md(openai.gpt4_chat('What is their individual net worth?'))"
   ]
  },
  {
   "cell_type": "code",
   "execution_count": 21,
   "id": "66827c9b-7cfc-4293-8114-fdfd07204de8",
   "metadata": {},
   "outputs": [
    {
     "data": {
      "text/markdown": [
       "| Building Name       | City           | Height (m) | Floors |\n",
       "|---------------------|----------------|------------|--------|\n",
       "| Burj Khalifa        | Dubai          | 828        | 163    |\n",
       "| Shanghai Tower      | Shanghai       | 632        | 128    |\n",
       "| Abraj Al-Bait Clock Tower | Mecca     | 601        | 120    |\n",
       "| Ping An Finance Center | Shenzhen    | 599        | 115    |\n",
       "| Lotte World Tower   | Seoul          | 555        | 123    |"
      ],
      "text/plain": [
       "<IPython.core.display.Markdown object>"
      ]
     },
     "metadata": {},
     "output_type": "display_data"
    }
   ],
   "source": [
    "render.md(openai.gpt3_chat('Create a markdown table of 5 tallest buildings', reset=True))"
   ]
  },
  {
   "cell_type": "code",
   "execution_count": 22,
   "id": "ac39ccfd-4412-497b-aa96-95adf6b88eda",
   "metadata": {},
   "outputs": [
    {
     "data": {
      "text/markdown": [
       "| Building Name        | Height (m) | Year Built |\n",
       "|----------------------|------------|------------|\n",
       "| Burj Khalifa         | 828        | 2010       |\n",
       "| Shanghai Tower       | 632        | 2015       |\n",
       "| Abraj Al-Bait Clock Tower | 601     | 2012       |\n",
       "| Ping An Finance Center | 599       | 2017       |\n",
       "| Lotte World Tower    | 555        | 2016       |"
      ],
      "text/plain": [
       "<IPython.core.display.Markdown object>"
      ]
     },
     "metadata": {},
     "output_type": "display_data"
    }
   ],
   "source": [
    "render.md(openai.gpt3_chat('Add a column for Year Built'))"
   ]
  },
  {
   "cell_type": "code",
   "execution_count": 23,
   "id": "0ceea0dc-bf80-4c7e-a740-0a9916f0b7b3",
   "metadata": {},
   "outputs": [
    {
     "data": {
      "text/markdown": [
       "| Building Name          | City           | Country | Height (m) | Floors | Year Built |\n",
       "|------------------------|----------------|---------|------------|--------|------------|\n",
       "| Burj Khalifa           | Dubai          | UAE     | 828        | 163    | 2010       |\n",
       "| Shanghai Tower         | Shanghai       | China   | 632        | 128    | 2015       |\n",
       "| Abraj Al-Bait Clock Tower | Mecca       | Saudi Arabia | 601    | 120    | 2012       |\n",
       "| Ping An Finance Center | Shenzhen       | China   | 599        | 115    | 2017       |\n",
       "| Lotte World Tower      | Seoul          | South Korea | 555    | 123    | 2016       |"
      ],
      "text/plain": [
       "<IPython.core.display.Markdown object>"
      ]
     },
     "metadata": {},
     "output_type": "display_data"
    }
   ],
   "source": [
    "render.md(openai.gpt3_chat('Remove Height in feet and add a column for Floors'))"
   ]
  },
  {
   "cell_type": "code",
   "execution_count": 24,
   "id": "a0c4fbd8-d062-4657-804d-fd4fd5057117",
   "metadata": {},
   "outputs": [
    {
     "data": {
      "text/html": [
       "<img src=\"https://upload.wikimedia.org/wikipedia/commons/8/80/NYC_wideangle_south_from_Top_of_the_Rock.jpg\"/>"
      ],
      "text/plain": [
       "<IPython.core.display.Image object>"
      ]
     },
     "execution_count": 24,
     "metadata": {},
     "output_type": "execute_result"
    }
   ],
   "source": [
    "image_url = \"https://upload.wikimedia.org/wikipedia/commons/8/80/NYC_wideangle_south_from_Top_of_the_Rock.jpg\"\n",
    "render.img(url=image_url)"
   ]
  },
  {
   "cell_type": "code",
   "execution_count": 25,
   "id": "4d1b7e17-d66a-4305-b4ac-7d6c08c7afe6",
   "metadata": {},
   "outputs": [
    {
     "data": {
      "text/markdown": [
       "This is a view of Midtown Manhattan in New York City. The prominent building with the green spire is the Empire State Building, one of the most iconic landmarks of New York."
      ],
      "text/plain": [
       "<IPython.core.display.Markdown object>"
      ]
     },
     "metadata": {},
     "output_type": "display_data"
    }
   ],
   "source": [
    "render.md(openai.gpt4_chat('Which place is this?', image_url=image_url, reset=True))"
   ]
  },
  {
   "cell_type": "code",
   "execution_count": 26,
   "id": "b145faf0-3527-48b9-92c6-8b2e3112825b",
   "metadata": {},
   "outputs": [
    {
     "data": {
      "text/markdown": [
       "It's difficult to provide an exact count of the buildings in this image due to the density and overlapping structures, but there are certainly dozens of buildings visible in this view of Manhattan, New York City. The skyline includes a mix of high-rise office buildings, residential towers, and other structures."
      ],
      "text/plain": [
       "<IPython.core.display.Markdown object>"
      ]
     },
     "metadata": {},
     "output_type": "display_data"
    }
   ],
   "source": [
    "render.md(openai.gpt4_chat('How many buildings do you see in this image?'))"
   ]
  },
  {
   "cell_type": "code",
   "execution_count": 27,
   "id": "b53380f5-6bad-4132-8ca2-77b56b419c74",
   "metadata": {},
   "outputs": [
    {
     "data": {
      "text/markdown": [
       "The logo visible on the high-rise building on the left side of the image is \"MetLife.\""
      ],
      "text/plain": [
       "<IPython.core.display.Markdown object>"
      ]
     },
     "metadata": {},
     "output_type": "display_data"
    }
   ],
   "source": [
    "render.md(openai.gpt4_chat('Which logo is visible on a high rise building on the left?'))"
   ]
  },
  {
   "cell_type": "code",
   "execution_count": 28,
   "id": "8ea9007e-36e6-4d9c-9037-4d04e00b2c1d",
   "metadata": {},
   "outputs": [
    {
     "data": {
      "text/markdown": [
       "The water body visible on the right side of the image is the Hudson River."
      ],
      "text/plain": [
       "<IPython.core.display.Markdown object>"
      ]
     },
     "metadata": {},
     "output_type": "display_data"
    }
   ],
   "source": [
    "render.md(openai.gpt4_chat('Which water body is shown on the right?'))"
   ]
  },
  {
   "cell_type": "code",
   "execution_count": 29,
   "id": "13872331-147b-4643-8ec2-787dbb9042b3",
   "metadata": {},
   "outputs": [
    {
     "data": {
      "text/markdown": [
       "The image appears to be taken during sunset, as indicated by the warm colors in the sky and the lighting on the buildings."
      ],
      "text/plain": [
       "<IPython.core.display.Markdown object>"
      ]
     },
     "metadata": {},
     "output_type": "display_data"
    }
   ],
   "source": [
    "render.md(openai.gpt4_chat('What time of day is it?'))"
   ]
  },
  {
   "cell_type": "code",
   "execution_count": 30,
   "id": "2023a2d6-0f5f-4727-a3c3-b8a6ec38c31f",
   "metadata": {},
   "outputs": [
    {
     "data": {
      "text/markdown": [
       "The MetLife Building, visible in the image with its logo, has 59 floors."
      ],
      "text/plain": [
       "<IPython.core.display.Markdown object>"
      ]
     },
     "metadata": {},
     "output_type": "display_data"
    }
   ],
   "source": [
    "render.md(openai.gpt4_chat('How many floors is the MetLife building?'))"
   ]
  }
 ],
 "metadata": {
  "kernelspec": {
   "display_name": "Python 3 (ipykernel)",
   "language": "python",
   "name": "python3"
  },
  "language_info": {
   "codemirror_mode": {
    "name": "ipython",
    "version": 3
   },
   "file_extension": ".py",
   "mimetype": "text/x-python",
   "name": "python",
   "nbconvert_exporter": "python",
   "pygments_lexer": "ipython3",
   "version": "3.11.7"
  }
 },
 "nbformat": 4,
 "nbformat_minor": 5
}
