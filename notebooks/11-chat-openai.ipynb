{
 "cells": [
  {
   "cell_type": "code",
   "execution_count": 1,
   "id": "6a4b30db-b23a-4743-be9f-b581155f3a3b",
   "metadata": {},
   "outputs": [],
   "source": [
    "import sys\n",
    "import os\n",
    "\n",
    "module_path = os.path.abspath(\"..\")\n",
    "if module_path not in sys.path:\n",
    "    sys.path.insert(0, module_path)\n",
    "\n",
    "from gtsystem import openai, render"
   ]
  },
  {
   "cell_type": "code",
   "execution_count": 2,
   "id": "d8f2d704-cd3d-4726-9508-eb6f3a6ed749",
   "metadata": {},
   "outputs": [
    {
     "data": {
      "text/markdown": [
       "The mother of Bill Gates is Mary Maxwell Gates."
      ],
      "text/plain": [
       "<IPython.core.display.Markdown object>"
      ]
     },
     "metadata": {},
     "output_type": "display_data"
    }
   ],
   "source": [
    "render.md(openai.gpt4_chat('Who is the mother of Bill Gates?', system='Respond in one sentence only.'))"
   ]
  },
  {
   "cell_type": "code",
   "execution_count": 3,
   "id": "ade1dab9-fc10-4c9f-82db-593bac804534",
   "metadata": {},
   "outputs": [
    {
     "data": {
      "text/markdown": [
       "Bill Gates' father is William H. Gates Sr."
      ],
      "text/plain": [
       "<IPython.core.display.Markdown object>"
      ]
     },
     "metadata": {},
     "output_type": "display_data"
    }
   ],
   "source": [
    "render.md(openai.gpt4_chat('Who is his father?'))"
   ]
  },
  {
   "cell_type": "code",
   "execution_count": 4,
   "id": "52705b51-73d2-4084-94ea-9cc0942618bd",
   "metadata": {},
   "outputs": [
    {
     "data": {
      "text/markdown": [
       "Bill Gates' parents, Mary Maxwell Gates and William H. Gates Sr., were married in 1951."
      ],
      "text/plain": [
       "<IPython.core.display.Markdown object>"
      ]
     },
     "metadata": {},
     "output_type": "display_data"
    }
   ],
   "source": [
    "render.md(openai.gpt4_chat('When were they married?'))"
   ]
  },
  {
   "cell_type": "code",
   "execution_count": 5,
   "id": "2228642a-a48d-4c39-a9aa-0a36548b5381",
   "metadata": {},
   "outputs": [
    {
     "data": {
      "text/markdown": [
       "As of my last update, specific individual net worth details for Mary Maxwell Gates and William H. Gates Sr. are not publicly available."
      ],
      "text/plain": [
       "<IPython.core.display.Markdown object>"
      ]
     },
     "metadata": {},
     "output_type": "display_data"
    }
   ],
   "source": [
    "render.md(openai.gpt4_chat('What is their individual net worth?'))"
   ]
  },
  {
   "cell_type": "code",
   "execution_count": 6,
   "id": "a8dfc8d8-8172-40f9-9199-638eba9fe678",
   "metadata": {},
   "outputs": [
    {
     "name": "stdout",
     "output_type": "stream",
     "text": [
      "Chat saved to openai_chats/240417071356-Who-is-the-mother-of-Bill-Gates.json\n"
     ]
    }
   ],
   "source": [
    "openai.CHAT_CONTEXT.save_chat()"
   ]
  },
  {
   "cell_type": "code",
   "execution_count": 7,
   "id": "66827c9b-7cfc-4293-8114-fdfd07204de8",
   "metadata": {},
   "outputs": [
    {
     "data": {
      "text/markdown": [
       "| Building Name       | City           | Height (m) | Floors |\n",
       "|---------------------|----------------|------------|--------|\n",
       "| Burj Khalifa        | Dubai          | 828        | 163    |\n",
       "| Shanghai Tower      | Shanghai       | 632        | 128    |\n",
       "| Abraj Al-Bait Clock Tower | Mecca     | 601        | 120    |\n",
       "| Ping An Finance Center | Shenzhen    | 599        | 115    |\n",
       "| Lotte World Tower   | Seoul          | 555        | 123    |"
      ],
      "text/plain": [
       "<IPython.core.display.Markdown object>"
      ]
     },
     "metadata": {},
     "output_type": "display_data"
    }
   ],
   "source": [
    "render.md(openai.gpt3_chat('Create a markdown table of 5 tallest buildings', reset=True))"
   ]
  },
  {
   "cell_type": "code",
   "execution_count": 9,
   "id": "ac39ccfd-4412-497b-aa96-95adf6b88eda",
   "metadata": {},
   "outputs": [
    {
     "data": {
      "text/markdown": [
       "| Building Name       | City           | Height (m) | Floors | Year Built |\n",
       "|---------------------|----------------|------------|--------|------------|\n",
       "| Burj Khalifa        | Dubai          | 828        | 163    | 2010       |\n",
       "| Shanghai Tower      | Shanghai       | 632        | 128    | 2015       |\n",
       "| Abraj Al-Bait Clock Tower | Mecca     | 601        | 120    | 2012       |\n",
       "| Ping An Finance Center | Shenzhen    | 599        | 115    | 2017       |\n",
       "| Lotte World Tower   | Seoul          | 555        | 123    | 2016       |"
      ],
      "text/plain": [
       "<IPython.core.display.Markdown object>"
      ]
     },
     "metadata": {},
     "output_type": "display_data"
    }
   ],
   "source": [
    "render.md(openai.gpt3_chat('Add a column for Year Built'))"
   ]
  },
  {
   "cell_type": "code",
   "execution_count": 10,
   "id": "0ceea0dc-bf80-4c7e-a740-0a9916f0b7b3",
   "metadata": {},
   "outputs": [
    {
     "data": {
      "text/markdown": [
       "| Building Name       | City           | Height (m) | Floors | Year Built |\n",
       "|---------------------|----------------|------------|--------|------------|\n",
       "| Burj Khalifa        | Dubai          | 828        | 163    | 2010       |\n",
       "| Shanghai Tower      | Shanghai       | 632        | 128    | 2015       |\n",
       "| Abraj Al-Bait Clock Tower | Mecca     | 601        | 120    | 2012       |\n",
       "| Ping An Finance Center | Shenzhen    | 599        | 115    | 2017       |\n",
       "| Lotte World Tower   | Seoul          | 555        | 123    | 2016       |"
      ],
      "text/plain": [
       "<IPython.core.display.Markdown object>"
      ]
     },
     "metadata": {},
     "output_type": "display_data"
    }
   ],
   "source": [
    "render.md(openai.gpt3_chat('Remove Height in feet and add a column for Floors'))"
   ]
  },
  {
   "cell_type": "code",
   "execution_count": 11,
   "id": "67a21357-331e-45b1-8413-b48f4f7d2e3e",
   "metadata": {},
   "outputs": [
    {
     "name": "stdout",
     "output_type": "stream",
     "text": [
      "Chat saved to openai_chats/240417071412-Create-a-markdown-table-of-5-tallest-buildings.json\n"
     ]
    }
   ],
   "source": [
    "openai.CHAT_CONTEXT.save_chat()"
   ]
  },
  {
   "cell_type": "code",
   "execution_count": 13,
   "id": "d5b4ab22-173c-402d-a59a-e693e192d3c4",
   "metadata": {},
   "outputs": [
    {
     "data": {
      "text/plain": [
       "['240417071412-Create-a-markdown-table-of-5-tallest-buildings.json',\n",
       " '240417071356-Who-is-the-mother-of-Bill-Gates.json']"
      ]
     },
     "execution_count": 13,
     "metadata": {},
     "output_type": "execute_result"
    }
   ],
   "source": [
    "openai.CHAT_CONTEXT.list_chats()"
   ]
  },
  {
   "cell_type": "code",
   "execution_count": 14,
   "id": "f2418411-baf0-4462-bb49-cac4b4e95d57",
   "metadata": {},
   "outputs": [
    {
     "name": "stdout",
     "output_type": "stream",
     "text": [
      "Chat loaded from openai_chats/240417071356-Who-is-the-mother-of-Bill-Gates.json\n"
     ]
    }
   ],
   "source": [
    "chat = openai.CHAT_CONTEXT.load_chat('240417071356-Who-is-the-mother-of-Bill-Gates.json')"
   ]
  },
  {
   "cell_type": "code",
   "execution_count": 15,
   "id": "32415896-6c4d-4230-8877-1a1bb522206a",
   "metadata": {},
   "outputs": [
    {
     "data": {
      "text/markdown": [
       "⚙️  *Respond in one sentence only.*\n",
       "\n",
       "👤 **Who is the mother of Bill Gates?**\n",
       "\n",
       "💬 The mother of Bill Gates is Mary Maxwell Gates.\n",
       "\n",
       "👤 **Who is his father?**\n",
       "\n",
       "💬 Bill Gates' father is William H. Gates Sr.\n",
       "\n",
       "👤 **When were they married?**\n",
       "\n",
       "💬 Bill Gates' parents, Mary Maxwell Gates and William H. Gates Sr., were married in 1951.\n",
       "\n",
       "👤 **What is their individual net worth?**\n",
       "\n",
       "💬 As of my last update, specific individual net worth details for Mary Maxwell Gates and William H. Gates Sr. are not publicly available."
      ],
      "text/plain": [
       "<IPython.core.display.Markdown object>"
      ]
     },
     "metadata": {},
     "output_type": "display_data"
    }
   ],
   "source": [
    "render.chat(chat)"
   ]
  },
  {
   "cell_type": "code",
   "execution_count": 16,
   "id": "66e17d54-7c12-4d35-8853-12aea414fb35",
   "metadata": {},
   "outputs": [
    {
     "data": {
      "text/markdown": [
       "Mary Maxwell Gates worked as a schoolteacher and later was prominent on the boards of several major corporations and nonprofits, while William H. Gates Sr. was a prominent lawyer and co-founded a law firm that became Preston Gates & Ellis."
      ],
      "text/plain": [
       "<IPython.core.display.Markdown object>"
      ]
     },
     "metadata": {},
     "output_type": "display_data"
    }
   ],
   "source": [
    "render.md(openai.gpt4_chat('Where did they work?'))"
   ]
  },
  {
   "cell_type": "code",
   "execution_count": 17,
   "id": "a0c4fbd8-d062-4657-804d-fd4fd5057117",
   "metadata": {},
   "outputs": [
    {
     "data": {
      "text/html": [
       "<img src=\"https://upload.wikimedia.org/wikipedia/commons/8/80/NYC_wideangle_south_from_Top_of_the_Rock.jpg\"/>"
      ],
      "text/plain": [
       "<IPython.core.display.Image object>"
      ]
     },
     "execution_count": 17,
     "metadata": {},
     "output_type": "execute_result"
    }
   ],
   "source": [
    "image_url = \"https://upload.wikimedia.org/wikipedia/commons/8/80/NYC_wideangle_south_from_Top_of_the_Rock.jpg\"\n",
    "render.img(url=image_url)"
   ]
  },
  {
   "cell_type": "code",
   "execution_count": 18,
   "id": "4d1b7e17-d66a-4305-b4ac-7d6c08c7afe6",
   "metadata": {},
   "outputs": [
    {
     "data": {
      "text/markdown": [
       "This is a view of Midtown Manhattan in New York City. The prominent building with the green spire is the Empire State Building, one of the most iconic landmarks of New York."
      ],
      "text/plain": [
       "<IPython.core.display.Markdown object>"
      ]
     },
     "metadata": {},
     "output_type": "display_data"
    }
   ],
   "source": [
    "render.md(openai.gpt4_chat('Which place is this?', image_url=image_url, reset=True))"
   ]
  },
  {
   "cell_type": "code",
   "execution_count": 19,
   "id": "b145faf0-3527-48b9-92c6-8b2e3112825b",
   "metadata": {},
   "outputs": [
    {
     "data": {
      "text/markdown": [
       "It's difficult to determine the exact number of buildings in this image due to the dense clustering and overlapping of structures in the view of Midtown Manhattan. There are dozens of buildings visible, ranging from skyscrapers to smaller structures."
      ],
      "text/plain": [
       "<IPython.core.display.Markdown object>"
      ]
     },
     "metadata": {},
     "output_type": "display_data"
    }
   ],
   "source": [
    "render.md(openai.gpt4_chat('How many buildings do you see in this image?'))"
   ]
  },
  {
   "cell_type": "code",
   "execution_count": 20,
   "id": "b53380f5-6bad-4132-8ca2-77b56b419c74",
   "metadata": {},
   "outputs": [
    {
     "data": {
      "text/markdown": [
       "The logo visible on the high-rise building on the left side of the image is \"MetLife.\" This building is known as the MetLife Building, formerly the Pan Am Building, located in Midtown Manhattan, New York City."
      ],
      "text/plain": [
       "<IPython.core.display.Markdown object>"
      ]
     },
     "metadata": {},
     "output_type": "display_data"
    }
   ],
   "source": [
    "render.md(openai.gpt4_chat('Which logo is visible on a high rise building on the left?'))"
   ]
  },
  {
   "cell_type": "code",
   "execution_count": 21,
   "id": "8ea9007e-36e6-4d9c-9037-4d04e00b2c1d",
   "metadata": {},
   "outputs": [
    {
     "data": {
      "text/markdown": [
       "The water body visible on the right side of the image is the Hudson River. It separates Manhattan from New Jersey and is a significant river on the eastern coast of the United States."
      ],
      "text/plain": [
       "<IPython.core.display.Markdown object>"
      ]
     },
     "metadata": {},
     "output_type": "display_data"
    }
   ],
   "source": [
    "render.md(openai.gpt4_chat('Which water body is shown on the right?'))"
   ]
  },
  {
   "cell_type": "code",
   "execution_count": 22,
   "id": "13872331-147b-4643-8ec2-787dbb9042b3",
   "metadata": {},
   "outputs": [
    {
     "data": {
      "text/markdown": [
       "The image appears to be taken during sunset, as indicated by the warm colors in the sky and the lighting conditions over the cityscape. The sun is low on the horizon, casting a soft, golden light on the buildings and creating long shadows. This suggests it is either late afternoon or early evening."
      ],
      "text/plain": [
       "<IPython.core.display.Markdown object>"
      ]
     },
     "metadata": {},
     "output_type": "display_data"
    }
   ],
   "source": [
    "render.md(openai.gpt4_chat('What time of day is it?'))"
   ]
  },
  {
   "cell_type": "code",
   "execution_count": 23,
   "id": "2023a2d6-0f5f-4727-a3c3-b8a6ec38c31f",
   "metadata": {},
   "outputs": [
    {
     "data": {
      "text/markdown": [
       "The MetLife Building, originally known as the Pan Am Building, has 59 floors. It is a prominent skyscraper located in Midtown Manhattan, New York City, directly above Grand Central Terminal."
      ],
      "text/plain": [
       "<IPython.core.display.Markdown object>"
      ]
     },
     "metadata": {},
     "output_type": "display_data"
    }
   ],
   "source": [
    "render.md(openai.gpt4_chat('How many floors is the MetLife building?'))"
   ]
  },
  {
   "cell_type": "code",
   "execution_count": 24,
   "id": "e527f190-937c-462a-a45f-3daf16fa31c1",
   "metadata": {},
   "outputs": [
    {
     "name": "stdout",
     "output_type": "stream",
     "text": [
      "Chat saved to openai_chats/240417071518-Which-place-is-this.json\n"
     ]
    }
   ],
   "source": [
    "openai.CHAT_CONTEXT.save_chat()"
   ]
  },
  {
   "cell_type": "code",
   "execution_count": 25,
   "id": "dbc452ae-114a-440c-bf4d-e2d223f4963b",
   "metadata": {},
   "outputs": [
    {
     "data": {
      "text/plain": [
       "['240417071518-Which-place-is-this.json',\n",
       " '240417071412-Create-a-markdown-table-of-5-tallest-buildings.json',\n",
       " '240417071356-Who-is-the-mother-of-Bill-Gates.json']"
      ]
     },
     "execution_count": 25,
     "metadata": {},
     "output_type": "execute_result"
    }
   ],
   "source": [
    "openai.CHAT_CONTEXT.list_chats()"
   ]
  },
  {
   "cell_type": "code",
   "execution_count": 26,
   "id": "b60f0f86-8c2e-41d6-9e65-c7ca87b0fe3d",
   "metadata": {},
   "outputs": [
    {
     "name": "stdout",
     "output_type": "stream",
     "text": [
      "Chat loaded from openai_chats/240417071518-Which-place-is-this.json\n"
     ]
    }
   ],
   "source": [
    "chat = openai.CHAT_CONTEXT.load_chat('240417071518-Which-place-is-this.json')"
   ]
  },
  {
   "cell_type": "code",
   "execution_count": 27,
   "id": "be6763a1-86eb-4844-bf8c-677ca7c2c7af",
   "metadata": {},
   "outputs": [
    {
     "data": {
      "text/html": [
       "<img src=\"https://upload.wikimedia.org/wikipedia/commons/8/80/NYC_wideangle_south_from_Top_of_the_Rock.jpg\"/>"
      ],
      "text/plain": [
       "<IPython.core.display.Image object>"
      ]
     },
     "metadata": {},
     "output_type": "display_data"
    },
    {
     "data": {
      "text/markdown": [
       "👤 **Which place is this?**\n",
       "\n",
       "💬 This is a view of Midtown Manhattan in New York City. The prominent building with the green spire is the Empire State Building, one of the most iconic landmarks of New York.\n",
       "\n",
       "👤 **How many buildings do you see in this image?**\n",
       "\n",
       "💬 It's difficult to determine the exact number of buildings in this image due to the dense clustering and overlapping of structures in the view of Midtown Manhattan. There are dozens of buildings visible, ranging from skyscrapers to smaller structures.\n",
       "\n",
       "👤 **Which logo is visible on a high rise building on the left?**\n",
       "\n",
       "💬 The logo visible on the high-rise building on the left side of the image is \"MetLife.\" This building is known as the MetLife Building, formerly the Pan Am Building, located in Midtown Manhattan, New York City.\n",
       "\n",
       "👤 **Which water body is shown on the right?**\n",
       "\n",
       "💬 The water body visible on the right side of the image is the Hudson River. It separates Manhattan from New Jersey and is a significant river on the eastern coast of the United States.\n",
       "\n",
       "👤 **What time of day is it?**\n",
       "\n",
       "💬 The image appears to be taken during sunset, as indicated by the warm colors in the sky and the lighting conditions over the cityscape. The sun is low on the horizon, casting a soft, golden light on the buildings and creating long shadows. This suggests it is either late afternoon or early evening.\n",
       "\n",
       "👤 **How many floors is the MetLife building?**\n",
       "\n",
       "💬 The MetLife Building, originally known as the Pan Am Building, has 59 floors. It is a prominent skyscraper located in Midtown Manhattan, New York City, directly above Grand Central Terminal."
      ],
      "text/plain": [
       "<IPython.core.display.Markdown object>"
      ]
     },
     "metadata": {},
     "output_type": "display_data"
    }
   ],
   "source": [
    "render.chat(chat)"
   ]
  },
  {
   "cell_type": "code",
   "execution_count": 28,
   "id": "ba40ae8b-b163-414c-a27b-c166ce2b266c",
   "metadata": {},
   "outputs": [
    {
     "data": {
      "text/markdown": [
       "The building on the right side of the image, which is one of the taller skyscrapers, appears to have a predominantly white or light-colored facade. This color is typical for many high-rise buildings, reflecting light and contributing to a distinctive skyline appearance."
      ],
      "text/plain": [
       "<IPython.core.display.Markdown object>"
      ]
     },
     "metadata": {},
     "output_type": "display_data"
    }
   ],
   "source": [
    "render.md(openai.gpt4_chat('What color is the building on the right?'))"
   ]
  }
 ],
 "metadata": {
  "kernelspec": {
   "display_name": "Python 3 (ipykernel)",
   "language": "python",
   "name": "python3"
  },
  "language_info": {
   "codemirror_mode": {
    "name": "ipython",
    "version": 3
   },
   "file_extension": ".py",
   "mimetype": "text/x-python",
   "name": "python",
   "nbconvert_exporter": "python",
   "pygments_lexer": "ipython3",
   "version": "3.11.7"
  }
 },
 "nbformat": 4,
 "nbformat_minor": 5
}
