{
 "cells": [
  {
   "cell_type": "code",
   "execution_count": 16,
   "id": "b98d3e38-543f-446c-a88a-57945bfc1d2b",
   "metadata": {},
   "outputs": [],
   "source": [
    "import os\n",
    "import sys\n",
    "import importlib.util\n",
    "\n",
    "is_installed = importlib.util.find_spec(\"gtsystem\")\n",
    "if not is_installed:\n",
    "    module_path = \"..\"\n",
    "    sys.path.append(os.path.abspath(module_path))\n",
    "\n",
    "from gtsystem import openai, bedrock, ollama, groq, render, tasks, benchmark"
   ]
  },
  {
   "cell_type": "code",
   "execution_count": 17,
   "id": "ba481a77-1403-46b3-9bbf-ac58036f42c2",
   "metadata": {},
   "outputs": [],
   "source": [
    "tasks.load('../data/openai-examples-21.xlsx')"
   ]
  },
  {
   "cell_type": "code",
   "execution_count": 18,
   "id": "2645ec31-c96c-4704-aaa2-689aee1bcf37",
   "metadata": {},
   "outputs": [
    {
     "data": {
      "text/html": [
       "<style type=\"text/css\">\n",
       "#T_82dde th {\n",
       "  font-size: 10pt;\n",
       "  text-align: left;\n",
       "}\n",
       "#T_82dde td {\n",
       "  text-align: left;\n",
       "  word-wrap: break-word;\n",
       "  overflow: hidden;\n",
       "  text-overflow: ellipsis;\n",
       "}\n",
       "#T_82dde .index_name {\n",
       "  display: none;\n",
       "}\n",
       "#T_82dde .row_heading {\n",
       "  display: none;\n",
       "}\n",
       "#T_82dde  .blank {\n",
       "  display: none;\n",
       "}\n",
       "</style>\n",
       "<table id=\"T_82dde\">\n",
       "  <thead>\n",
       "    <tr>\n",
       "      <th class=\"blank level0\" >&nbsp;</th>\n",
       "      <th id=\"T_82dde_level0_col0\" class=\"col_heading level0 col0\" >Task</th>\n",
       "      <th id=\"T_82dde_level0_col1\" class=\"col_heading level0 col1\" >Task Types</th>\n",
       "      <th id=\"T_82dde_level0_col2\" class=\"col_heading level0 col2\" >System</th>\n",
       "      <th id=\"T_82dde_level0_col3\" class=\"col_heading level0 col3\" >Prompt</th>\n",
       "      <th id=\"T_82dde_level0_col4\" class=\"col_heading level0 col4\" >Temperature</th>\n",
       "      <th id=\"T_82dde_level0_col5\" class=\"col_heading level0 col5\" >TopP</th>\n",
       "      <th id=\"T_82dde_level0_col6\" class=\"col_heading level0 col6\" >Source</th>\n",
       "    </tr>\n",
       "  </thead>\n",
       "  <tbody>\n",
       "    <tr>\n",
       "      <th id=\"T_82dde_level0_row0\" class=\"row_heading level0 row0\" >17</th>\n",
       "      <td id=\"T_82dde_row0_col0\" class=\"data row0 col0\" >Improve code efficiency</td>\n",
       "      <td id=\"T_82dde_row0_col1\" class=\"data row0 col1\" >Transform; Code</td>\n",
       "      <td id=\"T_82dde_row0_col2\" class=\"data row0 col2\" >You will be provided with a piece of Python code, and your task is to provide ideas for efficiency improvements.</td>\n",
       "      <td id=\"T_82dde_row0_col3\" class=\"data row0 col3\" >from typing import List\n",
       "                \n",
       "                \n",
       "    def has_sum_k(nums: List[int], k: int) -> bool:\n",
       "        \"\"\"\n",
       "        Returns True if there are two distinct elements in nums such that their sum \n",
       "        is equal to k, and otherwise returns False.\n",
       "        \"\"\"\n",
       "        n = len(nums)\n",
       "        for i in range(n):\n",
       "            for j in range(i+1, n):\n",
       "                if nums[i] + nums[j] == k:\n",
       "                    return True\n",
       "        return False</td>\n",
       "      <td id=\"T_82dde_row0_col4\" class=\"data row0 col4\" >0.700000</td>\n",
       "      <td id=\"T_82dde_row0_col5\" class=\"data row0 col5\" >1</td>\n",
       "      <td id=\"T_82dde_row0_col6\" class=\"data row0 col6\" >OpenAI Examples</td>\n",
       "    </tr>\n",
       "  </tbody>\n",
       "</table>\n"
      ],
      "text/plain": [
       "<pandas.io.formats.style.Styler at 0x12fd0a8d0>"
      ]
     },
     "execution_count": 18,
     "metadata": {},
     "output_type": "execute_result"
    }
   ],
   "source": [
    "render.df(tasks.find('improve code'))"
   ]
  },
  {
   "cell_type": "code",
   "execution_count": 19,
   "id": "acd99c42-56fd-45b6-b602-42fb9b0d4f75",
   "metadata": {},
   "outputs": [],
   "source": [
    "task = tasks.get('Improve code efficiency')"
   ]
  },
  {
   "cell_type": "code",
   "execution_count": 20,
   "id": "847cfcdf-d8d5-405b-a903-7ada873ef2b2",
   "metadata": {},
   "outputs": [
    {
     "data": {
      "text/markdown": [
       "The provided code implements a function `has_sum_k` that takes a list of integers `nums` and an integer `k`. It checks if there are two distinct elements in `nums` whose sum is equal to `k`. The current implementation uses a nested loop approach, which has a time complexity of O(n^2), where n is the length of the input list `nums`.\n",
       "\n",
       "Here are some potential efficiency improvements:\n",
       "\n",
       "1. **Use a set and a single loop**:\n",
       "   This approach has a time complexity of O(n), which is more efficient than the nested loop approach for large input sizes.\n",
       "\n",
       "   ```python\n",
       "   def has_sum_k(nums: List[int], k: int) -> bool:\n",
       "       num_set = set()\n",
       "       for num in nums:\n",
       "           complement = k - num\n",
       "           if complement in num_set:\n",
       "               return True\n",
       "           num_set.add(num)\n",
       "       return False\n",
       "   ```\n",
       "\n",
       "   In this implementation, we iterate over the list `nums` once. For each number `num`, we calculate its complement `complement = k - num`. If the complement is already in the set `num_set`, it means we have found two distinct elements whose sum is `k`. Otherwise, we add `num` to the set `num_set`.\n",
       "\n",
       "2. **Use a dictionary instead of a set**:\n",
       "   This approach also has a time complexity of O(n), but it may have some advantages over the set-based approach in certain scenarios.\n",
       "\n",
       "   ```python\n",
       "   def has_sum_k(nums: List[int], k: int) -> bool:\n",
       "       num_dict = {}\n",
       "       for num in nums:\n",
       "           complement = k - num\n",
       "           if complement in num_dict:\n",
       "               return True\n",
       "           num_dict[num] = num_dict.get(num, 0) + 1\n",
       "       return False\n",
       "   ```\n",
       "\n",
       "   In this implementation, we use a dictionary `num_dict` instead of a set. The dictionary stores the elements in `nums` as keys and their frequencies as values. For each number `num`, we calculate its complement `complement = k - num`. If the complement is already in the dictionary `num_dict`, it means we have found two distinct elements whose sum is `k`. Otherwise, we add `num` to the dictionary `num_dict` or"
      ],
      "text/plain": [
       "<IPython.core.display.Markdown object>"
      ]
     },
     "metadata": {},
     "output_type": "display_data"
    }
   ],
   "source": [
    "render.md(bedrock.claude3_text(*task))"
   ]
  },
  {
   "cell_type": "code",
   "execution_count": 21,
   "id": "212901e2-2df9-44ef-9e2d-2a7623725aab",
   "metadata": {},
   "outputs": [
    {
     "data": {
      "text/markdown": [
       "1. Sort the input list `nums` before performing the nested loop, as this can help reduce the number of comparisons needed to find the sum equal to `k`. With a sorted list, you can adjust the loop termination conditions to improve efficiency.\n",
       "\n",
       "2. Use a set to store elements as you iterate through the list. This way, you can check in constant time whether the complement of the current element exists in the set to achieve a linear runtime complexity.\n",
       "\n",
       "3. You can achieve a linear time complexity by using a single loop and checking if the complement of the current element exists in a set of already seen elements. This can be done by iterating through the list once and storing the complements needed to reach `k`.\n",
       "\n",
       "4. If the input list is large and the list can have multiple pairs summing to `k`, you can modify the function to return the pairs that satisfy the condition.\n",
       "\n",
       "5. If memory usage is a concern, you can optimize the space complexity by using a two-pointer approach after sorting the list."
      ],
      "text/plain": [
       "<IPython.core.display.Markdown object>"
      ]
     },
     "metadata": {},
     "output_type": "display_data"
    }
   ],
   "source": [
    "openai_result = openai.text(*task)\n",
    "render.md(openai_result)"
   ]
  },
  {
   "cell_type": "code",
   "execution_count": 22,
   "id": "b0974181-4aaf-4329-842e-e23ad45e691a",
   "metadata": {},
   "outputs": [
    {
     "data": {
      "text/plain": [
       "'100.00'"
      ]
     },
     "execution_count": 22,
     "metadata": {},
     "output_type": "execute_result"
    }
   ],
   "source": [
    "benchmark.accuracy(system=task[0], prompt=task[1], result=openai_result)"
   ]
  },
  {
   "cell_type": "code",
   "execution_count": 23,
   "id": "33dee4e8-014c-4c43-9df5-041c826cb91b",
   "metadata": {},
   "outputs": [
    {
     "data": {
      "text/markdown": [
       "1. Use a set to keep track of seen values, to avoid checking duplicates.\n",
       "2. Use a dictionary to keep track of the sums of sublists, to avoid recalculating them.\n",
       "3. Use a more efficient algorithm, such as the \"Two Pointers\" approach.\n",
       "4. Use parallelism to speed up the computation.\n",
       "5. Optimize the function for the common case where the input list is large and the target sum is small.\n",
       "6. Use a different data structure, such as a tree or a graph, to represent the nums and their relationships.\n",
       "7. Use a more efficient data structure for the set of seen values, such as a bloom filter or a hash set.\n",
       "8. Use a more efficient data structure for the dictionary of sums, such as a sparse matrix or a Segment Tree.\n",
       "9. Use a more efficient algorithm for the Two Pointers approach, such as using a min-heap or a priority queue.\n",
       "10. Use a more efficient algorithm for the common case where the input list is large and the target sum is small, such as using a Segment Tree or a Range-Sum Query algorithm."
      ],
      "text/plain": [
       "<IPython.core.display.Markdown object>"
      ]
     },
     "metadata": {},
     "output_type": "display_data"
    }
   ],
   "source": [
    "llama_result = bedrock.llama2_text(*task)\n",
    "render.md(llama_result)"
   ]
  },
  {
   "cell_type": "code",
   "execution_count": 24,
   "id": "3ea191b5-262b-454d-abe5-b87e1dbb9bfc",
   "metadata": {},
   "outputs": [
    {
     "data": {
      "text/plain": [
       "'95.00'"
      ]
     },
     "execution_count": 24,
     "metadata": {},
     "output_type": "execute_result"
    }
   ],
   "source": [
    "benchmark.accuracy(system=task[0], prompt=task[1], result=llama_result)"
   ]
  },
  {
   "cell_type": "code",
   "execution_count": 25,
   "id": "1be524a6-0f45-4129-a6e3-0f7745a051d3",
   "metadata": {},
   "outputs": [
    {
     "data": {
      "text/markdown": [
       "Here are some ideas to improve the efficiency of this function:\n",
       "\n",
       "1. Use a set instead of a list. Checking if an element exists in a set is O(1) while checking in a list is O(n).\n",
       "\n",
       "```python\n",
       "def has_sum_k(nums: Set[int], k: int) -> bool:\n",
       "    seen = set()\n",
       "    for num in nums:\n",
       "        if k - num in seen:\n",
       "            return True\n",
       "        seen.add(num)\n",
       "    return False\n",
       "```\n",
       "\n",
       "2. Sort the list first. Then use two pointers starting at both ends that move toward each other. This reduces the number of comparisons from O(n^2) to O(nlogn + n).\n",
       "\n",
       "```python \n",
       "def has_sum_k(nums: List[int], k: int) -> bool:\n",
       "    nums.sort()\n",
       "    left, right = 0, len(nums) - 1\n",
       "    while left < right:\n",
       "        cur_sum = nums[left] + nums[right]\n",
       "        if cur_sum == k:\n",
       "            return True\n",
       "        elif cur_sum < k:\n",
       "            left += 1  \n",
       "        else:\n",
       "            right -= 1\n",
       "    return False\n",
       "```\n",
       "\n",
       "3. Use a hash table to store each element as we iterate. Checking if k - num exists in the table takes O(1) time. Overall this reduces the runtime from O(n^2) to O(n).\n",
       "\n",
       "Let me know if you have any other questions!"
      ],
      "text/plain": [
       "<IPython.core.display.Markdown object>"
      ]
     },
     "metadata": {},
     "output_type": "display_data"
    }
   ],
   "source": [
    "claude2_result = bedrock.claude2_text(*task)\n",
    "render.md(claude2_result)"
   ]
  },
  {
   "cell_type": "code",
   "execution_count": 26,
   "id": "f876d018-e28e-42ef-a77c-5eaa95dda4de",
   "metadata": {},
   "outputs": [
    {
     "data": {
      "text/plain": [
       "'100.00'"
      ]
     },
     "execution_count": 26,
     "metadata": {},
     "output_type": "execute_result"
    }
   ],
   "source": [
    "benchmark.accuracy(system=task[0], prompt=task[1], result=claude2_result)"
   ]
  },
  {
   "cell_type": "code",
   "execution_count": 27,
   "id": "6ef08468-ba25-47f6-b634-ad2ee77e40ce",
   "metadata": {},
   "outputs": [
    {
     "data": {
      "text/markdown": [
       "\n",
       "This function is checking whether there are two distinct elements in the given list that sum up to a certain value. It does this by iterating through the list, and for each element it checks if the sum of that element with any other element in the list is equal to the target value.\n",
       "\n",
       "Here are some ways to improve the efficiency of this function:\n",
       "\n",
       "1. Use a set instead of a list: Instead of using a list to store the elements, we can use a set. A set has O(1) lookup time, which means that it takes constant time to check if an element is in the set or not. This will make the function faster because it will take less time to check if two elements sum up to the target value.\n",
       "2. Use a hash table: Instead of using nested loops to check if there are any elements that sum up to the target value, we can use a hash table to keep track of the sums of the elements in the list. This way, we only need to iterate through the list once and check if the target value is already present in the hash table.\n",
       "3. Use a combination of sets and hash tables: We can also use a combination of sets and hash tables to improve the efficiency of this function. For example, we can use a set to store the elements of the list, and then use a hash table to keep track of the sums of those elements. This way, we only need to iterate through the list once and check if the target value is already present in the hash table.\n",
       "4. Use Python's built-in sum function: Instead of manually iterating through the list and calculating the sums of each element, we can use Python's built-in sum function to calculate the sum of all elements in the list at once. This will make the code more concise and easier to read.\n",
       "5. Use a generator expression: We can also use a generator expression to improve the efficiency of this function. A generator expression is a way to write a function that generates values on the fly, without creating a new list. This means that we can avoid creating a temporary list of sums, which will make the code more memory-efficient and faster.\n",
       "6. Use a different data structure: Instead of using a list, we can use a different data structure such as a dictionary or a tree to store the elements in the list. This will allow us to efficiently search for the target value and avoid iterating through the entire list.\n",
       "7. Use parallel processing: If we have a large dataset, we can use parallel processing to speed up the computation. We can use libraries like joblib or dask to parallelize the computation and take advantage of multiple CPU cores."
      ],
      "text/plain": [
       "<IPython.core.display.Markdown object>"
      ]
     },
     "metadata": {},
     "output_type": "display_data"
    }
   ],
   "source": [
    "codellama_result = ollama.codellama_text(*task)\n",
    "render.md(codellama_result)"
   ]
  },
  {
   "cell_type": "code",
   "execution_count": 28,
   "id": "a900c588-4465-418c-b34e-3ea06899e16a",
   "metadata": {},
   "outputs": [
    {
     "data": {
      "text/plain": [
       "'95.00'"
      ]
     },
     "execution_count": 28,
     "metadata": {},
     "output_type": "execute_result"
    }
   ],
   "source": [
    "benchmark.accuracy(system=task[0], prompt=task[1], result=codellama_result)"
   ]
  },
  {
   "cell_type": "code",
   "execution_count": 29,
   "id": "f0b8007c-a7db-4d53-bd92-7263e13b58ce",
   "metadata": {},
   "outputs": [
    {
     "data": {
      "text/markdown": [
       "To improve the efficiency of the given code, you can use a set to store the numbers in the list. This allows you to check if the complement of a number (i.e. `k - nums[i]`) is in the set in constant time. This reduces the time complexity of the algorithm from O(n^2) to O(n), where n is the length of the list.\n",
       "\n",
       "Here's the improved code:\n",
       "\n",
       "from typing import List\n",
       "\n",
       "def has\\_sum\\_k(nums: List[int], k: int) -> bool:\n",
       "ಠèse\n",
       "```python\n",
       "    # Create a set from the list\n",
       "    num_set = set(nums)\n",
       "    for num in num_set:\n",
       "        # Check if the complement of the number is in the set\n",
       "        if k - num in num_set and num < k - num:\n",
       "            return True\n",
       "    return False\n",
       "```\n",
       "Note that we also added a check to make sure that `num` is less than `k - num` to avoid counting the same pair of numbers twice (e.g. if `nums` is `[1, 2, 3]` and `k` is `4`, we want to avoid counting both `(1, 3)` and `(3, 1)` as valid pairs).\n",
       "\n",
       "Additionally, you can further optimize the code by sorting the list before creating the set. This allows you to skip the check for `num < k - num`, since the sorted list guarantees that the numbers will be checked in increasing order. Here's the optimized code:\n",
       "\n",
       "from typing import List\n",
       "\n",
       "def has\\_sum\\_k(nums: List[int], k: int) -> bool:\n",
       "ಠèse\n",
       "```python\n",
       "    # Sort the list\n",
       "    nums.sort()\n",
       "    for i in range(len(nums)):\n",
       "        # Use binary search to find the complement of the number in the sorted list\n",
       "        if k - nums[i] in nums[i+1:]:\n",
       "            return True\n",
       "    return False\n",
       "```\n",
       "The time complexity of this optimized solution is O(n \\* log(n)), where n is the length of the list. This is because we first sort the list in O(n \\* log(n)) time, and then perform a binary search search"
      ],
      "text/plain": [
       "<IPython.core.display.Markdown object>"
      ]
     },
     "metadata": {},
     "output_type": "display_data"
    }
   ],
   "source": [
    "groq_result = groq.text(*task)\n",
    "render.md(groq_result)"
   ]
  },
  {
   "cell_type": "code",
   "execution_count": 30,
   "id": "44e04701-6953-4479-90b0-ba2bca780b6f",
   "metadata": {},
   "outputs": [
    {
     "data": {
      "text/plain": [
       "'90.00'"
      ]
     },
     "execution_count": 30,
     "metadata": {},
     "output_type": "execute_result"
    }
   ],
   "source": [
    "benchmark.accuracy(system=task[0], prompt=task[1], result=groq_result)"
   ]
  }
 ],
 "metadata": {
  "kernelspec": {
   "display_name": "Python 3 (ipykernel)",
   "language": "python",
   "name": "python3"
  },
  "language_info": {
   "codemirror_mode": {
    "name": "ipython",
    "version": 3
   },
   "file_extension": ".py",
   "mimetype": "text/x-python",
   "name": "python",
   "nbconvert_exporter": "python",
   "pygments_lexer": "ipython3",
   "version": "3.11.7"
  }
 },
 "nbformat": 4,
 "nbformat_minor": 5
}
