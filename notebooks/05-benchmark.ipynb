{
 "cells": [
  {
   "cell_type": "code",
   "execution_count": 1,
   "id": "b98d3e38-543f-446c-a88a-57945bfc1d2b",
   "metadata": {},
   "outputs": [],
   "source": [
    "import sys\n",
    "import os\n",
    "\n",
    "module_path = os.path.abspath(\"..\")\n",
    "if module_path not in sys.path:\n",
    "    sys.path.insert(0, module_path)\n",
    "\n",
    "from gtsystem import anthropic, openai, bedrock, ollama, groq, render, tasks, benchmark"
   ]
  },
  {
   "cell_type": "code",
   "execution_count": 2,
   "id": "ba481a77-1403-46b3-9bbf-ac58036f42c2",
   "metadata": {},
   "outputs": [],
   "source": [
    "tasks.load('../data/openai-examples-21.xlsx')"
   ]
  },
  {
   "cell_type": "code",
   "execution_count": 3,
   "id": "2645ec31-c96c-4704-aaa2-689aee1bcf37",
   "metadata": {},
   "outputs": [
    {
     "data": {
      "text/html": [
       "<style type=\"text/css\">\n",
       "#T_d4905 th {\n",
       "  font-size: 10pt;\n",
       "  text-align: left;\n",
       "}\n",
       "#T_d4905 td {\n",
       "  text-align: left;\n",
       "  word-wrap: break-word;\n",
       "  overflow: hidden;\n",
       "  text-overflow: ellipsis;\n",
       "}\n",
       "#T_d4905 .index_name {\n",
       "  display: none;\n",
       "}\n",
       "#T_d4905 .row_heading {\n",
       "  display: none;\n",
       "}\n",
       "#T_d4905  .blank {\n",
       "  display: none;\n",
       "}\n",
       "</style>\n",
       "<table id=\"T_d4905\">\n",
       "  <thead>\n",
       "    <tr>\n",
       "      <th class=\"blank level0\" >&nbsp;</th>\n",
       "      <th id=\"T_d4905_level0_col0\" class=\"col_heading level0 col0\" >Task</th>\n",
       "      <th id=\"T_d4905_level0_col1\" class=\"col_heading level0 col1\" >System</th>\n",
       "      <th id=\"T_d4905_level0_col2\" class=\"col_heading level0 col2\" >Prompt</th>\n",
       "    </tr>\n",
       "  </thead>\n",
       "  <tbody>\n",
       "    <tr>\n",
       "      <th id=\"T_d4905_level0_row0\" class=\"row_heading level0 row0\" >17</th>\n",
       "      <td id=\"T_d4905_row0_col0\" class=\"data row0 col0\" >Improve code efficiency</td>\n",
       "      <td id=\"T_d4905_row0_col1\" class=\"data row0 col1\" >You will be provided with a piece of Python code, and your task is to provide ideas for efficiency improvements.</td>\n",
       "      <td id=\"T_d4905_row0_col2\" class=\"data row0 col2\" >from typing import List\n",
       "                \n",
       "                \n",
       "    def has_sum_k(nums: List[int], k: int) -> bool:\n",
       "        \"\"\"\n",
       "        Returns True if there are two distinct elements in nums such that their sum \n",
       "        is equal to k, and otherwise returns False.\n",
       "        \"\"\"\n",
       "        n = len(nums)\n",
       "        for i in range(n):\n",
       "            for j in range(i+1, n):\n",
       "                if nums[i] + nums[j] == k:\n",
       "                    return True\n",
       "        return False</td>\n",
       "    </tr>\n",
       "  </tbody>\n",
       "</table>\n"
      ],
      "text/plain": [
       "<pandas.io.formats.style.Styler at 0x105e42850>"
      ]
     },
     "execution_count": 3,
     "metadata": {},
     "output_type": "execute_result"
    }
   ],
   "source": [
    "render.df(tasks.find('improve code'))"
   ]
  },
  {
   "cell_type": "code",
   "execution_count": 4,
   "id": "acd99c42-56fd-45b6-b602-42fb9b0d4f75",
   "metadata": {},
   "outputs": [],
   "source": [
    "task = tasks.get('Improve code efficiency')"
   ]
  },
  {
   "cell_type": "code",
   "execution_count": 5,
   "id": "847cfcdf-d8d5-405b-a903-7ada873ef2b2",
   "metadata": {},
   "outputs": [
    {
     "data": {
      "text/markdown": [
       "The current implementation of the `has_sum_k` function uses a nested loop to check all possible pairs of elements in the `nums` list to see if their sum equals `k`. While this approach is correct, it has a time complexity of O(n^2) since it compares every pair of elements.\n",
       "\n",
       "Here are a few ideas to improve the efficiency of the function:\n",
       "\n",
       "1. Use a hash set:\n",
       "   - Create an empty hash set.\n",
       "   - Iterate through each element `num` in `nums`.\n",
       "   - Check if `k - num` exists in the hash set. If it does, return `True` because we have found a pair of elements that sum up to `k`.\n",
       "   - If `k - num` is not in the hash set, add `num` to the hash set.\n",
       "   - If no pair is found after the iteration, return `False`.\n",
       "   - This approach reduces the time complexity to O(n) since we only need to iterate through the list once.\n",
       "\n",
       "2. Sort the list and use two pointers:\n",
       "   - Sort the `nums` list in ascending order.\n",
       "   - Initialize two pointers, `left` and `right`, pointing to the start and end of the sorted list, respectively.\n",
       "   - While `left` is less than `right`, do the following:\n",
       "     - If the sum of `nums[left]` and `nums[right]` equals `k`, return `True`.\n",
       "     - If the sum is less than `k`, increment `left` to consider a larger value.\n",
       "     - If the sum is greater than `k`, decrement `right` to consider a smaller value.\n",
       "   - If no pair is found after the iteration, return `False`.\n",
       "   - This approach has a time complexity of O(n log n) due to the sorting step, but it reduces the comparison steps.\n",
       "\n",
       "Here's an example implementation using the hash set approach:\n",
       "\n",
       "```python\n",
       "def has_sum_k(nums: List[int], k: int) -> bool:\n",
       "    seen = set()\n",
       "    for num in nums:\n",
       "        if k - num in seen:\n",
       "            return True\n",
       "        seen.add(num)\n",
       "    return False\n",
       "```\n",
       "\n",
       "And here's an example implementation using the two-pointer approach:\n",
       "\n",
       "```python\n",
       "def has_sum_k(nums: List[int], k: int) -> bool:\n",
       "    nums.sort()\n",
       "    left, right = 0, len(nums) - 1\n",
       "    while left < right:\n",
       "        curr_sum = nums[left] + nums[right]\n",
       "        if curr_sum == k:\n",
       "            return True\n",
       "        elif curr_sum < k:\n",
       "            left += 1\n",
       "        else:\n",
       "            right -= 1\n",
       "    return False\n",
       "```\n",
       "\n",
       "Both of these approaches improve the efficiency of the function compared to the original nested loop implementation."
      ],
      "text/plain": [
       "<IPython.core.display.Markdown object>"
      ]
     },
     "metadata": {},
     "output_type": "display_data"
    }
   ],
   "source": [
    "opus_result = anthropic.text(*task, tokens=1000)\n",
    "render.md(opus_result)"
   ]
  },
  {
   "cell_type": "code",
   "execution_count": 6,
   "id": "ef642294-5330-4637-80cd-68099510fb5d",
   "metadata": {},
   "outputs": [
    {
     "data": {
      "text/markdown": [
       "| Criteria | Weight | Score | Explanation |\n",
       "|----------|--------|-------|-------------|\n",
       "| Factual/Accurate | 0.3 | 100 | The response provides accurate and factual information about improving the efficiency of the given code. |\n",
       "| Human Readability | 0.2 | 95 | The response is well-structured, easy to understand, and provides clear explanations. |\n",
       "| Crisp vs Verbose | 0.1 | 80 | While the response is detailed and informative, it could be slightly more concise. |\n",
       "| Meets User Goal | 0.4 | 100 | The response directly addresses the user's goal of improving the efficiency of the code and provides two effective solutions. |\n",
       "\n",
       "Overall quality score = 96.0/100."
      ],
      "text/plain": [
       "<IPython.core.display.Markdown object>"
      ]
     },
     "metadata": {},
     "output_type": "display_data"
    }
   ],
   "source": [
    "render.md(benchmark.quality(*task, result=opus_result))"
   ]
  },
  {
   "cell_type": "code",
   "execution_count": 7,
   "id": "212901e2-2df9-44ef-9e2d-2a7623725aab",
   "metadata": {},
   "outputs": [
    {
     "data": {
      "text/markdown": [
       "The provided code implements a function `has_sum_k` that checks if there are two distinct elements in a list `nums` whose sum is equal to a given value `k`. The current implementation uses a nested loop approach, which has a time complexity of O(n^2), where n is the length of the input list `nums`.\n",
       "\n",
       "Here are some potential efficiency improvements:\n",
       "\n",
       "1. **Use a set for constant-time lookups**:\n",
       "   - Create a set from the input list `nums`.\n",
       "   - Iterate through the list `nums`.\n",
       "   - For each element `num`, check if `k - num` exists in the set.\n",
       "   - If it exists, it means there are two elements whose sum is `k`.\n",
       "   - This approach has a time complexity of O(n), which is more efficient than the nested loop approach.\n",
       "\n",
       "```python\n",
       "def has_sum_k(nums: List[int], k: int) -> bool:\n",
       "    num_set = set(nums)\n",
       "    for num in nums:\n",
       "        complement = k - num\n",
       "        if complement in num_set and complement != num:\n",
       "            return True\n",
       "    return False\n",
       "```\n",
       "\n",
       "2. **Sort the list and use two pointers**:\n",
       "   - Sort the input list `nums` in ascending order.\n",
       "   - Initialize two pointers, `left` and `right`, pointing to the first and last elements of the sorted list, respectively.\n",
       "   - While `left` is less than `right`:\n",
       "     - Calculate the sum of the elements at `left` and `right`.\n",
       "     - If the sum is equal to `k`, return `True`.\n",
       "     - If the sum is less than `k`, increment `left`.\n",
       "     - If the sum is greater than `k`, decrement `right`.\n",
       "   - If the loop completes without finding a pair, return `False`.\n",
       "   - This approach has a time complexity of O(n log n) due to the sorting step, but it avoids the nested loop.\n",
       "\n",
       "```python\n",
       "def has_sum_k(nums: List[int], k: int) -> bool:\n",
       "    nums.sort()\n",
       "    left, right = 0, len(nums) - 1\n",
       "    while left < right:\n",
       "        current_sum = nums[left] + nums[right]\n",
       "        if current_sum == k:\n",
       "            return True\n",
       "        elif current_sum < k:\n",
       "            left += 1\n",
       "        else:\n",
       "            right -= 1\n",
       "    return False\n",
       "```\n",
       "\n",
       "Both of these approaches improve the time complexity compared to the nested loop approach, making them more efficient for larger input lists. The choice between the two approaches depends on the specific requirements and constraints of your problem, such as whether the input list is already sorted or if you need to preserve the original order of the elements."
      ],
      "text/plain": [
       "<IPython.core.display.Markdown object>"
      ]
     },
     "metadata": {},
     "output_type": "display_data"
    }
   ],
   "source": [
    "sonnet_result = bedrock.sonnet_text(*task, tokens=1000)\n",
    "render.md(sonnet_result)"
   ]
  },
  {
   "cell_type": "code",
   "execution_count": 8,
   "id": "b0974181-4aaf-4329-842e-e23ad45e691a",
   "metadata": {},
   "outputs": [
    {
     "data": {
      "text/markdown": [
       "| Criteria | Weight | Score | Explanation |\n",
       "|----------|--------|-------|-------------|\n",
       "| Factual/Accurate | 0.3 | 100 | The response provides accurate and factual information about improving the efficiency of the given code. |\n",
       "| Human Readability | 0.2 | 100 | The response is well-structured, easy to understand, and provides clear explanations. |\n",
       "| Crisp vs Verbose | 0.1 | 80 | The response is slightly verbose but provides necessary details and examples to support the explanations. |\n",
       "| Meets User Goal | 0.4 | 100 | The response directly addresses the user's goal of improving the efficiency of the code and provides two viable solutions. |\n",
       "\n",
       "Overall quality score = 97.0/100."
      ],
      "text/plain": [
       "<IPython.core.display.Markdown object>"
      ]
     },
     "metadata": {},
     "output_type": "display_data"
    }
   ],
   "source": [
    "render.md(benchmark.quality(*task, result=sonnet_result))"
   ]
  },
  {
   "cell_type": "code",
   "execution_count": 9,
   "id": "33dee4e8-014c-4c43-9df5-041c826cb91b",
   "metadata": {},
   "outputs": [
    {
     "data": {
      "text/markdown": [
       "1. Use a set to keep track of seen values, to avoid checking duplicate pairs.\n",
       "2. Use a dictionary to map each value to its index in the list, to quickly look up the index of a value and avoid iterating over the list multiple times.\n",
       "3. Use the fact that the list is sorted, to stop searching once the sum of two elements exceeds the target sum.\n",
       "4. Use a more efficient algorithm, such as the two-pointer approach, to find the pair of elements that sum to the target value.\n",
       "5. Use parallelism to speed up the search, by dividing the list into smaller chunks and searching them concurrently.\n",
       "6. Use a more efficient data structure, such as a hash table, to store the values and their indices, which would allow for faster lookups and insertions.\n",
       "7. Use a different programming language, such as C++, which may have more efficient implementations of the necessary data structures and algorithms.\n",
       "8. Use a library or framework that provides optimized implementations of common algorithms, such as NumPy or SciPy.\n",
       "9. Use a more efficient algorithm, such as the \"brute force\" algorithm, which would iterate over all possible pairs of elements and check if their sum is equal to the target value.\n",
       "10. Use a heuristic approach, such as randomly sampling elements from the list and checking if they sum to the target value, to estimate the probability that such a pair exists."
      ],
      "text/plain": [
       "<IPython.core.display.Markdown object>"
      ]
     },
     "metadata": {},
     "output_type": "display_data"
    }
   ],
   "source": [
    "llama_result = bedrock.llama2_text(*task)\n",
    "render.md(llama_result)"
   ]
  },
  {
   "cell_type": "code",
   "execution_count": 10,
   "id": "3ea191b5-262b-454d-abe5-b87e1dbb9bfc",
   "metadata": {},
   "outputs": [
    {
     "data": {
      "text/markdown": [
       "| Criteria | Weight | Score | Explanation |\n",
       "|----------|--------|-------|-------------|\n",
       "| Factual/Accurate | 0.3 | 70 | Some suggestions are valid optimizations, but others are incorrect or not applicable. |\n",
       "| Human Readability | 0.2 | 90 | The response is well-formatted and easy to understand. |\n",
       "| Crisp vs Verbose | 0.1 | 60 | The response provides multiple suggestions, some of which are redundant or unnecessary. |\n",
       "| Meets User Goal | 0.4 | 50 | The response provides optimization suggestions, but does not directly answer the question of whether the function is correct. |\n",
       "\n",
       "Overall quality score = 65.0/100."
      ],
      "text/plain": [
       "<IPython.core.display.Markdown object>"
      ]
     },
     "metadata": {},
     "output_type": "display_data"
    }
   ],
   "source": [
    "render.md(benchmark.quality(*task, result=llama_result))"
   ]
  },
  {
   "cell_type": "code",
   "execution_count": 11,
   "id": "1be524a6-0f45-4129-a6e3-0f7745a051d3",
   "metadata": {},
   "outputs": [
    {
     "data": {
      "text/markdown": [
       "Here is an optimized solution that runs in O(n) time instead of O(n^2) by using a set to track previously seen elements:\n",
       "\n",
       "```python\n",
       "from typing import List\n",
       "\n",
       "def has_sum_k(nums: List[int], k: int) -> bool:\n",
       "    seen = set()\n",
       "    for num in nums:\n",
       "        if k - num in seen:\n",
       "            return True\n",
       "        seen.add(num)\n",
       "    return False\n",
       "```\n",
       "\n",
       "The key points:\n",
       "\n",
       "- Use a set `seen` to track numbers we've already seen \n",
       "- As we iterate through `nums`, check if `k - num` is in the set\n",
       "- If so, we've found a pair that sums to `k`\n",
       "- Otherwise, add the current `num` to the set\n",
       "- Return False if we make it through the whole list without finding a pair\n",
       "\n",
       "This runs in O(n) time since each element is only processed once during the single pass through nums. The set lookup/insertion is amortized O(1).\n",
       "\n",
       "Compared to the nested loops solution which is O(n^2) from iterating all pairs, this is much more efficient for large inputs."
      ],
      "text/plain": [
       "<IPython.core.display.Markdown object>"
      ]
     },
     "metadata": {},
     "output_type": "display_data"
    }
   ],
   "source": [
    "instant_result = bedrock.instant_text(*task)\n",
    "render.md(instant_result)"
   ]
  },
  {
   "cell_type": "code",
   "execution_count": 12,
   "id": "f876d018-e28e-42ef-a77c-5eaa95dda4de",
   "metadata": {},
   "outputs": [
    {
     "data": {
      "text/markdown": [
       "| Criteria | Weight | Score | Explanation |\n",
       "|----------|--------|-------|-------------|\n",
       "| Factual/accurate | 0.3 | 100 | The optimized solution is correct and well-explained. |\n",
       "| Human readability | 0.2 | 95 | The response is very readable with clear explanations and code formatting. |\n",
       "| Crisp vs verbose | 0.1 | 90 | The explanation is fairly concise while still being thorough. |\n",
       "| Meets user goal | 0.4 | 100 | Directly provides an optimized solution to the problem as requested. |\n",
       "\n",
       "Overall quality score = 97.5/100"
      ],
      "text/plain": [
       "<IPython.core.display.Markdown object>"
      ]
     },
     "metadata": {},
     "output_type": "display_data"
    }
   ],
   "source": [
    "render.md(benchmark.quality(*task, result=instant_result))"
   ]
  },
  {
   "cell_type": "code",
   "execution_count": 13,
   "id": "6ef08468-ba25-47f6-b634-ad2ee77e40ce",
   "metadata": {},
   "outputs": [
    {
     "data": {
      "text/markdown": [
       "\n",
       "Here are some ideas for efficiency improvements for the `has_sum_k` function:\n",
       "\n",
       "1. Use a hash table to keep track of the elements that have already been seen, so that you can avoid checking the same element twice. This would reduce the time complexity from O(n^2) to O(n).\n",
       "2. Sort the list and then use two pointers to iterate through the list, starting from the beginning and end, respectively. If the sum of the elements at the current positions of the pointers is equal to k, return True. This would also reduce the time complexity from O(n^2) to O(n).\n",
       "3. Use a more efficient data structure such as a hash table or a tree-based data structure to store the elements in the list, so that you can efficiently check for the presence of an element with a given sum. This would further reduce the time complexity from O(n^2) to O(n log n) or O(n).\n",
       "4. Parallelize the search by dividing the list into smaller chunks and checking each chunk in parallel using multiple processes or threads. This would allow you to check more elements in parallel, which could further reduce the time complexity from O(n^2) to O(n log n) or O(n).\n",
       "5. Use a more efficient algorithm such as the \"Two Sum\" problem, which has a time complexity of O(n), to find the two elements with a given sum in the list. This would allow you to avoid checking every possible combination of elements and instead focus on finding the optimal solution."
      ],
      "text/plain": [
       "<IPython.core.display.Markdown object>"
      ]
     },
     "metadata": {},
     "output_type": "display_data"
    }
   ],
   "source": [
    "codellama_result = ollama.codellama_text(*task)\n",
    "render.md(codellama_result)"
   ]
  },
  {
   "cell_type": "code",
   "execution_count": 14,
   "id": "a900c588-4465-418c-b34e-3ea06899e16a",
   "metadata": {},
   "outputs": [
    {
     "data": {
      "text/markdown": [
       "| Criteria | Weight | Score | Explanation |\n",
       "|----------|--------|-------|-------------|\n",
       "| Factual/Accurate | 0.3 | 95 | The response provides accurate and relevant suggestions for improving efficiency. |\n",
       "| Human Readability | 0.2 | 90 | The response is well-structured and easy to understand. |\n",
       "| Crisp vs Verbose | 0.1 | 80 | The response is slightly verbose but still concise enough. |\n",
       "| Meets User Goal | 0.4 | 100 | The response directly addresses the goal of improving efficiency and provides multiple helpful suggestions. |\n",
       "\n",
       "Overall quality score = 93.5/100."
      ],
      "text/plain": [
       "<IPython.core.display.Markdown object>"
      ]
     },
     "metadata": {},
     "output_type": "display_data"
    }
   ],
   "source": [
    "render.md(benchmark.quality(*task, result=codellama_result))"
   ]
  },
  {
   "cell_type": "code",
   "execution_count": 15,
   "id": "f0b8007c-a7db-4d53-bd92-7263e13b58ce",
   "metadata": {},
   "outputs": [
    {
     "data": {
      "text/markdown": [
       "The function `has_sum_k` checks if there are two distinct elements in the list `nums` that add up to `k`. Here's a breakdown of the code:\n",
       "\n",
       "1. The function takes two parameters: `nums` (a list of integers) and `k` (an integer).\n",
       "2. It initializes a variable `n` to the length of the `nums` list.\n",
       "3. The function uses two nested loops to iterate over the `nums` list. The outer loop iterates over each element in the list, and the inner loop iterates over the remaining elements in the list (starting from the next index).\n",
       "4. Inside the inner loop, it checks if the sum of the current element and the inner loop element is equal to `k`. If it is, the function returns `True`.\n",
       "5. If the function finishes iterating over the entire list without finding a pair of elements that add up to `k`, it returns `False`.\n",
       "\n",
       "This function has a time complexity of O(n^2) due to the nested loops. For large lists, this could be inefficient. A more efficient approach would be to use a set to store the elements we've seen so far and their complements (i.e., `k - num`). This would reduce the time complexity to O(n)."
      ],
      "text/plain": [
       "<IPython.core.display.Markdown object>"
      ]
     },
     "metadata": {},
     "output_type": "display_data"
    }
   ],
   "source": [
    "groq_result = groq.text(*task)\n",
    "render.md(groq_result)"
   ]
  },
  {
   "cell_type": "code",
   "execution_count": 16,
   "id": "44e04701-6953-4479-90b0-ba2bca780b6f",
   "metadata": {},
   "outputs": [
    {
     "data": {
      "text/markdown": [
       "| Criteria | Weight | Score | Explanation |\n",
       "|----------|--------|-------|-------------|\n",
       "| Factual/Accurate | 0.3 | 100 | The explanation accurately describes the function's behavior and time complexity. |\n",
       "| Human Readability | 0.2 | 90 | The explanation is clear and easy to understand, but could benefit from an example. |\n",
       "| Crisp vs Verbose | 0.1 | 80 | The explanation is concise, but could be more succinct in some parts. |\n",
       "| Meets User Goal | 0.4 | 95 | The explanation provides a good understanding of the function and suggests an optimization. |\n",
       "\n",
       "Overall quality score = 93.5/100."
      ],
      "text/plain": [
       "<IPython.core.display.Markdown object>"
      ]
     },
     "metadata": {},
     "output_type": "display_data"
    }
   ],
   "source": [
    "render.md(benchmark.quality(*task, result=groq_result))"
   ]
  }
 ],
 "metadata": {
  "kernelspec": {
   "display_name": "Python 3 (ipykernel)",
   "language": "python",
   "name": "python3"
  },
  "language_info": {
   "codemirror_mode": {
    "name": "ipython",
    "version": 3
   },
   "file_extension": ".py",
   "mimetype": "text/x-python",
   "name": "python",
   "nbconvert_exporter": "python",
   "pygments_lexer": "ipython3",
   "version": "3.11.7"
  }
 },
 "nbformat": 4,
 "nbformat_minor": 5
}
