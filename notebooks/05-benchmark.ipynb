{
 "cells": [
  {
   "cell_type": "code",
   "execution_count": 1,
   "id": "b98d3e38-543f-446c-a88a-57945bfc1d2b",
   "metadata": {},
   "outputs": [],
   "source": [
    "import os\n",
    "import sys\n",
    "import importlib.util\n",
    "\n",
    "is_installed = importlib.util.find_spec(\"gtsystem\")\n",
    "if not is_installed:\n",
    "    module_path = \"..\"\n",
    "    sys.path.append(os.path.abspath(module_path))\n",
    "\n",
    "from gtsystem import openai, bedrock, render, tasks, benchmark"
   ]
  },
  {
   "cell_type": "code",
   "execution_count": 2,
   "id": "ba481a77-1403-46b3-9bbf-ac58036f42c2",
   "metadata": {},
   "outputs": [],
   "source": [
    "tasks.load('../data/openai-examples-21.xlsx')"
   ]
  },
  {
   "cell_type": "code",
   "execution_count": 3,
   "id": "2645ec31-c96c-4704-aaa2-689aee1bcf37",
   "metadata": {},
   "outputs": [
    {
     "data": {
      "text/html": [
       "<style type=\"text/css\">\n",
       "#T_82168 th {\n",
       "  font-size: 10pt;\n",
       "  text-align: left;\n",
       "}\n",
       "#T_82168 td {\n",
       "  text-align: left;\n",
       "  word-wrap: break-word;\n",
       "  overflow: hidden;\n",
       "  text-overflow: ellipsis;\n",
       "}\n",
       "#T_82168 .index_name {\n",
       "  display: none;\n",
       "}\n",
       "#T_82168 .row_heading {\n",
       "  display: none;\n",
       "}\n",
       "#T_82168  .blank {\n",
       "  display: none;\n",
       "}\n",
       "</style>\n",
       "<table id=\"T_82168\">\n",
       "  <thead>\n",
       "    <tr>\n",
       "      <th class=\"blank level0\" >&nbsp;</th>\n",
       "      <th id=\"T_82168_level0_col0\" class=\"col_heading level0 col0\" >Task</th>\n",
       "      <th id=\"T_82168_level0_col1\" class=\"col_heading level0 col1\" >Task Types</th>\n",
       "      <th id=\"T_82168_level0_col2\" class=\"col_heading level0 col2\" >System</th>\n",
       "      <th id=\"T_82168_level0_col3\" class=\"col_heading level0 col3\" >Prompt</th>\n",
       "      <th id=\"T_82168_level0_col4\" class=\"col_heading level0 col4\" >Temperature</th>\n",
       "      <th id=\"T_82168_level0_col5\" class=\"col_heading level0 col5\" >TopP</th>\n",
       "      <th id=\"T_82168_level0_col6\" class=\"col_heading level0 col6\" >Source</th>\n",
       "    </tr>\n",
       "  </thead>\n",
       "  <tbody>\n",
       "    <tr>\n",
       "      <th id=\"T_82168_level0_row0\" class=\"row_heading level0 row0\" >17</th>\n",
       "      <td id=\"T_82168_row0_col0\" class=\"data row0 col0\" >Improve code efficiency</td>\n",
       "      <td id=\"T_82168_row0_col1\" class=\"data row0 col1\" >Transform; Code</td>\n",
       "      <td id=\"T_82168_row0_col2\" class=\"data row0 col2\" >You will be provided with a piece of Python code, and your task is to provide ideas for efficiency improvements.</td>\n",
       "      <td id=\"T_82168_row0_col3\" class=\"data row0 col3\" >from typing import List\n",
       "                \n",
       "                \n",
       "    def has_sum_k(nums: List[int], k: int) -> bool:\n",
       "        \"\"\"\n",
       "        Returns True if there are two distinct elements in nums such that their sum \n",
       "        is equal to k, and otherwise returns False.\n",
       "        \"\"\"\n",
       "        n = len(nums)\n",
       "        for i in range(n):\n",
       "            for j in range(i+1, n):\n",
       "                if nums[i] + nums[j] == k:\n",
       "                    return True\n",
       "        return False</td>\n",
       "      <td id=\"T_82168_row0_col4\" class=\"data row0 col4\" >0.700000</td>\n",
       "      <td id=\"T_82168_row0_col5\" class=\"data row0 col5\" >1</td>\n",
       "      <td id=\"T_82168_row0_col6\" class=\"data row0 col6\" >OpenAI Examples</td>\n",
       "    </tr>\n",
       "  </tbody>\n",
       "</table>\n"
      ],
      "text/plain": [
       "<pandas.io.formats.style.Styler at 0x1118c6b10>"
      ]
     },
     "execution_count": 3,
     "metadata": {},
     "output_type": "execute_result"
    }
   ],
   "source": [
    "render.df(tasks.find('improve code'))"
   ]
  },
  {
   "cell_type": "code",
   "execution_count": 4,
   "id": "acd99c42-56fd-45b6-b602-42fb9b0d4f75",
   "metadata": {},
   "outputs": [],
   "source": [
    "task = tasks.get('Improve code efficiency')"
   ]
  },
  {
   "cell_type": "code",
   "execution_count": 5,
   "id": "212901e2-2df9-44ef-9e2d-2a7623725aab",
   "metadata": {},
   "outputs": [
    {
     "data": {
      "text/markdown": [
       "One possible improvement is to use a hash set to store the elements of `nums` as we iterate through the list. This allows us to check if `k - nums[i]` exists in constant time, rather than iterating through the list again.\n",
       "\n",
       "Here's an updated version of the code that incorporates this improvement:\n",
       "\n",
       "```python\n",
       "from typing import List, Set\n",
       "\n",
       "def has_sum_k(nums: List[int], k: int) -> bool:\n",
       "    \"\"\"\n",
       "    Returns True if there are two distinct elements in nums such that their sum \n",
       "    is equal to k, and otherwise returns False.\n",
       "    \"\"\"\n",
       "    num_set: Set[int] = set()\n",
       "    for num in nums:\n",
       "        complement = k - num\n",
       "        if complement in num_set:\n",
       "            return True\n",
       "        num_set.add(num)\n",
       "    return False\n",
       "```\n",
       "\n",
       "This updated version has a time complexity of O(n), where n is the length of `nums`."
      ],
      "text/plain": [
       "<IPython.core.display.Markdown object>"
      ]
     },
     "metadata": {},
     "output_type": "display_data"
    }
   ],
   "source": [
    "render.md(openai.gpt_text(*task))"
   ]
  },
  {
   "cell_type": "code",
   "execution_count": 6,
   "id": "33dee4e8-014c-4c43-9df5-041c826cb91b",
   "metadata": {},
   "outputs": [
    {
     "data": {
      "text/markdown": [
       "1. Use a set to keep track of seen values, to avoid checking duplicate pairs.\n",
       "2. Use a dictionary to map each value to its index in the list, to quickly look up the index of a value and its complement to k.\n",
       "3. Use a generator expression to iterate over the pairs of numbers, instead of using two separate for loops.\n",
       "4. Use the `any` function to simplify the returning logic.\n",
       "\n",
       "Here's an example of how the optimized code could look like:\n",
       "```\n",
       "def has_sum_k(nums: List[int], k: int) -> bool:\n",
       "    seen = set()\n",
       "    indexes = {}\n",
       "    for i, num in enumerate(nums):\n",
       "        indexes[num] = i\n",
       "        seen.add(num)\n",
       "    \n",
       "    return any(nums[i] + nums[j] == k for i, j in combinations(range(len(nums)), 2) if nums[i] not in seen or nums[j] not in seen)\n",
       "```\n",
       "This code should be more efficient than the original implementation, especially for larger lists of numbers."
      ],
      "text/plain": [
       "<IPython.core.display.Markdown object>"
      ]
     },
     "metadata": {},
     "output_type": "display_data"
    }
   ],
   "source": [
    "llama_result = bedrock.llama_text(*task)\n",
    "render.md(llama_result)"
   ]
  },
  {
   "cell_type": "code",
   "execution_count": 7,
   "id": "3ea191b5-262b-454d-abe5-b87e1dbb9bfc",
   "metadata": {},
   "outputs": [
    {
     "data": {
      "text/plain": [
       "'85.71'"
      ]
     },
     "execution_count": 7,
     "metadata": {},
     "output_type": "execute_result"
    }
   ],
   "source": [
    "benchmark.accuracy(system=task[0], prompt=task[1], result=llama_result)"
   ]
  },
  {
   "cell_type": "code",
   "execution_count": 8,
   "id": "1be524a6-0f45-4129-a6e3-0f7745a051d3",
   "metadata": {},
   "outputs": [
    {
     "data": {
      "text/markdown": [
       "Here are some ideas to improve the efficiency of this function:\n",
       "\n",
       "1. Use a hash set to store all seen numbers. Before adding a new number, check if k - num is already in the hash set. This avoids the nested loop and improves runtime to O(n).\n",
       "\n",
       "```python\n",
       "def has_sum_k(nums: List[int], k: int) -> bool:\n",
       "    seen = set()\n",
       "    for num in nums:\n",
       "        if k - num in seen:\n",
       "            return True\n",
       "        seen.add(num)\n",
       "    return False\n",
       "```\n",
       "\n",
       "2. Sort the list first. Then use two pointers starting at both ends that move toward each other. This allows you to skip lots of unnecessary comparisons. Runtime is O(n log n).\n",
       "\n",
       "```python \n",
       "def has_sum_k(nums: List[int], k: int) -> bool:\n",
       "    nums.sort()\n",
       "    left, right = 0, len(nums) - 1\n",
       "    while left < right:\n",
       "        cur_sum = nums[left] + nums[right] \n",
       "        if cur_sum == k:\n",
       "            return True\n",
       "        elif cur_sum < k:\n",
       "            left += 1  \n",
       "        else:\n",
       "            right -= 1\n",
       "    return False\n",
       "```\n",
       "\n",
       "3. If the list is long but has few unique elements, could convert to a set first to remove duplicates. This reduces n and speeds up nested loop.\n",
       "\n",
       "Let me know if any of these ideas need more clarification!"
      ],
      "text/plain": [
       "<IPython.core.display.Markdown object>"
      ]
     },
     "metadata": {},
     "output_type": "display_data"
    }
   ],
   "source": [
    "claude_result = bedrock.claude_text(*task)\n",
    "render.md(claude_result)"
   ]
  },
  {
   "cell_type": "code",
   "execution_count": 9,
   "id": "f876d018-e28e-42ef-a77c-5eaa95dda4de",
   "metadata": {},
   "outputs": [
    {
     "data": {
      "text/plain": [
       "'100.00'"
      ]
     },
     "execution_count": 9,
     "metadata": {},
     "output_type": "execute_result"
    }
   ],
   "source": [
    "benchmark.accuracy(system=task[0], prompt=task[1], result=claude_result)"
   ]
  }
 ],
 "metadata": {
  "kernelspec": {
   "display_name": "Python 3 (ipykernel)",
   "language": "python",
   "name": "python3"
  },
  "language_info": {
   "codemirror_mode": {
    "name": "ipython",
    "version": 3
   },
   "file_extension": ".py",
   "mimetype": "text/x-python",
   "name": "python",
   "nbconvert_exporter": "python",
   "pygments_lexer": "ipython3",
   "version": "3.11.7"
  }
 },
 "nbformat": 4,
 "nbformat_minor": 5
}
