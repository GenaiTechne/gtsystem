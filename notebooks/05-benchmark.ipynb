{
 "cells": [
  {
   "cell_type": "code",
   "execution_count": 1,
   "id": "b98d3e38-543f-446c-a88a-57945bfc1d2b",
   "metadata": {},
   "outputs": [],
   "source": [
    "import sys\n",
    "import os\n",
    "\n",
    "module_path = os.path.abspath(\"..\")\n",
    "if module_path not in sys.path:\n",
    "    sys.path.insert(0, module_path)\n",
    "\n",
    "from gtsystem import openai, bedrock, ollama, groq, render, tasks, benchmark"
   ]
  },
  {
   "cell_type": "code",
   "execution_count": 2,
   "id": "ba481a77-1403-46b3-9bbf-ac58036f42c2",
   "metadata": {},
   "outputs": [],
   "source": [
    "tasks.load('../data/openai-examples-21.xlsx')"
   ]
  },
  {
   "cell_type": "code",
   "execution_count": 3,
   "id": "2645ec31-c96c-4704-aaa2-689aee1bcf37",
   "metadata": {},
   "outputs": [
    {
     "data": {
      "text/html": [
       "<style type=\"text/css\">\n",
       "#T_7d1ba th {\n",
       "  font-size: 10pt;\n",
       "  text-align: left;\n",
       "}\n",
       "#T_7d1ba td {\n",
       "  text-align: left;\n",
       "  word-wrap: break-word;\n",
       "  overflow: hidden;\n",
       "  text-overflow: ellipsis;\n",
       "}\n",
       "#T_7d1ba .index_name {\n",
       "  display: none;\n",
       "}\n",
       "#T_7d1ba .row_heading {\n",
       "  display: none;\n",
       "}\n",
       "#T_7d1ba  .blank {\n",
       "  display: none;\n",
       "}\n",
       "</style>\n",
       "<table id=\"T_7d1ba\">\n",
       "  <thead>\n",
       "    <tr>\n",
       "      <th class=\"blank level0\" >&nbsp;</th>\n",
       "      <th id=\"T_7d1ba_level0_col0\" class=\"col_heading level0 col0\" >Task</th>\n",
       "      <th id=\"T_7d1ba_level0_col1\" class=\"col_heading level0 col1\" >Task Types</th>\n",
       "      <th id=\"T_7d1ba_level0_col2\" class=\"col_heading level0 col2\" >System</th>\n",
       "      <th id=\"T_7d1ba_level0_col3\" class=\"col_heading level0 col3\" >Prompt</th>\n",
       "      <th id=\"T_7d1ba_level0_col4\" class=\"col_heading level0 col4\" >Temperature</th>\n",
       "      <th id=\"T_7d1ba_level0_col5\" class=\"col_heading level0 col5\" >TopP</th>\n",
       "      <th id=\"T_7d1ba_level0_col6\" class=\"col_heading level0 col6\" >Source</th>\n",
       "    </tr>\n",
       "  </thead>\n",
       "  <tbody>\n",
       "    <tr>\n",
       "      <th id=\"T_7d1ba_level0_row0\" class=\"row_heading level0 row0\" >17</th>\n",
       "      <td id=\"T_7d1ba_row0_col0\" class=\"data row0 col0\" >Improve code efficiency</td>\n",
       "      <td id=\"T_7d1ba_row0_col1\" class=\"data row0 col1\" >Transform; Code</td>\n",
       "      <td id=\"T_7d1ba_row0_col2\" class=\"data row0 col2\" >You will be provided with a piece of Python code, and your task is to provide ideas for efficiency improvements.</td>\n",
       "      <td id=\"T_7d1ba_row0_col3\" class=\"data row0 col3\" >from typing import List\n",
       "                \n",
       "                \n",
       "    def has_sum_k(nums: List[int], k: int) -> bool:\n",
       "        \"\"\"\n",
       "        Returns True if there are two distinct elements in nums such that their sum \n",
       "        is equal to k, and otherwise returns False.\n",
       "        \"\"\"\n",
       "        n = len(nums)\n",
       "        for i in range(n):\n",
       "            for j in range(i+1, n):\n",
       "                if nums[i] + nums[j] == k:\n",
       "                    return True\n",
       "        return False</td>\n",
       "      <td id=\"T_7d1ba_row0_col4\" class=\"data row0 col4\" >0.700000</td>\n",
       "      <td id=\"T_7d1ba_row0_col5\" class=\"data row0 col5\" >1</td>\n",
       "      <td id=\"T_7d1ba_row0_col6\" class=\"data row0 col6\" >OpenAI Examples</td>\n",
       "    </tr>\n",
       "  </tbody>\n",
       "</table>\n"
      ],
      "text/plain": [
       "<pandas.io.formats.style.Styler at 0x10fc900d0>"
      ]
     },
     "execution_count": 3,
     "metadata": {},
     "output_type": "execute_result"
    }
   ],
   "source": [
    "render.df(tasks.find('improve code'))"
   ]
  },
  {
   "cell_type": "code",
   "execution_count": 4,
   "id": "acd99c42-56fd-45b6-b602-42fb9b0d4f75",
   "metadata": {},
   "outputs": [],
   "source": [
    "task = tasks.get('Improve code efficiency')"
   ]
  },
  {
   "cell_type": "code",
   "execution_count": 5,
   "id": "847cfcdf-d8d5-405b-a903-7ada873ef2b2",
   "metadata": {},
   "outputs": [
    {
     "data": {
      "text/markdown": [
       "The provided code implements a function `has_sum_k` that checks if there are two distinct elements in a given list `nums` whose sum is equal to a target value `k`. The current implementation uses a nested loop approach, which has a time complexity of O(n^2), where n is the length of the input list `nums`. This approach can be inefficient for large input sizes.\n",
       "\n",
       "Here are a few ideas to improve the efficiency of the code:\n",
       "\n",
       "1. **Use a set for constant-time lookup**:\n",
       "   - Create a set from the input list `nums`.\n",
       "   - Iterate through the list `nums`.\n",
       "   - For each element `num`, check if `k - num` exists in the set.\n",
       "   - If it exists, it means there are two distinct elements whose sum is `k`.\n",
       "   - This approach has a time complexity of O(n), which is more efficient than the nested loop approach.\n",
       "\n",
       "```python\n",
       "def has_sum_k(nums: List[int], k: int) -> bool:\n",
       "    num_set = set(nums)\n",
       "    for num in nums:\n",
       "        complement = k - num\n",
       "        if complement in num_set and complement != num:\n",
       "            return True\n",
       "    return False\n",
       "```\n",
       "\n",
       "2. **Use a dictionary for constant-time lookup**:\n",
       "   - Create an empty dictionary.\n",
       "   - Iterate through the list `nums`.\n",
       "   - For each element `num`, check if `k - num` exists in the dictionary as a key.\n",
       "   - If it does, it means there are two distinct elements whose sum is `k`.\n",
       "   - If not, store `num` as the key and its index as the value in the dictionary.\n",
       "   - This approach also has a time complexity of O(n), which is more efficient than the nested loop approach.\n",
       "\n",
       "```python\n",
       "def has_sum_k(nums: List[int], k: int) -> bool:\n",
       "    num_dict = {}\n",
       "    for i, num in enumerate(nums):\n",
       "        complement = k - num\n",
       "        if complement in num_dict:\n",
       "            return True\n",
       "        num_dict[num] = i\n",
       "    return False\n",
       "```\n",
       "\n",
       "3. **Use the two-pointer technique**:\n",
       "   - Sort the input list `nums` in ascending order.\n",
       "   - Initialize two pointers, `left` and"
      ],
      "text/plain": [
       "<IPython.core.display.Markdown object>"
      ]
     },
     "metadata": {},
     "output_type": "display_data"
    }
   ],
   "source": [
    "render.md(bedrock.sonnet_text(*task))"
   ]
  },
  {
   "cell_type": "code",
   "execution_count": 6,
   "id": "212901e2-2df9-44ef-9e2d-2a7623725aab",
   "metadata": {},
   "outputs": [
    {
     "data": {
      "text/markdown": [
       "The provided Python function `has_sum_k` checks whether there are two distinct elements in a list `nums` such that their sum equals a given number `k`. While this brute-force approach is straightforward and easy to understand, it is not the most efficient, especially for large lists, as it has a time complexity of O(n^2). Here are several ideas for efficiency improvements:\n",
       "\n",
       "### 1. Use a Hash Set for Lookups\n",
       "\n",
       "One of the most significant improvements is utilizing a hash set to reduce the time complexity to O(n).\n",
       "\n",
       "```python\n",
       "def has_sum_k(nums: List[int], k: int) -> bool:\n",
       "    seen = set()\n",
       "    for num in nums:\n",
       "        complement = k - num\n",
       "        if complement in seen:\n",
       "            return True\n",
       "        seen.add(num)\n",
       "    return False\n",
       "```\n",
       "\n",
       "This approach iterates through the list once, storing each element's complement (i.e., `k - num`) in a hash set. For every element, it checks if the complement exists in the set. If it does, it means there are two numbers whose sum equals `k`.\n",
       "\n",
       "### 2. Sorting and Two-Pointer Technique\n",
       "\n",
       "Another approach is to sort the array first, which takes O(n log n) time, and then use a two-pointer technique, which takes O(n) time, leading to an overall time complexity of O(n log n).\n",
       "\n",
       "```python\n",
       "def has_sum_k(nums: List[int], k: int) -> bool:\n",
       "    nums.sort()\n",
       "    left, right = 0, len(nums) - 1\n",
       "    while left < right:\n",
       "        current_sum = nums[left] + nums[right]\n",
       "        if current_sum == k:\n",
       "            return True\n",
       "        elif current_sum < k:\n",
       "            left += 1\n",
       "        else:\n",
       "            right -= 1\n",
       "    return False\n",
       "```\n",
       "\n",
       "This method works by initially placing two pointers at the start and end of the sorted array. Depending on their sum, we move the pointers closer to find the target sum.\n",
       "\n",
       "### 3. Early Exit for Positive k with Non-negative Numbers\n",
       "\n",
       "If you know that all numbers in the list are non-negative and `k` is positive, you can add an early exit condition if both numbers being summed are greater than `k`.\n",
       "\n",
       "However, this optimization depends heavily on the nature of the input data and may not always be applicable.\n",
       "\n",
       "### 4. Avoid Checking Duplicate Elements\n",
       "\n",
       "If the list contains duplicate elements and you still consider each occurrence as distinct, ensure your logic does not unnecessarily re-check"
      ],
      "text/plain": [
       "<IPython.core.display.Markdown object>"
      ]
     },
     "metadata": {},
     "output_type": "display_data"
    }
   ],
   "source": [
    "openai_result = openai.text(*task)\n",
    "render.md(openai_result)"
   ]
  },
  {
   "cell_type": "code",
   "execution_count": 7,
   "id": "b0974181-4aaf-4329-842e-e23ad45e691a",
   "metadata": {},
   "outputs": [
    {
     "data": {
      "text/plain": [
       "'95.00'"
      ]
     },
     "execution_count": 7,
     "metadata": {},
     "output_type": "execute_result"
    }
   ],
   "source": [
    "benchmark.accuracy(system=task[0], prompt=task[1], result=openai_result)"
   ]
  },
  {
   "cell_type": "code",
   "execution_count": 8,
   "id": "33dee4e8-014c-4c43-9df5-041c826cb91b",
   "metadata": {},
   "outputs": [
    {
     "data": {
      "text/markdown": [
       "Here are a few ideas for efficiency improvements:\n",
       "\n",
       "1. Use a set to keep track of seen values, instead of iterating over the entire list for each element. This can reduce the time complexity from O(n^2) to O(n).\n",
       "2. Use a dictionary to map each value to its index in the list. This can allow you to quickly look up the index of a value and check if it's equal to k, rather than iterating over the entire list.\n",
       "3. Use a single loop instead of two nested loops. You can iterate over the list once and keep track of the sum of the current element and the next element. If the sum is equal to k, return true.\n",
       "4. Use a accumulator variable to keep track of the sum of the elements, instead of recalculating it for each iteration.\n",
       "5. Use a more efficient algorithm, like the two pointers approach, which has a time complexity of O(n)\n",
       "6. Use a more efficient data structure, like a hash table, to store the values and their indices, which can allow you to quickly look up the index of a value and check if it's equal to k.\n",
       "7. Use a parallel approach, like parallel loops or parallel dictionary lookups, to utilize multiple CPU cores and speed up the execution.\n",
       "8. Use a profiler to identify the bottleneck of the code and optimize accordingly.\n",
       "\n",
       "It's worth noting that the last three suggestions are more advanced and may require a deeper understanding of the problem and the underlying data structures."
      ],
      "text/plain": [
       "<IPython.core.display.Markdown object>"
      ]
     },
     "metadata": {},
     "output_type": "display_data"
    }
   ],
   "source": [
    "llama_result = bedrock.llama2_text(*task)\n",
    "render.md(llama_result)"
   ]
  },
  {
   "cell_type": "code",
   "execution_count": 9,
   "id": "3ea191b5-262b-454d-abe5-b87e1dbb9bfc",
   "metadata": {},
   "outputs": [
    {
     "data": {
      "text/plain": [
       "'100.00'"
      ]
     },
     "execution_count": 9,
     "metadata": {},
     "output_type": "execute_result"
    }
   ],
   "source": [
    "benchmark.accuracy(system=task[0], prompt=task[1], result=llama_result)"
   ]
  },
  {
   "cell_type": "code",
   "execution_count": 10,
   "id": "1be524a6-0f45-4129-a6e3-0f7745a051d3",
   "metadata": {},
   "outputs": [
    {
     "data": {
      "text/markdown": [
       "Here is an optimized solution that runs in O(n) time instead of O(n^2) by using a set to track previously seen elements:\n",
       "\n",
       "```python\n",
       "from typing import List\n",
       "\n",
       "def has_sum_k(nums: List[int], k: int) -> bool:\n",
       "    seen = set()\n",
       "    for num in nums:\n",
       "        if k - num in seen:\n",
       "            return True\n",
       "        seen.add(num)\n",
       "    return False\n",
       "```\n",
       "\n",
       "The key points:\n",
       "\n",
       "- Use a set `seen` to track numbers we've already seen \n",
       "- For each number `num`, check if `k - num` is in the set\n",
       "- If so, we've found a pair that sums to k\n",
       "- Otherwise, add `num` to the set\n",
       "- Return False if we never found a pair\n",
       "\n",
       "This only iterates through the list once, so the time complexity is O(n) instead of O(n^2) from the nested loops in the original solution. The space usage is O(n) for the set."
      ],
      "text/plain": [
       "<IPython.core.display.Markdown object>"
      ]
     },
     "metadata": {},
     "output_type": "display_data"
    }
   ],
   "source": [
    "instant_result = bedrock.instant_text(*task)\n",
    "render.md(instant_result)"
   ]
  },
  {
   "cell_type": "code",
   "execution_count": 11,
   "id": "f876d018-e28e-42ef-a77c-5eaa95dda4de",
   "metadata": {},
   "outputs": [
    {
     "data": {
      "text/plain": [
       "'100.00'"
      ]
     },
     "execution_count": 11,
     "metadata": {},
     "output_type": "execute_result"
    }
   ],
   "source": [
    "benchmark.accuracy(system=task[0], prompt=task[1], result=instant_result)"
   ]
  },
  {
   "cell_type": "code",
   "execution_count": 12,
   "id": "6ef08468-ba25-47f6-b634-ad2ee77e40ce",
   "metadata": {},
   "outputs": [
    {
     "data": {
      "text/markdown": [
       "\n",
       "Here are some ideas for efficiency improvements for the `has_sum_k` function:\n",
       "\n",
       "1. Use a hash table to keep track of the sums that have already been seen. This will allow the function to avoid checking for duplicates and improve its overall efficiency.\n",
       "2. Sort the input list before iterating over it, which can make the function more efficient by allowing it to use binary search instead of linear search.\n",
       "3. Use a more efficient data structure than a Python list to store the numbers, such as a set or a dictionary. This will allow the function to have faster lookups and improve its overall efficiency.\n",
       "4. Parallelize the computation using multi-threading or multi-processing, which can be particularly useful if the input list is very large.\n",
       "5. Use a more efficient algorithm for finding the sum of two numbers in the list, such as the \"two pointer\" method or the \"binary search\" method. This will allow the function to have faster execution time and improve its overall efficiency."
      ],
      "text/plain": [
       "<IPython.core.display.Markdown object>"
      ]
     },
     "metadata": {},
     "output_type": "display_data"
    }
   ],
   "source": [
    "codellama_result = ollama.codellama_text(*task)\n",
    "render.md(codellama_result)"
   ]
  },
  {
   "cell_type": "code",
   "execution_count": 13,
   "id": "a900c588-4465-418c-b34e-3ea06899e16a",
   "metadata": {},
   "outputs": [
    {
     "data": {
      "text/plain": [
       "'100.00'"
      ]
     },
     "execution_count": 13,
     "metadata": {},
     "output_type": "execute_result"
    }
   ],
   "source": [
    "benchmark.accuracy(system=task[0], prompt=task[1], result=codellama_result)"
   ]
  },
  {
   "cell_type": "code",
   "execution_count": 14,
   "id": "f0b8007c-a7db-4d53-bd92-7263e13b58ce",
   "metadata": {},
   "outputs": [
    {
     "data": {
      "text/markdown": [
       "Here are a few ideas to improve the efficiency of the given code:\n",
       "\n",
       "1. Use a set to store the numbers in the list. This will allow you to check if a number is in the list in O(1) time instead of O(n) time. Then, you can iterate through the list and for each number, check if k - nums[i] is in the set. If it is, then you have found two numbers that add up to k. This will reduce the time complexity of the function from O(n^2) to O(n).\n",
       "\n",
       "Here is an example of how this might look:\n",
       "\n",
       "def has\\_sum\\_k(nums: List[int], k: int) -> bool:\n",
       "// create an empty set\n",
       "s = set()\n",
       "n = len(nums)\n",
       "\n",
       "// iterate through the list\n",
       "for i in range(n):\n",
       "// check if k - nums[i] is in the set\n",
       "if k - nums[i] in s:\n",
       "return True\n",
       "// add nums[i] to the set\n",
       "s.add(nums[i])\n",
       "\n",
       "return False\n",
       "\n",
       "2. If the numbers in the list are guaranteed to be non-negative, you can sort the list first and then use a two-pointer approach to find two numbers that add up to k. This will also reduce the time complexity of the function to O(n), but it will use more space due to the need to sort the list.\n",
       "\n",
       "Here is an example of how this might look:\n",
       "\n",
       "def has\\_sum\\_k(nums: List[int], k: int) -> bool:\n",
       "// sort the list\n",
       "nums.sort()\n",
       "n = len(nums)\n",
       "\n",
       "// initialize two pointers at the beginning and end of the list\n",
       "i = 0\n",
       "j = n - 1\n",
       "\n",
       "// iterate until the pointers meet\n",
       "while i < j:\n",
       "// if the numbers at the pointers add up to k, return True\n",
       "if nums[i] + nums[j] == k:\n",
       "return True\n",
       "// if the numbers add up to something greater than k, move the right pointer to the left\n",
       "if nums[i] + nums[j] > k:\n",
       "j -= 1\n",
       "// otherwise, move the left pointer to the right\n",
       "else:\n",
       "i += 1\n",
       "\n"
      ],
      "text/plain": [
       "<IPython.core.display.Markdown object>"
      ]
     },
     "metadata": {},
     "output_type": "display_data"
    }
   ],
   "source": [
    "groq_result = groq.text(*task)\n",
    "render.md(groq_result)"
   ]
  },
  {
   "cell_type": "code",
   "execution_count": 15,
   "id": "44e04701-6953-4479-90b0-ba2bca780b6f",
   "metadata": {},
   "outputs": [
    {
     "data": {
      "text/plain": [
       "'95.00'"
      ]
     },
     "execution_count": 15,
     "metadata": {},
     "output_type": "execute_result"
    }
   ],
   "source": [
    "benchmark.accuracy(system=task[0], prompt=task[1], result=groq_result)"
   ]
  }
 ],
 "metadata": {
  "kernelspec": {
   "display_name": "Python 3 (ipykernel)",
   "language": "python",
   "name": "python3"
  },
  "language_info": {
   "codemirror_mode": {
    "name": "ipython",
    "version": 3
   },
   "file_extension": ".py",
   "mimetype": "text/x-python",
   "name": "python",
   "nbconvert_exporter": "python",
   "pygments_lexer": "ipython3",
   "version": "3.11.7"
  }
 },
 "nbformat": 4,
 "nbformat_minor": 5
}
