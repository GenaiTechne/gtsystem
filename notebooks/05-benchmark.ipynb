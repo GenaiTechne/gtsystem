{
 "cells": [
  {
   "cell_type": "code",
   "execution_count": 1,
   "id": "b98d3e38-543f-446c-a88a-57945bfc1d2b",
   "metadata": {},
   "outputs": [],
   "source": [
    "import sys\n",
    "import os\n",
    "\n",
    "module_path = os.path.abspath(\"..\")\n",
    "if module_path not in sys.path:\n",
    "    sys.path.insert(0, module_path)\n",
    "\n",
    "from gtsystem import anthropic, openai, bedrock, ollama, groq, render, tasks, benchmark, instrument"
   ]
  },
  {
   "cell_type": "code",
   "execution_count": 2,
   "id": "2e2dad84-f555-497a-8fb7-76af244b80df",
   "metadata": {},
   "outputs": [],
   "source": [
    "tasks.load('../data/quality-benchmark-2024-0421.xlsx')"
   ]
  },
  {
   "cell_type": "code",
   "execution_count": 3,
   "id": "2645ec31-c96c-4704-aaa2-689aee1bcf37",
   "metadata": {
    "scrolled": true
   },
   "outputs": [
    {
     "data": {
      "text/html": [
       "<style type=\"text/css\">\n",
       "#T_f8e93 th {\n",
       "  font-size: 10pt;\n",
       "  text-align: left;\n",
       "}\n",
       "#T_f8e93 td {\n",
       "  text-align: left;\n",
       "  word-wrap: break-word;\n",
       "  overflow: hidden;\n",
       "  text-overflow: ellipsis;\n",
       "}\n",
       "#T_f8e93 .index_name {\n",
       "  display: none;\n",
       "}\n",
       "#T_f8e93 .row_heading {\n",
       "  display: none;\n",
       "}\n",
       "#T_f8e93  .blank {\n",
       "  display: none;\n",
       "}\n",
       "</style>\n",
       "<table id=\"T_f8e93\">\n",
       "  <thead>\n",
       "    <tr>\n",
       "      <th class=\"blank level0\" >&nbsp;</th>\n",
       "      <th id=\"T_f8e93_level0_col0\" class=\"col_heading level0 col0\" >Task</th>\n",
       "      <th id=\"T_f8e93_level0_col1\" class=\"col_heading level0 col1\" >System</th>\n",
       "      <th id=\"T_f8e93_level0_col2\" class=\"col_heading level0 col2\" >Prompt</th>\n",
       "    </tr>\n",
       "  </thead>\n",
       "  <tbody>\n",
       "    <tr>\n",
       "      <th id=\"T_f8e93_level0_row0\" class=\"row_heading level0 row0\" >0</th>\n",
       "      <td id=\"T_f8e93_row0_col0\" class=\"data row0 col0\" >Explain CRISPR</td>\n",
       "      <td id=\"T_f8e93_row0_col1\" class=\"data row0 col1\" >You are a subject matter expert in genetic engineering. Respond within 300 words.</td>\n",
       "      <td id=\"T_f8e93_row0_col2\" class=\"data row0 col2\" >Explain how CRISPR technology can be used to genetically modify crops, including the potential benefits and risks associated with this technology. Ensure the explanation is suitable for someone without a background in genetics.</td>\n",
       "    </tr>\n",
       "    <tr>\n",
       "      <th id=\"T_f8e93_level0_row1\" class=\"row_heading level0 row1\" >1</th>\n",
       "      <td id=\"T_f8e93_row1_col0\" class=\"data row1 col0\" >Math algebra</td>\n",
       "      <td id=\"T_f8e93_row1_col1\" class=\"data row1 col1\" >You are an expert mathematician. Respond within 300 words.</td>\n",
       "      <td id=\"T_f8e93_row1_col2\" class=\"data row1 col2\" >A farmer is planning to fence a rectangular area using 200 meters of fencing material and wants to maximize the enclosed area. What dimensions should the rectangle have for maximum area? Please explain your reasoning step-by-step, assuming the user has basic knowledge of algebra but is not familiar with calculus.</td>\n",
       "    </tr>\n",
       "    <tr>\n",
       "      <th id=\"T_f8e93_level0_row2\" class=\"row_heading level0 row2\" >2</th>\n",
       "      <td id=\"T_f8e93_row2_col0\" class=\"data row2 col0\" >Logical reasoning</td>\n",
       "      <td id=\"T_f8e93_row2_col1\" class=\"data row2 col1\" >You are an expert philosopher. Respond within 300 words.</td>\n",
       "      <td id=\"T_f8e93_row2_col2\" class=\"data row2 col2\" >Assume that all philosophers are thinkers. Some thinkers are poets. Therefore, are all philosophers poets? Explain your reasoning using principles of logic.</td>\n",
       "    </tr>\n",
       "    <tr>\n",
       "      <th id=\"T_f8e93_level0_row3\" class=\"row_heading level0 row3\" >3</th>\n",
       "      <td id=\"T_f8e93_row3_col0\" class=\"data row3 col0\" >Trends analyst</td>\n",
       "      <td id=\"T_f8e93_row3_col1\" class=\"data row3 col1\" >You are an expert industry analyst for emerging technology trends. Respond within 300 words.</td>\n",
       "      <td id=\"T_f8e93_row3_col2\" class=\"data row3 col2\" >What are the top 5 emerging technology trends that will have outsized impact on the world in next 10 years?</td>\n",
       "    </tr>\n",
       "  </tbody>\n",
       "</table>\n"
      ],
      "text/plain": [
       "<pandas.io.formats.style.Styler at 0x125a9f0d0>"
      ]
     },
     "execution_count": 3,
     "metadata": {},
     "output_type": "execute_result"
    }
   ],
   "source": [
    "render.df(tasks.list())"
   ]
  },
  {
   "cell_type": "code",
   "execution_count": 4,
   "id": "acd99c42-56fd-45b6-b602-42fb9b0d4f75",
   "metadata": {},
   "outputs": [],
   "source": [
    "task = tasks.get('Trends analyst')"
   ]
  },
  {
   "cell_type": "code",
   "execution_count": 5,
   "id": "a5d5b481-c988-4f49-b123-fdb50b4b27c4",
   "metadata": {
    "scrolled": true
   },
   "outputs": [
    {
     "data": {
      "text/markdown": [
       "Based on various reports, research, and expert opinions, here are the top 5 emerging technology trends that are likely to have an outsized impact on the world in the next 10 years:\n",
       "\n",
       "1. **Artificial General Intelligence (AGI)**: AGI refers to AI systems that can perform any intellectual task that a human can. AGI has the potential to revolutionize industries such as healthcare, finance, education, and transportation. It can automate complex tasks, make decisions, and learn from experience. AGI can also enable autonomous systems, robots, and drones to perform tasks that are currently done by humans.\n",
       "\n",
       "Impact: AGI can increase productivity, reduce costs, and improve decision-making. However, it also raises concerns about job displacement, bias, and ethics.\n",
       "\n",
       "2. **Quantum Computing**: Quantum computing is a new paradigm for computing that uses the principles of quantum mechanics to perform calculations. It has the potential to solve complex problems that are currently unsolvable by classical computers. Quantum computing can be applied to fields such as cryptography, optimization, and simulation.\n",
       "\n",
       "Impact: Quantum computing can lead to breakthroughs in fields such as medicine, materials science, and climate modeling. It can also enable the creation of unbreakable encryption and optimize complex systems.\n",
       "\n",
       "3. **Extended Reality (XR)**: XR includes Virtual Reality (VR), Augmented Reality (AR), and Mixed Reality (MR). XR has the potential to transform industries such as education, healthcare, and entertainment. It can enable immersive experiences, remote work, and new forms of interaction.\n",
       "\n",
       "Impact: XR can improve learning outcomes, enhance customer experiences, and increase productivity. It can also enable new forms of therapy, training, and entertainment.\n",
       "\n",
       "4. **Synthetic Biology**: Synthetic biology involves the design and construction of new biological systems, such as microorganisms, to perform specific functions. It has the potential to revolutionize industries such as agriculture, pharmaceuticals, and energy.\n",
       "\n",
       "Impact: Synthetic biology can enable the production of sustainable fuels, reduce greenhouse gas emissions, and improve crop yields. It can also lead to the development of new medicines and therapies.\n",
       "\n",
       "5. **Internet of Bodies (IoB)**: IoB refers to the integration of technology into the human body to enhance human capabilities. It includes technologies such as brain-computer interfaces, implantable sensors, and biohybrid robots.\n",
       "\n",
       "Impact: IoB can enable people to control devices with their minds, monitor their health in real-time, and enhance their physical abilities. It can also raise concerns about privacy, security, and the blurring"
      ],
      "text/plain": [
       "<IPython.core.display.Markdown object>"
      ]
     },
     "metadata": {},
     "output_type": "display_data"
    }
   ],
   "source": [
    "llama3_result = groq.llama3_text(*task)\n",
    "render.md(llama3_result)"
   ]
  },
  {
   "cell_type": "code",
   "execution_count": 6,
   "id": "db0609db-13c7-4ea4-817e-9c04185fb96f",
   "metadata": {},
   "outputs": [
    {
     "data": {
      "text/markdown": [
       "| Criteria | Score | Explanation |\n",
       "|----------|-------|-------------|\n",
       "| Depth of Verification | 80 | The response provides a well-researched overview of emerging tech trends, but lacks specific sources. |\n",
       "| Context Awareness | 90 | The response directly addresses the user's query about top 5 emerging tech trends and their impact. |\n",
       "| Tone and Style Adaptability | 95 | The tone is informative and the style is clear and easy to follow, appropriate for the user's query. |\n",
       "| Clarity and Understandability | 95 | The response explains complex topics like AGI and quantum computing in an accessible way. |\n",
       "| Information Density | 90 | The response provides a good amount of relevant information without excessive redundancy. |\n",
       "| Tailoring Content | 85 | The response provides an appropriate level of detail for a high-level overview, but could be more tailored. |\n",
       "| Argumentation Quality | 85 | The response presents a logical flow and provides some evidence for its claims, but could be more in-depth. |\n",
       "| Critical Thinking | 80 | The response shows good synthesis of information to identify key trends, but lacks deeper analysis. |\n",
       "| Relevance and Focus | 95 | The response stays focused on directly answering the user's question about top 5 tech trends. |\n",
       "| User Intent Understanding | 90 | The response demonstrates a clear understanding of the user's intent to get an informative overview. |\n",
       "\n",
       "Average quality score = 88.5/100."
      ],
      "text/plain": [
       "<IPython.core.display.Markdown object>"
      ]
     },
     "metadata": {},
     "output_type": "display_data"
    }
   ],
   "source": [
    "render.md(benchmark.quality(*task, result=llama3_result, fn='groq.llama3_text'))"
   ]
  },
  {
   "cell_type": "code",
   "execution_count": 7,
   "id": "ccf44501-5a6e-496c-b89d-14c433986a8c",
   "metadata": {},
   "outputs": [
    {
     "data": {
      "text/markdown": [
       "1. **Artificial Intelligence and Machine Learning**: AI and ML continue to be at the forefront of technological advancement, with their applications becoming increasingly sophisticated. From enhancing personalized healthcare, revolutionizing industries with predictive maintenance, to driving autonomous vehicles, AI's impact is vast. Its ability to process and analyze data at unprecedented scales will significantly influence decision-making processes, privacy, security, and the global workforce.\n",
       "\n",
       "2. **Quantum Computing**: Quantum computing promises to bring about a revolution in computing power, with the potential to solve complex problems that are currently beyond the reach of classical computers. Its development could dramatically accelerate drug discovery, optimize logistics, improve financial modeling, and advance materials science. The race for quantum supremacy will likely reshape cybersecurity, given its potential to break traditional encryption methods.\n",
       "\n",
       "3. **Internet of Things (IoT) and Smart Cities**: The expansion of IoT devices, combined with advancements in 5G connectivity, will enable the rise of smart cities. These cities will leverage IoT to improve infrastructure, energy consumption, waste management, and traffic flow, making urban areas more efficient and sustainable. The integration of IoT in various sectors such as agriculture, healthcare, and manufacturing will also drive significant efficiency and productivity gains.\n",
       "\n",
       "4. **Biotechnology and Genetic Engineering**: Advances in biotechnology, particularly CRISPR and gene editing technologies, hold the promise of curing genetic diseases, improving crop yields, and even extending human lifespan. The ethical implications and societal impacts of such technologies will be profound, as they touch upon the very fabric of life itself.\n",
       "\n",
       "5. **Renewable Energy Technologies**: As the world moves towards decarbonization, renewable energy technologies such as solar, wind, and battery storage will play a critical role. Innovations in these areas, including the development of more efficient photovoltaic cells, larger capacity wind turbines, and higher density battery storage, will be key to addressing climate change and achieving sustainability goals. The transition to a green economy will not only impact energy production but also geopolitics and global energy markets.\n",
       "\n",
       "These trends, while promising, also pose challenges in terms of ethics, governance, and equitable access, necessitating thoughtful consideration and proactive management to ensure they benefit humanity as a whole."
      ],
      "text/plain": [
       "<IPython.core.display.Markdown object>"
      ]
     },
     "metadata": {},
     "output_type": "display_data"
    }
   ],
   "source": [
    "gpt4_result = openai.gpt4_text(*task)\n",
    "render.md(gpt4_result)"
   ]
  },
  {
   "cell_type": "code",
   "execution_count": 8,
   "id": "4aa05260-773e-4f5d-b3f5-9edd604b982c",
   "metadata": {},
   "outputs": [
    {
     "data": {
      "text/markdown": [
       "| Criteria | Score | Explanation |\n",
       "|----------|-------|-------------|\n",
       "| Depth of Verification | 85 | Provides commonly accepted trends but lacks specific sources for verification. |\n",
       "| Context Awareness | 90 | Relevant to the user's query about emerging tech trends impacting the world. |\n",
       "| Tone and Style Adaptability | 95 | Uses an informative and slightly technical tone appropriate for the topic. |\n",
       "| Clarity and Understandability | 90 | Explains complex topics in a clear and understandable manner. |\n",
       "| Information Density | 95 | Packs a wealth of information into a concise response without redundancy. |\n",
       "| Tailoring Content | 90 | Provides a good level of detail suitable for an overview of top trends. |\n",
       "| Argumentation Quality | 85 | Presents logical arguments for each trend's impact but could use more evidence. |\n",
       "| Critical Thinking | 90 | Demonstrates inference and draws reasonable conclusions about implications. |\n",
       "| Relevance and Focus | 95 | Stays focused on identifying and explaining the top 5 impactful trends. |\n",
       "| User Intent Understanding | 95 | Directly addresses the user's intent to learn about emerging influential tech. |\n",
       "\n",
       "Average quality score = 91.0/100."
      ],
      "text/plain": [
       "<IPython.core.display.Markdown object>"
      ]
     },
     "metadata": {},
     "output_type": "display_data"
    }
   ],
   "source": [
    "render.md(benchmark.quality(*task, result=gpt4_result, fn='openai.gpt4_text'))"
   ]
  },
  {
   "cell_type": "code",
   "execution_count": 9,
   "id": "847cfcdf-d8d5-405b-a903-7ada873ef2b2",
   "metadata": {},
   "outputs": [
    {
     "data": {
      "text/markdown": [
       "In my analysis, the top 5 emerging technology trends that will have an outsized impact on the world over the next decade are:\n",
       "\n",
       "1. Artificial Intelligence (AI) and Machine Learning (ML): AI and ML will continue to advance rapidly, transforming industries from healthcare to finance to transportation. We'll see breakthroughs in areas like natural language processing, computer vision, and autonomous systems. AI will increasingly augment and even replace human decision-making in many domains.\n",
       "\n",
       "2. Quantum Computing: While still in its early stages, quantum computing has the potential to solve complex problems that are intractable for classical computers. As quantum computers become more powerful and accessible, they could revolutionize fields like drug discovery, materials science, and cryptography.\n",
       "\n",
       "3. Biotechnology and Genomics: Advances in gene editing tools like CRISPR, coupled with falling costs of genome sequencing, will usher in a new era of personalized medicine and targeted therapies. We may see breakthroughs in treating genetic diseases, developing new crops, and even engineering new lifeforms.\n",
       "\n",
       "4. Renewable Energy and Energy Storage: The falling costs of solar, wind, and battery technologies will accelerate the transition to clean energy. Improved energy storage solutions will make renewables more reliable and cost-effective. This trend will have major geopolitical implications as countries race to dominate the clean energy economy.\n",
       "\n",
       "5. Extended Reality (XR): The convergence of virtual reality (VR), augmented reality (AR), and mixed reality (MR) will create new immersive experiences in gaming, education, training, and remote collaboration. As XR devices become more sophisticated and affordable, they could fundamentally change how we interact with digital content and with each other.\n",
       "\n",
       "These five trends are interconnected and will likely build upon each other in the coming years. While they hold immense promise, they also raise important ethical, social, and governance challenges that will need to be addressed."
      ],
      "text/plain": [
       "<IPython.core.display.Markdown object>"
      ]
     },
     "metadata": {},
     "output_type": "display_data"
    }
   ],
   "source": [
    "opus_result = anthropic.opus_text(*task)\n",
    "render.md(opus_result)"
   ]
  },
  {
   "cell_type": "code",
   "execution_count": 10,
   "id": "ef642294-5330-4637-80cd-68099510fb5d",
   "metadata": {},
   "outputs": [
    {
     "data": {
      "text/markdown": [
       "| Criteria | Score | Explanation |\n",
       "|----------|-------|-------------|\n",
       "| Depth of Verification | 80 | Provides a well-reasoned analysis but lacks specific sources to verify claims. |\n",
       "| Context Awareness | 90 | Directly addresses the user's query about top emerging tech trends over the next decade. |\n",
       "| Tone and Style Adaptability | 95 | Uses an analytical and informative tone appropriate for the topic. |\n",
       "| Clarity and Understandability | 95 | Explains each trend clearly and concisely, making it easy for a general audience to understand. |\n",
       "| Information Density | 90 | Packs a lot of relevant information into a relatively concise response. |\n",
       "| Tailoring Content | 85 | Provides a good level of detail for a high-level overview, but could be tailored further based on user's background knowledge. |\n",
       "| Argumentation Quality | 85 | Presents a logical flow and provides reasonable justifications for each trend's inclusion. |\n",
       "| Critical Thinking | 90 | Demonstrates strong analysis and inference skills in identifying and explaining key trends. |\n",
       "| Relevance and Focus | 95 | Stays focused on directly answering the user's question throughout the response. |\n",
       "| User Intent Understanding | 95 | Clearly grasps the user's intent to learn about the most impactful emerging technologies. |\n",
       "\n",
       "Average quality score = 90.0/100."
      ],
      "text/plain": [
       "<IPython.core.display.Markdown object>"
      ]
     },
     "metadata": {},
     "output_type": "display_data"
    }
   ],
   "source": [
    "render.md(benchmark.quality(*task, result=opus_result, fn='anthropic.opus_text'))"
   ]
  },
  {
   "cell_type": "code",
   "execution_count": 18,
   "id": "212901e2-2df9-44ef-9e2d-2a7623725aab",
   "metadata": {},
   "outputs": [
    {
     "data": {
      "text/markdown": [
       "Here are the top 5 emerging technology trends that I believe will have a significant impact on the world in the next 10 years:\n",
       "\n",
       "1. Artificial Intelligence (AI) and Machine Learning (ML): AI and ML are already transforming various industries, and their impact will continue to grow exponentially. From healthcare and transportation to finance and entertainment, AI will drive automation, enhance decision-making processes, and enable new innovative solutions.\n",
       "\n",
       "2. Internet of Things (IoT) and 5G: The widespread adoption of IoT devices, coupled with the rollout of 5G networks, will revolutionize how we live, work, and interact with our environment. Smart homes, cities, and industries will become more efficient, connected, and data-driven, enabling new applications and services.\n",
       "\n",
       "3. Quantum Computing: While still in its early stages, quantum computing has the potential to solve complex problems that are beyond the capabilities of classical computers. This technology could lead to breakthroughs in fields such as cryptography, drug discovery, and materials science.\n",
       "\n",
       "4. Biotechnology and Gene Editing: Advancements in biotechnology, including gene editing tools like CRISPR, will have a profound impact on healthcare, agriculture, and environmental conservation. Personalized medicine, disease prevention, and sustainable food production are just a few areas that could benefit from these technologies.\n",
       "\n",
       "5. Renewable Energy and Sustainable Technologies: As the world grapples with climate change and environmental challenges, the development and adoption of renewable energy sources and sustainable technologies will become increasingly crucial. Technologies such as solar, wind, and energy storage systems, as well as green manufacturing processes and materials, will play a vital role in reducing our carbon footprint and promoting a more sustainable future.\n",
       "\n",
       "These emerging technologies have the potential to disrupt existing industries, create new business opportunities, and address some of the world's most pressing challenges. However, their development and implementation will also raise ethical, social, and regulatory concerns that will need to be addressed to ensure responsible and equitable progress."
      ],
      "text/plain": [
       "<IPython.core.display.Markdown object>"
      ]
     },
     "metadata": {},
     "output_type": "display_data"
    }
   ],
   "source": [
    "sonnet_result = bedrock.sonnet_text(*task)\n",
    "render.md(sonnet_result)"
   ]
  },
  {
   "cell_type": "code",
   "execution_count": 19,
   "id": "b0974181-4aaf-4329-842e-e23ad45e691a",
   "metadata": {},
   "outputs": [
    {
     "data": {
      "text/markdown": [
       "| Criteria | Score | Explanation |\n",
       "|----------|-------|-------------|\n",
       "| Depth of Verification | 80 | Provides commonly accepted trends but lacks specific sources |\n",
       "| Context Awareness | 90 | Relevant to the user's query about future technology trends |\n",
       "| Tone and Style Adaptability | 95 | Uses an informative and slightly formal tone appropriate for the topic |\n",
       "| Clarity and Understandability | 95 | Explains each trend clearly and concisely for a general audience |\n",
       "| Information Density | 90 | Provides a good amount of information without excessive detail |\n",
       "| Tailoring Content | 85 | Focuses on the top 5 trends as requested, with balanced explanations |\n",
       "| Argumentation Quality | 85 | Presents a logical flow and supports each trend with potential impacts |\n",
       "| Critical Thinking | 90 | Demonstrates understanding of the implications and challenges of these trends |\n",
       "| Relevance and Focus | 95 | Stays focused on the user's primary goal of identifying top future tech trends |\n",
       "| User Intent Understanding | 95 | Directly addresses the user's intent to learn about impactful emerging technologies |\n",
       "\n",
       "Average quality score = 90.0/100."
      ],
      "text/plain": [
       "<IPython.core.display.Markdown object>"
      ]
     },
     "metadata": {},
     "output_type": "display_data"
    }
   ],
   "source": [
    "render.md(benchmark.quality(*task, result=sonnet_result, fn='bedrock.sonnet_text'))"
   ]
  },
  {
   "cell_type": "code",
   "execution_count": 13,
   "id": "33dee4e8-014c-4c43-9df5-041c826cb91b",
   "metadata": {},
   "outputs": [
    {
     "data": {
      "text/markdown": [
       "There are several emerging technology trends that are expected to have a significant impact on the world in the next 10 years. Here are five of the most promising trends:\n",
       "1.Artificial Intelligence(AI):AI has already started transforming various industries,and its impact will only continue to grow in the coming years.We can expect to see more advanced applications of AI,such as autonomous vehicles,smart cities,and personalized medicine.\n",
       "2.Blockchain:Blockchain technology has the potential to revolutionize the way we conduct transactions,store data,and interact with each other online.It will play a critical role in creating a secure and transparent digital economy.\n",
       "3.Internet of Things(IoT):IoT has already made a significant impact on various industries,and it will continue to expand in the coming years.We can expect to see more connected devices,smart homes,and cities,and increased automation in various industries.\n",
       "4.Quantum Computing:Quantum computing is a new form of computing that uses the principles of quantum mechanics to perform calculations that are beyond the capabilities of classical computers.It has the potential to solve complex problems that are currently unsolvable,and it will have a significant impact on fields such as cryptography,drug discovery,and climate modeling.\n",
       "5.Virtual and Augmented Reality(VR/AR):VR/AR technology has the potential to revolutionize the way we interact with the world around us.It will change the way we work,play,and communicate,and it will have a significant impact on industries such as education,healthcare,and entertainment.\n",
       "These are just a few examples of the emerging technology trends that will have a significant impact on the world in the next 10 years.It's important to keep in mind that these trends will not only change the way we live and work but also create new opportunities and challenges for individuals,businesses,and governments."
      ],
      "text/plain": [
       "<IPython.core.display.Markdown object>"
      ]
     },
     "metadata": {},
     "output_type": "display_data"
    }
   ],
   "source": [
    "llama2_result = bedrock.llama2_text(*task)\n",
    "render.md(llama2_result)"
   ]
  },
  {
   "cell_type": "code",
   "execution_count": 14,
   "id": "3ea191b5-262b-454d-abe5-b87e1dbb9bfc",
   "metadata": {},
   "outputs": [
    {
     "data": {
      "text/markdown": [
       "| Criteria | Score | Explanation |\n",
       "|----------|-------|-------------|\n",
       "| Depth of Verification | 70 | Provides a list of trends but lacks specific sources or verification of claims. |\n",
       "| Context Awareness | 80 | Addresses the user's request for top 5 trends and their impact over the next 10 years. |\n",
       "| Tone and Style Adaptability | 85 | Uses a clear, informative tone suitable for the user's query. |\n",
       "| Clarity and Understandability | 90 | Explains each trend in a way that is easy to understand for a general audience. |\n",
       "| Information Density | 75 | Provides a good amount of information for each trend, but could be more concise. |\n",
       "| Tailoring Content | 80 | Provides an appropriate level of detail for an overview of top trends. |\n",
       "| Argumentation Quality | 70 | Presents each trend as impactful but lacks strong supporting arguments or evidence. |\n",
       "| Critical Thinking | 75 | Identifies potential impacts of each trend but doesn't deeply analyze implications. |\n",
       "| Relevance and Focus | 90 | Stays focused on the user's request for top 5 impactful trends over the next decade. |\n",
       "| User Intent Understanding | 85 | Correctly interprets the user's intent to learn about emerging, impactful tech trends. |\n",
       "\n",
       "Average quality score = 80.0/100."
      ],
      "text/plain": [
       "<IPython.core.display.Markdown object>"
      ]
     },
     "metadata": {},
     "output_type": "display_data"
    }
   ],
   "source": [
    "render.md(benchmark.quality(*task, result=llama2_result, fn='bedrock.llama2_text'))"
   ]
  },
  {
   "cell_type": "code",
   "execution_count": 15,
   "id": "1be524a6-0f45-4129-a6e3-0f7745a051d3",
   "metadata": {},
   "outputs": [
    {
     "data": {
      "text/markdown": [
       "Here are 5 emerging technology trends that could have a major impact in the next 10 years:\n",
       "\n",
       "1. Artificial Intelligence (AI) - Advances in machine learning and deep learning are enabling increasingly intelligent systems. AI has the potential to automate many jobs and transform most industries.\n",
       "\n",
       "2. Internet of Things (IoT) - As more \"smart\" devices become connected to the internet, we will see the emergence of smart cities and infrastructure. IoT will generate massive amounts of new data. \n",
       "\n",
       "3. Augmented and Virtual Reality (AR/VR) - The combination of AR glasses and VR headsets will change how we work, learn, entertain and socialize. It could revolutionize industries like education, healthcare, retail and more.\n",
       "\n",
       "4. Autonomous Vehicles - Self-driving cars, trucks and delivery vehicles will make transportation safer, more efficient and accessible. This could reshape our cities and have widespread economic effects. \n",
       "\n",
       "5. Biotechnology - Advancements in gene editing, synthetic biology, personalized medicine and anti-aging research will enable us to treat and prevent diseases more effectively. It may help extend human lifespans significantly.\n",
       "\n",
       "This is just my perspective on some emerging technologies that seem poised to have major societal impacts in the coming decade based on their current development trajectories. The impacts are difficult to predict precisely but these areas seem promising for driving significant changes."
      ],
      "text/plain": [
       "<IPython.core.display.Markdown object>"
      ]
     },
     "metadata": {},
     "output_type": "display_data"
    }
   ],
   "source": [
    "instant_result = bedrock.instant_text(*task)\n",
    "render.md(instant_result)"
   ]
  },
  {
   "cell_type": "code",
   "execution_count": 16,
   "id": "f876d018-e28e-42ef-a77c-5eaa95dda4de",
   "metadata": {},
   "outputs": [
    {
     "data": {
      "text/markdown": [
       "| Criteria                   | Score | Explanation                                                                                                                 |\n",
       "|----------------------------|-------|-----------------------------------------------------------------------------------------------------------------------------|\n",
       "| Depth of Verification      | 70    | Provides a reasonable list but lacks specific sources or evidence to verify claims.                                         |\n",
       "| Context Awareness          | 90    | Directly addresses the question of emerging tech trends with potential for major impact.                                    |\n",
       "| Tone and Style Adaptability| 85    | Uses an appropriate explanatory tone for the topic, balancing specificity and high-level perspective.                       |\n",
       "| Clarity and Understandability| 95  | Clearly explains each trend and its potential impact in an easy to understand way.                                          |\n",
       "| Information Density        | 80    | Provides a good amount of relevant information for each trend without excessive detail.                                     |\n",
       "| Tailoring Content          | 90    | Length and detail seem well-suited to answering the high-level question without getting too in-depth.                       |\n",
       "| Argumentation Quality      | 75    | Presents a logical list of trends but could provide more support for why each was chosen.                                   |\n",
       "| Critical Thinking          | 80    | Shows good judgment in selecting major trends and inferring their impacts, with room for deeper analysis.                   |\n",
       "| Relevance and Focus        | 95    | Stays focused on the key elements of the question - high impact tech trends in the next decade.                             |\n",
       "| User Intent Understanding  | 90    | Correctly interprets the intent as seeking a forward-looking, big picture view of influential technologies.                  |\n",
       "\n",
       "Average quality score = 85.0/100."
      ],
      "text/plain": [
       "<IPython.core.display.Markdown object>"
      ]
     },
     "metadata": {},
     "output_type": "display_data"
    }
   ],
   "source": [
    "render.md(benchmark.quality(*task, result=instant_result, fn='bedrock.instant_text'))"
   ]
  },
  {
   "cell_type": "code",
   "execution_count": 20,
   "id": "384341c8-afbc-4b34-9943-635624ed55fe",
   "metadata": {},
   "outputs": [
    {
     "data": {
      "text/markdown": [
       "| Model | Calls | Total Time | Total Return Size | Average Time | Average Size | Quality Score |\n",
       "|-------|-------|------------|-------------------|--------------|--------------|---------------|\n",
       "| groq.llama3_text | 1 | 2.74 | 2729.00 | 2.74 | 2729.00 | 88.5 |\n",
       "| bedrock.sonnet_text | 2 | 18.07 | 4494.00 | 9.04 | 2247.00 | 90.0 |\n",
       "| bedrock.instant_text | 1 | 9.61 | 1489.00 | 9.61 | 1489.00 | 85.0 |\n",
       "| bedrock.llama2_text | 1 | 10.74 | 1960.00 | 10.74 | 1960.00 | 80.0 |\n",
       "| openai.gpt4_text | 1 | 15.87 | 2627.00 | 15.87 | 2627.00 | 91.0 |\n",
       "| anthropic.opus_text | 8 | 172.68 | 18842.00 | 21.59 | 2355.25 | 90.0 |\n"
      ],
      "text/plain": [
       "<IPython.core.display.Markdown object>"
      ]
     },
     "metadata": {},
     "output_type": "display_data"
    }
   ],
   "source": [
    "render.md(instrument.metrics.stats(benchmark=benchmark.stats()))"
   ]
  }
 ],
 "metadata": {
  "kernelspec": {
   "display_name": "Python 3 (ipykernel)",
   "language": "python",
   "name": "python3"
  },
  "language_info": {
   "codemirror_mode": {
    "name": "ipython",
    "version": 3
   },
   "file_extension": ".py",
   "mimetype": "text/x-python",
   "name": "python",
   "nbconvert_exporter": "python",
   "pygments_lexer": "ipython3",
   "version": "3.11.7"
  }
 },
 "nbformat": 4,
 "nbformat_minor": 5
}
