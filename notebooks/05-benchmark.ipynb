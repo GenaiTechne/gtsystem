{
 "cells": [
  {
   "cell_type": "code",
   "execution_count": 1,
   "id": "b98d3e38-543f-446c-a88a-57945bfc1d2b",
   "metadata": {},
   "outputs": [],
   "source": [
    "import os\n",
    "import sys\n",
    "import importlib.util\n",
    "\n",
    "is_installed = importlib.util.find_spec(\"gtsystem\")\n",
    "if not is_installed:\n",
    "    module_path = \"..\"\n",
    "    sys.path.append(os.path.abspath(module_path))\n",
    "\n",
    "from gtsystem import openai, bedrock, ollama, render, tasks, benchmark"
   ]
  },
  {
   "cell_type": "code",
   "execution_count": 2,
   "id": "ba481a77-1403-46b3-9bbf-ac58036f42c2",
   "metadata": {},
   "outputs": [],
   "source": [
    "tasks.load('../data/openai-examples-21.xlsx')"
   ]
  },
  {
   "cell_type": "code",
   "execution_count": 3,
   "id": "2645ec31-c96c-4704-aaa2-689aee1bcf37",
   "metadata": {},
   "outputs": [
    {
     "data": {
      "text/html": [
       "<style type=\"text/css\">\n",
       "#T_dd448 th {\n",
       "  font-size: 10pt;\n",
       "  text-align: left;\n",
       "}\n",
       "#T_dd448 td {\n",
       "  text-align: left;\n",
       "  word-wrap: break-word;\n",
       "  overflow: hidden;\n",
       "  text-overflow: ellipsis;\n",
       "}\n",
       "#T_dd448 .index_name {\n",
       "  display: none;\n",
       "}\n",
       "#T_dd448 .row_heading {\n",
       "  display: none;\n",
       "}\n",
       "#T_dd448  .blank {\n",
       "  display: none;\n",
       "}\n",
       "</style>\n",
       "<table id=\"T_dd448\">\n",
       "  <thead>\n",
       "    <tr>\n",
       "      <th class=\"blank level0\" >&nbsp;</th>\n",
       "      <th id=\"T_dd448_level0_col0\" class=\"col_heading level0 col0\" >Task</th>\n",
       "      <th id=\"T_dd448_level0_col1\" class=\"col_heading level0 col1\" >Task Types</th>\n",
       "      <th id=\"T_dd448_level0_col2\" class=\"col_heading level0 col2\" >System</th>\n",
       "      <th id=\"T_dd448_level0_col3\" class=\"col_heading level0 col3\" >Prompt</th>\n",
       "      <th id=\"T_dd448_level0_col4\" class=\"col_heading level0 col4\" >Temperature</th>\n",
       "      <th id=\"T_dd448_level0_col5\" class=\"col_heading level0 col5\" >TopP</th>\n",
       "      <th id=\"T_dd448_level0_col6\" class=\"col_heading level0 col6\" >Source</th>\n",
       "    </tr>\n",
       "  </thead>\n",
       "  <tbody>\n",
       "    <tr>\n",
       "      <th id=\"T_dd448_level0_row0\" class=\"row_heading level0 row0\" >17</th>\n",
       "      <td id=\"T_dd448_row0_col0\" class=\"data row0 col0\" >Improve code efficiency</td>\n",
       "      <td id=\"T_dd448_row0_col1\" class=\"data row0 col1\" >Transform; Code</td>\n",
       "      <td id=\"T_dd448_row0_col2\" class=\"data row0 col2\" >You will be provided with a piece of Python code, and your task is to provide ideas for efficiency improvements.</td>\n",
       "      <td id=\"T_dd448_row0_col3\" class=\"data row0 col3\" >from typing import List\n",
       "                \n",
       "                \n",
       "    def has_sum_k(nums: List[int], k: int) -> bool:\n",
       "        \"\"\"\n",
       "        Returns True if there are two distinct elements in nums such that their sum \n",
       "        is equal to k, and otherwise returns False.\n",
       "        \"\"\"\n",
       "        n = len(nums)\n",
       "        for i in range(n):\n",
       "            for j in range(i+1, n):\n",
       "                if nums[i] + nums[j] == k:\n",
       "                    return True\n",
       "        return False</td>\n",
       "      <td id=\"T_dd448_row0_col4\" class=\"data row0 col4\" >0.700000</td>\n",
       "      <td id=\"T_dd448_row0_col5\" class=\"data row0 col5\" >1</td>\n",
       "      <td id=\"T_dd448_row0_col6\" class=\"data row0 col6\" >OpenAI Examples</td>\n",
       "    </tr>\n",
       "  </tbody>\n",
       "</table>\n"
      ],
      "text/plain": [
       "<pandas.io.formats.style.Styler at 0x12f07f010>"
      ]
     },
     "execution_count": 3,
     "metadata": {},
     "output_type": "execute_result"
    }
   ],
   "source": [
    "render.df(tasks.find('improve code'))"
   ]
  },
  {
   "cell_type": "code",
   "execution_count": 4,
   "id": "acd99c42-56fd-45b6-b602-42fb9b0d4f75",
   "metadata": {},
   "outputs": [],
   "source": [
    "task = tasks.get('Improve code efficiency')"
   ]
  },
  {
   "cell_type": "code",
   "execution_count": 5,
   "id": "212901e2-2df9-44ef-9e2d-2a7623725aab",
   "metadata": {},
   "outputs": [
    {
     "data": {
      "text/markdown": [
       "Here are some ideas to improve the efficiency of the `has_sum_k` function:\n",
       "\n",
       "1. **Sorting**: Sort the input list `nums` in non-decreasing order. This will allow us to apply more efficient algorithms to find the pair of elements that sum up to `k`. Sorting the list will take `O(nlogn)` time complexity, but it can improve the overall algorithm's performance.\n",
       "\n",
       "2. **Two-pointer technique**: After sorting the list, we can use the two-pointer technique to find the pair of elements that sum up to `k`. We can have two pointers, one starting from the beginning of the list and the other from the end. If the sum of the elements pointed by these two pointers is greater than `k`, we can move the right pointer to the left. If the sum is less than `k`, we can move the left pointer to the right. This approach will have `O(n)` time complexity.\n",
       "\n",
       "3. **Use a set**: Instead of using nested loops, we can use a set to store the elements we have seen so far. While iterating through the list, we can check if `k - nums[i]` is in the set. This will reduce the time complexity to `O(n)`.\n",
       "\n",
       "4. **Using a dictionary**: We can also use a dictionary to store the elements and their indices as key-value pairs. While iterating through the list, we can check if `k - nums[i]` is in the dictionary and the index is not the same as the current index. This will also have `O(n)` time complexity.\n",
       "\n",
       "5. **Early termination**: If we find a pair of elements that sum up to `k`, we can return `True` immediately instead of continuing the loop.\n",
       "\n",
       "By implementing any of these strategies, we can potentially improve the efficiency of the `has_sum_k` function."
      ],
      "text/plain": [
       "<IPython.core.display.Markdown object>"
      ]
     },
     "metadata": {},
     "output_type": "display_data"
    }
   ],
   "source": [
    "render.md(openai.text(*task))"
   ]
  },
  {
   "cell_type": "code",
   "execution_count": 6,
   "id": "33dee4e8-014c-4c43-9df5-041c826cb91b",
   "metadata": {},
   "outputs": [
    {
     "data": {
      "text/markdown": [
       "1. Use a set to keep track of seen numbers to avoid checking duplicates.\n",
       "2. Use a dictionary to map each number to its index in the list, and then check if the sum of the two numbers is equal to k.\n",
       "3. Use a single loop instead of two nested loops.\n",
       "4. Use the `any` function to simplify the return statement.\n",
       "5. Use a list comprehension to create a list of pairs of numbers that add up to k, and then check if the list is non-empty.\n",
       "\n",
       "Here's an example of how the optimized code could look like:\n",
       "```\n",
       "def has_sum_k(nums: List[int], k: int) -> bool:\n",
       "    seen = set()\n",
       "    sums = {}\n",
       "    for i, num in enumerate(nums):\n",
       "        if num in seen:\n",
       "            continue\n",
       "        seen.add(num)\n",
       "        sums[num] = i\n",
       "    \n",
       "    for num in sums:\n",
       "        if sums[num] + num == k:\n",
       "            return True\n",
       "    \n",
       "    return False\n",
       "```\n",
       "This code should be more efficient than the original code because it uses a set to keep track of seen numbers, a dictionary to map numbers to their indices, and a single loop to iterate over the list. Additionally, the `any` function is used to simplify the return statement, and a list comprehension is used to create a list of pairs of numbers that add up to k."
      ],
      "text/plain": [
       "<IPython.core.display.Markdown object>"
      ]
     },
     "metadata": {},
     "output_type": "display_data"
    }
   ],
   "source": [
    "llama_result = bedrock.llama_text(*task)\n",
    "render.md(llama_result)"
   ]
  },
  {
   "cell_type": "code",
   "execution_count": 7,
   "id": "3ea191b5-262b-454d-abe5-b87e1dbb9bfc",
   "metadata": {},
   "outputs": [
    {
     "data": {
      "text/plain": [
       "'75.00'"
      ]
     },
     "execution_count": 7,
     "metadata": {},
     "output_type": "execute_result"
    }
   ],
   "source": [
    "benchmark.accuracy(system=task[0], prompt=task[1], result=llama_result)"
   ]
  },
  {
   "cell_type": "code",
   "execution_count": 8,
   "id": "1be524a6-0f45-4129-a6e3-0f7745a051d3",
   "metadata": {},
   "outputs": [
    {
     "data": {
      "text/markdown": [
       "Here are some ideas to improve the efficiency of this function:\n",
       "\n",
       "1. Use a set instead of a list. Checking if an element exists in a set is O(1) while checking in a list is O(n).\n",
       "\n",
       "```python\n",
       "nums = set(nums)\n",
       "```\n",
       "\n",
       "2. Sort the list first. Then you can use two pointer approach to search for the pair. This reduces the runtime from O(n^2) to O(nlogn + n).\n",
       "\n",
       "```python\n",
       "nums.sort()\n",
       "left, right = 0, len(nums)-1\n",
       "while left < right:\n",
       "    if nums[left] + nums[right] == k:\n",
       "        return True\n",
       "    elif nums[left] + nums[right] < k:\n",
       "        left += 1\n",
       "    else:\n",
       "        right -= 1\n",
       "return False\n",
       "```\n",
       "\n",
       "3. Use a hash table to store seen elements. This reduces the runtime to O(n) since lookup time is O(1).\n",
       "\n",
       "```python \n",
       "seen = set()\n",
       "for num in nums:\n",
       "    if k - num in seen:\n",
       "        return True\n",
       "    seen.add(num)\n",
       "return False\n",
       "```\n",
       "\n",
       "4. Break early if a pair is found instead of searching whole list unnecessarily.\n",
       "\n",
       "```python\n",
       "if nums[i] + nums[j] == k:\n",
       "    return True \n",
       "break\n",
       "```\n",
       "\n",
       "5. Parallelize the computations if dealing with extremely large inputs."
      ],
      "text/plain": [
       "<IPython.core.display.Markdown object>"
      ]
     },
     "metadata": {},
     "output_type": "display_data"
    }
   ],
   "source": [
    "claude_result = bedrock.claude_text(*task)\n",
    "render.md(claude_result)"
   ]
  },
  {
   "cell_type": "code",
   "execution_count": 9,
   "id": "f876d018-e28e-42ef-a77c-5eaa95dda4de",
   "metadata": {},
   "outputs": [
    {
     "data": {
      "text/plain": [
       "'95.00'"
      ]
     },
     "execution_count": 9,
     "metadata": {},
     "output_type": "execute_result"
    }
   ],
   "source": [
    "benchmark.accuracy(system=task[0], prompt=task[1], result=claude_result)"
   ]
  },
  {
   "cell_type": "code",
   "execution_count": 10,
   "id": "6ef08468-ba25-47f6-b634-ad2ee77e40ce",
   "metadata": {},
   "outputs": [
    {
     "data": {
      "text/markdown": [
       "\n",
       "Here are some potential ideas for improving the efficiency of the `has_sum_k` function:\n",
       "\n",
       "1. Use a hash table to keep track of which elements have already been seen, so that you can avoid checking them multiple times. This could be useful if there are many duplicates in the input list.\n",
       "2. Sort the list before searching for pairs with sum k. This could make the search faster by reducing the number of iterations required.\n",
       "3. Use a more efficient data structure such as a balanced tree (e.g. a red-black tree) to store the elements, so that you can efficiently search for pairs with sum k in O(log n) time rather than O(n).\n",
       "4. Parallelize the search process by dividing the list into smaller chunks and searching for pairs with sum k in each chunk simultaneously using multiple threads or processes. This could make the search faster by reducing the overall time required to complete.\n",
       "5. Use a more efficient algorithm such as the Floyd-Warshall algorithm to find all pairs with sum k in O(n^3) time rather than O(n^2). However, this may not be necessary if the input list is already very large and the search is taking a significant amount of time.\n",
       "6. Use a more efficient data structure such as a trie or a suffix tree to store the elements, so that you can efficiently search for pairs with sum k in O(n) time. This could make the search faster by reducing the overall time required to complete.\n",
       "7. Use a combination of the above suggestions to optimize the performance of the `has_sum_k` function even further. For example, using a hash table and sorting the list before searching for pairs with sum k could significantly improve the efficiency of the function."
      ],
      "text/plain": [
       "<IPython.core.display.Markdown object>"
      ]
     },
     "metadata": {},
     "output_type": "display_data"
    }
   ],
   "source": [
    "codellama_result = ollama.codellama_text(*task)\n",
    "render.md(codellama_result)"
   ]
  },
  {
   "cell_type": "code",
   "execution_count": 11,
   "id": "a900c588-4465-418c-b34e-3ea06899e16a",
   "metadata": {},
   "outputs": [
    {
     "data": {
      "text/plain": [
       "'85.71'"
      ]
     },
     "execution_count": 11,
     "metadata": {},
     "output_type": "execute_result"
    }
   ],
   "source": [
    "benchmark.accuracy(system=task[0], prompt=task[1], result=codellama_result)"
   ]
  }
 ],
 "metadata": {
  "kernelspec": {
   "display_name": "Python 3 (ipykernel)",
   "language": "python",
   "name": "python3"
  },
  "language_info": {
   "codemirror_mode": {
    "name": "ipython",
    "version": 3
   },
   "file_extension": ".py",
   "mimetype": "text/x-python",
   "name": "python",
   "nbconvert_exporter": "python",
   "pygments_lexer": "ipython3",
   "version": "3.11.7"
  }
 },
 "nbformat": 4,
 "nbformat_minor": 5
}
