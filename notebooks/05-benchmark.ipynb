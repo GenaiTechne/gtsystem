{
 "cells": [
  {
   "cell_type": "code",
   "execution_count": 1,
   "id": "b98d3e38-543f-446c-a88a-57945bfc1d2b",
   "metadata": {},
   "outputs": [],
   "source": [
    "import os\n",
    "import sys\n",
    "import importlib.util\n",
    "\n",
    "is_installed = importlib.util.find_spec(\"gtsystem\")\n",
    "if not is_installed:\n",
    "    module_path = \"..\"\n",
    "    sys.path.append(os.path.abspath(module_path))\n",
    "\n",
    "from gtsystem import openai, bedrock, render, tasks, benchmark"
   ]
  },
  {
   "cell_type": "code",
   "execution_count": 2,
   "id": "ba481a77-1403-46b3-9bbf-ac58036f42c2",
   "metadata": {},
   "outputs": [],
   "source": [
    "tasks.load('../data/openai-examples-21.xlsx')"
   ]
  },
  {
   "cell_type": "code",
   "execution_count": 3,
   "id": "2645ec31-c96c-4704-aaa2-689aee1bcf37",
   "metadata": {},
   "outputs": [
    {
     "data": {
      "text/html": [
       "<style type=\"text/css\">\n",
       "#T_d3432 th {\n",
       "  font-size: 10pt;\n",
       "  text-align: left;\n",
       "}\n",
       "#T_d3432 td {\n",
       "  text-align: left;\n",
       "  word-wrap: break-word;\n",
       "  overflow: hidden;\n",
       "  text-overflow: ellipsis;\n",
       "}\n",
       "#T_d3432 .index_name {\n",
       "  display: none;\n",
       "}\n",
       "#T_d3432 .row_heading {\n",
       "  display: none;\n",
       "}\n",
       "#T_d3432  .blank {\n",
       "  display: none;\n",
       "}\n",
       "</style>\n",
       "<table id=\"T_d3432\">\n",
       "  <thead>\n",
       "    <tr>\n",
       "      <th class=\"blank level0\" >&nbsp;</th>\n",
       "      <th id=\"T_d3432_level0_col0\" class=\"col_heading level0 col0\" >Task</th>\n",
       "      <th id=\"T_d3432_level0_col1\" class=\"col_heading level0 col1\" >Task Types</th>\n",
       "      <th id=\"T_d3432_level0_col2\" class=\"col_heading level0 col2\" >System</th>\n",
       "      <th id=\"T_d3432_level0_col3\" class=\"col_heading level0 col3\" >Prompt</th>\n",
       "      <th id=\"T_d3432_level0_col4\" class=\"col_heading level0 col4\" >Temperature</th>\n",
       "      <th id=\"T_d3432_level0_col5\" class=\"col_heading level0 col5\" >TopP</th>\n",
       "      <th id=\"T_d3432_level0_col6\" class=\"col_heading level0 col6\" >Source</th>\n",
       "    </tr>\n",
       "  </thead>\n",
       "  <tbody>\n",
       "    <tr>\n",
       "      <th id=\"T_d3432_level0_row0\" class=\"row_heading level0 row0\" >17</th>\n",
       "      <td id=\"T_d3432_row0_col0\" class=\"data row0 col0\" >Improve code efficiency</td>\n",
       "      <td id=\"T_d3432_row0_col1\" class=\"data row0 col1\" >Transform; Code</td>\n",
       "      <td id=\"T_d3432_row0_col2\" class=\"data row0 col2\" >You will be provided with a piece of Python code, and your task is to provide ideas for efficiency improvements.</td>\n",
       "      <td id=\"T_d3432_row0_col3\" class=\"data row0 col3\" >from typing import List\n",
       "                \n",
       "                \n",
       "    def has_sum_k(nums: List[int], k: int) -> bool:\n",
       "        \"\"\"\n",
       "        Returns True if there are two distinct elements in nums such that their sum \n",
       "        is equal to k, and otherwise returns False.\n",
       "        \"\"\"\n",
       "        n = len(nums)\n",
       "        for i in range(n):\n",
       "            for j in range(i+1, n):\n",
       "                if nums[i] + nums[j] == k:\n",
       "                    return True\n",
       "        return False</td>\n",
       "      <td id=\"T_d3432_row0_col4\" class=\"data row0 col4\" >0.700000</td>\n",
       "      <td id=\"T_d3432_row0_col5\" class=\"data row0 col5\" >1</td>\n",
       "      <td id=\"T_d3432_row0_col6\" class=\"data row0 col6\" >OpenAI Examples</td>\n",
       "    </tr>\n",
       "  </tbody>\n",
       "</table>\n"
      ],
      "text/plain": [
       "<pandas.io.formats.style.Styler at 0x1377ef910>"
      ]
     },
     "execution_count": 3,
     "metadata": {},
     "output_type": "execute_result"
    }
   ],
   "source": [
    "render.df(tasks.find('improve code'))"
   ]
  },
  {
   "cell_type": "code",
   "execution_count": 4,
   "id": "acd99c42-56fd-45b6-b602-42fb9b0d4f75",
   "metadata": {},
   "outputs": [],
   "source": [
    "task = tasks.get('Improve code efficiency')"
   ]
  },
  {
   "cell_type": "code",
   "execution_count": 5,
   "id": "212901e2-2df9-44ef-9e2d-2a7623725aab",
   "metadata": {},
   "outputs": [
    {
     "data": {
      "text/markdown": [
       "Here are some ideas for improving the efficiency of the `has_sum_k` function:\n",
       "\n",
       "1. **Sorting**: Sort the input list `nums` first. This will allow us to use a two-pointer approach to find the pair of elements that sum up to `k` in linear time complexity.\n",
       "\n",
       "2. **Using a Set**: Instead of using two nested loops, we can use a set to store elements we have seen so far. While iterating through the list, we can check if `k - nums[i]` is in the set, which will reduce the time complexity to O(n).\n",
       "\n",
       "3. **Early Return**: If we find a pair of elements whose sum is equal to `k`, we can immediately return `True` without continuing the loop.\n",
       "\n",
       "4. **Use a Dictionary**: We can use a dictionary to keep track of the elements we have seen and their indices. This can help us find the pair in a single pass through the list.\n",
       "\n",
       "5. **Optimizing the Loop**: Instead of iterating from `i` to `n` and `j` from `i+1` to `n`, we can optimize the loop to avoid unnecessary iterations.\n",
       "\n",
       "By implementing these modifications, we can improve the efficiency of the `has_sum_k` function."
      ],
      "text/plain": [
       "<IPython.core.display.Markdown object>"
      ]
     },
     "metadata": {},
     "output_type": "display_data"
    }
   ],
   "source": [
    "render.md(openai.gpt_text(*task))"
   ]
  },
  {
   "cell_type": "code",
   "execution_count": 6,
   "id": "33dee4e8-014c-4c43-9df5-041c826cb91b",
   "metadata": {},
   "outputs": [
    {
     "data": {
      "text/markdown": [
       "1. Use a set to keep track of the elements already seen, to avoid checking the same pair twice.\n",
       "2. Use a dictionary to keep track of the sums of pairs, to avoid recalculating them.\n",
       "3. Use a more efficient algorithm, such as the \"Two Pointers\" algorithm, which has a time complexity of O(n) instead of O(n^2) for the inner loop.\n",
       "4. Use a faster data structure, such as a vector, instead of a list for storing the numbers.\n",
       "5. Use a parallel algorithm, such as parallelizing the inner loop using the `concurrent.futures` module, to take advantage of multi-core processors.\n",
       "6. Use a more efficient data structure, such as a tree-based data structure, to reduce the number of iterations.\n",
       "7. Use a different approach, such as solving the problem using dynamic programming, which can have a better time complexity.\n",
       "8. Use a profiler to identify the bottleneck of the code and optimize accordingly."
      ],
      "text/plain": [
       "<IPython.core.display.Markdown object>"
      ]
     },
     "metadata": {},
     "output_type": "display_data"
    }
   ],
   "source": [
    "llama_result = bedrock.llama_text(*task)\n",
    "render.md(llama_result)"
   ]
  },
  {
   "cell_type": "code",
   "execution_count": 7,
   "id": "3ea191b5-262b-454d-abe5-b87e1dbb9bfc",
   "metadata": {},
   "outputs": [
    {
     "data": {
      "text/plain": [
       "'85.71'"
      ]
     },
     "execution_count": 7,
     "metadata": {},
     "output_type": "execute_result"
    }
   ],
   "source": [
    "benchmark.accuracy(system=task[0], prompt=task[1], result=llama_result)"
   ]
  },
  {
   "cell_type": "code",
   "execution_count": 8,
   "id": "1be524a6-0f45-4129-a6e3-0f7745a051d3",
   "metadata": {},
   "outputs": [
    {
     "data": {
      "text/markdown": [
       "Here are some ideas to improve the efficiency of this function:\n",
       "\n",
       "1. Use a set instead of a list. Checking if an element exists in a set is O(1) while checking in a list is O(n).\n",
       "\n",
       "```python\n",
       "def has_sum_k(nums: Set[int], k: int) -> bool:\n",
       "  seen = set()\n",
       "  for num in nums:\n",
       "    if k - num in seen:\n",
       "      return True\n",
       "    seen.add(num)\n",
       "  return False\n",
       "```\n",
       "\n",
       "2. Sort the list first. Then you can use two pointer approach to search in O(nlogn) time instead of O(n^2).\n",
       "\n",
       "```python \n",
       "def has_sum_k(nums: List[int], k: int) -> bool:\n",
       "  nums.sort()\n",
       "  left, right = 0, len(nums) - 1\n",
       "  while left < right:\n",
       "    cur_sum = nums[left] + nums[right]\n",
       "    if cur_sum == k:\n",
       "      return True\n",
       "    elif cur_sum < k:\n",
       "      left += 1\n",
       "    else:\n",
       "      right -= 1\n",
       "  return False\n",
       "```\n",
       "\n",
       "3. Use a hash table to store seen elements. Checking if an element is in the hash table is O(1) leading to overall O(n) time.\n",
       "\n",
       "```python\n",
       "def has_sum_k(nums: List[int], k: int) -> bool:\n",
       "  seen = set()\n",
       "  for num in nums:\n",
       "    if k - num in seen:\n",
       "      return True\n",
       "    seen.add(num)  \n",
       "  return False\n",
       "```\n",
       "\n",
       "The key ideas are to reduce the search space at each step and use data structures with fast lookup times."
      ],
      "text/plain": [
       "<IPython.core.display.Markdown object>"
      ]
     },
     "metadata": {},
     "output_type": "display_data"
    }
   ],
   "source": [
    "claude_result = bedrock.claude_text(*task)\n",
    "render.md(claude_result)"
   ]
  },
  {
   "cell_type": "code",
   "execution_count": 9,
   "id": "f876d018-e28e-42ef-a77c-5eaa95dda4de",
   "metadata": {},
   "outputs": [
    {
     "data": {
      "text/plain": [
       "'100.00'"
      ]
     },
     "execution_count": 9,
     "metadata": {},
     "output_type": "execute_result"
    }
   ],
   "source": [
    "benchmark.accuracy(system=task[0], prompt=task[1], result=claude_result)"
   ]
  }
 ],
 "metadata": {
  "kernelspec": {
   "display_name": "Python 3 (ipykernel)",
   "language": "python",
   "name": "python3"
  },
  "language_info": {
   "codemirror_mode": {
    "name": "ipython",
    "version": 3
   },
   "file_extension": ".py",
   "mimetype": "text/x-python",
   "name": "python",
   "nbconvert_exporter": "python",
   "pygments_lexer": "ipython3",
   "version": "3.11.7"
  }
 },
 "nbformat": 4,
 "nbformat_minor": 5
}
