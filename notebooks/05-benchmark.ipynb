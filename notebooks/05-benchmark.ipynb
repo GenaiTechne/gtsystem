{
 "cells": [
  {
   "cell_type": "code",
   "execution_count": 1,
   "id": "b98d3e38-543f-446c-a88a-57945bfc1d2b",
   "metadata": {},
   "outputs": [],
   "source": [
    "import os\n",
    "import sys\n",
    "import importlib.util\n",
    "\n",
    "is_installed = importlib.util.find_spec(\"gtsystem\")\n",
    "if not is_installed:\n",
    "    module_path = \"..\"\n",
    "    sys.path.append(os.path.abspath(module_path))\n",
    "\n",
    "from gtsystem import openai, bedrock, ollama, render, tasks, benchmark"
   ]
  },
  {
   "cell_type": "code",
   "execution_count": 2,
   "id": "ba481a77-1403-46b3-9bbf-ac58036f42c2",
   "metadata": {},
   "outputs": [],
   "source": [
    "tasks.load('../data/openai-examples-21.xlsx')"
   ]
  },
  {
   "cell_type": "code",
   "execution_count": 3,
   "id": "2645ec31-c96c-4704-aaa2-689aee1bcf37",
   "metadata": {},
   "outputs": [
    {
     "data": {
      "text/html": [
       "<style type=\"text/css\">\n",
       "#T_3fe02 th {\n",
       "  font-size: 10pt;\n",
       "  text-align: left;\n",
       "}\n",
       "#T_3fe02 td {\n",
       "  text-align: left;\n",
       "  word-wrap: break-word;\n",
       "  overflow: hidden;\n",
       "  text-overflow: ellipsis;\n",
       "}\n",
       "#T_3fe02 .index_name {\n",
       "  display: none;\n",
       "}\n",
       "#T_3fe02 .row_heading {\n",
       "  display: none;\n",
       "}\n",
       "#T_3fe02  .blank {\n",
       "  display: none;\n",
       "}\n",
       "</style>\n",
       "<table id=\"T_3fe02\">\n",
       "  <thead>\n",
       "    <tr>\n",
       "      <th class=\"blank level0\" >&nbsp;</th>\n",
       "      <th id=\"T_3fe02_level0_col0\" class=\"col_heading level0 col0\" >Task</th>\n",
       "      <th id=\"T_3fe02_level0_col1\" class=\"col_heading level0 col1\" >Task Types</th>\n",
       "      <th id=\"T_3fe02_level0_col2\" class=\"col_heading level0 col2\" >System</th>\n",
       "      <th id=\"T_3fe02_level0_col3\" class=\"col_heading level0 col3\" >Prompt</th>\n",
       "      <th id=\"T_3fe02_level0_col4\" class=\"col_heading level0 col4\" >Temperature</th>\n",
       "      <th id=\"T_3fe02_level0_col5\" class=\"col_heading level0 col5\" >TopP</th>\n",
       "      <th id=\"T_3fe02_level0_col6\" class=\"col_heading level0 col6\" >Source</th>\n",
       "    </tr>\n",
       "  </thead>\n",
       "  <tbody>\n",
       "    <tr>\n",
       "      <th id=\"T_3fe02_level0_row0\" class=\"row_heading level0 row0\" >17</th>\n",
       "      <td id=\"T_3fe02_row0_col0\" class=\"data row0 col0\" >Improve code efficiency</td>\n",
       "      <td id=\"T_3fe02_row0_col1\" class=\"data row0 col1\" >Transform; Code</td>\n",
       "      <td id=\"T_3fe02_row0_col2\" class=\"data row0 col2\" >You will be provided with a piece of Python code, and your task is to provide ideas for efficiency improvements.</td>\n",
       "      <td id=\"T_3fe02_row0_col3\" class=\"data row0 col3\" >from typing import List\n",
       "                \n",
       "                \n",
       "    def has_sum_k(nums: List[int], k: int) -> bool:\n",
       "        \"\"\"\n",
       "        Returns True if there are two distinct elements in nums such that their sum \n",
       "        is equal to k, and otherwise returns False.\n",
       "        \"\"\"\n",
       "        n = len(nums)\n",
       "        for i in range(n):\n",
       "            for j in range(i+1, n):\n",
       "                if nums[i] + nums[j] == k:\n",
       "                    return True\n",
       "        return False</td>\n",
       "      <td id=\"T_3fe02_row0_col4\" class=\"data row0 col4\" >0.700000</td>\n",
       "      <td id=\"T_3fe02_row0_col5\" class=\"data row0 col5\" >1</td>\n",
       "      <td id=\"T_3fe02_row0_col6\" class=\"data row0 col6\" >OpenAI Examples</td>\n",
       "    </tr>\n",
       "  </tbody>\n",
       "</table>\n"
      ],
      "text/plain": [
       "<pandas.io.formats.style.Styler at 0x112f4cb90>"
      ]
     },
     "execution_count": 3,
     "metadata": {},
     "output_type": "execute_result"
    }
   ],
   "source": [
    "render.df(tasks.find('improve code'))"
   ]
  },
  {
   "cell_type": "code",
   "execution_count": 4,
   "id": "acd99c42-56fd-45b6-b602-42fb9b0d4f75",
   "metadata": {},
   "outputs": [],
   "source": [
    "task = tasks.get('Improve code efficiency')"
   ]
  },
  {
   "cell_type": "code",
   "execution_count": 5,
   "id": "212901e2-2df9-44ef-9e2d-2a7623725aab",
   "metadata": {},
   "outputs": [
    {
     "data": {
      "text/markdown": [
       "Here are some ideas for improving the efficiency of the `has_sum_k` function:\n",
       "\n",
       "1. **Sorting**: Sort the input list `nums` before iterating through it. This would allow us to potentially utilize binary search for finding the complement of each element to reach the target sum `k`. This would reduce the time complexity from O(n^2) to O(n*log(n)).\n",
       "\n",
       "2. **Using a Set**: Instead of using nested loops to check for the existence of the complement, we can store elements in a set while iterating through the list. During the iteration, we can check if the complement of the current element exists in the set. This would reduce the time complexity to O(n) at the cost of additional space complexity.\n",
       "\n",
       "3. **Early Exit**: If we find a pair of elements whose sum is equal to `k`, we can immediately return True. This can prevent unnecessary iterations and improve the average case time complexity.\n",
       "\n",
       "4. **Use of Hash Map**: We can utilize a dictionary (hash map) to store the elements of the list along with their indices. This way, we can check if the complement of an element exists in the dictionary in constant time. This would also reduce the time complexity to O(n) at the cost of additional space complexity."
      ],
      "text/plain": [
       "<IPython.core.display.Markdown object>"
      ]
     },
     "metadata": {},
     "output_type": "display_data"
    }
   ],
   "source": [
    "render.md(openai.gpt_text(*task))"
   ]
  },
  {
   "cell_type": "code",
   "execution_count": 6,
   "id": "33dee4e8-014c-4c43-9df5-041c826cb91b",
   "metadata": {},
   "outputs": [
    {
     "data": {
      "text/markdown": [
       "1. Use a set to keep track of seen values, to avoid checking duplicate pairs.\n",
       "2. Use a dictionary to map each value to its index in the list, to quickly look up the index of a value and avoid iterating over the list multiple times.\n",
       "3. Use the `any` function to simplify the inner loop, by checking if any pair of elements sums up to k.\n",
       "4. Use list comprehension to generate all possible pairs of elements and filter out pairs that sum up to k.\n",
       "5. Use the `sum` function to calculate the sum of all elements in the list and compare it to k, instead of iterating over the list multiple times.\n",
       "6. Use a more efficient algorithm, like the one based on the fact that the sum of the first n natural numbers is n(n+1)/2, and check if there is a pair of elements that sums up to k, or if k is in the range of the sum of the first n natural numbers.\n",
       "7. Use a more efficient data structure, like a hash table, to store the values and their indices, and use it to quickly look up the index of a value and avoid iterating over the list multiple times.\n",
       "8. Use a more efficient approach, like sorting the list and then iterating over it, to find the first pair of elements that sums up to k, or to find the index of the first element that sums up to k.\n",
       "\n",
       "Which of these suggestions do you think would be most effective in improving the efficiency of the code?"
      ],
      "text/plain": [
       "<IPython.core.display.Markdown object>"
      ]
     },
     "metadata": {},
     "output_type": "display_data"
    }
   ],
   "source": [
    "llama_result = bedrock.llama_text(*task)\n",
    "render.md(llama_result)"
   ]
  },
  {
   "cell_type": "code",
   "execution_count": 7,
   "id": "3ea191b5-262b-454d-abe5-b87e1dbb9bfc",
   "metadata": {},
   "outputs": [
    {
     "data": {
      "text/plain": [
       "'85.71'"
      ]
     },
     "execution_count": 7,
     "metadata": {},
     "output_type": "execute_result"
    }
   ],
   "source": [
    "benchmark.accuracy(system=task[0], prompt=task[1], result=llama_result)"
   ]
  },
  {
   "cell_type": "code",
   "execution_count": 8,
   "id": "1be524a6-0f45-4129-a6e3-0f7745a051d3",
   "metadata": {},
   "outputs": [
    {
     "data": {
      "text/markdown": [
       "Here are some ideas to improve the efficiency of this function:\n",
       "\n",
       "1. Use a set instead of a list. Checking if an element exists in a set is O(1) while checking in a list is O(n).\n",
       "\n",
       "```python\n",
       "nums = set(nums)\n",
       "```\n",
       "\n",
       "2. Sort the list first. Then you can use two pointer approach to search for the pair. This reduces the runtime from O(n^2) to O(nlogn + n).\n",
       "\n",
       "```python\n",
       "nums.sort()\n",
       "left, right = 0, len(nums)-1\n",
       "while left < right:\n",
       "    if nums[left] + nums[right] == k:\n",
       "        return True\n",
       "    elif nums[left] + nums[right] < k:\n",
       "        left += 1\n",
       "    else:\n",
       "        right -= 1\n",
       "return False\n",
       "```\n",
       "\n",
       "3. Use a hash table to store seen elements. This avoids quadratically checking pairs.\n",
       "\n",
       "```python \n",
       "seen = set()\n",
       "for num in nums:\n",
       "    if k - num in seen:\n",
       "        return True\n",
       "    seen.add(num)\n",
       "return False\n",
       "```\n",
       "\n",
       "4. Break early if a pair is found instead of searching whole list.\n",
       "\n",
       "```python\n",
       "for i in range(n):\n",
       "    for j in range(i+1, n):\n",
       "        if nums[i] + nums[j] == k:\n",
       "            return True \n",
       "            break\n",
       "return False\n",
       "```\n",
       "\n",
       "The key ideas are to reduce the search space at each step and avoid redundant computations. Hash tables, sorting, and early terminating can help."
      ],
      "text/plain": [
       "<IPython.core.display.Markdown object>"
      ]
     },
     "metadata": {},
     "output_type": "display_data"
    }
   ],
   "source": [
    "claude_result = bedrock.claude_text(*task)\n",
    "render.md(claude_result)"
   ]
  },
  {
   "cell_type": "code",
   "execution_count": 9,
   "id": "f876d018-e28e-42ef-a77c-5eaa95dda4de",
   "metadata": {},
   "outputs": [
    {
     "data": {
      "text/plain": [
       "'95.00'"
      ]
     },
     "execution_count": 9,
     "metadata": {},
     "output_type": "execute_result"
    }
   ],
   "source": [
    "benchmark.accuracy(system=task[0], prompt=task[1], result=claude_result)"
   ]
  },
  {
   "cell_type": "code",
   "execution_count": 10,
   "id": "6ef08468-ba25-47f6-b634-ad2ee77e40ce",
   "metadata": {},
   "outputs": [
    {
     "data": {
      "text/markdown": [
       "\n",
       "Here are some ideas for efficiency improvements:\n",
       "\n",
       "1. Use a hash set to keep track of the elements that have been seen so far, and check if a given element is already in the hash set before adding it to the list. This can significantly reduce the number of iterations over the list, since many elements will be duplicates.\n",
       "2. Sort the input list first, and then use two pointers to iterate through the list. This can make it easier to find pairs of elements that add up to k, since you can start with the smallest element and look for its complement in the rest of the list.\n",
       "3. Use a more efficient data structure such as a hash map or a binary search tree to store the elements in the list. This can allow for faster lookup and insertion times, which can improve the overall efficiency of the algorithm.\n",
       "4. Parallelize the execution of the algorithm using multi-threading or multi-processing. This can make it run faster by distributing the workload across multiple processors or threads.\n",
       "5. Use a more efficient search algorithm such as binary search to find the elements that add up to k. This can make it faster by reducing the number of iterations required to find the desired pair of elements."
      ],
      "text/plain": [
       "<IPython.core.display.Markdown object>"
      ]
     },
     "metadata": {},
     "output_type": "display_data"
    }
   ],
   "source": [
    "codellama_result = ollama.codellama_text(*task)\n",
    "render.md(codellama_result)"
   ]
  },
  {
   "cell_type": "code",
   "execution_count": 11,
   "id": "a900c588-4465-418c-b34e-3ea06899e16a",
   "metadata": {},
   "outputs": [
    {
     "data": {
      "text/plain": [
       "'90.00'"
      ]
     },
     "execution_count": 11,
     "metadata": {},
     "output_type": "execute_result"
    }
   ],
   "source": [
    "benchmark.accuracy(system=task[0], prompt=task[1], result=codellama_result)"
   ]
  }
 ],
 "metadata": {
  "kernelspec": {
   "display_name": "Python 3 (ipykernel)",
   "language": "python",
   "name": "python3"
  },
  "language_info": {
   "codemirror_mode": {
    "name": "ipython",
    "version": 3
   },
   "file_extension": ".py",
   "mimetype": "text/x-python",
   "name": "python",
   "nbconvert_exporter": "python",
   "pygments_lexer": "ipython3",
   "version": "3.11.7"
  }
 },
 "nbformat": 4,
 "nbformat_minor": 5
}
