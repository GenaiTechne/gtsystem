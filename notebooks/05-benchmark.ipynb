{
 "cells": [
  {
   "cell_type": "code",
   "execution_count": 1,
   "id": "b98d3e38-543f-446c-a88a-57945bfc1d2b",
   "metadata": {},
   "outputs": [],
   "source": [
    "import os\n",
    "import sys\n",
    "import importlib.util\n",
    "\n",
    "is_installed = importlib.util.find_spec(\"gtsystem\")\n",
    "if not is_installed:\n",
    "    print ('Not using PyPi')\n",
    "    module_path = \"..\"\n",
    "    sys.path.append(os.path.abspath(module_path))\n",
    "else:\n",
    "    print ('Loaded gtsystem')\n",
    "\n",
    "from gtsystem import openai, bedrock, ollama, groq, render, tasks, benchmark"
   ]
  },
  {
   "cell_type": "code",
   "execution_count": 2,
   "id": "ba481a77-1403-46b3-9bbf-ac58036f42c2",
   "metadata": {},
   "outputs": [],
   "source": [
    "tasks.load('../data/openai-examples-21.xlsx')"
   ]
  },
  {
   "cell_type": "code",
   "execution_count": 3,
   "id": "2645ec31-c96c-4704-aaa2-689aee1bcf37",
   "metadata": {},
   "outputs": [
    {
     "data": {
      "text/html": [
       "<style type=\"text/css\">\n",
       "#T_03497 th {\n",
       "  font-size: 10pt;\n",
       "  text-align: left;\n",
       "}\n",
       "#T_03497 td {\n",
       "  text-align: left;\n",
       "  word-wrap: break-word;\n",
       "  overflow: hidden;\n",
       "  text-overflow: ellipsis;\n",
       "}\n",
       "#T_03497 .index_name {\n",
       "  display: none;\n",
       "}\n",
       "#T_03497 .row_heading {\n",
       "  display: none;\n",
       "}\n",
       "#T_03497  .blank {\n",
       "  display: none;\n",
       "}\n",
       "</style>\n",
       "<table id=\"T_03497\">\n",
       "  <thead>\n",
       "    <tr>\n",
       "      <th class=\"blank level0\" >&nbsp;</th>\n",
       "      <th id=\"T_03497_level0_col0\" class=\"col_heading level0 col0\" >Task</th>\n",
       "      <th id=\"T_03497_level0_col1\" class=\"col_heading level0 col1\" >Task Types</th>\n",
       "      <th id=\"T_03497_level0_col2\" class=\"col_heading level0 col2\" >System</th>\n",
       "      <th id=\"T_03497_level0_col3\" class=\"col_heading level0 col3\" >Prompt</th>\n",
       "      <th id=\"T_03497_level0_col4\" class=\"col_heading level0 col4\" >Temperature</th>\n",
       "      <th id=\"T_03497_level0_col5\" class=\"col_heading level0 col5\" >TopP</th>\n",
       "      <th id=\"T_03497_level0_col6\" class=\"col_heading level0 col6\" >Source</th>\n",
       "    </tr>\n",
       "  </thead>\n",
       "  <tbody>\n",
       "    <tr>\n",
       "      <th id=\"T_03497_level0_row0\" class=\"row_heading level0 row0\" >17</th>\n",
       "      <td id=\"T_03497_row0_col0\" class=\"data row0 col0\" >Improve code efficiency</td>\n",
       "      <td id=\"T_03497_row0_col1\" class=\"data row0 col1\" >Transform; Code</td>\n",
       "      <td id=\"T_03497_row0_col2\" class=\"data row0 col2\" >You will be provided with a piece of Python code, and your task is to provide ideas for efficiency improvements.</td>\n",
       "      <td id=\"T_03497_row0_col3\" class=\"data row0 col3\" >from typing import List\n",
       "                \n",
       "                \n",
       "    def has_sum_k(nums: List[int], k: int) -> bool:\n",
       "        \"\"\"\n",
       "        Returns True if there are two distinct elements in nums such that their sum \n",
       "        is equal to k, and otherwise returns False.\n",
       "        \"\"\"\n",
       "        n = len(nums)\n",
       "        for i in range(n):\n",
       "            for j in range(i+1, n):\n",
       "                if nums[i] + nums[j] == k:\n",
       "                    return True\n",
       "        return False</td>\n",
       "      <td id=\"T_03497_row0_col4\" class=\"data row0 col4\" >0.700000</td>\n",
       "      <td id=\"T_03497_row0_col5\" class=\"data row0 col5\" >1</td>\n",
       "      <td id=\"T_03497_row0_col6\" class=\"data row0 col6\" >OpenAI Examples</td>\n",
       "    </tr>\n",
       "  </tbody>\n",
       "</table>\n"
      ],
      "text/plain": [
       "<pandas.io.formats.style.Styler at 0x108dbb0d0>"
      ]
     },
     "execution_count": 3,
     "metadata": {},
     "output_type": "execute_result"
    }
   ],
   "source": [
    "render.df(tasks.find('improve code'))"
   ]
  },
  {
   "cell_type": "code",
   "execution_count": 4,
   "id": "acd99c42-56fd-45b6-b602-42fb9b0d4f75",
   "metadata": {},
   "outputs": [],
   "source": [
    "task = tasks.get('Improve code efficiency')"
   ]
  },
  {
   "cell_type": "code",
   "execution_count": 5,
   "id": "847cfcdf-d8d5-405b-a903-7ada873ef2b2",
   "metadata": {},
   "outputs": [
    {
     "data": {
      "text/markdown": [
       "The provided code is a brute-force solution to the problem of finding if there are two distinct elements in a list `nums` that sum up to a given value `k`. While this approach works correctly, it has a time complexity of O(n^2), which can be inefficient for large input lists.\n",
       "\n",
       "Here are some ideas for efficiency improvements:\n",
       "\n",
       "1. **Use a set for constant-time lookups**:\n",
       "   - Create a set from the input list `nums`.\n",
       "   - Iterate through the list, and for each element `x`, check if `k - x` is present in the set.\n",
       "   - If found, return `True`.\n",
       "   - This approach has a time complexity of O(n), which is more efficient than the brute-force solution.\n",
       "\n",
       "```python\n",
       "def has_sum_k(nums: List[int], k: int) -> bool:\n",
       "    num_set = set(nums)\n",
       "    for num in nums:\n",
       "        complement = k - num\n",
       "        if complement in num_set and complement != num:\n",
       "            return True\n",
       "    return False\n",
       "```\n",
       "\n",
       "2. **Use a dictionary for constant-time lookups**:\n",
       "   - Create an empty dictionary.\n",
       "   - Iterate through the list, and for each element `x`, check if `k - x` is in the dictionary.\n",
       "   - If found, return `True`.\n",
       "   - If not, add `x` to the dictionary.\n",
       "   - This approach also has a time complexity of O(n), but it avoids creating an extra set, which can be more memory-efficient for large inputs.\n",
       "\n",
       "```python\n",
       "def has_sum_k(nums: List[int], k: int) -> bool:\n",
       "    num_dict = {}\n",
       "    for num in nums:\n",
       "        complement = k - num\n",
       "        if complement in num_dict:\n",
       "            return True\n",
       "        num_dict[num] = True\n",
       "    return False\n",
       "```\n",
       "\n",
       "3. **Use sorting and two-pointer approach**:\n",
       "   - Sort the input list `nums`.\n",
       "   - Initialize two pointers, `left` and `right`, pointing to the start and end of the list, respectively.\n",
       "   - While `left` is less than `right`:\n",
       "     - Calculate the sum of `nums[left]` and `nums[right]`.\n",
       "     - If the sum is"
      ],
      "text/plain": [
       "<IPython.core.display.Markdown object>"
      ]
     },
     "metadata": {},
     "output_type": "display_data"
    }
   ],
   "source": [
    "render.md(bedrock.sonnet_text(*task))"
   ]
  },
  {
   "cell_type": "code",
   "execution_count": 6,
   "id": "212901e2-2df9-44ef-9e2d-2a7623725aab",
   "metadata": {},
   "outputs": [
    {
     "data": {
      "text/markdown": [
       "1. Sort the input list `nums` first. This way, we can optimize the search for pairs that sum up to `k` without having to iterate through all possible pairs.\n",
       "2. Instead of using nested loops, we can use a dictionary to store the difference between `k` and each element as we iterate through the list. This way, we can check in constant time if the current element has a corresponding element that sums up to `k`.\n",
       "3. We can use a set to keep track of elements we have seen so far. This can help us avoid unnecessary comparisons.\n",
       "4. We can stop the iteration as soon as we find a valid pair that sums up to `k`, rather than continuing to iterate through the rest of the list."
      ],
      "text/plain": [
       "<IPython.core.display.Markdown object>"
      ]
     },
     "metadata": {},
     "output_type": "display_data"
    }
   ],
   "source": [
    "openai_result = openai.text(*task)\n",
    "render.md(openai_result)"
   ]
  },
  {
   "cell_type": "code",
   "execution_count": 7,
   "id": "b0974181-4aaf-4329-842e-e23ad45e691a",
   "metadata": {},
   "outputs": [
    {
     "data": {
      "text/plain": [
       "'90.00'"
      ]
     },
     "execution_count": 7,
     "metadata": {},
     "output_type": "execute_result"
    }
   ],
   "source": [
    "benchmark.accuracy(system=task[0], prompt=task[1], result=openai_result)"
   ]
  },
  {
   "cell_type": "code",
   "execution_count": 8,
   "id": "33dee4e8-014c-4c43-9df5-041c826cb91b",
   "metadata": {},
   "outputs": [
    {
     "data": {
      "text/markdown": [
       "1. Use a set to keep track of seen elements, to avoid checking duplicates.\n",
       "2. Use a dictionary to map each element to its index in the list, to quickly find the corresponding element.\n",
       "3. Use a generator expression to iterate over the combinations of elements, instead of nested for loops.\n",
       "4. Use the `any` function to simplify the return statement.\n",
       "\n",
       "Here's an example of how the optimized function could look like:\n",
       "```\n",
       "def has_sum_k(nums: List[int], k: int) -> bool:\n",
       "    seen = set()\n",
       "    indices = {num: i for i, num in enumerate(nums)}\n",
       "    return any(nums[indices[a]] + nums[indices[b]] == k for a, b in combinations(range(len(nums)), 2))\n",
       "```\n",
       "This function has a time complexity of O(n^2) instead of O(n^3) like the original function, which makes it much more efficient for large lists."
      ],
      "text/plain": [
       "<IPython.core.display.Markdown object>"
      ]
     },
     "metadata": {},
     "output_type": "display_data"
    }
   ],
   "source": [
    "llama_result = bedrock.llama2_text(*task)\n",
    "render.md(llama_result)"
   ]
  },
  {
   "cell_type": "code",
   "execution_count": 9,
   "id": "3ea191b5-262b-454d-abe5-b87e1dbb9bfc",
   "metadata": {},
   "outputs": [
    {
     "data": {
      "text/plain": [
       "'95.00'"
      ]
     },
     "execution_count": 9,
     "metadata": {},
     "output_type": "execute_result"
    }
   ],
   "source": [
    "benchmark.accuracy(system=task[0], prompt=task[1], result=llama_result)"
   ]
  },
  {
   "cell_type": "code",
   "execution_count": 10,
   "id": "1be524a6-0f45-4129-a6e3-0f7745a051d3",
   "metadata": {},
   "outputs": [
    {
     "data": {
      "text/markdown": [
       "Here is an optimized solution that runs in O(n) time instead of O(n^2) by using a set to track previously seen elements:\n",
       "\n",
       "```python\n",
       "from typing import List\n",
       "\n",
       "def has_sum_k(nums: List[int], k: int) -> bool:\n",
       "    seen = set()\n",
       "    for num in nums:\n",
       "        if k - num in seen:\n",
       "            return True\n",
       "        seen.add(num)\n",
       "    return False\n",
       "```\n",
       "\n",
       "The key points:\n",
       "\n",
       "- Use a set `seen` to track previously seen elements \n",
       "- For each number `num`, check if `k - num` is in the set\n",
       "- If so, we've found a pair that sums to k\n",
       "- Otherwise, add `num` to the set\n",
       "- Return False if we never found a pair\n",
       "\n",
       "This runs in O(n) time by iterating through the list once, instead of the nested loops in the original solution which is O(n^2).\n",
       "\n",
       "The set lookup is O(1) on average, so each iteration is constant time. This is more efficient than repeatedly checking pairs in the nested loops."
      ],
      "text/plain": [
       "<IPython.core.display.Markdown object>"
      ]
     },
     "metadata": {},
     "output_type": "display_data"
    }
   ],
   "source": [
    "instant_result = bedrock.instant_text(*task)\n",
    "render.md(instant_result)"
   ]
  },
  {
   "cell_type": "code",
   "execution_count": 11,
   "id": "f876d018-e28e-42ef-a77c-5eaa95dda4de",
   "metadata": {},
   "outputs": [
    {
     "data": {
      "text/plain": [
       "'95.00'"
      ]
     },
     "execution_count": 11,
     "metadata": {},
     "output_type": "execute_result"
    }
   ],
   "source": [
    "benchmark.accuracy(system=task[0], prompt=task[1], result=instant_result)"
   ]
  },
  {
   "cell_type": "code",
   "execution_count": 12,
   "id": "6ef08468-ba25-47f6-b634-ad2ee77e40ce",
   "metadata": {},
   "outputs": [
    {
     "data": {
      "text/markdown": [
       "\n",
       "This code is checking whether there are two distinct elements in a list of integers that sum up to a given value. The current implementation has a time complexity of O(n^2), where n is the length of the list, because it uses two nested loops with a constant time complexity each. This means that the overall time complexity is quadratic, which can be inefficient for large lists.\n",
       "\n",
       "To improve the efficiency of this code, we could use a more efficient data structure or algorithm to find the elements that add up to k. Here are some suggestions:\n",
       "\n",
       "1. Use a hash table: We can use a hash table to keep track of the elements that have already been seen in the list. This will allow us to check if there are any elements that sum up to k more efficiently than using nested loops. The time complexity of this approach would be O(n), where n is the length of the list, since we only need to iterate through the list once and use a hash table to keep track of the elements.\n",
       "2. Use a set: We can also use a set to keep track of the unique elements in the list. This will allow us to check if there are any elements that sum up to k more efficiently than using nested loops. The time complexity of this approach would be O(n), where n is the length of the list, since we only need to iterate through the list once and use a set to keep track of the unique elements.\n",
       "3. Use binary search: We can also use a binary search algorithm to find the elements that sum up to k more efficiently than using nested loops. The time complexity of this approach would be O(n log n), where n is the length of the list, since we only need to iterate through the list once and use a binary search algorithm to find the elements that sum up to k.\n",
       "4. Use an efficient data structure: We can also use an efficient data structure, such as a heap or a priority queue, to keep track of the elements that have already been seen in the list. This will allow us to check if there are any elements that sum up to k more efficiently than using nested loops. The time complexity of this approach would be O(n log n), where n is the length of the list, since we only need to iterate through the list once and use an efficient data structure to keep track of the elements.\n",
       "\n",
       "In summary, there are several ways to improve the efficiency of this code, such as using a hash table, set, binary search, or an efficient data structure. The choice of approach will depend on the specific requirements of the problem and the constraints of the input list."
      ],
      "text/plain": [
       "<IPython.core.display.Markdown object>"
      ]
     },
     "metadata": {},
     "output_type": "display_data"
    }
   ],
   "source": [
    "codellama_result = ollama.codellama_text(*task)\n",
    "render.md(codellama_result)"
   ]
  },
  {
   "cell_type": "code",
   "execution_count": 13,
   "id": "a900c588-4465-418c-b34e-3ea06899e16a",
   "metadata": {},
   "outputs": [
    {
     "data": {
      "text/plain": [
       "'95.00'"
      ]
     },
     "execution_count": 13,
     "metadata": {},
     "output_type": "execute_result"
    }
   ],
   "source": [
    "benchmark.accuracy(system=task[0], prompt=task[1], result=codellama_result)"
   ]
  },
  {
   "cell_type": "code",
   "execution_count": 14,
   "id": "f0b8007c-a7db-4d53-bd92-7263e13b58ce",
   "metadata": {},
   "outputs": [
    {
     "data": {
      "text/markdown": [
       "Here are some ideas for improving the efficiency of the given code:\n",
       "\n",
       "1. Use a set to store the numbers in the list. Then, for each number, check if its complement (k - current number) is in the set. This can reduce the time complexity from O(n^2) to O(n), where n is the length of the list.\n",
       "\n",
       "Here is the revised code:\n",
       "```python\n",
       "from typing import List\n",
       "\n",
       "def has_sum_k(nums: List[int], k: int) -> bool:\n",
       "    \"\"\"\n",
       "    Returns True if there are two distinct elements in nums such that their sum \n",
       "    is equal to k, and otherwise returns False.\n",
       "    \"\"\"\n",
       "    num_set = set(nums)\n",
       "    for num in num_set:\n",
       "        complement = k - num\n",
       "        if complement in num_set and complement != num:\n",
       "            return True\n",
       "    return False\n",
       "```\n",
       "2. If the list is sorted, you can use a two-pointer approach, which has a time complexity of O(n). This involves maintaining two pointers that start at the beginning and end of the sorted list, and moving them towards each other until you find a pair of numbers that sum up to k.\n",
       "\n",
       "Here is the revised code:\n",
       "```python\n",
       "from typing import List\n",
       "\n",
       "def has_sum_k(nums: List[int], k: int) -> bool:\n",
       "    \"\"\"\n",
       "    Returns True if there are two distinct elements in nums such that their sum \n",
       "    is equal to k, and otherwise returns False.\n",
       "    \"\"\"\n",
       "    nums.sort()\n",
       "    left = 0\n",
       "    right = len(nums) - 1\n",
       "    while left < right:\n",
       "        current_sum = nums[left] + nums[right]\n",
       "        if current_sum == k:\n",
       "            return True\n",
       "        elif current_sum < k:\n",
       "            left += 1\n",
       "        else:\n",
       "            right -= 1\n",
       "    return False\n",
       "```\n",
       "3. If the list is not sorted and you cannot use a set, you can still improve the time complexity by breaking out of the inner loop as soon as you find a pair of numbers that sum up to k. This reduces the time complexity from O(n^2) to O(n^2/2), which is still O(nn"
      ],
      "text/plain": [
       "<IPython.core.display.Markdown object>"
      ]
     },
     "metadata": {},
     "output_type": "display_data"
    }
   ],
   "source": [
    "groq_result = groq.text(*task)\n",
    "render.md(groq_result)"
   ]
  },
  {
   "cell_type": "code",
   "execution_count": 15,
   "id": "44e04701-6953-4479-90b0-ba2bca780b6f",
   "metadata": {},
   "outputs": [
    {
     "data": {
      "text/plain": [
       "'95.00'"
      ]
     },
     "execution_count": 15,
     "metadata": {},
     "output_type": "execute_result"
    }
   ],
   "source": [
    "benchmark.accuracy(system=task[0], prompt=task[1], result=groq_result)"
   ]
  }
 ],
 "metadata": {
  "kernelspec": {
   "display_name": "Python 3 (ipykernel)",
   "language": "python",
   "name": "python3"
  },
  "language_info": {
   "codemirror_mode": {
    "name": "ipython",
    "version": 3
   },
   "file_extension": ".py",
   "mimetype": "text/x-python",
   "name": "python",
   "nbconvert_exporter": "python",
   "pygments_lexer": "ipython3",
   "version": "3.11.7"
  }
 },
 "nbformat": 4,
 "nbformat_minor": 5
}
