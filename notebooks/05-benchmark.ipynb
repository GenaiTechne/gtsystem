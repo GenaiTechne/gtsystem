{
 "cells": [
  {
   "cell_type": "code",
   "execution_count": 1,
   "id": "b98d3e38-543f-446c-a88a-57945bfc1d2b",
   "metadata": {},
   "outputs": [],
   "source": [
    "import sys\n",
    "import os\n",
    "\n",
    "module_path = os.path.abspath(\"..\")\n",
    "if module_path not in sys.path:\n",
    "    sys.path.insert(0, module_path)\n",
    "\n",
    "from gtsystem import anthropic, openai, bedrock, ollama, groq, render, tasks, benchmark, instrument"
   ]
  },
  {
   "cell_type": "code",
   "execution_count": 2,
   "id": "2e2dad84-f555-497a-8fb7-76af244b80df",
   "metadata": {},
   "outputs": [],
   "source": [
    "tasks.load('../data/quality-benchmark-2024-0421.xlsx')"
   ]
  },
  {
   "cell_type": "code",
   "execution_count": 3,
   "id": "2645ec31-c96c-4704-aaa2-689aee1bcf37",
   "metadata": {
    "scrolled": true
   },
   "outputs": [
    {
     "data": {
      "text/html": [
       "<style type=\"text/css\">\n",
       "#T_9e8e3 th {\n",
       "  font-size: 10pt;\n",
       "  text-align: left;\n",
       "}\n",
       "#T_9e8e3 td {\n",
       "  text-align: left;\n",
       "  word-wrap: break-word;\n",
       "  overflow: hidden;\n",
       "  text-overflow: ellipsis;\n",
       "}\n",
       "#T_9e8e3 .index_name {\n",
       "  display: none;\n",
       "}\n",
       "#T_9e8e3 .row_heading {\n",
       "  display: none;\n",
       "}\n",
       "#T_9e8e3  .blank {\n",
       "  display: none;\n",
       "}\n",
       "</style>\n",
       "<table id=\"T_9e8e3\">\n",
       "  <thead>\n",
       "    <tr>\n",
       "      <th class=\"blank level0\" >&nbsp;</th>\n",
       "      <th id=\"T_9e8e3_level0_col0\" class=\"col_heading level0 col0\" >Task</th>\n",
       "      <th id=\"T_9e8e3_level0_col1\" class=\"col_heading level0 col1\" >System</th>\n",
       "      <th id=\"T_9e8e3_level0_col2\" class=\"col_heading level0 col2\" >Prompt</th>\n",
       "    </tr>\n",
       "  </thead>\n",
       "  <tbody>\n",
       "    <tr>\n",
       "      <th id=\"T_9e8e3_level0_row0\" class=\"row_heading level0 row0\" >0</th>\n",
       "      <td id=\"T_9e8e3_row0_col0\" class=\"data row0 col0\" >Explain CRISPR</td>\n",
       "      <td id=\"T_9e8e3_row0_col1\" class=\"data row0 col1\" >You are a subject matter expert in genetic engineering. Respond within 300 words.</td>\n",
       "      <td id=\"T_9e8e3_row0_col2\" class=\"data row0 col2\" >Explain how CRISPR technology can be used to genetically modify crops, including the potential benefits and risks associated with this technology. Ensure the explanation is suitable for someone without a background in genetics.</td>\n",
       "    </tr>\n",
       "    <tr>\n",
       "      <th id=\"T_9e8e3_level0_row1\" class=\"row_heading level0 row1\" >1</th>\n",
       "      <td id=\"T_9e8e3_row1_col0\" class=\"data row1 col0\" >Math algebra</td>\n",
       "      <td id=\"T_9e8e3_row1_col1\" class=\"data row1 col1\" >You are an expert mathematician. Respond within 300 words.</td>\n",
       "      <td id=\"T_9e8e3_row1_col2\" class=\"data row1 col2\" >A farmer is planning to fence a rectangular area using 200 meters of fencing material and wants to maximize the enclosed area. What dimensions should the rectangle have for maximum area? Please explain your reasoning step-by-step, assuming the user has basic knowledge of algebra but is not familiar with calculus.</td>\n",
       "    </tr>\n",
       "    <tr>\n",
       "      <th id=\"T_9e8e3_level0_row2\" class=\"row_heading level0 row2\" >2</th>\n",
       "      <td id=\"T_9e8e3_row2_col0\" class=\"data row2 col0\" >Logical reasoning</td>\n",
       "      <td id=\"T_9e8e3_row2_col1\" class=\"data row2 col1\" >You are an expert philosopher. Respond within 300 words.</td>\n",
       "      <td id=\"T_9e8e3_row2_col2\" class=\"data row2 col2\" >Assume that all philosophers are thinkers. Some thinkers are poets. Therefore, are all philosophers poets? Explain your reasoning using principles of logic.</td>\n",
       "    </tr>\n",
       "    <tr>\n",
       "      <th id=\"T_9e8e3_level0_row3\" class=\"row_heading level0 row3\" >3</th>\n",
       "      <td id=\"T_9e8e3_row3_col0\" class=\"data row3 col0\" >Trends analyst</td>\n",
       "      <td id=\"T_9e8e3_row3_col1\" class=\"data row3 col1\" >You are an expert industry analyst for emerging technology trends. Respond within 300 words.</td>\n",
       "      <td id=\"T_9e8e3_row3_col2\" class=\"data row3 col2\" >What are the top 5 emerging technology trends that will have outsized impact on the world in next 10 years?</td>\n",
       "    </tr>\n",
       "  </tbody>\n",
       "</table>\n"
      ],
      "text/plain": [
       "<pandas.io.formats.style.Styler at 0x11c16c510>"
      ]
     },
     "execution_count": 3,
     "metadata": {},
     "output_type": "execute_result"
    }
   ],
   "source": [
    "render.df(tasks.list())"
   ]
  },
  {
   "cell_type": "code",
   "execution_count": 4,
   "id": "acd99c42-56fd-45b6-b602-42fb9b0d4f75",
   "metadata": {},
   "outputs": [],
   "source": [
    "task = tasks.get('Trends analyst')"
   ]
  },
  {
   "cell_type": "code",
   "execution_count": 5,
   "id": "a5d5b481-c988-4f49-b123-fdb50b4b27c4",
   "metadata": {
    "scrolled": true
   },
   "outputs": [
    {
     "data": {
      "text/markdown": [
       "Based on various reports, research, and expert opinions, here are the top 5 emerging technology trends that are likely to have an outsized impact on the world in the next 10 years:\n",
       "\n",
       "1. **Artificial General Intelligence (AGI)**: AGI refers to AI systems that can perform any intellectual task that a human can. AGI has the potential to revolutionize industries such as healthcare, finance, education, and transportation. It can automate complex tasks, make decisions, and learn from experience. AGI can also enable autonomous systems, robots, and drones to perform tasks that are currently done by humans.\n",
       "\n",
       "Impact: AGI can increase productivity, improve decision-making, and transform industries. However, it also raises concerns about job displacement, bias, and ethics.\n",
       "\n",
       "2. **Quantum Computing**: Quantum computing is a new paradigm for computing that uses the principles of quantum mechanics to perform calculations. It has the potential to solve complex problems that are currently unsolvable by classical computers. Quantum computing can be applied to fields such as cryptography, optimization, and simulation.\n",
       "\n",
       "Impact: Quantum computing can lead to breakthroughs in fields like medicine, materials science, and climate modeling. It can also enable unbreakable encryption and optimize complex systems.\n",
       "\n",
       "3. **Extended Reality (XR)**: XR includes Virtual Reality (VR), Augmented Reality (AR), and Mixed Reality (MR). XR has the potential to transform industries such as education, healthcare, and entertainment. It can enable immersive experiences, remote work, and new forms of interaction.\n",
       "\n",
       "Impact: XR can increase engagement, improve learning outcomes, and enhance customer experiences. It can also enable new forms of therapy, training, and collaboration.\n",
       "\n",
       "4. **Synthetic Biology**: Synthetic biology involves the design and construction of new biological systems, such as microorganisms, to perform specific functions. It has the potential to transform industries such as agriculture, pharmaceuticals, and energy.\n",
       "\n",
       "Impact: Synthetic biology can enable the production of sustainable fuels, chemicals, and pharmaceuticals. It can also improve crop yields, reduce pesticide use, and develop new medical treatments.\n",
       "\n",
       "5. **Internet of Bodies (IoB)**: IoB refers to the integration of technology into the human body, such as implantable devices, wearables, and bio-sensing technologies. IoB has the potential to transform healthcare, fitness, and wellness.\n",
       "\n",
       "Impact: IoB can enable real-time health monitoring, personalized medicine, and preventive care. It can also raise concerns about privacy, security, and the blurring of lines between humans and machines.\n",
       "\n",
       "These emerging"
      ],
      "text/plain": [
       "<IPython.core.display.Markdown object>"
      ]
     },
     "metadata": {},
     "output_type": "display_data"
    }
   ],
   "source": [
    "llama3_result = groq.llama3_text(*task)\n",
    "render.md(llama3_result)"
   ]
  },
  {
   "cell_type": "code",
   "execution_count": 6,
   "id": "db0609db-13c7-4ea4-817e-9c04185fb96f",
   "metadata": {},
   "outputs": [
    {
     "data": {
      "text/markdown": [
       "| Criteria | Score | Explanation |\n",
       "|----------|-------|-------------|\n",
       "| Depth of Verification | 80 | Provides a list of emerging technologies based on reports and expert opinions, but lacks specific sources. |\n",
       "| Context Awareness | 90 | Addresses the specific question about top 5 emerging technologies and their impact in the next 10 years. |\n",
       "| Tone and Style Adaptability | 95 | Uses a clear, informative tone appropriate for explaining complex technologies to a general audience. |\n",
       "| Clarity and Understandability | 90 | Explains each technology and its potential impact in a way that is easy to understand for most readers. |\n",
       "| Information Density | 85 | Provides a good amount of relevant information for each technology without excessive detail or redundancy. |\n",
       "| Tailoring Content | 90 | Tailors the response to the user's specific request for top 5 technologies and their impact. |\n",
       "| Argumentation Quality | 80 | Presents a logical flow of information, but could benefit from more specific evidence or examples to support claims. |\n",
       "| Critical Thinking | 85 | Demonstrates good inference and problem-solving skills by identifying key technologies and their potential impacts. |\n",
       "| Relevance and Focus | 95 | Stays focused on the user's primary goal of identifying top 5 emerging technologies and their impact. |\n",
       "| User Intent Understanding | 95 | Clearly understands and addresses the user's intent to learn about high-impact emerging technologies. |\n",
       "\n",
       "Average quality score = 88.5/100."
      ],
      "text/plain": [
       "<IPython.core.display.Markdown object>"
      ]
     },
     "metadata": {},
     "output_type": "display_data"
    }
   ],
   "source": [
    "render.md(benchmark.quality(*task, result=llama3_result, fn='groq.llama3_text'))"
   ]
  },
  {
   "cell_type": "code",
   "execution_count": 7,
   "id": "ccf44501-5a6e-496c-b89d-14c433986a8c",
   "metadata": {},
   "outputs": [
    {
     "data": {
      "text/markdown": [
       "1. **Artificial Intelligence and Machine Learning**: AI and ML continue to be at the forefront of technological advancement, with their applications becoming increasingly sophisticated. They are set to revolutionize industries by enhancing automation, improving decision-making processes, and personalizing user experiences. The development of AI models that can understand, learn, predict, and potentially operate autonomously will have a significant impact on various sectors, including healthcare, finance, manufacturing, and transportation.\n",
       "\n",
       "2. **Quantum Computing**: Quantum computing promises to bring about a paradigm shift in computing power, with the potential to solve complex problems that are currently beyond the reach of classical computers. Its development could dramatically accelerate drug discovery, optimize logistics, improve financial modeling, and advance material science. As quantum technology matures, its impact on cryptography and cybersecurity will also be profound, necessitating new approaches to data protection.\n",
       "\n",
       "3. **Blockchain and Decentralized Finance (DeFi)**: Blockchain technology offers a secure, transparent way to conduct transactions without the need for centralized authorities. This technology underpins cryptocurrencies and is increasingly being applied in areas such as supply chain management, digital identity verification, and secure voting systems. DeFi, an extension of blockchain, is disrupting the financial sector by offering peer-to-peer financial services that operate without traditional financial intermediaries, potentially democratizing access to financial services worldwide.\n",
       "\n",
       "4. **Internet of Things (IoT) and Smart Cities**: The expansion of IoT technology is enabling the development of smart cities, where urban services and infrastructure are optimized through data analysis and connectivity. This includes improvements in energy distribution, traffic management, waste disposal, and public safety. The integration of IoT devices in everyday life will also enhance the quality of living, through smart homes, wearables, and connected healthcare devices.\n",
       "\n",
       "5. **Biotechnology and Genetic Engineering**: Advances in biotechnology and genetic engineering, including CRISPR and gene therapy, are set to revolutionize healthcare by enabling the treatment and prevention of genetic diseases, extending human lifespan, and improving the quality of life. Beyond healthcare, biotechnology will impact agriculture, through the development of genetically modified crops that are more resilient to climate change, and environmental conservation, by aiding in the restoration of ecosystems and biodiversity.\n",
       "\n",
       "These trends represent the convergence of digital, biological, and physical innovations, which will collectively shape the future of humanity and the planet."
      ],
      "text/plain": [
       "<IPython.core.display.Markdown object>"
      ]
     },
     "metadata": {},
     "output_type": "display_data"
    }
   ],
   "source": [
    "gpt4_result = openai.gpt4_text(*task)\n",
    "render.md(gpt4_result)"
   ]
  },
  {
   "cell_type": "code",
   "execution_count": 8,
   "id": "4aa05260-773e-4f5d-b3f5-9edd604b982c",
   "metadata": {},
   "outputs": [
    {
     "data": {
      "text/markdown": [
       "| Criteria | Score | Explanation |\n",
       "|----------|-------|-------------|\n",
       "| Depth of Verification | 80 | Provides commonly accepted trends but lacks specific sources |\n",
       "| Context Awareness | 95 | Highly relevant to the user's query about emerging tech trends |\n",
       "| Tone and Style Adaptability | 90 | Uses an informative and slightly technical tone appropriate for the topic |\n",
       "| Clarity and Understandability | 85 | Explains complex topics well but could simplify some technical terms |\n",
       "| Information Density | 95 | Packs a wealth of information into a concise response |\n",
       "| Tailoring Content | 90 | Provides a good level of detail for an overview of top trends |\n",
       "| Argumentation Quality | 85 | Presents a logical flow but could expand on reasoning for each trend |\n",
       "| Critical Thinking | 80 | Shows good inference about potential impacts but could be more critical |\n",
       "| Relevance and Focus | 100 | Directly addresses the user's query without straying off-topic |\n",
       "| User Intent Understanding | 95 | Clearly grasps the user's intent to learn about impactful emerging tech |\n",
       "\n",
       "Average quality score = 89.5/100."
      ],
      "text/plain": [
       "<IPython.core.display.Markdown object>"
      ]
     },
     "metadata": {},
     "output_type": "display_data"
    }
   ],
   "source": [
    "render.md(benchmark.quality(*task, result=gpt4_result, fn='openai.gpt4_text'))"
   ]
  },
  {
   "cell_type": "code",
   "execution_count": 9,
   "id": "847cfcdf-d8d5-405b-a903-7ada873ef2b2",
   "metadata": {},
   "outputs": [
    {
     "data": {
      "text/markdown": [
       "In my analysis, the top 5 emerging technology trends that will have an outsized impact on the world over the next decade are:\n",
       "\n",
       "1. Artificial Intelligence (AI) and Machine Learning (ML): AI and ML will continue to advance rapidly, transforming industries from healthcare to finance to transportation. We'll see more powerful AI systems that can learn and adapt, leading to breakthroughs in areas like drug discovery, personalized medicine, autonomous vehicles, and predictive analytics.\n",
       "\n",
       "2. Quantum Computing: As quantum computers become more powerful and scalable, they have the potential to solve complex problems that are intractable for classical computers. This could lead to major advances in fields like cryptography, optimization, simulation, and machine learning, with wide-ranging impacts across science and business.\n",
       "\n",
       "3. Biotechnology and Synthetic Biology: Advances in gene editing (like CRISPR), synthetic biology, and personalized medicine will transform healthcare and agriculture. We may see new treatments for genetic diseases, more resilient and productive crops, and even synthetic organisms designed for specific purposes.\n",
       "\n",
       "4. Blockchain and Decentralized Systems: While the hype around cryptocurrencies may have cooled, the underlying blockchain technology has the potential to enable new forms of decentralized systems and applications. This could lead to more secure, transparent, and efficient ways of managing data, assets, and identities across various domains.\n",
       "\n",
       "5. Extended Reality (XR): The convergence of virtual reality (VR), augmented reality (AR), and mixed reality (MR) into extended reality (XR) will create more immersive and interactive digital experiences. As XR technologies improve and become more accessible, they could transform the way we learn, work, play, and socialize, blurring the lines between the physical and digital worlds.\n",
       "\n",
       "These emerging technologies are not developing in isolation but are increasingly converging and reinforcing each other. The combination of AI, quantum computing, biotechnology, blockchain, and XR could lead to disruptive innovations and paradigm shifts that are hard to predict but will undoubtedly shape the future in profound ways."
      ],
      "text/plain": [
       "<IPython.core.display.Markdown object>"
      ]
     },
     "metadata": {},
     "output_type": "display_data"
    }
   ],
   "source": [
    "opus_result = anthropic.opus_text(*task)\n",
    "render.md(opus_result)"
   ]
  },
  {
   "cell_type": "code",
   "execution_count": 10,
   "id": "ef642294-5330-4637-80cd-68099510fb5d",
   "metadata": {},
   "outputs": [
    {
     "data": {
      "text/markdown": [
       "| Criteria | Score | Explanation |\n",
       "|----------|-------|-------------|\n",
       "| Depth of Verification | 80 | Provides a well-reasoned list based on commonly accepted trends, but lacks specific sources. |\n",
       "| Context Awareness | 90 | The response is highly relevant to the user's query about emerging tech trends over the next decade. |\n",
       "| Tone and Style Adaptability | 95 | Adopts an informative and slightly formal tone that is appropriate for the topic. |\n",
       "| Clarity and Understandability | 90 | Explains each trend clearly and concisely, making it easy for a general audience to understand. |\n",
       "| Information Density | 85 | Packs a lot of relevant information into a relatively short response without feeling overly dense. |\n",
       "| Tailoring Content | 90 | Provides a good level of detail for each trend, suitable for an overview of the topic. |\n",
       "| Argumentation Quality | 85 | Presents a logical and well-structured argument for why these trends will be impactful. |\n",
       "| Critical Thinking | 80 | Shows good analysis and synthesis of information to identify key trends and their potential impacts. |\n",
       "| Relevance and Focus | 95 | Stays focused on the user's primary question and avoids irrelevant details. |\n",
       "| User Intent Understanding | 95 | Clearly understands and directly addresses the user's intent to learn about impactful emerging tech trends. |\n",
       "\n",
       "Average quality score = 88.5/100."
      ],
      "text/plain": [
       "<IPython.core.display.Markdown object>"
      ]
     },
     "metadata": {},
     "output_type": "display_data"
    }
   ],
   "source": [
    "render.md(benchmark.quality(*task, result=opus_result, fn='anthropic.opus_text'))"
   ]
  },
  {
   "cell_type": "code",
   "execution_count": 18,
   "id": "212901e2-2df9-44ef-9e2d-2a7623725aab",
   "metadata": {},
   "outputs": [
    {
     "data": {
      "text/markdown": [
       "Here are the top 5 emerging technology trends that I believe will have a significant impact on the world in the next 10 years:\n",
       "\n",
       "1. Artificial Intelligence (AI) and Machine Learning (ML): AI and ML are already transforming various industries, and their impact will continue to grow exponentially. From healthcare and transportation to finance and manufacturing, AI and ML will drive automation, enhance decision-making processes, and enable new innovations.\n",
       "\n",
       "2. Quantum Computing: Quantum computing has the potential to revolutionize computing power and solve complex problems that are beyond the capabilities of classical computers. This technology could lead to breakthroughs in fields such as cryptography, drug discovery, and climate modeling.\n",
       "\n",
       "3. Internet of Things (IoT) and 5G: The widespread adoption of IoT devices and the rollout of 5G networks will enable a more connected world. IoT devices will generate massive amounts of data, and 5G will provide the necessary bandwidth and low latency to support real-time data processing and communication.\n",
       "\n",
       "4. Biotechnology and Gene Editing: Advancements in biotechnology and gene editing techniques like CRISPR will have a profound impact on healthcare, agriculture, and environmental conservation. These technologies could lead to personalized medicine, disease prevention, and the development of more resilient crops.\n",
       "\n",
       "5. Renewable Energy and Energy Storage: As the world shifts towards a more sustainable future, renewable energy sources and energy storage technologies will become increasingly important. Innovations in areas such as solar, wind, and battery storage will drive the transition to a cleaner and more efficient energy system.\n",
       "\n",
       "These emerging technologies have the potential to disrupt existing industries, create new business opportunities, and address global challenges such as climate change, healthcare, and food security. However, their development and adoption will also raise ethical, legal, and social concerns that will need to be addressed to ensure responsible and equitable implementation."
      ],
      "text/plain": [
       "<IPython.core.display.Markdown object>"
      ]
     },
     "metadata": {},
     "output_type": "display_data"
    }
   ],
   "source": [
    "sonnet_result = bedrock.sonnet_text(*task)\n",
    "render.md(sonnet_result)"
   ]
  },
  {
   "cell_type": "code",
   "execution_count": 19,
   "id": "b0974181-4aaf-4329-842e-e23ad45e691a",
   "metadata": {},
   "outputs": [
    {
     "data": {
      "text/markdown": [
       "| Criteria | Score | Explanation |\n",
       "|----------|-------|-------------|\n",
       "| Depth of Verification | 80 | Provides commonly accepted trends but lacks specific sources |\n",
       "| Context Awareness | 90 | Relevant to the user's query about emerging tech trends |\n",
       "| Tone and Style Adaptability | 95 | Appropriate informative tone for the topic |\n",
       "| Clarity and Understandability | 95 | Clearly explains each trend and its potential impact |\n",
       "| Information Density | 90 | Provides rich information without unnecessary details |\n",
       "| Tailoring Content | 85 | Provides a good overview but could be more tailored to user's needs |\n",
       "| Argumentation Quality | 85 | Presents a logical flow but could use more supporting evidence |\n",
       "| Critical Thinking | 90 | Demonstrates good inference and problem-solving skills |\n",
       "| Relevance and Focus | 95 | Stays focused on the user's primary goal of identifying top trends |\n",
       "| User Intent Understanding | 95 | Accurately understands and responds to the user's intent |\n",
       "\n",
       "Average quality score = 90.0/100."
      ],
      "text/plain": [
       "<IPython.core.display.Markdown object>"
      ]
     },
     "metadata": {},
     "output_type": "display_data"
    }
   ],
   "source": [
    "render.md(benchmark.quality(*task, result=sonnet_result, fn='bedrock.sonnet_text'))"
   ]
  },
  {
   "cell_type": "code",
   "execution_count": 13,
   "id": "33dee4e8-014c-4c43-9df5-041c826cb91b",
   "metadata": {},
   "outputs": [
    {
     "data": {
      "text/markdown": [
       "There are several emerging technology trends that are expected to have a significant impact on the world in the next 10 years. Here are five of the most promising trends:\n",
       "1.Artificial Intelligence(AI):AI has already started transforming various industries,and its impact will only continue to grow in the coming years.We can expect to see more advanced applications of AI,such as autonomous vehicles,smart cities,and personalized medicine.\n",
       "2.Blockchain:Blockchain technology has the potential to revolutionize the way we conduct transactions,store data,and interact with each other online.It will play a critical role in creating a secure and transparent digital economy.\n",
       "3.Internet of Things(IoT):IoT has already made a significant impact on various industries,and it will continue to expand in the coming years.We can expect to see more connected devices,smart homes,and cities,and increased automation in various industries.\n",
       "4.Quantum Computing:Quantum computing is a new form of computing that uses the principles of quantum mechanics to perform calculations that are beyond the capabilities of classical computers.It has the potential to solve complex problems that are currently unsolvable,and it will have a significant impact on fields such as cryptography,drug discovery,and climate modeling.\n",
       "5.Virtual and Augmented Reality(VR/AR):VR/AR technology has the potential to revolutionize the way we interact with the world around us.It will change the way we work,play,and communicate,and it will have a significant impact on industries such as education,healthcare,and entertainment.\n",
       "These are just a few examples of the emerging technology trends that will have a significant impact on the world in the next 10 years.It's important to keep in mind that these trends will not only change the way we live and work but also create new opportunities and challenges for individuals,businesses,and governments."
      ],
      "text/plain": [
       "<IPython.core.display.Markdown object>"
      ]
     },
     "metadata": {},
     "output_type": "display_data"
    }
   ],
   "source": [
    "llama2_result = bedrock.llama2_text(*task)\n",
    "render.md(llama2_result)"
   ]
  },
  {
   "cell_type": "code",
   "execution_count": 14,
   "id": "3ea191b5-262b-454d-abe5-b87e1dbb9bfc",
   "metadata": {},
   "outputs": [
    {
     "data": {
      "text/markdown": [
       "| Criteria | Score | Explanation |\n",
       "|----------|-------|-------------|\n",
       "| Depth of Verification | 70 | Provides a list of trends but lacks specific sources or verification of claims. |\n",
       "| Context Awareness | 80 | Addresses the user's request for top 5 trends and their impact over the next 10 years. |\n",
       "| Tone and Style Adaptability | 85 | Uses a clear, informative tone suitable for the user's query. |\n",
       "| Clarity and Understandability | 90 | Explains each trend in a way that is easy to understand for a general audience. |\n",
       "| Information Density | 75 | Provides a good amount of information for each trend, but could be more concise. |\n",
       "| Tailoring Content | 80 | Provides an appropriate level of detail for an overview of top trends. |\n",
       "| Argumentation Quality | 70 | Presents each trend with some supporting points, but could provide stronger arguments. |\n",
       "| Critical Thinking | 75 | Identifies potential impacts of each trend, but could delve deeper into implications. |\n",
       "| Relevance and Focus | 90 | Stays focused on the user's request for top 5 trends and their impact. |\n",
       "| User Intent Understanding | 85 | Correctly interprets the user's intent to learn about emerging tech trends. |\n",
       "\n",
       "Average quality score = 80.0/100."
      ],
      "text/plain": [
       "<IPython.core.display.Markdown object>"
      ]
     },
     "metadata": {},
     "output_type": "display_data"
    }
   ],
   "source": [
    "render.md(benchmark.quality(*task, result=llama2_result, fn='bedrock.llama2_text'))"
   ]
  },
  {
   "cell_type": "code",
   "execution_count": 15,
   "id": "1be524a6-0f45-4129-a6e3-0f7745a051d3",
   "metadata": {},
   "outputs": [
    {
     "data": {
      "text/markdown": [
       "Here are 5 emerging technology trends that could have a major impact in the next 10 years:\n",
       "\n",
       "1. Artificial Intelligence (AI) - Advances in machine learning and deep learning are enabling increasingly intelligent systems. AI has the potential to automate many jobs and transform most industries.\n",
       "\n",
       "2. Internet of Things (IoT) - As more \"smart\" devices become connected to the internet, we will see the emergence of smart cities and infrastructure. IoT will generate massive amounts of new data. \n",
       "\n",
       "3. Augmented and Virtual Reality (AR/VR) - The ability to overlay digital information on the real world with AR or be fully immersed in virtual worlds with VR will change how we work, learn, and entertain. \n",
       "\n",
       "4. Autonomous Vehicles - Self-driving cars, trucks, and delivery vehicles have the potential to revolutionize transportation and logistics over the next decade.\n",
       "\n",
       "5. Biotechnology - Advancements in gene editing, synthetic biology, and other areas have the potential to transform medicine, agriculture, and manufacturing. Technologies like CRISPR may lead to cures for genetic diseases.\n",
       "\n",
       "This is just a high-level overview. Each of these trends involves many different technologies advancing rapidly that could significantly impact society, business, and how we live our lives."
      ],
      "text/plain": [
       "<IPython.core.display.Markdown object>"
      ]
     },
     "metadata": {},
     "output_type": "display_data"
    }
   ],
   "source": [
    "instant_result = bedrock.instant_text(*task)\n",
    "render.md(instant_result)"
   ]
  },
  {
   "cell_type": "code",
   "execution_count": 16,
   "id": "f876d018-e28e-42ef-a77c-5eaa95dda4de",
   "metadata": {},
   "outputs": [
    {
     "data": {
      "text/markdown": [
       "| Criteria | Score | Explanation |\n",
       "|----------|-------|-------------|\n",
       "| Depth of Verification | 70 | Provides commonly accepted trends but lacks specific sources |\n",
       "| Context Awareness | 90 | Directly addresses the user's query about impactful emerging tech trends |\n",
       "| Tone and Style Adaptability | 85 | Uses an informative tone appropriate for an overview of tech trends |\n",
       "| Clarity and Understandability | 95 | Clearly explains each trend at a high level that is easy to understand |\n",
       "| Information Density | 80 | Provides a good amount of information efficiently, could expand a bit more |\n",
       "| Tailoring Content | 90 | Length and detail are well-suited for a high-level overview as requested |\n",
       "| Argumentation Quality | 75 | Logical flow but arguments for impact could be better supported with evidence |\n",
       "| Critical Thinking | 80 | Shows good inference about potential impacts but could draw more insightful conclusions |\n",
       "| Relevance and Focus | 95 | Stays focused on the most relevant emerging tech trends as requested |\n",
       "| User Intent Understanding | 95 | Clearly understands and directly addresses the user's intent for an overview |\n",
       "\n",
       "Average quality score = 85.5/100."
      ],
      "text/plain": [
       "<IPython.core.display.Markdown object>"
      ]
     },
     "metadata": {},
     "output_type": "display_data"
    }
   ],
   "source": [
    "render.md(benchmark.quality(*task, result=instant_result, fn='bedrock.instant_text'))"
   ]
  },
  {
   "cell_type": "code",
   "execution_count": 17,
   "id": "384341c8-afbc-4b34-9943-635624ed55fe",
   "metadata": {},
   "outputs": [
    {
     "data": {
      "text/markdown": [
       "| Model | Calls | Total Time | Total Return Size | Average Time | Average Size | Quality Score |\n",
       "|-------|-------|------------|-------------------|--------------|--------------|---------------|\n",
       "| groq.llama3_text | 1 | 2.34 | 2726.00 | 2.34 | 2726.00 | 88.5 |\n",
       "| bedrock.instant_text | 1 | 3.97 | 1326.00 | 3.97 | 1326.00 | 85.5 |\n",
       "| bedrock.sonnet_text | 1 | 7.35 | 2226.00 | 7.35 | 2226.00 | None |\n",
       "| bedrock.llama2_text | 1 | 11.62 | 1960.00 | 11.62 | 1960.00 | 80.0 |\n",
       "| openai.gpt4_text | 1 | 11.95 | 2867.00 | 11.95 | 2867.00 | 89.5 |\n",
       "| anthropic.opus_text | 7 | 131.30 | 16971.00 | 18.76 | 2424.43 | 88.5 |\n"
      ],
      "text/plain": [
       "<IPython.core.display.Markdown object>"
      ]
     },
     "metadata": {},
     "output_type": "display_data"
    }
   ],
   "source": [
    "render.md(instrument.metrics.stats(benchmark=benchmark.stats()))"
   ]
  }
 ],
 "metadata": {
  "kernelspec": {
   "display_name": "Python 3 (ipykernel)",
   "language": "python",
   "name": "python3"
  },
  "language_info": {
   "codemirror_mode": {
    "name": "ipython",
    "version": 3
   },
   "file_extension": ".py",
   "mimetype": "text/x-python",
   "name": "python",
   "nbconvert_exporter": "python",
   "pygments_lexer": "ipython3",
   "version": "3.11.7"
  }
 },
 "nbformat": 4,
 "nbformat_minor": 5
}
