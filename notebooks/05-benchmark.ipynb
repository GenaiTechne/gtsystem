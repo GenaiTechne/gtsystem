{
 "cells": [
  {
   "cell_type": "code",
   "execution_count": 1,
   "id": "b98d3e38-543f-446c-a88a-57945bfc1d2b",
   "metadata": {},
   "outputs": [],
   "source": [
    "import os\n",
    "import sys\n",
    "import importlib.util\n",
    "\n",
    "is_installed = importlib.util.find_spec(\"gtsystem\")\n",
    "if not is_installed:\n",
    "    module_path = \"..\"\n",
    "    sys.path.append(os.path.abspath(module_path))\n",
    "\n",
    "from gtsystem import openai, bedrock, ollama, groq, render, tasks, benchmark"
   ]
  },
  {
   "cell_type": "code",
   "execution_count": 2,
   "id": "ba481a77-1403-46b3-9bbf-ac58036f42c2",
   "metadata": {},
   "outputs": [],
   "source": [
    "tasks.load('../data/openai-examples-21.xlsx')"
   ]
  },
  {
   "cell_type": "code",
   "execution_count": 3,
   "id": "2645ec31-c96c-4704-aaa2-689aee1bcf37",
   "metadata": {},
   "outputs": [
    {
     "data": {
      "text/html": [
       "<style type=\"text/css\">\n",
       "#T_74ced th {\n",
       "  font-size: 10pt;\n",
       "  text-align: left;\n",
       "}\n",
       "#T_74ced td {\n",
       "  text-align: left;\n",
       "  word-wrap: break-word;\n",
       "  overflow: hidden;\n",
       "  text-overflow: ellipsis;\n",
       "}\n",
       "#T_74ced .index_name {\n",
       "  display: none;\n",
       "}\n",
       "#T_74ced .row_heading {\n",
       "  display: none;\n",
       "}\n",
       "#T_74ced  .blank {\n",
       "  display: none;\n",
       "}\n",
       "</style>\n",
       "<table id=\"T_74ced\">\n",
       "  <thead>\n",
       "    <tr>\n",
       "      <th class=\"blank level0\" >&nbsp;</th>\n",
       "      <th id=\"T_74ced_level0_col0\" class=\"col_heading level0 col0\" >Task</th>\n",
       "      <th id=\"T_74ced_level0_col1\" class=\"col_heading level0 col1\" >Task Types</th>\n",
       "      <th id=\"T_74ced_level0_col2\" class=\"col_heading level0 col2\" >System</th>\n",
       "      <th id=\"T_74ced_level0_col3\" class=\"col_heading level0 col3\" >Prompt</th>\n",
       "      <th id=\"T_74ced_level0_col4\" class=\"col_heading level0 col4\" >Temperature</th>\n",
       "      <th id=\"T_74ced_level0_col5\" class=\"col_heading level0 col5\" >TopP</th>\n",
       "      <th id=\"T_74ced_level0_col6\" class=\"col_heading level0 col6\" >Source</th>\n",
       "    </tr>\n",
       "  </thead>\n",
       "  <tbody>\n",
       "    <tr>\n",
       "      <th id=\"T_74ced_level0_row0\" class=\"row_heading level0 row0\" >17</th>\n",
       "      <td id=\"T_74ced_row0_col0\" class=\"data row0 col0\" >Improve code efficiency</td>\n",
       "      <td id=\"T_74ced_row0_col1\" class=\"data row0 col1\" >Transform; Code</td>\n",
       "      <td id=\"T_74ced_row0_col2\" class=\"data row0 col2\" >You will be provided with a piece of Python code, and your task is to provide ideas for efficiency improvements.</td>\n",
       "      <td id=\"T_74ced_row0_col3\" class=\"data row0 col3\" >from typing import List\n",
       "                \n",
       "                \n",
       "    def has_sum_k(nums: List[int], k: int) -> bool:\n",
       "        \"\"\"\n",
       "        Returns True if there are two distinct elements in nums such that their sum \n",
       "        is equal to k, and otherwise returns False.\n",
       "        \"\"\"\n",
       "        n = len(nums)\n",
       "        for i in range(n):\n",
       "            for j in range(i+1, n):\n",
       "                if nums[i] + nums[j] == k:\n",
       "                    return True\n",
       "        return False</td>\n",
       "      <td id=\"T_74ced_row0_col4\" class=\"data row0 col4\" >0.700000</td>\n",
       "      <td id=\"T_74ced_row0_col5\" class=\"data row0 col5\" >1</td>\n",
       "      <td id=\"T_74ced_row0_col6\" class=\"data row0 col6\" >OpenAI Examples</td>\n",
       "    </tr>\n",
       "  </tbody>\n",
       "</table>\n"
      ],
      "text/plain": [
       "<pandas.io.formats.style.Styler at 0x1374e9890>"
      ]
     },
     "execution_count": 3,
     "metadata": {},
     "output_type": "execute_result"
    }
   ],
   "source": [
    "render.df(tasks.find('improve code'))"
   ]
  },
  {
   "cell_type": "code",
   "execution_count": 4,
   "id": "acd99c42-56fd-45b6-b602-42fb9b0d4f75",
   "metadata": {},
   "outputs": [],
   "source": [
    "task = tasks.get('Improve code efficiency')"
   ]
  },
  {
   "cell_type": "code",
   "execution_count": 5,
   "id": "212901e2-2df9-44ef-9e2d-2a7623725aab",
   "metadata": {},
   "outputs": [
    {
     "data": {
      "text/markdown": [
       "One way to improve the efficiency of this code is to use a set to keep track of the elements we have seen so far. By doing this, we can reduce the time complexity of the function from O(n^2) to O(n).\n",
       "\n",
       "Here is an updated version of the code using a set:\n",
       "\n",
       "```python\n",
       "from typing import List\n",
       "\n",
       "def has_sum_k(nums: List[int], k: int) -> bool:\n",
       "    seen = set()\n",
       "    for num in nums:\n",
       "        complement = k - num\n",
       "        if complement in seen:\n",
       "            return True\n",
       "        seen.add(num)\n",
       "    return False\n",
       "```\n",
       "\n",
       "This updated version has a time complexity of O(n) and uses space proportional to the number of unique elements in the input list."
      ],
      "text/plain": [
       "<IPython.core.display.Markdown object>"
      ]
     },
     "metadata": {},
     "output_type": "display_data"
    }
   ],
   "source": [
    "render.md(openai.text(*task))"
   ]
  },
  {
   "cell_type": "code",
   "execution_count": 6,
   "id": "33dee4e8-014c-4c43-9df5-041c826cb91b",
   "metadata": {},
   "outputs": [
    {
     "data": {
      "text/markdown": [
       "1. Use a set to keep track of the elements already seen, to avoid checking duplicates.\n",
       "2. Use a dictionary to keep track of the sums of pairs of elements, to avoid recalculating them.\n",
       "3. Use a more efficient algorithm, such as the \"Two Pointer\" method, which uses two pointers, one starting from the beginning of the list and one starting from the end of the list, and meeting in the middle.\n",
       "4. Use a more efficient data structure, such as a tree, to keep track of the sums of pairs of elements.\n",
       "5. Use a parallel processing library, such as joblib or dask, to parallelize the search, which can be useful for large lists.\n",
       "6. Use a more efficient algorithm, such as the \"One Pointer\" method, which uses a single pointer and keeps track of the sums of pairs of elements in a list, and returns as soon as the sum of the current element and the previous element is greater than the target sum.\n",
       "7. Use a more efficient algorithm, such as the \"Sliding Window\" method, which uses a fixed-size sliding window of elements and keeps track of the sums of pairs of elements within the window, and returns as soon as the sum of the current window is greater than the target sum.\n",
       "8. Use a more efficient algorithm, such as the \"Hash Table\" method, which uses a hash table to keep track of the pairs of elements and their sums, and returns as soon as the sum of a pair is greater than the target sum.\n",
       "9. Use a more efficient algorithm, such as the \"Sort and Search\" method, which sorts the list of elements and then searches for the first pair of elements whose sum is greater than the target sum.\n",
       "10. Use a more efficient algorithm, such as the \"Dynamic Programming\" method, which breaks down the problem into subproblems and solves them recursively, and returns the solution to the original problem."
      ],
      "text/plain": [
       "<IPython.core.display.Markdown object>"
      ]
     },
     "metadata": {},
     "output_type": "display_data"
    }
   ],
   "source": [
    "llama_result = bedrock.llama_text(*task)\n",
    "render.md(llama_result)"
   ]
  },
  {
   "cell_type": "code",
   "execution_count": 7,
   "id": "3ea191b5-262b-454d-abe5-b87e1dbb9bfc",
   "metadata": {},
   "outputs": [
    {
     "data": {
      "text/plain": [
       "'65.00'"
      ]
     },
     "execution_count": 7,
     "metadata": {},
     "output_type": "execute_result"
    }
   ],
   "source": [
    "benchmark.accuracy(system=task[0], prompt=task[1], result=llama_result)"
   ]
  },
  {
   "cell_type": "code",
   "execution_count": 8,
   "id": "1be524a6-0f45-4129-a6e3-0f7745a051d3",
   "metadata": {},
   "outputs": [
    {
     "data": {
      "text/markdown": [
       "Here are some ideas to improve the efficiency of this function:\n",
       "\n",
       "1. Use a set instead of list to reduce lookup time. Check if k - num is in the set in O(1) time instead of nested loops.\n",
       "\n",
       "```python\n",
       "def has_sum_k(nums: List[int], k: int) -> bool:\n",
       "    num_set = set(nums)\n",
       "    for num in nums:\n",
       "        if k - num in num_set:\n",
       "            return True\n",
       "    return False\n",
       "```\n",
       "\n",
       "2. Sort the list first. Then use two pointers to search from start and end. This reduces average case to O(nlogn + n) instead of O(n^2).\n",
       "\n",
       "```python \n",
       "def has_sum_k(nums: List[int], k: int) -> bool:\n",
       "    nums.sort()\n",
       "    left, right = 0, len(nums) - 1\n",
       "    while left < right:\n",
       "        cur_sum = nums[left] + nums[right]\n",
       "        if cur_sum == k:\n",
       "            return True\n",
       "        elif cur_sum < k:\n",
       "            left += 1\n",
       "        else:\n",
       "            right -= 1\n",
       "    return False\n",
       "```\n",
       "\n",
       "3. Use a hash table to store seen sums. This gives average case of O(n) instead of O(n^2).\n",
       "\n",
       "```python\n",
       "def has_sum_k(nums: List[int], k: int) -> bool:\n",
       "    seen = set()\n",
       "    for num in nums:\n",
       "        if k - num in seen:\n",
       "            return True\n",
       "        seen.add(num) \n",
       "    return False\n",
       "```\n",
       "\n",
       "The key ideas are to reduce the search space at each step, and to leverage data structures like sets, sorting, and hashing to improve efficiency."
      ],
      "text/plain": [
       "<IPython.core.display.Markdown object>"
      ]
     },
     "metadata": {},
     "output_type": "display_data"
    }
   ],
   "source": [
    "claude_result = bedrock.claude_text(*task)\n",
    "render.md(claude_result)"
   ]
  },
  {
   "cell_type": "code",
   "execution_count": 9,
   "id": "f876d018-e28e-42ef-a77c-5eaa95dda4de",
   "metadata": {},
   "outputs": [
    {
     "data": {
      "text/plain": [
       "'95.00'"
      ]
     },
     "execution_count": 9,
     "metadata": {},
     "output_type": "execute_result"
    }
   ],
   "source": [
    "benchmark.accuracy(system=task[0], prompt=task[1], result=claude_result)"
   ]
  },
  {
   "cell_type": "code",
   "execution_count": 10,
   "id": "6ef08468-ba25-47f6-b634-ad2ee77e40ce",
   "metadata": {},
   "outputs": [
    {
     "data": {
      "text/markdown": [
       "\n",
       "Here are some ideas for efficiency improvements for the `has_sum_k` function:\n",
       "\n",
       "1. Use a set to keep track of the elements that have already been seen, rather than using two nested loops. This can help to avoid unnecessary repetition and make the code more efficient.\n",
       "2. Use a dictionary to map each element in `nums` to its index, and then use this mapping to quickly determine if there are any duplicates in the list. This can help to reduce the time complexity of the function from O(n^2) to O(n).\n",
       "3. Use the built-in `any` function to check if any element in `nums` has a complement that is equal to k. This can be done by using the `combinations` function from the `itertools` module, which generates all combinations of elements from `nums`. The `any` function can then be used to check if there are any combinations that sum up to k.\n",
       "4. Use a more efficient data structure such as a hash table or a tree-based data structure to store the elements in `nums`, and then use this data structure to quickly determine if there are any duplicates in the list.\n",
       "5. Parallelize the function using multi-threading or multi-processing, which can help to speed up the execution time for large inputs.\n",
       "6. Use a more efficient algorithm such as the \"two pointers\" approach or the \"binary search\" approach to find the sum of two elements in `nums` that is equal to k.\n",
       "7. Use a memoization technique to cache the results of previous calls to the function, which can help to reduce the time complexity for large inputs.\n",
       "8. Use a more efficient data structure such as a balanced tree or a hash table to store the elements in `nums`, and then use this data structure to quickly determine if there are any duplicates in the list.\n",
       "9. Use a more efficient algorithm such as the \"two pointers\" approach or the \"binary search\" approach to find the sum of two elements in `nums` that is equal to k.\n",
       "10. Use a memoization technique to cache the results of previous calls to the function, which can help to reduce the time complexity for large inputs."
      ],
      "text/plain": [
       "<IPython.core.display.Markdown object>"
      ]
     },
     "metadata": {},
     "output_type": "display_data"
    }
   ],
   "source": [
    "codellama_result = ollama.codellama_text(*task)\n",
    "render.md(codellama_result)"
   ]
  },
  {
   "cell_type": "code",
   "execution_count": 11,
   "id": "a900c588-4465-418c-b34e-3ea06899e16a",
   "metadata": {},
   "outputs": [
    {
     "data": {
      "text/plain": [
       "'85.71'"
      ]
     },
     "execution_count": 11,
     "metadata": {},
     "output_type": "execute_result"
    }
   ],
   "source": [
    "benchmark.accuracy(system=task[0], prompt=task[1], result=codellama_result)"
   ]
  },
  {
   "cell_type": "code",
   "execution_count": 12,
   "id": "f0b8007c-a7db-4d53-bd92-7263e13b58ce",
   "metadata": {},
   "outputs": [
    {
     "data": {
      "text/markdown": [
       "Here are a few ideas for improving the efficiency of the `has_sum_k` function:\n",
       "\n",
       "1. Use a set to store the numbers in the list. You can check if the difference between `k` and a number in the set is in the set, which is faster than checking if an element is in a list.\n",
       "\n",
       "Here's an example of how you might implement this:\n",
       "\n",
       "```\n",
       "def has_sum_k(nums: List[int], k: int) -> bool:\n",
       "    # Create a set from the list\n",
       "    num_set = set(nums)\n",
       "    for num in num_set:\n",
       "        # Check if the difference between k and the current number is in the set\n",
       "        if k - num in num_set and num != k - num:\n",
       "            return True\n",
       "    return False\n",
       "```\n",
       "\n",
       "2. If the list is sorted, you can use a single loop and binary search to find a pair of numbers that sum up to `k`. Here's an example of how you might implement this:\n",
       "\n",
       "```\n",
       "def has_sum_k(nums: List[int], k: int) -> bool:\n",
       "    nums.sort()\n",
       "    left, right = 0, len(nums) - 1\n",
       "    while left < right:\n",
       "        total = nums[left] + nums[right]\n",
       "        if total < k:\n",
       "            left += 1\n",
       "        elif total > k:\n",
       "            right -= 1\n",
       "        else:\n",
       "            return True\n",
       "    return False\n",
       "```\n",
       "\n",
       "3. If the list can contain negative numbers, you can sort the list and then use a single loop to check if the sum of a sliding window of size 2 is equal to `k`. This has a time complexity of O(n), but it uses more memory than the other approaches.\n",
       "\n",
       "Here's an example of how you might implement this:\n",
       "\n",
       "```\n",
       "def has_sum_k(nums: List[int], k: int) -> bool:\n",
       "    nums.sort()\n",
       "    for i in range(len(nums)):\n",
       "        if nums[i] + nums[-1] < k:\n",
       "            continue\n",
       "        if nums[i] + nums[i] > k:\n",
       "            break\n",
       "        if nums[i] + num"
      ],
      "text/plain": [
       "<IPython.core.display.Markdown object>"
      ]
     },
     "metadata": {},
     "output_type": "display_data"
    }
   ],
   "source": [
    "groq_result = groq.text(*task)\n",
    "render.md(groq_result)"
   ]
  },
  {
   "cell_type": "code",
   "execution_count": 13,
   "id": "44e04701-6953-4479-90b0-ba2bca780b6f",
   "metadata": {},
   "outputs": [
    {
     "data": {
      "text/plain": [
       "'Cannot Evaluate Accuracy'"
      ]
     },
     "execution_count": 13,
     "metadata": {},
     "output_type": "execute_result"
    }
   ],
   "source": [
    "benchmark.accuracy(system=task[0], prompt=task[1], result=groq_result)"
   ]
  }
 ],
 "metadata": {
  "kernelspec": {
   "display_name": "Python 3 (ipykernel)",
   "language": "python",
   "name": "python3"
  },
  "language_info": {
   "codemirror_mode": {
    "name": "ipython",
    "version": 3
   },
   "file_extension": ".py",
   "mimetype": "text/x-python",
   "name": "python",
   "nbconvert_exporter": "python",
   "pygments_lexer": "ipython3",
   "version": "3.11.7"
  }
 },
 "nbformat": 4,
 "nbformat_minor": 5
}
