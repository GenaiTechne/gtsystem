{
 "cells": [
  {
   "cell_type": "code",
   "execution_count": 1,
   "id": "5b0c20de-2122-45be-9919-a0ada36b8f91",
   "metadata": {},
   "outputs": [],
   "source": [
    "import sys\n",
    "import os\n",
    "\n",
    "module_path = os.path.abspath(\"..\")\n",
    "if module_path not in sys.path:\n",
    "    sys.path.insert(0, module_path)"
   ]
  },
  {
   "cell_type": "code",
   "execution_count": null,
   "id": "5d1cb0a1-ec98-4dba-8598-5ef4c30de0bb",
   "metadata": {},
   "outputs": [],
   "source": [
    "from gtsystem import bedrock, openai, anthropic, render, instrument"
   ]
  },
  {
   "cell_type": "code",
   "execution_count": 2,
   "id": "f68df06a-60f6-4904-9931-1c6146ca2f34",
   "metadata": {},
   "outputs": [],
   "source": [
    "prompt = \"\"\"Create a markdown table of 5 tallest buildings in the world\"\"\""
   ]
  },
  {
   "cell_type": "code",
   "execution_count": 3,
   "id": "4e0c9135-86e8-46ca-9e23-dc72e14a1812",
   "metadata": {},
   "outputs": [
    {
     "data": {
      "text/markdown": [
       "Here's a markdown table of the 5 tallest buildings in the world:\n",
       "\n",
       "| Rank | Building Name | Height (meters) | Height (feet) | Location |\n",
       "|------|----------------|-----------------|----------------|----------|\n",
       "| 1    | Burj Khalifa   | 828             | 2,717          | Dubai, United Arab Emirates |\n",
       "| 2    | Shanghai Tower | 632             | 2,073          | Shanghai, China |\n",
       "| 3    | Abraj Al-Bait Clock Tower | 601  | 1,972          | Mecca, Saudi Arabia |\n",
       "| 4    | Ping An Finance Center | 599     | 1,965          | Shenzhen, China |\n",
       "| 5    | Lotte World Tower | 554.5        | 1,819          | Seoul, South Korea |"
      ],
      "text/plain": [
       "<IPython.core.display.Markdown object>"
      ]
     },
     "metadata": {},
     "output_type": "display_data"
    }
   ],
   "source": [
    "render.md(bedrock.text(prompt))"
   ]
  },
  {
   "cell_type": "code",
   "execution_count": 4,
   "id": "872eac68-c05f-44e4-924c-c1a799773e8b",
   "metadata": {},
   "outputs": [
    {
     "data": {
      "text/markdown": [
       "Here's a markdown table of the 5 tallest buildings in the world as of my last update:\n",
       "\n",
       "| Rank | Building Name            | City            | Country       | Height (m) | Floors | Year Completed |\n",
       "|------|--------------------------|-----------------|---------------|------------|--------|----------------|\n",
       "| 1    | Burj Khalifa             | Dubai           | UAE           | 828        | 163    | 2010           |\n",
       "| 2    | Shanghai Tower           | Shanghai        | China         | 632        | 128    | 2015           |\n",
       "| 3    | Abraj Al-Bait Clock Tower| Mecca           | Saudi Arabia  | 601        | 120    | 2012           |\n",
       "| 4    | Ping An Finance Centre   | Shenzhen        | China         | 599        | 115    | 2017           |\n",
       "| 5    | Lotte World Tower        | Seoul           | South Korea   | 555        | 123    | 2016           |\n",
       "\n",
       "Please note that the heights are to architectural top (including spires but not antennas, masts, or flagpoles). This list is subject to change as new buildings are completed."
      ],
      "text/plain": [
       "<IPython.core.display.Markdown object>"
      ]
     },
     "metadata": {},
     "output_type": "display_data"
    }
   ],
   "source": [
    "render.md(openai.text(prompt))"
   ]
  },
  {
   "cell_type": "code",
   "execution_count": 5,
   "id": "35127b77-7a5e-4d69-a149-a7fe03ca1c2a",
   "metadata": {},
   "outputs": [
    {
     "data": {
      "text/markdown": [
       "Here's a markdown table of the 5 tallest buildings in the world:\n",
       "\n",
       "| Rank | Building Name | Height (meters) | Height (feet) | Location |\n",
       "|------|----------------|-----------------|----------------|----------|\n",
       "| 1    | Burj Khalifa   | 828             | 2,717          | Dubai, United Arab Emirates |\n",
       "| 2    | Shanghai Tower | 632             | 2,073          | Shanghai, China |\n",
       "| 3    | Abraj Al-Bait Clock Tower | 601  | 1,972          | Mecca, Saudi Arabia |\n",
       "| 4    | Ping An Finance Center | 599     | 1,965          | Shenzhen, China |\n",
       "| 5    | Lotte World Tower | 554.5        | 1,819          | Seoul, South Korea |"
      ],
      "text/plain": [
       "<IPython.core.display.Markdown object>"
      ]
     },
     "metadata": {},
     "output_type": "display_data"
    }
   ],
   "source": [
    "render.md(anthropic.text(prompt))"
   ]
  }
 ],
 "metadata": {
  "kernelspec": {
   "display_name": "Python 3 (ipykernel)",
   "language": "python",
   "name": "python3"
  },
  "language_info": {
   "codemirror_mode": {
    "name": "ipython",
    "version": 3
   },
   "file_extension": ".py",
   "mimetype": "text/x-python",
   "name": "python",
   "nbconvert_exporter": "python",
   "pygments_lexer": "ipython3",
   "version": "3.11.7"
  }
 },
 "nbformat": 4,
 "nbformat_minor": 5
}
