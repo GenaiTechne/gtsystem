{
 "cells": [
  {
   "cell_type": "code",
   "execution_count": 1,
   "id": "5b0c20de-2122-45be-9919-a0ada36b8f91",
   "metadata": {},
   "outputs": [],
   "source": [
    "import os\n",
    "import sys\n",
    "import importlib.util\n",
    "\n",
    "is_installed = importlib.util.find_spec(\"gtsystem\")\n",
    "if not is_installed:\n",
    "    module_path = \"..\"\n",
    "    sys.path.append(os.path.abspath(module_path))\n",
    "\n",
    "from gtsystem import bedrock, render, instrument"
   ]
  },
  {
   "cell_type": "code",
   "execution_count": 2,
   "id": "f68df06a-60f6-4904-9931-1c6146ca2f34",
   "metadata": {},
   "outputs": [],
   "source": [
    "prompt = \"\"\"Create a markdown table of 5 tallest buildings in the world\"\"\""
   ]
  },
  {
   "cell_type": "code",
   "execution_count": 3,
   "id": "4e0c9135-86e8-46ca-9e23-dc72e14a1812",
   "metadata": {},
   "outputs": [
    {
     "data": {
      "text/markdown": [
       "| Rank | Building Name | Height | Location |\n",
       "| --- | --- | --- | --- |\n",
       "| 1 | Burj Khalifa | 828 meters (2,722 feet) | Dubai, United Arab Emirates |\n",
       "| 2 | Tokyo Skytree | 634 meters (2,080 feet) | Tokyo, Japan |\n",
       "| 3 | Shanghai Tower | 632 meters (2,073 feet) | Shanghai, China |\n",
       "| 4 | Abraj Al-Bait Clock Tower | 601 meters (1,972 feet) | Mecca, Saudi Arabia |\n",
       "| 5 | Ping An Finance Center | 599 meters (1,965 feet) | Shenzhen, China |\n",
       "\n",
       "Note: The heights are listed to the top of the roof, and do not include antennas, spires, or other architectural features that may extend above the roof."
      ],
      "text/plain": [
       "<IPython.core.display.Markdown object>"
      ]
     },
     "metadata": {},
     "output_type": "display_data"
    }
   ],
   "source": [
    "render.md(bedrock.text(prompt))"
   ]
  },
  {
   "cell_type": "code",
   "execution_count": 4,
   "id": "5334b99d-2cf2-41ca-bd4e-6b3f3c11479e",
   "metadata": {},
   "outputs": [
    {
     "data": {
      "text/markdown": [
       "| Model | Calls | Total Time | Total Return Size | Average Time | Average Size |\n",
       "|-------|-------|------------|-------------------|--------------|--------------|\n",
       "| gtsystem.bedrock.llama_text | 1 | 10.41 | 638.00 | 10.41 | 638.00 |\n"
      ],
      "text/plain": [
       "<IPython.core.display.Markdown object>"
      ]
     },
     "metadata": {},
     "output_type": "display_data"
    }
   ],
   "source": [
    "render.md(instrument.metrics.stats())"
   ]
  }
 ],
 "metadata": {
  "kernelspec": {
   "display_name": "Python 3 (ipykernel)",
   "language": "python",
   "name": "python3"
  },
  "language_info": {
   "codemirror_mode": {
    "name": "ipython",
    "version": 3
   },
   "file_extension": ".py",
   "mimetype": "text/x-python",
   "name": "python",
   "nbconvert_exporter": "python",
   "pygments_lexer": "ipython3",
   "version": "3.11.7"
  }
 },
 "nbformat": 4,
 "nbformat_minor": 5
}
