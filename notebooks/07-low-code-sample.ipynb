{
 "cells": [
  {
   "cell_type": "code",
   "execution_count": 1,
   "id": "5b0c20de-2122-45be-9919-a0ada36b8f91",
   "metadata": {},
   "outputs": [],
   "source": [
    "import os\n",
    "import sys\n",
    "import importlib.util\n",
    "\n",
    "is_installed = importlib.util.find_spec(\"gtsystem\")\n",
    "if not is_installed:\n",
    "    module_path = \"..\"\n",
    "    sys.path.append(os.path.abspath(module_path))\n",
    "\n",
    "from gtsystem import bedrock, render, instrument"
   ]
  },
  {
   "cell_type": "code",
   "execution_count": 2,
   "id": "f68df06a-60f6-4904-9931-1c6146ca2f34",
   "metadata": {},
   "outputs": [],
   "source": [
    "prompt = \"\"\"Create a markdown table of 5 tallest buildings in the world\"\"\""
   ]
  },
  {
   "cell_type": "code",
   "execution_count": 3,
   "id": "4e0c9135-86e8-46ca-9e23-dc72e14a1812",
   "metadata": {},
   "outputs": [
    {
     "data": {
      "text/markdown": [
       "Here's a markdown table of the 5 tallest buildings in the world, based on data from the Council on Tall Buildings and Urban Habitat (CTBUH):\n",
       "\n",
       "| Rank | Building Name | Height (m) | Location | Completion Year |\n",
       "| --- | --- | --- | --- | --- |\n",
       "| 1 | Burj Khalifa | 828 | Dubai, UAE | 2010 |\n",
       "| 2 | Shanghai Tower | 632 | Shanghai, China | 2015 |\n",
       "| 3 | Abraj Al-Bait Clock Tower | 601 | Mecca, Saudi Arabia | 2012 |\n",
       "| 4 | Ping An Finance Center | 599 | Shenzhen, China | 2017 |\n",
       "| 5 | Lotte World Tower | 555 | Seoul, South Korea | 2017 |\n",
       "\n",
       "Note: The heights listed are to the top of the roof, and do not include antennas, spires, or other architectural features that may extend above the roof."
      ],
      "text/plain": [
       "<IPython.core.display.Markdown object>"
      ]
     },
     "metadata": {},
     "output_type": "display_data"
    }
   ],
   "source": [
    "render.md(bedrock.llama_text(prompt))"
   ]
  },
  {
   "cell_type": "code",
   "execution_count": 4,
   "id": "5334b99d-2cf2-41ca-bd4e-6b3f3c11479e",
   "metadata": {},
   "outputs": [
    {
     "data": {
      "text/plain": [
       "{'gtsystem.bedrock.llama_text': {'calls': 1,\n",
       "  'total_time': 11.98,\n",
       "  'total_return_size': 736}}"
      ]
     },
     "execution_count": 4,
     "metadata": {},
     "output_type": "execute_result"
    }
   ],
   "source": [
    "instrument.metrics.get_stats()"
   ]
  }
 ],
 "metadata": {
  "kernelspec": {
   "display_name": "Python 3 (ipykernel)",
   "language": "python",
   "name": "python3"
  },
  "language_info": {
   "codemirror_mode": {
    "name": "ipython",
    "version": 3
   },
   "file_extension": ".py",
   "mimetype": "text/x-python",
   "name": "python",
   "nbconvert_exporter": "python",
   "pygments_lexer": "ipython3",
   "version": "3.11.7"
  }
 },
 "nbformat": 4,
 "nbformat_minor": 5
}
